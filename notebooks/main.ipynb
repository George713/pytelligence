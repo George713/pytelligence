{
    "cells": [
        {
            "cell_type": "code",
            "execution_count": 16,
            "metadata": {},
            "outputs": [
                {
                    "name": "stdout",
                    "output_type": "stream",
                    "text": [
                        "The autoreload extension is already loaded. To reload it, use:\n",
                        "  %reload_ext autoreload\n"
                    ]
                }
            ],
            "source": [
                "from sklearn.datasets import load_breast_cancer\n",
                "import pandas as pd\n",
                "import seaborn as sns\n",
                "\n",
                "import pytelligence as pt\n",
                "\n",
                "%load_ext autoreload\n",
                "%autoreload 2\n",
                "\n",
                "pd.options.display.max_columns = 2000\n",
                "\n",
                "sns.set_theme()"
            ]
        },
        {
            "cell_type": "code",
            "execution_count": 17,
            "metadata": {},
            "outputs": [
                {
                    "data": {
                        "text/html": [
                            "<div>\n",
                            "<style scoped>\n",
                            "    .dataframe tbody tr th:only-of-type {\n",
                            "        vertical-align: middle;\n",
                            "    }\n",
                            "\n",
                            "    .dataframe tbody tr th {\n",
                            "        vertical-align: top;\n",
                            "    }\n",
                            "\n",
                            "    .dataframe thead th {\n",
                            "        text-align: right;\n",
                            "    }\n",
                            "</style>\n",
                            "<table border=\"1\" class=\"dataframe\">\n",
                            "  <thead>\n",
                            "    <tr style=\"text-align: right;\">\n",
                            "      <th></th>\n",
                            "      <th>class</th>\n",
                            "      <th>age</th>\n",
                            "      <th>menopause</th>\n",
                            "      <th>tumor-size</th>\n",
                            "      <th>inv-nodes</th>\n",
                            "      <th>node-caps</th>\n",
                            "      <th>deg-malig</th>\n",
                            "      <th>breast</th>\n",
                            "      <th>breast-quad</th>\n",
                            "      <th>irradiat</th>\n",
                            "    </tr>\n",
                            "  </thead>\n",
                            "  <tbody>\n",
                            "    <tr>\n",
                            "      <th>0</th>\n",
                            "      <td>no-recurrence-events</td>\n",
                            "      <td>30-39</td>\n",
                            "      <td>premeno</td>\n",
                            "      <td>30-34</td>\n",
                            "      <td>0-2</td>\n",
                            "      <td>no</td>\n",
                            "      <td>3</td>\n",
                            "      <td>left</td>\n",
                            "      <td>left_low</td>\n",
                            "      <td>no</td>\n",
                            "    </tr>\n",
                            "    <tr>\n",
                            "      <th>1</th>\n",
                            "      <td>no-recurrence-events</td>\n",
                            "      <td>40-49</td>\n",
                            "      <td>premeno</td>\n",
                            "      <td>20-24</td>\n",
                            "      <td>0-2</td>\n",
                            "      <td>no</td>\n",
                            "      <td>2</td>\n",
                            "      <td>right</td>\n",
                            "      <td>right_up</td>\n",
                            "      <td>no</td>\n",
                            "    </tr>\n",
                            "    <tr>\n",
                            "      <th>2</th>\n",
                            "      <td>no-recurrence-events</td>\n",
                            "      <td>40-49</td>\n",
                            "      <td>premeno</td>\n",
                            "      <td>20-24</td>\n",
                            "      <td>0-2</td>\n",
                            "      <td>no</td>\n",
                            "      <td>2</td>\n",
                            "      <td>left</td>\n",
                            "      <td>left_low</td>\n",
                            "      <td>no</td>\n",
                            "    </tr>\n",
                            "    <tr>\n",
                            "      <th>3</th>\n",
                            "      <td>no-recurrence-events</td>\n",
                            "      <td>60-69</td>\n",
                            "      <td>ge40</td>\n",
                            "      <td>15-19</td>\n",
                            "      <td>0-2</td>\n",
                            "      <td>no</td>\n",
                            "      <td>2</td>\n",
                            "      <td>right</td>\n",
                            "      <td>left_up</td>\n",
                            "      <td>no</td>\n",
                            "    </tr>\n",
                            "    <tr>\n",
                            "      <th>4</th>\n",
                            "      <td>no-recurrence-events</td>\n",
                            "      <td>40-49</td>\n",
                            "      <td>premeno</td>\n",
                            "      <td>0-4</td>\n",
                            "      <td>0-2</td>\n",
                            "      <td>no</td>\n",
                            "      <td>2</td>\n",
                            "      <td>right</td>\n",
                            "      <td>right_low</td>\n",
                            "      <td>no</td>\n",
                            "    </tr>\n",
                            "  </tbody>\n",
                            "</table>\n",
                            "</div>"
                        ],
                        "text/plain": [
                            "                  class    age menopause tumor-size inv-nodes node-caps  \\\n",
                            "0  no-recurrence-events  30-39   premeno      30-34       0-2        no   \n",
                            "1  no-recurrence-events  40-49   premeno      20-24       0-2        no   \n",
                            "2  no-recurrence-events  40-49   premeno      20-24       0-2        no   \n",
                            "3  no-recurrence-events  60-69      ge40      15-19       0-2        no   \n",
                            "4  no-recurrence-events  40-49   premeno        0-4       0-2        no   \n",
                            "\n",
                            "   deg-malig breast breast-quad irradiat  \n",
                            "0          3   left    left_low       no  \n",
                            "1          2  right    right_up       no  \n",
                            "2          2   left    left_low       no  \n",
                            "3          2  right     left_up       no  \n",
                            "4          2  right   right_low       no  "
                        ]
                    },
                    "execution_count": 17,
                    "metadata": {},
                    "output_type": "execute_result"
                }
            ],
            "source": [
                "df = pd.read_csv(\n",
                "    \"../data/breast_cancer_cat/breast-cancer.data\",\n",
                "    names=[\n",
                "        \"class\",\n",
                "        \"age\",\n",
                "        \"menopause\",\n",
                "        \"tumor-size\",\n",
                "        \"inv-nodes\",\n",
                "        \"node-caps\",\n",
                "        \"deg-malig\",\n",
                "        \"breast\",\n",
                "        \"breast-quad\",\n",
                "        \"irradiat\",\n",
                "    ],\n",
                ")\n",
                "df.head()"
            ]
        },
        {
            "cell_type": "code",
            "execution_count": 18,
            "metadata": {},
            "outputs": [],
            "source": [
                "# pt.feat_analysis.get_distribution(df)"
            ]
        },
        {
            "cell_type": "code",
            "execution_count": 19,
            "metadata": {},
            "outputs": [],
            "source": [
                "# sns.jointplot(data=df, x=\"deg-malig\", y=\"breast\", hue=\"class\")"
            ]
        },
        {
            "cell_type": "markdown",
            "metadata": {},
            "source": [
                "## Training"
            ]
        },
        {
            "cell_type": "code",
            "execution_count": 20,
            "metadata": {},
            "outputs": [
                {
                    "data": {
                        "text/plain": [
                            "Index(['class', 'age', 'menopause', 'tumor-size', 'inv-nodes', 'node-caps',\n",
                            "       'deg-malig', 'breast', 'breast-quad', 'irradiat'],\n",
                            "      dtype='object')"
                        ]
                    },
                    "execution_count": 20,
                    "metadata": {},
                    "output_type": "execute_result"
                }
            ],
            "source": [
                "df.columns"
            ]
        },
        {
            "cell_type": "code",
            "execution_count": 21,
            "metadata": {},
            "outputs": [
                {
                    "name": "stderr",
                    "output_type": "stream",
                    "text": [
                        "\u001b[32m[I 2022-12-14 14:31:02]\u001b[0m %%% PREPARING DATA\u001b[0m\n",
                        "\u001b[32m[I 2022-12-14 14:31:02]\u001b[0m Read ./config_bc_cat.yml: \n",
                        " {'modelling': {'target_clf': 'class', 'numeric_cols': ['deg-malig'], 'categorical_cols': ['age', 'menopause', 'tumor-size', 'inv-nodes', 'node-caps', 'breast', 'breast-quad', 'irradiat'], 'feature_scaling': True}}\u001b[0m\n",
                        "\u001b[32m[I 2022-12-14 14:31:02]\u001b[0m Created preprocessing pipeline with following steps: ['scaler', 'ohe']\u001b[0m\n",
                        "/home/george/Desktop/pytelligence/pytelligence/modelling/_internals/_prep_pipeline.py:58: SettingWithCopyWarning:\n",
                        "\n",
                        "\n",
                        "A value is trying to be set on a copy of a slice from a DataFrame.\n",
                        "Try using .loc[row_indexer,col_indexer] = value instead\n",
                        "\n",
                        "See the caveats in the documentation: https://pandas.pydata.org/pandas-docs/stable/user_guide/indexing.html#returning-a-view-versus-a-copy\n",
                        "\n",
                        "\u001b[32m[I 2022-12-14 14:31:02]\u001b[0m Applied preprocessing transformations\u001b[0m\n",
                        "\u001b[32m[I 2022-12-14 14:31:02]\u001b[0m Encoded target variable using classes: [(0, 'no-recurrence-events'), (1, 'recurrence-events')]\u001b[0m\n"
                    ]
                }
            ],
            "source": [
                "setup, X_sample, y_sample = pt.modelling.prepare_data(\n",
                "    train_data=df,\n",
                "    config_path=\"./config_bc_cat.yml\",\n",
                ")"
            ]
        },
        {
            "cell_type": "code",
            "execution_count": 22,
            "metadata": {},
            "outputs": [
                {
                    "data": {
                        "text/html": [
                            "<div>\n",
                            "<style scoped>\n",
                            "    .dataframe tbody tr th:only-of-type {\n",
                            "        vertical-align: middle;\n",
                            "    }\n",
                            "\n",
                            "    .dataframe tbody tr th {\n",
                            "        vertical-align: top;\n",
                            "    }\n",
                            "\n",
                            "    .dataframe thead th {\n",
                            "        text-align: right;\n",
                            "    }\n",
                            "</style>\n",
                            "<table border=\"1\" class=\"dataframe\">\n",
                            "  <thead>\n",
                            "    <tr style=\"text-align: right;\">\n",
                            "      <th></th>\n",
                            "      <th>deg-malig</th>\n",
                            "      <th>age_20-29</th>\n",
                            "      <th>age_30-39</th>\n",
                            "      <th>age_40-49</th>\n",
                            "      <th>age_50-59</th>\n",
                            "      <th>age_60-69</th>\n",
                            "      <th>age_70-79</th>\n",
                            "      <th>menopause_ge40</th>\n",
                            "      <th>menopause_lt40</th>\n",
                            "      <th>menopause_premeno</th>\n",
                            "      <th>tumor-size_0-4</th>\n",
                            "      <th>tumor-size_10-14</th>\n",
                            "      <th>tumor-size_15-19</th>\n",
                            "      <th>tumor-size_20-24</th>\n",
                            "      <th>tumor-size_25-29</th>\n",
                            "      <th>tumor-size_30-34</th>\n",
                            "      <th>tumor-size_35-39</th>\n",
                            "      <th>tumor-size_40-44</th>\n",
                            "      <th>tumor-size_45-49</th>\n",
                            "      <th>tumor-size_5-9</th>\n",
                            "      <th>tumor-size_50-54</th>\n",
                            "      <th>inv-nodes_0-2</th>\n",
                            "      <th>inv-nodes_12-14</th>\n",
                            "      <th>inv-nodes_15-17</th>\n",
                            "      <th>inv-nodes_24-26</th>\n",
                            "      <th>inv-nodes_3-5</th>\n",
                            "      <th>inv-nodes_6-8</th>\n",
                            "      <th>inv-nodes_9-11</th>\n",
                            "      <th>node-caps_?</th>\n",
                            "      <th>node-caps_no</th>\n",
                            "      <th>node-caps_yes</th>\n",
                            "      <th>breast_left</th>\n",
                            "      <th>breast_right</th>\n",
                            "      <th>breast-quad_?</th>\n",
                            "      <th>breast-quad_central</th>\n",
                            "      <th>breast-quad_left_low</th>\n",
                            "      <th>breast-quad_left_up</th>\n",
                            "      <th>breast-quad_right_low</th>\n",
                            "      <th>breast-quad_right_up</th>\n",
                            "      <th>irradiat_no</th>\n",
                            "      <th>irradiat_yes</th>\n",
                            "    </tr>\n",
                            "  </thead>\n",
                            "  <tbody>\n",
                            "    <tr>\n",
                            "      <th>0</th>\n",
                            "      <td>1.290564</td>\n",
                            "      <td>0</td>\n",
                            "      <td>1</td>\n",
                            "      <td>0</td>\n",
                            "      <td>0</td>\n",
                            "      <td>0</td>\n",
                            "      <td>0</td>\n",
                            "      <td>0</td>\n",
                            "      <td>0</td>\n",
                            "      <td>1</td>\n",
                            "      <td>0</td>\n",
                            "      <td>0</td>\n",
                            "      <td>0</td>\n",
                            "      <td>0</td>\n",
                            "      <td>0</td>\n",
                            "      <td>1</td>\n",
                            "      <td>0</td>\n",
                            "      <td>0</td>\n",
                            "      <td>0</td>\n",
                            "      <td>0</td>\n",
                            "      <td>0</td>\n",
                            "      <td>1</td>\n",
                            "      <td>0</td>\n",
                            "      <td>0</td>\n",
                            "      <td>0</td>\n",
                            "      <td>0</td>\n",
                            "      <td>0</td>\n",
                            "      <td>0</td>\n",
                            "      <td>0</td>\n",
                            "      <td>1</td>\n",
                            "      <td>0</td>\n",
                            "      <td>1</td>\n",
                            "      <td>0</td>\n",
                            "      <td>0</td>\n",
                            "      <td>0</td>\n",
                            "      <td>1</td>\n",
                            "      <td>0</td>\n",
                            "      <td>0</td>\n",
                            "      <td>0</td>\n",
                            "      <td>1</td>\n",
                            "      <td>0</td>\n",
                            "    </tr>\n",
                            "    <tr>\n",
                            "      <th>1</th>\n",
                            "      <td>-0.066426</td>\n",
                            "      <td>0</td>\n",
                            "      <td>0</td>\n",
                            "      <td>1</td>\n",
                            "      <td>0</td>\n",
                            "      <td>0</td>\n",
                            "      <td>0</td>\n",
                            "      <td>0</td>\n",
                            "      <td>0</td>\n",
                            "      <td>1</td>\n",
                            "      <td>0</td>\n",
                            "      <td>0</td>\n",
                            "      <td>0</td>\n",
                            "      <td>1</td>\n",
                            "      <td>0</td>\n",
                            "      <td>0</td>\n",
                            "      <td>0</td>\n",
                            "      <td>0</td>\n",
                            "      <td>0</td>\n",
                            "      <td>0</td>\n",
                            "      <td>0</td>\n",
                            "      <td>1</td>\n",
                            "      <td>0</td>\n",
                            "      <td>0</td>\n",
                            "      <td>0</td>\n",
                            "      <td>0</td>\n",
                            "      <td>0</td>\n",
                            "      <td>0</td>\n",
                            "      <td>0</td>\n",
                            "      <td>1</td>\n",
                            "      <td>0</td>\n",
                            "      <td>0</td>\n",
                            "      <td>1</td>\n",
                            "      <td>0</td>\n",
                            "      <td>0</td>\n",
                            "      <td>0</td>\n",
                            "      <td>0</td>\n",
                            "      <td>0</td>\n",
                            "      <td>1</td>\n",
                            "      <td>1</td>\n",
                            "      <td>0</td>\n",
                            "    </tr>\n",
                            "    <tr>\n",
                            "      <th>2</th>\n",
                            "      <td>-0.066426</td>\n",
                            "      <td>0</td>\n",
                            "      <td>0</td>\n",
                            "      <td>1</td>\n",
                            "      <td>0</td>\n",
                            "      <td>0</td>\n",
                            "      <td>0</td>\n",
                            "      <td>0</td>\n",
                            "      <td>0</td>\n",
                            "      <td>1</td>\n",
                            "      <td>0</td>\n",
                            "      <td>0</td>\n",
                            "      <td>0</td>\n",
                            "      <td>1</td>\n",
                            "      <td>0</td>\n",
                            "      <td>0</td>\n",
                            "      <td>0</td>\n",
                            "      <td>0</td>\n",
                            "      <td>0</td>\n",
                            "      <td>0</td>\n",
                            "      <td>0</td>\n",
                            "      <td>1</td>\n",
                            "      <td>0</td>\n",
                            "      <td>0</td>\n",
                            "      <td>0</td>\n",
                            "      <td>0</td>\n",
                            "      <td>0</td>\n",
                            "      <td>0</td>\n",
                            "      <td>0</td>\n",
                            "      <td>1</td>\n",
                            "      <td>0</td>\n",
                            "      <td>1</td>\n",
                            "      <td>0</td>\n",
                            "      <td>0</td>\n",
                            "      <td>0</td>\n",
                            "      <td>1</td>\n",
                            "      <td>0</td>\n",
                            "      <td>0</td>\n",
                            "      <td>0</td>\n",
                            "      <td>1</td>\n",
                            "      <td>0</td>\n",
                            "    </tr>\n",
                            "    <tr>\n",
                            "      <th>3</th>\n",
                            "      <td>-0.066426</td>\n",
                            "      <td>0</td>\n",
                            "      <td>0</td>\n",
                            "      <td>0</td>\n",
                            "      <td>0</td>\n",
                            "      <td>1</td>\n",
                            "      <td>0</td>\n",
                            "      <td>1</td>\n",
                            "      <td>0</td>\n",
                            "      <td>0</td>\n",
                            "      <td>0</td>\n",
                            "      <td>0</td>\n",
                            "      <td>1</td>\n",
                            "      <td>0</td>\n",
                            "      <td>0</td>\n",
                            "      <td>0</td>\n",
                            "      <td>0</td>\n",
                            "      <td>0</td>\n",
                            "      <td>0</td>\n",
                            "      <td>0</td>\n",
                            "      <td>0</td>\n",
                            "      <td>1</td>\n",
                            "      <td>0</td>\n",
                            "      <td>0</td>\n",
                            "      <td>0</td>\n",
                            "      <td>0</td>\n",
                            "      <td>0</td>\n",
                            "      <td>0</td>\n",
                            "      <td>0</td>\n",
                            "      <td>1</td>\n",
                            "      <td>0</td>\n",
                            "      <td>0</td>\n",
                            "      <td>1</td>\n",
                            "      <td>0</td>\n",
                            "      <td>0</td>\n",
                            "      <td>0</td>\n",
                            "      <td>1</td>\n",
                            "      <td>0</td>\n",
                            "      <td>0</td>\n",
                            "      <td>1</td>\n",
                            "      <td>0</td>\n",
                            "    </tr>\n",
                            "    <tr>\n",
                            "      <th>4</th>\n",
                            "      <td>-0.066426</td>\n",
                            "      <td>0</td>\n",
                            "      <td>0</td>\n",
                            "      <td>1</td>\n",
                            "      <td>0</td>\n",
                            "      <td>0</td>\n",
                            "      <td>0</td>\n",
                            "      <td>0</td>\n",
                            "      <td>0</td>\n",
                            "      <td>1</td>\n",
                            "      <td>1</td>\n",
                            "      <td>0</td>\n",
                            "      <td>0</td>\n",
                            "      <td>0</td>\n",
                            "      <td>0</td>\n",
                            "      <td>0</td>\n",
                            "      <td>0</td>\n",
                            "      <td>0</td>\n",
                            "      <td>0</td>\n",
                            "      <td>0</td>\n",
                            "      <td>0</td>\n",
                            "      <td>1</td>\n",
                            "      <td>0</td>\n",
                            "      <td>0</td>\n",
                            "      <td>0</td>\n",
                            "      <td>0</td>\n",
                            "      <td>0</td>\n",
                            "      <td>0</td>\n",
                            "      <td>0</td>\n",
                            "      <td>1</td>\n",
                            "      <td>0</td>\n",
                            "      <td>0</td>\n",
                            "      <td>1</td>\n",
                            "      <td>0</td>\n",
                            "      <td>0</td>\n",
                            "      <td>0</td>\n",
                            "      <td>0</td>\n",
                            "      <td>1</td>\n",
                            "      <td>0</td>\n",
                            "      <td>1</td>\n",
                            "      <td>0</td>\n",
                            "    </tr>\n",
                            "  </tbody>\n",
                            "</table>\n",
                            "</div>"
                        ],
                        "text/plain": [
                            "   deg-malig  age_20-29  age_30-39  age_40-49  age_50-59  age_60-69  \\\n",
                            "0   1.290564          0          1          0          0          0   \n",
                            "1  -0.066426          0          0          1          0          0   \n",
                            "2  -0.066426          0          0          1          0          0   \n",
                            "3  -0.066426          0          0          0          0          1   \n",
                            "4  -0.066426          0          0          1          0          0   \n",
                            "\n",
                            "   age_70-79  menopause_ge40  menopause_lt40  menopause_premeno  \\\n",
                            "0          0               0               0                  1   \n",
                            "1          0               0               0                  1   \n",
                            "2          0               0               0                  1   \n",
                            "3          0               1               0                  0   \n",
                            "4          0               0               0                  1   \n",
                            "\n",
                            "   tumor-size_0-4  tumor-size_10-14  tumor-size_15-19  tumor-size_20-24  \\\n",
                            "0               0                 0                 0                 0   \n",
                            "1               0                 0                 0                 1   \n",
                            "2               0                 0                 0                 1   \n",
                            "3               0                 0                 1                 0   \n",
                            "4               1                 0                 0                 0   \n",
                            "\n",
                            "   tumor-size_25-29  tumor-size_30-34  tumor-size_35-39  tumor-size_40-44  \\\n",
                            "0                 0                 1                 0                 0   \n",
                            "1                 0                 0                 0                 0   \n",
                            "2                 0                 0                 0                 0   \n",
                            "3                 0                 0                 0                 0   \n",
                            "4                 0                 0                 0                 0   \n",
                            "\n",
                            "   tumor-size_45-49  tumor-size_5-9  tumor-size_50-54  inv-nodes_0-2  \\\n",
                            "0                 0               0                 0              1   \n",
                            "1                 0               0                 0              1   \n",
                            "2                 0               0                 0              1   \n",
                            "3                 0               0                 0              1   \n",
                            "4                 0               0                 0              1   \n",
                            "\n",
                            "   inv-nodes_12-14  inv-nodes_15-17  inv-nodes_24-26  inv-nodes_3-5  \\\n",
                            "0                0                0                0              0   \n",
                            "1                0                0                0              0   \n",
                            "2                0                0                0              0   \n",
                            "3                0                0                0              0   \n",
                            "4                0                0                0              0   \n",
                            "\n",
                            "   inv-nodes_6-8  inv-nodes_9-11  node-caps_?  node-caps_no  node-caps_yes  \\\n",
                            "0              0               0            0             1              0   \n",
                            "1              0               0            0             1              0   \n",
                            "2              0               0            0             1              0   \n",
                            "3              0               0            0             1              0   \n",
                            "4              0               0            0             1              0   \n",
                            "\n",
                            "   breast_left  breast_right  breast-quad_?  breast-quad_central  \\\n",
                            "0            1             0              0                    0   \n",
                            "1            0             1              0                    0   \n",
                            "2            1             0              0                    0   \n",
                            "3            0             1              0                    0   \n",
                            "4            0             1              0                    0   \n",
                            "\n",
                            "   breast-quad_left_low  breast-quad_left_up  breast-quad_right_low  \\\n",
                            "0                     1                    0                      0   \n",
                            "1                     0                    0                      0   \n",
                            "2                     1                    0                      0   \n",
                            "3                     0                    1                      0   \n",
                            "4                     0                    0                      1   \n",
                            "\n",
                            "   breast-quad_right_up  irradiat_no  irradiat_yes  \n",
                            "0                     0            1             0  \n",
                            "1                     1            1             0  \n",
                            "2                     0            1             0  \n",
                            "3                     0            1             0  \n",
                            "4                     0            1             0  "
                        ]
                    },
                    "execution_count": 22,
                    "metadata": {},
                    "output_type": "execute_result"
                }
            ],
            "source": [
                "X_sample"
            ]
        },
        {
            "cell_type": "code",
            "execution_count": 23,
            "metadata": {},
            "outputs": [
                {
                    "name": "stderr",
                    "output_type": "stream",
                    "text": [
                        "\u001b[32m[I 2022-12-14 14:31:03]\u001b[0m %%% COMPARING ALGORITHMS\u001b[0m\n",
                        "\u001b[32m[I 2022-12-14 14:31:03]\u001b[0m Evaluating lr...\u001b[0m\n",
                        "\u001b[32m[I 2022-12-14 14:31:11]\u001b[0m Evaluating nb...\u001b[0m\n"
                    ]
                },
                {
                    "data": {
                        "text/html": [
                            "<div>\n",
                            "<style scoped>\n",
                            "    .dataframe tbody tr th:only-of-type {\n",
                            "        vertical-align: middle;\n",
                            "    }\n",
                            "\n",
                            "    .dataframe tbody tr th {\n",
                            "        vertical-align: top;\n",
                            "    }\n",
                            "\n",
                            "    .dataframe thead th {\n",
                            "        text-align: right;\n",
                            "    }\n",
                            "</style>\n",
                            "<table border=\"1\" class=\"dataframe\">\n",
                            "  <thead>\n",
                            "    <tr style=\"text-align: right;\">\n",
                            "      <th></th>\n",
                            "      <th>algorithm</th>\n",
                            "      <th>accuracy</th>\n",
                            "      <th>precision</th>\n",
                            "      <th>recall</th>\n",
                            "      <th>f1</th>\n",
                            "      <th>roc_auc</th>\n",
                            "      <th>Fit time (s)</th>\n",
                            "    </tr>\n",
                            "  </thead>\n",
                            "  <tbody>\n",
                            "    <tr>\n",
                            "      <th>0</th>\n",
                            "      <td>nb</td>\n",
                            "      <td>0.553</td>\n",
                            "      <td>0.448</td>\n",
                            "      <td>0.835</td>\n",
                            "      <td>0.553</td>\n",
                            "      <td>0.659</td>\n",
                            "      <td>0.027</td>\n",
                            "    </tr>\n",
                            "    <tr>\n",
                            "      <th>1</th>\n",
                            "      <td>lr</td>\n",
                            "      <td>0.682</td>\n",
                            "      <td>0.532</td>\n",
                            "      <td>0.341</td>\n",
                            "      <td>0.345</td>\n",
                            "      <td>0.654</td>\n",
                            "      <td>0.064</td>\n",
                            "    </tr>\n",
                            "  </tbody>\n",
                            "</table>\n",
                            "</div>"
                        ],
                        "text/plain": [
                            "  algorithm  accuracy  precision  recall     f1  roc_auc  Fit time (s)\n",
                            "0        nb     0.553      0.448   0.835  0.553    0.659         0.027\n",
                            "1        lr     0.682      0.532   0.341  0.345    0.654         0.064"
                        ]
                    },
                    "execution_count": 23,
                    "metadata": {},
                    "output_type": "execute_result"
                }
            ],
            "source": [
                "compare_df, algo_list, model_list = pt.modelling.compare_algorithms(\n",
                "    setup=setup,\n",
                "    include=[\n",
                "        \"lr\",\n",
                "        # \"dt\",\n",
                "        # \"rf\",\n",
                "        # \"ridge\",\n",
                "        # \"perceptron\",\n",
                "        # \"passive-aggressive\",\n",
                "        # \"extratree\",\n",
                "        # \"extratrees\",\n",
                "        # \"knn\",\n",
                "        \"nb\",\n",
                "        # \"linearsvc\",\n",
                "        # \"rbfsvc\",\n",
                "    ],\n",
                "    sort=\"f1\",\n",
                "    return_models=True,\n",
                ")\n",
                "compare_df"
            ]
        },
        {
            "cell_type": "code",
            "execution_count": 9,
            "metadata": {},
            "outputs": [
                {
                    "name": "stderr",
                    "output_type": "stream",
                    "text": [
                        "\u001b[32m[I 2022-12-14 12:11:25]\u001b[0m %%% TUNING HYPERPARAMETERS\u001b[0m\n",
                        "\u001b[32m[I 2022-12-14 12:11:25]\u001b[0m Algorithms: ['lr', 'nb']\u001b[0m\n",
                        "\u001b[32m[I 2022-12-14 12:11:25]\u001b[0m Metric: f1\u001b[0m\n",
                        "\u001b[32m[I 2022-12-14 12:11:25]\u001b[0m Trials per algorithm: 10\u001b[0m\n",
                        "\u001b[32m[I 2022-12-14 12:11:26]\u001b[0m Trial 0 finished with value: 0.3980 and parameters: {'C': 2.5547127639132974, 'l1_ratio': 0.18122598224245623}. Best is trial 0 with value: 0.3980\u001b[0m\n",
                        "\u001b[32m[I 2022-12-14 12:11:26]\u001b[0m Trial 1 finished with value: 0.0000 and parameters: {'C': 6.874365920822166e-06, 'l1_ratio': 0.8185499707099628}. Best is trial 0 with value: 0.3980\u001b[0m\n",
                        "\u001b[32m[I 2022-12-14 12:11:26]\u001b[0m Trial 2 finished with value: 0.0000 and parameters: {'C': 1.5437356692517823e-06, 'l1_ratio': 0.11241698624104624}. Best is trial 0 with value: 0.3980\u001b[0m\n",
                        "\u001b[32m[I 2022-12-14 12:11:26]\u001b[0m Trial 3 finished with value: 0.2215 and parameters: {'C': 0.08470498624555314, 'l1_ratio': 0.21947092717650785}. Best is trial 0 with value: 0.3980\u001b[0m\n",
                        "\u001b[32m[I 2022-12-14 12:11:27]\u001b[0m Trial 4 finished with value: 0.3687 and parameters: {'C': 33.55746768009662, 'l1_ratio': 0.6361946182399897}. Best is trial 0 with value: 0.3980\u001b[0m\n",
                        "\u001b[32m[I 2022-12-14 12:11:27]\u001b[0m Trial 5 finished with value: 0.0000 and parameters: {'C': 1.6490145588947673e-05, 'l1_ratio': 0.2006657570316157}. Best is trial 0 with value: 0.3980\u001b[0m\n",
                        "\u001b[32m[I 2022-12-14 12:11:27]\u001b[0m Trial 6 finished with value: 0.0000 and parameters: {'C': 0.00011373673055344038, 'l1_ratio': 0.7614786073211142}. Best is trial 0 with value: 0.3980\u001b[0m\n",
                        "\u001b[32m[I 2022-12-14 12:11:27]\u001b[0m Trial 7 finished with value: 0.0000 and parameters: {'C': 0.000629105487925276, 'l1_ratio': 0.2837416362024575}. Best is trial 0 with value: 0.3980\u001b[0m\n",
                        "\u001b[32m[I 2022-12-14 12:11:28]\u001b[0m Trial 8 finished with value: 0.3687 and parameters: {'C': 21.129017412870223, 'l1_ratio': 0.44610154324873263}. Best is trial 0 with value: 0.3980\u001b[0m\n",
                        "\u001b[32m[I 2022-12-14 12:11:28]\u001b[0m Trial 9 finished with value: 0.3560 and parameters: {'C': 0.32571463780427934, 'l1_ratio': 0.1248623534160288}. Best is trial 0 with value: 0.3980\u001b[0m\n",
                        "\u001b[32m[I 2022-12-14 12:11:28]\u001b[0m Trial 0 finished with value: 0.5779 and parameters: {'var_smoothing': 3.736128331512035e-06}. Best is trial 0 with value: 0.5779\u001b[0m\n",
                        "\u001b[32m[I 2022-12-14 12:11:28]\u001b[0m Trial 1 finished with value: 0.3485 and parameters: {'var_smoothing': 0.26767330652525223}. Best is trial 0 with value: 0.5779\u001b[0m\n",
                        "\u001b[32m[I 2022-12-14 12:11:28]\u001b[0m Trial 2 finished with value: 0.5533 and parameters: {'var_smoothing': 4.290515831662395e-11}. Best is trial 0 with value: 0.5779\u001b[0m\n",
                        "\u001b[32m[I 2022-12-14 12:11:28]\u001b[0m Trial 3 finished with value: 0.5633 and parameters: {'var_smoothing': 5.053854640678136e-09}. Best is trial 0 with value: 0.5779\u001b[0m\n",
                        "\u001b[32m[I 2022-12-14 12:11:29]\u001b[0m Trial 4 finished with value: 0.5614 and parameters: {'var_smoothing': 7.756978895925385e-06}. Best is trial 0 with value: 0.5779\u001b[0m\n",
                        "\u001b[32m[I 2022-12-14 12:11:29]\u001b[0m Trial 5 finished with value: 0.5600 and parameters: {'var_smoothing': 1.6811141045080816e-07}. Best is trial 0 with value: 0.5779\u001b[0m\n",
                        "\u001b[32m[I 2022-12-14 12:11:29]\u001b[0m Trial 6 finished with value: 0.4913 and parameters: {'var_smoothing': 0.00020490730681157758}. Best is trial 0 with value: 0.5779\u001b[0m\n",
                        "\u001b[32m[I 2022-12-14 12:11:29]\u001b[0m Trial 7 finished with value: 0.5534 and parameters: {'var_smoothing': 9.865317164754756e-10}. Best is trial 0 with value: 0.5779\u001b[0m\n",
                        "\u001b[32m[I 2022-12-14 12:11:29]\u001b[0m Trial 8 finished with value: 0.4634 and parameters: {'var_smoothing': 0.03542235157731156}. Best is trial 0 with value: 0.5779\u001b[0m\n",
                        "\u001b[32m[I 2022-12-14 12:11:29]\u001b[0m Trial 9 finished with value: 0.5338 and parameters: {'var_smoothing': 1.5451086546702752e-05}. Best is trial 0 with value: 0.5779\u001b[0m\n",
                        "\u001b[32m[I 2022-12-14 12:11:29]\u001b[0m Tuning summary:\n",
                        "   algorithm  accuracy  precision  recall     f1  roc_auc  Fit time (s)  \\\n",
                        "0        nb     0.619      0.493   0.788  0.578    0.656         0.010   \n",
                        "1        lr     0.671      0.579   0.376  0.398    0.617         0.122   \n",
                        "\n",
                        "                                         hyperparams  \n",
                        "0  {'priors': None, 'var_smoothing': 3.7361283315...  \n",
                        "1  {'C': 2.5547127639132974, 'class_weight': None...  \u001b[0m\n"
                    ]
                },
                {
                    "data": {
                        "text/html": [
                            "<div>\n",
                            "<style scoped>\n",
                            "    .dataframe tbody tr th:only-of-type {\n",
                            "        vertical-align: middle;\n",
                            "    }\n",
                            "\n",
                            "    .dataframe tbody tr th {\n",
                            "        vertical-align: top;\n",
                            "    }\n",
                            "\n",
                            "    .dataframe thead th {\n",
                            "        text-align: right;\n",
                            "    }\n",
                            "</style>\n",
                            "<table border=\"1\" class=\"dataframe\">\n",
                            "  <thead>\n",
                            "    <tr style=\"text-align: right;\">\n",
                            "      <th></th>\n",
                            "      <th>algorithm</th>\n",
                            "      <th>accuracy</th>\n",
                            "      <th>precision</th>\n",
                            "      <th>recall</th>\n",
                            "      <th>f1</th>\n",
                            "      <th>roc_auc</th>\n",
                            "      <th>Fit time (s)</th>\n",
                            "      <th>hyperparams</th>\n",
                            "    </tr>\n",
                            "  </thead>\n",
                            "  <tbody>\n",
                            "    <tr>\n",
                            "      <th>0</th>\n",
                            "      <td>nb</td>\n",
                            "      <td>0.619</td>\n",
                            "      <td>0.493</td>\n",
                            "      <td>0.788</td>\n",
                            "      <td>0.578</td>\n",
                            "      <td>0.656</td>\n",
                            "      <td>0.010</td>\n",
                            "      <td>{'priors': None, 'var_smoothing': 3.7361283315...</td>\n",
                            "    </tr>\n",
                            "    <tr>\n",
                            "      <th>1</th>\n",
                            "      <td>lr</td>\n",
                            "      <td>0.671</td>\n",
                            "      <td>0.579</td>\n",
                            "      <td>0.376</td>\n",
                            "      <td>0.398</td>\n",
                            "      <td>0.617</td>\n",
                            "      <td>0.122</td>\n",
                            "      <td>{'C': 2.5547127639132974, 'class_weight': None...</td>\n",
                            "    </tr>\n",
                            "  </tbody>\n",
                            "</table>\n",
                            "</div>"
                        ],
                        "text/plain": [
                            "  algorithm  accuracy  precision  recall     f1  roc_auc  Fit time (s)  \\\n",
                            "0        nb     0.619      0.493   0.788  0.578    0.656         0.010   \n",
                            "1        lr     0.671      0.579   0.376  0.398    0.617         0.122   \n",
                            "\n",
                            "                                         hyperparams  \n",
                            "0  {'priors': None, 'var_smoothing': 3.7361283315...  \n",
                            "1  {'C': 2.5547127639132974, 'class_weight': None...  "
                        ]
                    },
                    "execution_count": 9,
                    "metadata": {},
                    "output_type": "execute_result"
                }
            ],
            "source": [
                "compare_df_tune, model_list, opt_history_dict = (\n",
                "        pt.modelling.tune_hyperparams(\n",
                "               setup=setup,\n",
                "               include=[\"lr\", \"nb\"],\n",
                "               optimize=\"f1\",\n",
                "               n_trials=10,\n",
                "               return_models=True,\n",
                "        )\n",
                ")\n",
                "compare_df_tune"
            ]
        },
        {
            "cell_type": "code",
            "execution_count": 10,
            "metadata": {},
            "outputs": [
                {
                    "data": {
                        "application/vnd.plotly.v1+json": {
                            "config": {
                                "plotlyServerURL": "https://plot.ly"
                            },
                            "data": [
                                {
                                    "mode": "markers",
                                    "name": "Objective Value",
                                    "type": "scatter",
                                    "x": [
                                        0,
                                        1,
                                        2,
                                        3,
                                        4,
                                        5,
                                        6,
                                        7,
                                        8,
                                        9
                                    ],
                                    "y": [
                                        0.5779101469890945,
                                        0.3484982581677808,
                                        0.5533330266225003,
                                        0.5632698075834749,
                                        0.5614115407831455,
                                        0.5600491661447163,
                                        0.49131165177093683,
                                        0.5534374129768868,
                                        0.463448275862069,
                                        0.533807692621463
                                    ]
                                },
                                {
                                    "name": "Best Value",
                                    "type": "scatter",
                                    "x": [
                                        0,
                                        1,
                                        2,
                                        3,
                                        4,
                                        5,
                                        6,
                                        7,
                                        8,
                                        9
                                    ],
                                    "y": [
                                        0.5779101469890945,
                                        0.5779101469890945,
                                        0.5779101469890945,
                                        0.5779101469890945,
                                        0.5779101469890945,
                                        0.5779101469890945,
                                        0.5779101469890945,
                                        0.5779101469890945,
                                        0.5779101469890945,
                                        0.5779101469890945
                                    ]
                                }
                            ],
                            "layout": {
                                "template": {
                                    "data": {
                                        "bar": [
                                            {
                                                "error_x": {
                                                    "color": "#2a3f5f"
                                                },
                                                "error_y": {
                                                    "color": "#2a3f5f"
                                                },
                                                "marker": {
                                                    "line": {
                                                        "color": "#E5ECF6",
                                                        "width": 0.5
                                                    },
                                                    "pattern": {
                                                        "fillmode": "overlay",
                                                        "size": 10,
                                                        "solidity": 0.2
                                                    }
                                                },
                                                "type": "bar"
                                            }
                                        ],
                                        "barpolar": [
                                            {
                                                "marker": {
                                                    "line": {
                                                        "color": "#E5ECF6",
                                                        "width": 0.5
                                                    },
                                                    "pattern": {
                                                        "fillmode": "overlay",
                                                        "size": 10,
                                                        "solidity": 0.2
                                                    }
                                                },
                                                "type": "barpolar"
                                            }
                                        ],
                                        "carpet": [
                                            {
                                                "aaxis": {
                                                    "endlinecolor": "#2a3f5f",
                                                    "gridcolor": "white",
                                                    "linecolor": "white",
                                                    "minorgridcolor": "white",
                                                    "startlinecolor": "#2a3f5f"
                                                },
                                                "baxis": {
                                                    "endlinecolor": "#2a3f5f",
                                                    "gridcolor": "white",
                                                    "linecolor": "white",
                                                    "minorgridcolor": "white",
                                                    "startlinecolor": "#2a3f5f"
                                                },
                                                "type": "carpet"
                                            }
                                        ],
                                        "choropleth": [
                                            {
                                                "colorbar": {
                                                    "outlinewidth": 0,
                                                    "ticks": ""
                                                },
                                                "type": "choropleth"
                                            }
                                        ],
                                        "contour": [
                                            {
                                                "colorbar": {
                                                    "outlinewidth": 0,
                                                    "ticks": ""
                                                },
                                                "colorscale": [
                                                    [
                                                        0,
                                                        "#0d0887"
                                                    ],
                                                    [
                                                        0.1111111111111111,
                                                        "#46039f"
                                                    ],
                                                    [
                                                        0.2222222222222222,
                                                        "#7201a8"
                                                    ],
                                                    [
                                                        0.3333333333333333,
                                                        "#9c179e"
                                                    ],
                                                    [
                                                        0.4444444444444444,
                                                        "#bd3786"
                                                    ],
                                                    [
                                                        0.5555555555555556,
                                                        "#d8576b"
                                                    ],
                                                    [
                                                        0.6666666666666666,
                                                        "#ed7953"
                                                    ],
                                                    [
                                                        0.7777777777777778,
                                                        "#fb9f3a"
                                                    ],
                                                    [
                                                        0.8888888888888888,
                                                        "#fdca26"
                                                    ],
                                                    [
                                                        1,
                                                        "#f0f921"
                                                    ]
                                                ],
                                                "type": "contour"
                                            }
                                        ],
                                        "contourcarpet": [
                                            {
                                                "colorbar": {
                                                    "outlinewidth": 0,
                                                    "ticks": ""
                                                },
                                                "type": "contourcarpet"
                                            }
                                        ],
                                        "heatmap": [
                                            {
                                                "colorbar": {
                                                    "outlinewidth": 0,
                                                    "ticks": ""
                                                },
                                                "colorscale": [
                                                    [
                                                        0,
                                                        "#0d0887"
                                                    ],
                                                    [
                                                        0.1111111111111111,
                                                        "#46039f"
                                                    ],
                                                    [
                                                        0.2222222222222222,
                                                        "#7201a8"
                                                    ],
                                                    [
                                                        0.3333333333333333,
                                                        "#9c179e"
                                                    ],
                                                    [
                                                        0.4444444444444444,
                                                        "#bd3786"
                                                    ],
                                                    [
                                                        0.5555555555555556,
                                                        "#d8576b"
                                                    ],
                                                    [
                                                        0.6666666666666666,
                                                        "#ed7953"
                                                    ],
                                                    [
                                                        0.7777777777777778,
                                                        "#fb9f3a"
                                                    ],
                                                    [
                                                        0.8888888888888888,
                                                        "#fdca26"
                                                    ],
                                                    [
                                                        1,
                                                        "#f0f921"
                                                    ]
                                                ],
                                                "type": "heatmap"
                                            }
                                        ],
                                        "heatmapgl": [
                                            {
                                                "colorbar": {
                                                    "outlinewidth": 0,
                                                    "ticks": ""
                                                },
                                                "colorscale": [
                                                    [
                                                        0,
                                                        "#0d0887"
                                                    ],
                                                    [
                                                        0.1111111111111111,
                                                        "#46039f"
                                                    ],
                                                    [
                                                        0.2222222222222222,
                                                        "#7201a8"
                                                    ],
                                                    [
                                                        0.3333333333333333,
                                                        "#9c179e"
                                                    ],
                                                    [
                                                        0.4444444444444444,
                                                        "#bd3786"
                                                    ],
                                                    [
                                                        0.5555555555555556,
                                                        "#d8576b"
                                                    ],
                                                    [
                                                        0.6666666666666666,
                                                        "#ed7953"
                                                    ],
                                                    [
                                                        0.7777777777777778,
                                                        "#fb9f3a"
                                                    ],
                                                    [
                                                        0.8888888888888888,
                                                        "#fdca26"
                                                    ],
                                                    [
                                                        1,
                                                        "#f0f921"
                                                    ]
                                                ],
                                                "type": "heatmapgl"
                                            }
                                        ],
                                        "histogram": [
                                            {
                                                "marker": {
                                                    "pattern": {
                                                        "fillmode": "overlay",
                                                        "size": 10,
                                                        "solidity": 0.2
                                                    }
                                                },
                                                "type": "histogram"
                                            }
                                        ],
                                        "histogram2d": [
                                            {
                                                "colorbar": {
                                                    "outlinewidth": 0,
                                                    "ticks": ""
                                                },
                                                "colorscale": [
                                                    [
                                                        0,
                                                        "#0d0887"
                                                    ],
                                                    [
                                                        0.1111111111111111,
                                                        "#46039f"
                                                    ],
                                                    [
                                                        0.2222222222222222,
                                                        "#7201a8"
                                                    ],
                                                    [
                                                        0.3333333333333333,
                                                        "#9c179e"
                                                    ],
                                                    [
                                                        0.4444444444444444,
                                                        "#bd3786"
                                                    ],
                                                    [
                                                        0.5555555555555556,
                                                        "#d8576b"
                                                    ],
                                                    [
                                                        0.6666666666666666,
                                                        "#ed7953"
                                                    ],
                                                    [
                                                        0.7777777777777778,
                                                        "#fb9f3a"
                                                    ],
                                                    [
                                                        0.8888888888888888,
                                                        "#fdca26"
                                                    ],
                                                    [
                                                        1,
                                                        "#f0f921"
                                                    ]
                                                ],
                                                "type": "histogram2d"
                                            }
                                        ],
                                        "histogram2dcontour": [
                                            {
                                                "colorbar": {
                                                    "outlinewidth": 0,
                                                    "ticks": ""
                                                },
                                                "colorscale": [
                                                    [
                                                        0,
                                                        "#0d0887"
                                                    ],
                                                    [
                                                        0.1111111111111111,
                                                        "#46039f"
                                                    ],
                                                    [
                                                        0.2222222222222222,
                                                        "#7201a8"
                                                    ],
                                                    [
                                                        0.3333333333333333,
                                                        "#9c179e"
                                                    ],
                                                    [
                                                        0.4444444444444444,
                                                        "#bd3786"
                                                    ],
                                                    [
                                                        0.5555555555555556,
                                                        "#d8576b"
                                                    ],
                                                    [
                                                        0.6666666666666666,
                                                        "#ed7953"
                                                    ],
                                                    [
                                                        0.7777777777777778,
                                                        "#fb9f3a"
                                                    ],
                                                    [
                                                        0.8888888888888888,
                                                        "#fdca26"
                                                    ],
                                                    [
                                                        1,
                                                        "#f0f921"
                                                    ]
                                                ],
                                                "type": "histogram2dcontour"
                                            }
                                        ],
                                        "mesh3d": [
                                            {
                                                "colorbar": {
                                                    "outlinewidth": 0,
                                                    "ticks": ""
                                                },
                                                "type": "mesh3d"
                                            }
                                        ],
                                        "parcoords": [
                                            {
                                                "line": {
                                                    "colorbar": {
                                                        "outlinewidth": 0,
                                                        "ticks": ""
                                                    }
                                                },
                                                "type": "parcoords"
                                            }
                                        ],
                                        "pie": [
                                            {
                                                "automargin": true,
                                                "type": "pie"
                                            }
                                        ],
                                        "scatter": [
                                            {
                                                "fillpattern": {
                                                    "fillmode": "overlay",
                                                    "size": 10,
                                                    "solidity": 0.2
                                                },
                                                "type": "scatter"
                                            }
                                        ],
                                        "scatter3d": [
                                            {
                                                "line": {
                                                    "colorbar": {
                                                        "outlinewidth": 0,
                                                        "ticks": ""
                                                    }
                                                },
                                                "marker": {
                                                    "colorbar": {
                                                        "outlinewidth": 0,
                                                        "ticks": ""
                                                    }
                                                },
                                                "type": "scatter3d"
                                            }
                                        ],
                                        "scattercarpet": [
                                            {
                                                "marker": {
                                                    "colorbar": {
                                                        "outlinewidth": 0,
                                                        "ticks": ""
                                                    }
                                                },
                                                "type": "scattercarpet"
                                            }
                                        ],
                                        "scattergeo": [
                                            {
                                                "marker": {
                                                    "colorbar": {
                                                        "outlinewidth": 0,
                                                        "ticks": ""
                                                    }
                                                },
                                                "type": "scattergeo"
                                            }
                                        ],
                                        "scattergl": [
                                            {
                                                "marker": {
                                                    "colorbar": {
                                                        "outlinewidth": 0,
                                                        "ticks": ""
                                                    }
                                                },
                                                "type": "scattergl"
                                            }
                                        ],
                                        "scattermapbox": [
                                            {
                                                "marker": {
                                                    "colorbar": {
                                                        "outlinewidth": 0,
                                                        "ticks": ""
                                                    }
                                                },
                                                "type": "scattermapbox"
                                            }
                                        ],
                                        "scatterpolar": [
                                            {
                                                "marker": {
                                                    "colorbar": {
                                                        "outlinewidth": 0,
                                                        "ticks": ""
                                                    }
                                                },
                                                "type": "scatterpolar"
                                            }
                                        ],
                                        "scatterpolargl": [
                                            {
                                                "marker": {
                                                    "colorbar": {
                                                        "outlinewidth": 0,
                                                        "ticks": ""
                                                    }
                                                },
                                                "type": "scatterpolargl"
                                            }
                                        ],
                                        "scatterternary": [
                                            {
                                                "marker": {
                                                    "colorbar": {
                                                        "outlinewidth": 0,
                                                        "ticks": ""
                                                    }
                                                },
                                                "type": "scatterternary"
                                            }
                                        ],
                                        "surface": [
                                            {
                                                "colorbar": {
                                                    "outlinewidth": 0,
                                                    "ticks": ""
                                                },
                                                "colorscale": [
                                                    [
                                                        0,
                                                        "#0d0887"
                                                    ],
                                                    [
                                                        0.1111111111111111,
                                                        "#46039f"
                                                    ],
                                                    [
                                                        0.2222222222222222,
                                                        "#7201a8"
                                                    ],
                                                    [
                                                        0.3333333333333333,
                                                        "#9c179e"
                                                    ],
                                                    [
                                                        0.4444444444444444,
                                                        "#bd3786"
                                                    ],
                                                    [
                                                        0.5555555555555556,
                                                        "#d8576b"
                                                    ],
                                                    [
                                                        0.6666666666666666,
                                                        "#ed7953"
                                                    ],
                                                    [
                                                        0.7777777777777778,
                                                        "#fb9f3a"
                                                    ],
                                                    [
                                                        0.8888888888888888,
                                                        "#fdca26"
                                                    ],
                                                    [
                                                        1,
                                                        "#f0f921"
                                                    ]
                                                ],
                                                "type": "surface"
                                            }
                                        ],
                                        "table": [
                                            {
                                                "cells": {
                                                    "fill": {
                                                        "color": "#EBF0F8"
                                                    },
                                                    "line": {
                                                        "color": "white"
                                                    }
                                                },
                                                "header": {
                                                    "fill": {
                                                        "color": "#C8D4E3"
                                                    },
                                                    "line": {
                                                        "color": "white"
                                                    }
                                                },
                                                "type": "table"
                                            }
                                        ]
                                    },
                                    "layout": {
                                        "annotationdefaults": {
                                            "arrowcolor": "#2a3f5f",
                                            "arrowhead": 0,
                                            "arrowwidth": 1
                                        },
                                        "autotypenumbers": "strict",
                                        "coloraxis": {
                                            "colorbar": {
                                                "outlinewidth": 0,
                                                "ticks": ""
                                            }
                                        },
                                        "colorscale": {
                                            "diverging": [
                                                [
                                                    0,
                                                    "#8e0152"
                                                ],
                                                [
                                                    0.1,
                                                    "#c51b7d"
                                                ],
                                                [
                                                    0.2,
                                                    "#de77ae"
                                                ],
                                                [
                                                    0.3,
                                                    "#f1b6da"
                                                ],
                                                [
                                                    0.4,
                                                    "#fde0ef"
                                                ],
                                                [
                                                    0.5,
                                                    "#f7f7f7"
                                                ],
                                                [
                                                    0.6,
                                                    "#e6f5d0"
                                                ],
                                                [
                                                    0.7,
                                                    "#b8e186"
                                                ],
                                                [
                                                    0.8,
                                                    "#7fbc41"
                                                ],
                                                [
                                                    0.9,
                                                    "#4d9221"
                                                ],
                                                [
                                                    1,
                                                    "#276419"
                                                ]
                                            ],
                                            "sequential": [
                                                [
                                                    0,
                                                    "#0d0887"
                                                ],
                                                [
                                                    0.1111111111111111,
                                                    "#46039f"
                                                ],
                                                [
                                                    0.2222222222222222,
                                                    "#7201a8"
                                                ],
                                                [
                                                    0.3333333333333333,
                                                    "#9c179e"
                                                ],
                                                [
                                                    0.4444444444444444,
                                                    "#bd3786"
                                                ],
                                                [
                                                    0.5555555555555556,
                                                    "#d8576b"
                                                ],
                                                [
                                                    0.6666666666666666,
                                                    "#ed7953"
                                                ],
                                                [
                                                    0.7777777777777778,
                                                    "#fb9f3a"
                                                ],
                                                [
                                                    0.8888888888888888,
                                                    "#fdca26"
                                                ],
                                                [
                                                    1,
                                                    "#f0f921"
                                                ]
                                            ],
                                            "sequentialminus": [
                                                [
                                                    0,
                                                    "#0d0887"
                                                ],
                                                [
                                                    0.1111111111111111,
                                                    "#46039f"
                                                ],
                                                [
                                                    0.2222222222222222,
                                                    "#7201a8"
                                                ],
                                                [
                                                    0.3333333333333333,
                                                    "#9c179e"
                                                ],
                                                [
                                                    0.4444444444444444,
                                                    "#bd3786"
                                                ],
                                                [
                                                    0.5555555555555556,
                                                    "#d8576b"
                                                ],
                                                [
                                                    0.6666666666666666,
                                                    "#ed7953"
                                                ],
                                                [
                                                    0.7777777777777778,
                                                    "#fb9f3a"
                                                ],
                                                [
                                                    0.8888888888888888,
                                                    "#fdca26"
                                                ],
                                                [
                                                    1,
                                                    "#f0f921"
                                                ]
                                            ]
                                        },
                                        "colorway": [
                                            "#636efa",
                                            "#EF553B",
                                            "#00cc96",
                                            "#ab63fa",
                                            "#FFA15A",
                                            "#19d3f3",
                                            "#FF6692",
                                            "#B6E880",
                                            "#FF97FF",
                                            "#FECB52"
                                        ],
                                        "font": {
                                            "color": "#2a3f5f"
                                        },
                                        "geo": {
                                            "bgcolor": "white",
                                            "lakecolor": "white",
                                            "landcolor": "#E5ECF6",
                                            "showlakes": true,
                                            "showland": true,
                                            "subunitcolor": "white"
                                        },
                                        "hoverlabel": {
                                            "align": "left"
                                        },
                                        "hovermode": "closest",
                                        "mapbox": {
                                            "style": "light"
                                        },
                                        "paper_bgcolor": "white",
                                        "plot_bgcolor": "#E5ECF6",
                                        "polar": {
                                            "angularaxis": {
                                                "gridcolor": "white",
                                                "linecolor": "white",
                                                "ticks": ""
                                            },
                                            "bgcolor": "#E5ECF6",
                                            "radialaxis": {
                                                "gridcolor": "white",
                                                "linecolor": "white",
                                                "ticks": ""
                                            }
                                        },
                                        "scene": {
                                            "xaxis": {
                                                "backgroundcolor": "#E5ECF6",
                                                "gridcolor": "white",
                                                "gridwidth": 2,
                                                "linecolor": "white",
                                                "showbackground": true,
                                                "ticks": "",
                                                "zerolinecolor": "white"
                                            },
                                            "yaxis": {
                                                "backgroundcolor": "#E5ECF6",
                                                "gridcolor": "white",
                                                "gridwidth": 2,
                                                "linecolor": "white",
                                                "showbackground": true,
                                                "ticks": "",
                                                "zerolinecolor": "white"
                                            },
                                            "zaxis": {
                                                "backgroundcolor": "#E5ECF6",
                                                "gridcolor": "white",
                                                "gridwidth": 2,
                                                "linecolor": "white",
                                                "showbackground": true,
                                                "ticks": "",
                                                "zerolinecolor": "white"
                                            }
                                        },
                                        "shapedefaults": {
                                            "line": {
                                                "color": "#2a3f5f"
                                            }
                                        },
                                        "ternary": {
                                            "aaxis": {
                                                "gridcolor": "white",
                                                "linecolor": "white",
                                                "ticks": ""
                                            },
                                            "baxis": {
                                                "gridcolor": "white",
                                                "linecolor": "white",
                                                "ticks": ""
                                            },
                                            "bgcolor": "#E5ECF6",
                                            "caxis": {
                                                "gridcolor": "white",
                                                "linecolor": "white",
                                                "ticks": ""
                                            }
                                        },
                                        "title": {
                                            "x": 0.05
                                        },
                                        "xaxis": {
                                            "automargin": true,
                                            "gridcolor": "white",
                                            "linecolor": "white",
                                            "ticks": "",
                                            "title": {
                                                "standoff": 15
                                            },
                                            "zerolinecolor": "white",
                                            "zerolinewidth": 2
                                        },
                                        "yaxis": {
                                            "automargin": true,
                                            "gridcolor": "white",
                                            "linecolor": "white",
                                            "ticks": "",
                                            "title": {
                                                "standoff": 15
                                            },
                                            "zerolinecolor": "white",
                                            "zerolinewidth": 2
                                        }
                                    }
                                },
                                "title": {
                                    "text": "Optimization History Plot"
                                },
                                "xaxis": {
                                    "title": {
                                        "text": "#Trials"
                                    }
                                },
                                "yaxis": {
                                    "title": {
                                        "text": "Objective Value"
                                    }
                                }
                            }
                        }
                    },
                    "metadata": {},
                    "output_type": "display_data"
                }
            ],
            "source": [
                "opt_history_dict[\"nb\"].show()"
            ]
        },
        {
            "cell_type": "code",
            "execution_count": 11,
            "metadata": {},
            "outputs": [
                {
                    "name": "stderr",
                    "output_type": "stream",
                    "text": [
                        "\u001b[32m[I 2022-12-14 12:04:18]\u001b[0m %%% REDUCING FEATURE SPACE\u001b[0m\n",
                        "\u001b[32m[I 2022-12-14 12:04:18]\u001b[0m Algorithm selected for feature space reduction: nb\u001b[0m\n",
                        "\u001b[32m[I 2022-12-14 12:04:18]\u001b[0m Metric to optimize for: f1\u001b[0m\n",
                        "\u001b[32m[I 2022-12-14 12:04:18]\u001b[0m Acceptable loss ratio: 0.99\u001b[0m\n",
                        "\u001b[32m[I 2022-12-14 12:04:18]\u001b[0m Reference metric: 0.560\u001b[0m\n",
                        "\u001b[32m[I 2022-12-14 12:04:18]\u001b[0m Minimum acceptable metric: 0.99 * 0.560 = 0.554\u001b[0m\n",
                        "\u001b[32m[I 2022-12-14 12:04:23]\u001b[0m Feature count: 40, metric: 0.571 (new best), removing worst feature: breast-quad_right_up\u001b[0m\n",
                        "\u001b[32m[I 2022-12-14 12:04:27]\u001b[0m Feature count: 39, metric: 0.578 (new best), removing worst feature: tumor-size_40-44\u001b[0m\n",
                        "\u001b[32m[I 2022-12-14 12:04:31]\u001b[0m Feature count: 38, metric: 0.582 (new best), removing worst feature: breast-quad_central\u001b[0m\n",
                        "\u001b[32m[I 2022-12-14 12:04:36]\u001b[0m Feature count: 37, metric: 0.590 (new best), removing worst feature: tumor-size_15-19\u001b[0m\n",
                        "\u001b[32m[I 2022-12-14 12:04:40]\u001b[0m Feature count: 36, metric: 0.592 (new best), removing worst feature: age_40-49\u001b[0m\n",
                        "\u001b[32m[I 2022-12-14 12:04:44]\u001b[0m Feature count: 35, metric: 0.592, removing worst feature: age_60-69\u001b[0m\n",
                        "\u001b[32m[I 2022-12-14 12:04:48]\u001b[0m Feature count: 34, metric: 0.591, removing worst feature: tumor-size_30-34\u001b[0m\n",
                        "\u001b[32m[I 2022-12-14 12:04:52]\u001b[0m Feature count: 33, metric: 0.593 (new best), removing worst feature: breast-quad_left_up\u001b[0m\n",
                        "\u001b[32m[I 2022-12-14 12:04:55]\u001b[0m Feature count: 32, metric: 0.593, removing worst feature: tumor-size_20-24\u001b[0m\n",
                        "\u001b[32m[I 2022-12-14 12:04:59]\u001b[0m Feature count: 31, metric: 0.593, removing worst feature: breast-quad_right_low\u001b[0m\n",
                        "\u001b[32m[I 2022-12-14 12:05:02]\u001b[0m Feature count: 30, metric: 0.591, removing worst feature: node-caps_?\u001b[0m\n",
                        "\u001b[32m[I 2022-12-14 12:05:05]\u001b[0m Feature count: 29, metric: 0.589, removing worst feature: age_50-59\u001b[0m\n",
                        "\u001b[32m[I 2022-12-14 12:05:08]\u001b[0m Feature count: 28, metric: 0.589, removing worst feature: breast-quad_left_low\u001b[0m\n",
                        "\u001b[32m[I 2022-12-14 12:05:12]\u001b[0m Feature count: 27, metric: 0.586, removing worst feature: menopause_ge40\u001b[0m\n",
                        "\u001b[32m[I 2022-12-14 12:05:12]\u001b[0m Best f1 score found: 0.593\u001b[0m\n",
                        "\u001b[32m[I 2022-12-14 12:05:12]\u001b[0m Feature list for best score: ['deg-malig', 'age_20-29', 'age_30-39', 'age_50-59', 'age_70-79', 'menopause_ge40', 'menopause_lt40', 'menopause_premeno', 'tumor-size_0-4', 'tumor-size_10-14', 'tumor-size_25-29', 'tumor-size_35-39', 'tumor-size_45-49', 'tumor-size_5-9', 'tumor-size_50-54', 'inv-nodes_0-2', 'inv-nodes_12-14', 'inv-nodes_15-17', 'inv-nodes_24-26', 'inv-nodes_3-5', 'inv-nodes_6-8', 'inv-nodes_9-11', 'node-caps_?', 'node-caps_no', 'node-caps_yes', 'breast_left', 'breast_right', 'breast-quad_?', 'breast-quad_left_low', 'irradiat_no', 'irradiat_yes']\u001b[0m\n"
                    ]
                },
                {
                    "data": {
                        "image/png": "[encoded data removed]",
                        "text/plain": [
                            "<Figure size 432x288 with 1 Axes>"
                        ]
                    },
                    "metadata": {
                        "needs_background": "light"
                    },
                    "output_type": "display_data"
                }
            ],
            "source": [
                "best_feature_list, metric_feature_df = pt.modelling.reduce_feature_space(\n",
                "    setup=setup,\n",
                "    algorithm= \"nb\",\n",
                "    metric=\"f1\",\n",
                "    reference_metric=compare_df_tune.iloc[0][\"f1\"],\n",
                "    acceptable_loss=0.99,\n",
                "    hyperparams=compare_df_tune.iloc[0][\"hyperparams\"]\n",
                ")"
            ]
        },
        {
            "cell_type": "code",
            "execution_count": 12,
            "metadata": {},
            "outputs": [
                {
                    "name": "stderr",
                    "output_type": "stream",
                    "text": [
                        "\u001b[32m[I 2022-12-14 12:05:22]\u001b[0m %%% TUNING HYPERPARAMETERS\u001b[0m\n",
                        "\u001b[32m[I 2022-12-14 12:05:22]\u001b[0m Algorithms: ['nb', 'lr']\u001b[0m\n",
                        "\u001b[32m[I 2022-12-14 12:05:22]\u001b[0m Metric: f1\u001b[0m\n",
                        "\u001b[32m[I 2022-12-14 12:05:22]\u001b[0m Trials per algorithm: 20\u001b[0m\n",
                        "\u001b[32m[I 2022-12-14 12:05:22]\u001b[0m Trial 0 finished with value: 0.5818 and parameters: {'var_smoothing': 3.1682537232046905e-07}. Best is trial 0 with value: 0.5818\u001b[0m\n",
                        "\u001b[32m[I 2022-12-14 12:05:22]\u001b[0m Trial 1 finished with value: 0.4588 and parameters: {'var_smoothing': 0.00010163121952395116}. Best is trial 0 with value: 0.5818\u001b[0m\n",
                        "\u001b[32m[I 2022-12-14 12:05:23]\u001b[0m Trial 2 finished with value: 0.5633 and parameters: {'var_smoothing': 2.0414889699491233e-05}. Best is trial 0 with value: 0.5818\u001b[0m\n",
                        "\u001b[32m[I 2022-12-14 12:05:23]\u001b[0m Trial 3 finished with value: 0.5651 and parameters: {'var_smoothing': 1.5411609542350935e-05}. Best is trial 0 with value: 0.5818\u001b[0m\n",
                        "\u001b[32m[I 2022-12-14 12:05:23]\u001b[0m Trial 4 finished with value: 0.5780 and parameters: {'var_smoothing': 4.0833261251023534e-08}. Best is trial 0 with value: 0.5818\u001b[0m\n",
                        "\u001b[32m[I 2022-12-14 12:05:23]\u001b[0m Trial 5 finished with value: 0.5674 and parameters: {'var_smoothing': 5.636563307154791e-10}. Best is trial 0 with value: 0.5818\u001b[0m\n",
                        "\u001b[32m[I 2022-12-14 12:05:23]\u001b[0m Trial 6 finished with value: 0.5751 and parameters: {'var_smoothing': 8.259629541310191e-07}. Best is trial 0 with value: 0.5818\u001b[0m\n",
                        "\u001b[32m[I 2022-12-14 12:05:24]\u001b[0m Trial 7 finished with value: 0.5630 and parameters: {'var_smoothing': 3.16805217041143e-12}. Best is trial 0 with value: 0.5818\u001b[0m\n",
                        "\u001b[32m[I 2022-12-14 12:05:24]\u001b[0m Trial 8 finished with value: 0.4545 and parameters: {'var_smoothing': 0.00017865354050776962}. Best is trial 0 with value: 0.5818\u001b[0m\n",
                        "\u001b[32m[I 2022-12-14 12:05:24]\u001b[0m Trial 9 finished with value: 0.4366 and parameters: {'var_smoothing': 0.1001898211339826}. Best is trial 0 with value: 0.5818\u001b[0m\n",
                        "\u001b[32m[I 2022-12-14 12:05:24]\u001b[0m Trial 10 finished with value: 0.3791 and parameters: {'var_smoothing': 0.239822235844744}. Best is trial 0 with value: 0.5818\u001b[0m\n",
                        "\u001b[32m[I 2022-12-14 12:05:24]\u001b[0m Trial 11 finished with value: 0.5705 and parameters: {'var_smoothing': 5.854263693783567e-09}. Best is trial 0 with value: 0.5818\u001b[0m\n",
                        "\u001b[32m[I 2022-12-14 12:05:25]\u001b[0m Trial 12 finished with value: 0.5724 and parameters: {'var_smoothing': 2.5881992971529943e-08}. Best is trial 0 with value: 0.5818\u001b[0m\n",
                        "\u001b[32m[I 2022-12-14 12:05:25]\u001b[0m Trial 13 finished with value: 0.5644 and parameters: {'var_smoothing': 1.7979407255579336e-10}. Best is trial 0 with value: 0.5818\u001b[0m\n",
                        "\u001b[32m[I 2022-12-14 12:05:25]\u001b[0m Trial 14 finished with value: 0.5928 and parameters: {'var_smoothing': 1.398925894724883e-07}. Best is trial 14 with value: 0.5928\u001b[0m\n",
                        "\u001b[32m[I 2022-12-14 12:05:25]\u001b[0m Trial 15 finished with value: 0.5651 and parameters: {'var_smoothing': 5.881636014213805e-07}. Best is trial 14 with value: 0.5928\u001b[0m\n",
                        "\u001b[32m[I 2022-12-14 12:05:26]\u001b[0m Trial 16 finished with value: 0.4485 and parameters: {'var_smoothing': 0.0028008320311743683}. Best is trial 14 with value: 0.5928\u001b[0m\n",
                        "\u001b[32m[I 2022-12-14 12:05:26]\u001b[0m Trial 17 finished with value: 0.5644 and parameters: {'var_smoothing': 8.728101751691757e-12}. Best is trial 14 with value: 0.5928\u001b[0m\n",
                        "\u001b[32m[I 2022-12-14 12:05:26]\u001b[0m Trial 18 finished with value: 0.5928 and parameters: {'var_smoothing': 2.051775043045555e-07}. Best is trial 14 with value: 0.5928\u001b[0m\n",
                        "\u001b[32m[I 2022-12-14 12:05:26]\u001b[0m Trial 19 finished with value: 0.5674 and parameters: {'var_smoothing': 1.2186935565435993e-09}. Best is trial 14 with value: 0.5928\u001b[0m\n",
                        "\u001b[32m[I 2022-12-14 12:05:27]\u001b[0m Trial 0 finished with value: 0.0000 and parameters: {'C': 0.004582028154132537, 'l1_ratio': 0.5844036191614449}. Best is trial 0 with value: 0.0000\u001b[0m\n",
                        "\u001b[32m[I 2022-12-14 12:05:27]\u001b[0m Trial 1 finished with value: 0.0000 and parameters: {'C': 0.011749454675036077, 'l1_ratio': 0.9732014609683377}. Best is trial 0 with value: 0.0000\u001b[0m\n",
                        "\u001b[32m[I 2022-12-14 12:05:27]\u001b[0m Trial 2 finished with value: 0.0000 and parameters: {'C': 2.9061003964988547e-06, 'l1_ratio': 0.3460675318550699}. Best is trial 0 with value: 0.0000\u001b[0m\n",
                        "\u001b[32m[I 2022-12-14 12:05:28]\u001b[0m Trial 3 finished with value: 0.3405 and parameters: {'C': 50.640543177753685, 'l1_ratio': 0.1566917574576535}. Best is trial 3 with value: 0.3405\u001b[0m\n",
                        "\u001b[32m[I 2022-12-14 12:05:28]\u001b[0m Trial 4 finished with value: 0.3445 and parameters: {'C': 2.692685942110274, 'l1_ratio': 0.859116030505492}. Best is trial 4 with value: 0.3445\u001b[0m\n",
                        "\u001b[32m[I 2022-12-14 12:05:28]\u001b[0m Trial 5 finished with value: 0.1385 and parameters: {'C': 0.07530055584966582, 'l1_ratio': 0.4185427299726088}. Best is trial 4 with value: 0.3445\u001b[0m\n",
                        "\u001b[32m[I 2022-12-14 12:05:28]\u001b[0m Trial 6 finished with value: 0.3280 and parameters: {'C': 0.30060387032230484, 'l1_ratio': 0.7284912783824107}. Best is trial 4 with value: 0.3445\u001b[0m\n",
                        "\u001b[32m[I 2022-12-14 12:05:29]\u001b[0m Trial 7 finished with value: 0.3393 and parameters: {'C': 0.7829670119713762, 'l1_ratio': 0.40926515395881635}. Best is trial 4 with value: 0.3445\u001b[0m\n",
                        "\u001b[32m[I 2022-12-14 12:05:29]\u001b[0m Trial 8 finished with value: 0.3405 and parameters: {'C': 41.96980318825049, 'l1_ratio': 0.07989410717265177}. Best is trial 4 with value: 0.3445\u001b[0m\n",
                        "\u001b[32m[I 2022-12-14 12:05:30]\u001b[0m Trial 9 finished with value: 0.0000 and parameters: {'C': 0.00223289784525798, 'l1_ratio': 0.9084158807419863}. Best is trial 4 with value: 0.3445\u001b[0m\n",
                        "\u001b[32m[I 2022-12-14 12:05:30]\u001b[0m Trial 10 finished with value: 0.0000 and parameters: {'C': 1.7849357915109688e-05, 'l1_ratio': 0.7435559014371693}. Best is trial 4 with value: 0.3445\u001b[0m\n",
                        "\u001b[32m[I 2022-12-14 12:05:30]\u001b[0m Trial 11 finished with value: 0.3405 and parameters: {'C': 99.992870063119, 'l1_ratio': 0.031401846039656456}. Best is trial 4 with value: 0.3445\u001b[0m\n",
                        "\u001b[32m[I 2022-12-14 12:05:31]\u001b[0m Trial 12 finished with value: 0.3483 and parameters: {'C': 6.222782318728574, 'l1_ratio': 0.22791684185499209}. Best is trial 12 with value: 0.3483\u001b[0m\n",
                        "\u001b[32m[I 2022-12-14 12:05:31]\u001b[0m Trial 13 finished with value: 0.3524 and parameters: {'C': 3.9047401417868413, 'l1_ratio': 0.23846900065646945}. Best is trial 13 with value: 0.3524\u001b[0m\n",
                        "\u001b[32m[I 2022-12-14 12:05:32]\u001b[0m Trial 14 finished with value: 0.3524 and parameters: {'C': 4.283024385990366, 'l1_ratio': 0.24363079800490373}. Best is trial 13 with value: 0.3524\u001b[0m\n",
                        "\u001b[32m[I 2022-12-14 12:05:32]\u001b[0m Trial 15 finished with value: 0.1288 and parameters: {'C': 0.0464077050075359, 'l1_ratio': 0.2470704411868584}. Best is trial 13 with value: 0.3524\u001b[0m\n",
                        "\u001b[32m[I 2022-12-14 12:05:32]\u001b[0m Trial 16 finished with value: 0.0000 and parameters: {'C': 0.00048231368957594116, 'l1_ratio': 0.5827364080437579}. Best is trial 13 with value: 0.3524\u001b[0m\n",
                        "\u001b[32m[I 2022-12-14 12:05:33]\u001b[0m Trial 17 finished with value: 0.3483 and parameters: {'C': 8.508086365505578, 'l1_ratio': 0.2798477920724749}. Best is trial 13 with value: 0.3524\u001b[0m\n",
                        "\u001b[32m[I 2022-12-14 12:05:33]\u001b[0m Trial 18 finished with value: 0.3317 and parameters: {'C': 0.46977342585620424, 'l1_ratio': 0.12754720945724496}. Best is trial 13 with value: 0.3524\u001b[0m\n",
                        "\u001b[32m[I 2022-12-14 12:05:34]\u001b[0m Trial 19 finished with value: 0.0000 and parameters: {'C': 0.0003428221403014495, 'l1_ratio': 0.004459090868648791}. Best is trial 13 with value: 0.3524\u001b[0m\n",
                        "\u001b[32m[I 2022-12-14 12:05:34]\u001b[0m Tuning summary:\n",
                        "   algorithm  accuracy  precision  recall     f1  roc_auc  Fit time (s)  \\\n",
                        "0        nb     0.599      0.501   0.859  0.593    0.658         0.020   \n",
                        "1        lr     0.682      0.545   0.329  0.352    0.627         0.153   \n",
                        "\n",
                        "                                         hyperparams  \n",
                        "0  {'priors': None, 'var_smoothing': 1.3989258947...  \n",
                        "1  {'C': 3.9047401417868413, 'class_weight': None...  \u001b[0m\n"
                    ]
                },
                {
                    "data": {
                        "text/html": [
                            "<div>\n",
                            "<style scoped>\n",
                            "    .dataframe tbody tr th:only-of-type {\n",
                            "        vertical-align: middle;\n",
                            "    }\n",
                            "\n",
                            "    .dataframe tbody tr th {\n",
                            "        vertical-align: top;\n",
                            "    }\n",
                            "\n",
                            "    .dataframe thead th {\n",
                            "        text-align: right;\n",
                            "    }\n",
                            "</style>\n",
                            "<table border=\"1\" class=\"dataframe\">\n",
                            "  <thead>\n",
                            "    <tr style=\"text-align: right;\">\n",
                            "      <th></th>\n",
                            "      <th>algorithm</th>\n",
                            "      <th>accuracy</th>\n",
                            "      <th>precision</th>\n",
                            "      <th>recall</th>\n",
                            "      <th>f1</th>\n",
                            "      <th>roc_auc</th>\n",
                            "      <th>Fit time (s)</th>\n",
                            "      <th>hyperparams</th>\n",
                            "    </tr>\n",
                            "  </thead>\n",
                            "  <tbody>\n",
                            "    <tr>\n",
                            "      <th>0</th>\n",
                            "      <td>nb</td>\n",
                            "      <td>0.599</td>\n",
                            "      <td>0.501</td>\n",
                            "      <td>0.859</td>\n",
                            "      <td>0.593</td>\n",
                            "      <td>0.658</td>\n",
                            "      <td>0.020</td>\n",
                            "      <td>{'priors': None, 'var_smoothing': 1.3989258947...</td>\n",
                            "    </tr>\n",
                            "    <tr>\n",
                            "      <th>1</th>\n",
                            "      <td>lr</td>\n",
                            "      <td>0.682</td>\n",
                            "      <td>0.545</td>\n",
                            "      <td>0.329</td>\n",
                            "      <td>0.352</td>\n",
                            "      <td>0.627</td>\n",
                            "      <td>0.153</td>\n",
                            "      <td>{'C': 3.9047401417868413, 'class_weight': None...</td>\n",
                            "    </tr>\n",
                            "  </tbody>\n",
                            "</table>\n",
                            "</div>"
                        ],
                        "text/plain": [
                            "  algorithm  accuracy  precision  recall     f1  roc_auc  Fit time (s)  \\\n",
                            "0        nb     0.599      0.501   0.859  0.593    0.658         0.020   \n",
                            "1        lr     0.682      0.545   0.329  0.352    0.627         0.153   \n",
                            "\n",
                            "                                         hyperparams  \n",
                            "0  {'priors': None, 'var_smoothing': 1.3989258947...  \n",
                            "1  {'C': 3.9047401417868413, 'class_weight': None...  "
                        ]
                    },
                    "execution_count": 12,
                    "metadata": {},
                    "output_type": "execute_result"
                }
            ],
            "source": [
                "compare_df_final, model_list, opt_history_dict = (\n",
                "        pt.modelling.tune_hyperparams(\n",
                "               setup=setup,\n",
                "               include=[\"nb\", \"lr\"],\n",
                "               optimize=\"f1\",\n",
                "               n_trials=20,\n",
                "               feature_list=best_feature_list,\n",
                "               return_models=True,\n",
                "        )\n",
                ")\n",
                "compare_df_final"
            ]
        },
        {
            "cell_type": "code",
            "execution_count": 13,
            "metadata": {},
            "outputs": [
                {
                    "data": {
                        "text/html": [
                            "<style>#sk-container-id-1 {color: black;background-color: white;}#sk-container-id-1 pre{padding: 0;}#sk-container-id-1 div.sk-toggleable {background-color: white;}#sk-container-id-1 label.sk-toggleable__label {cursor: pointer;display: block;width: 100%;margin-bottom: 0;padding: 0.3em;box-sizing: border-box;text-align: center;}#sk-container-id-1 label.sk-toggleable__label-arrow:before {content: \"▸\";float: left;margin-right: 0.25em;color: #696969;}#sk-container-id-1 label.sk-toggleable__label-arrow:hover:before {color: black;}#sk-container-id-1 div.sk-estimator:hover label.sk-toggleable__label-arrow:before {color: black;}#sk-container-id-1 div.sk-toggleable__content {max-height: 0;max-width: 0;overflow: hidden;text-align: left;background-color: #f0f8ff;}#sk-container-id-1 div.sk-toggleable__content pre {margin: 0.2em;color: black;border-radius: 0.25em;background-color: #f0f8ff;}#sk-container-id-1 input.sk-toggleable__control:checked~div.sk-toggleable__content {max-height: 200px;max-width: 100%;overflow: auto;}#sk-container-id-1 input.sk-toggleable__control:checked~label.sk-toggleable__label-arrow:before {content: \"▾\";}#sk-container-id-1 div.sk-estimator input.sk-toggleable__control:checked~label.sk-toggleable__label {background-color: #d4ebff;}#sk-container-id-1 div.sk-label input.sk-toggleable__control:checked~label.sk-toggleable__label {background-color: #d4ebff;}#sk-container-id-1 input.sk-hidden--visually {border: 0;clip: rect(1px 1px 1px 1px);clip: rect(1px, 1px, 1px, 1px);height: 1px;margin: -1px;overflow: hidden;padding: 0;position: absolute;width: 1px;}#sk-container-id-1 div.sk-estimator {font-family: monospace;background-color: #f0f8ff;border: 1px dotted black;border-radius: 0.25em;box-sizing: border-box;margin-bottom: 0.5em;}#sk-container-id-1 div.sk-estimator:hover {background-color: #d4ebff;}#sk-container-id-1 div.sk-parallel-item::after {content: \"\";width: 100%;border-bottom: 1px solid gray;flex-grow: 1;}#sk-container-id-1 div.sk-label:hover label.sk-toggleable__label {background-color: #d4ebff;}#sk-container-id-1 div.sk-serial::before {content: \"\";position: absolute;border-left: 1px solid gray;box-sizing: border-box;top: 0;bottom: 0;left: 50%;z-index: 0;}#sk-container-id-1 div.sk-serial {display: flex;flex-direction: column;align-items: center;background-color: white;padding-right: 0.2em;padding-left: 0.2em;position: relative;}#sk-container-id-1 div.sk-item {position: relative;z-index: 1;}#sk-container-id-1 div.sk-parallel {display: flex;align-items: stretch;justify-content: center;background-color: white;position: relative;}#sk-container-id-1 div.sk-item::before, #sk-container-id-1 div.sk-parallel-item::before {content: \"\";position: absolute;border-left: 1px solid gray;box-sizing: border-box;top: 0;bottom: 0;left: 50%;z-index: -1;}#sk-container-id-1 div.sk-parallel-item {display: flex;flex-direction: column;z-index: 1;position: relative;background-color: white;}#sk-container-id-1 div.sk-parallel-item:first-child::after {align-self: flex-end;width: 50%;}#sk-container-id-1 div.sk-parallel-item:last-child::after {align-self: flex-start;width: 50%;}#sk-container-id-1 div.sk-parallel-item:only-child::after {width: 0;}#sk-container-id-1 div.sk-dashed-wrapped {border: 1px dashed gray;margin: 0 0.4em 0.5em 0.4em;box-sizing: border-box;padding-bottom: 0.4em;background-color: white;}#sk-container-id-1 div.sk-label label {font-family: monospace;font-weight: bold;display: inline-block;line-height: 1.2em;}#sk-container-id-1 div.sk-label-container {text-align: center;}#sk-container-id-1 div.sk-container {/* jupyter's `normalize.less` sets `[hidden] { display: none; }` but bootstrap.min.css set `[hidden] { display: none !important; }` so we also need the `!important` here to be able to override the default hidden behavior on the sphinx rendered scikit-learn.org. See: https://github.com/scikit-learn/scikit-learn/issues/21755 */display: inline-block !important;position: relative;}#sk-container-id-1 div.sk-text-repr-fallback {display: none;}</style><div id=\"sk-container-id-1\" class=\"sk-top-container\"><div class=\"sk-text-repr-fallback\"><pre>Pipeline(steps=[(&#x27;scaler&#x27;, CustomStandardScaler(numeric_cols=[&#x27;deg-malig&#x27;])),\n",
                            "                (&#x27;ohe&#x27;, OHE())])</pre><b>In a Jupyter environment, please rerun this cell to show the HTML representation or trust the notebook. <br />On GitHub, the HTML representation is unable to render, please try loading this page with nbviewer.org.</b></div><div class=\"sk-container\" hidden><div class=\"sk-item sk-dashed-wrapped\"><div class=\"sk-label-container\"><div class=\"sk-label sk-toggleable\"><input class=\"sk-toggleable__control sk-hidden--visually\" id=\"sk-estimator-id-1\" type=\"checkbox\" ><label for=\"sk-estimator-id-1\" class=\"sk-toggleable__label sk-toggleable__label-arrow\">Pipeline</label><div class=\"sk-toggleable__content\"><pre>Pipeline(steps=[(&#x27;scaler&#x27;, CustomStandardScaler(numeric_cols=[&#x27;deg-malig&#x27;])),\n",
                            "                (&#x27;ohe&#x27;, OHE())])</pre></div></div></div><div class=\"sk-serial\"><div class=\"sk-item\"><div class=\"sk-estimator sk-toggleable\"><input class=\"sk-toggleable__control sk-hidden--visually\" id=\"sk-estimator-id-2\" type=\"checkbox\" ><label for=\"sk-estimator-id-2\" class=\"sk-toggleable__label sk-toggleable__label-arrow\">CustomStandardScaler</label><div class=\"sk-toggleable__content\"><pre>CustomStandardScaler(numeric_cols=[&#x27;deg-malig&#x27;])</pre></div></div></div><div class=\"sk-item\"><div class=\"sk-estimator sk-toggleable\"><input class=\"sk-toggleable__control sk-hidden--visually\" id=\"sk-estimator-id-3\" type=\"checkbox\" ><label for=\"sk-estimator-id-3\" class=\"sk-toggleable__label sk-toggleable__label-arrow\">OHE</label><div class=\"sk-toggleable__content\"><pre>OHE()</pre></div></div></div></div></div></div></div>"
                        ],
                        "text/plain": [
                            "Pipeline(steps=[('scaler', CustomStandardScaler(numeric_cols=['deg-malig'])),\n",
                            "                ('ohe', OHE())])"
                        ]
                    },
                    "execution_count": 13,
                    "metadata": {},
                    "output_type": "execute_result"
                }
            ],
            "source": [
                "setup.prep_pipe"
            ]
        },
        {
            "cell_type": "code",
            "execution_count": 14,
            "metadata": {},
            "outputs": [
                {
                    "name": "stderr",
                    "output_type": "stream",
                    "text": [
                        "\u001b[32m[I 2022-12-14 12:06:05]\u001b[0m Exported modelling pipeline to 'model_2022-12-14_nb_#1.joblib'\u001b[0m\n"
                    ]
                }
            ],
            "source": [
                "pt.modelling.export_model(\n",
                "        setup=setup,\n",
                "        model=model_list[0],\n",
                "        target_dir=\"./\",\n",
                "    )"
            ]
        }
    ],
    "metadata": {
        "kernelspec": {
            "display_name": "Python 3.9.13 ('.venv': poetry)",
            "language": "python",
            "name": "python3"
        },
        "language_info": {
            "codemirror_mode": {
                "name": "ipython",
                "version": 3
            },
            "file_extension": ".py",
            "mimetype": "text/x-python",
            "name": "python",
            "nbconvert_exporter": "python",
            "pygments_lexer": "ipython3",
            "version": "3.9.13"
        },
        "orig_nbformat": 4,
        "vscode": {
            "interpreter": {
                "hash": "b885852e26c7064962dac1b68bb792bbb99a8e2dbec080500e57a38605a5fe7f"
            }
        }
    },
    "nbformat": 4,
    "nbformat_minor": 2
}

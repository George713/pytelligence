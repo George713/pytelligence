{
    "cells": [
        {
            "cell_type": "code",
            "execution_count": 1,
            "metadata": {},
            "outputs": [
                {
                    "name": "stderr",
                    "output_type": "stream",
                    "text": [
                        "/home/george/Desktop/pytelligence/.venv/lib/python3.9/site-packages/tqdm/auto.py:22: TqdmWarning: IProgress not found. Please update jupyter and ipywidgets. See https://ipywidgets.readthedocs.io/en/stable/user_install.html\n",
                        "  from .autonotebook import tqdm as notebook_tqdm\n"
                    ]
                }
            ],
            "source": [
                "from sklearn.datasets import load_breast_cancer\n",
                "import pandas as pd\n",
                "import seaborn as sns\n",
                "\n",
                "import pytelligence as pt\n",
                "\n",
                "%load_ext autoreload\n",
                "%autoreload 2\n",
                "\n",
                "pd.options.display.max_columns = 2000\n",
                "\n",
                "sns.set_theme()"
            ]
        },
        {
            "cell_type": "code",
            "execution_count": 2,
            "metadata": {},
            "outputs": [
                {
                    "data": {
                        "text/html": [
                            "<div>\n",
                            "<style scoped>\n",
                            "    .dataframe tbody tr th:only-of-type {\n",
                            "        vertical-align: middle;\n",
                            "    }\n",
                            "\n",
                            "    .dataframe tbody tr th {\n",
                            "        vertical-align: top;\n",
                            "    }\n",
                            "\n",
                            "    .dataframe thead th {\n",
                            "        text-align: right;\n",
                            "    }\n",
                            "</style>\n",
                            "<table border=\"1\" class=\"dataframe\">\n",
                            "  <thead>\n",
                            "    <tr style=\"text-align: right;\">\n",
                            "      <th></th>\n",
                            "      <th>class</th>\n",
                            "      <th>age</th>\n",
                            "      <th>menopause</th>\n",
                            "      <th>tumor-size</th>\n",
                            "      <th>inv-nodes</th>\n",
                            "      <th>node-caps</th>\n",
                            "      <th>deg-malig</th>\n",
                            "      <th>breast</th>\n",
                            "      <th>breast-quad</th>\n",
                            "      <th>irradiat</th>\n",
                            "    </tr>\n",
                            "  </thead>\n",
                            "  <tbody>\n",
                            "    <tr>\n",
                            "      <th>0</th>\n",
                            "      <td>no-recurrence-events</td>\n",
                            "      <td>30-39</td>\n",
                            "      <td>premeno</td>\n",
                            "      <td>30-34</td>\n",
                            "      <td>0-2</td>\n",
                            "      <td>no</td>\n",
                            "      <td>3</td>\n",
                            "      <td>left</td>\n",
                            "      <td>left_low</td>\n",
                            "      <td>no</td>\n",
                            "    </tr>\n",
                            "    <tr>\n",
                            "      <th>1</th>\n",
                            "      <td>no-recurrence-events</td>\n",
                            "      <td>40-49</td>\n",
                            "      <td>premeno</td>\n",
                            "      <td>20-24</td>\n",
                            "      <td>0-2</td>\n",
                            "      <td>no</td>\n",
                            "      <td>2</td>\n",
                            "      <td>right</td>\n",
                            "      <td>right_up</td>\n",
                            "      <td>no</td>\n",
                            "    </tr>\n",
                            "    <tr>\n",
                            "      <th>2</th>\n",
                            "      <td>no-recurrence-events</td>\n",
                            "      <td>40-49</td>\n",
                            "      <td>premeno</td>\n",
                            "      <td>20-24</td>\n",
                            "      <td>0-2</td>\n",
                            "      <td>no</td>\n",
                            "      <td>2</td>\n",
                            "      <td>left</td>\n",
                            "      <td>left_low</td>\n",
                            "      <td>no</td>\n",
                            "    </tr>\n",
                            "    <tr>\n",
                            "      <th>3</th>\n",
                            "      <td>no-recurrence-events</td>\n",
                            "      <td>60-69</td>\n",
                            "      <td>ge40</td>\n",
                            "      <td>15-19</td>\n",
                            "      <td>0-2</td>\n",
                            "      <td>no</td>\n",
                            "      <td>2</td>\n",
                            "      <td>right</td>\n",
                            "      <td>left_up</td>\n",
                            "      <td>no</td>\n",
                            "    </tr>\n",
                            "    <tr>\n",
                            "      <th>4</th>\n",
                            "      <td>no-recurrence-events</td>\n",
                            "      <td>40-49</td>\n",
                            "      <td>premeno</td>\n",
                            "      <td>0-4</td>\n",
                            "      <td>0-2</td>\n",
                            "      <td>no</td>\n",
                            "      <td>2</td>\n",
                            "      <td>right</td>\n",
                            "      <td>right_low</td>\n",
                            "      <td>no</td>\n",
                            "    </tr>\n",
                            "  </tbody>\n",
                            "</table>\n",
                            "</div>"
                        ],
                        "text/plain": [
                            "                  class    age menopause tumor-size inv-nodes node-caps  \\\n",
                            "0  no-recurrence-events  30-39   premeno      30-34       0-2        no   \n",
                            "1  no-recurrence-events  40-49   premeno      20-24       0-2        no   \n",
                            "2  no-recurrence-events  40-49   premeno      20-24       0-2        no   \n",
                            "3  no-recurrence-events  60-69      ge40      15-19       0-2        no   \n",
                            "4  no-recurrence-events  40-49   premeno        0-4       0-2        no   \n",
                            "\n",
                            "   deg-malig breast breast-quad irradiat  \n",
                            "0          3   left    left_low       no  \n",
                            "1          2  right    right_up       no  \n",
                            "2          2   left    left_low       no  \n",
                            "3          2  right     left_up       no  \n",
                            "4          2  right   right_low       no  "
                        ]
                    },
                    "execution_count": 2,
                    "metadata": {},
                    "output_type": "execute_result"
                }
            ],
            "source": [
                "df = pd.read_csv(\n",
                "    \"./data/breast_cancer_cat/breast-cancer.data\",\n",
                "    names=[\n",
                "        \"class\",\n",
                "        \"age\",\n",
                "        \"menopause\",\n",
                "        \"tumor-size\",\n",
                "        \"inv-nodes\",\n",
                "        \"node-caps\",\n",
                "        \"deg-malig\",\n",
                "        \"breast\",\n",
                "        \"breast-quad\",\n",
                "        \"irradiat\",\n",
                "    ],\n",
                ")\n",
                "df.head()"
            ]
        },
        {
            "cell_type": "code",
            "execution_count": 3,
            "metadata": {},
            "outputs": [],
            "source": [
                "# pt.feat_analysis.get_distribution(df)"
            ]
        },
        {
            "cell_type": "code",
            "execution_count": 4,
            "metadata": {},
            "outputs": [],
            "source": [
                "# sns.jointplot(data=df, x=\"deg-malig\", y=\"breast\", hue=\"class\")"
            ]
        },
        {
            "cell_type": "markdown",
            "metadata": {},
            "source": [
                "## Training"
            ]
        },
        {
            "cell_type": "code",
            "execution_count": 5,
            "metadata": {},
            "outputs": [
                {
                    "data": {
                        "text/plain": [
                            "Index(['class', 'age', 'menopause', 'tumor-size', 'inv-nodes', 'node-caps',\n",
                            "       'deg-malig', 'breast', 'breast-quad', 'irradiat'],\n",
                            "      dtype='object')"
                        ]
                    },
                    "execution_count": 5,
                    "metadata": {},
                    "output_type": "execute_result"
                }
            ],
            "source": [
                "df.columns"
            ]
        },
        {
            "cell_type": "code",
            "execution_count": 6,
            "metadata": {},
            "outputs": [
                {
                    "name": "stderr",
                    "output_type": "stream",
                    "text": [
                        "\u001b[32m[I 2022-10-01 13:46:57]\u001b[0m %%% PREPARING DATA\u001b[0m\n",
                        "\u001b[32m[I 2022-10-01 13:46:57]\u001b[0m Read ./config_bc_cat.yml: \n",
                        " {'modelling': {'target_clf': 'class', 'numeric_cols': ['deg-malig'], 'categorical_cols': ['age', 'menopause', 'tumor-size', 'inv-nodes', 'node-caps', 'breast', 'breast-quad', 'irradiat'], 'feature_scaling': False}}\u001b[0m\n",
                        "\u001b[32m[I 2022-10-01 13:46:57]\u001b[0m Created preprocessing pipeline with following steps: ['ohe']\u001b[0m\n",
                        "\u001b[32m[I 2022-10-01 13:46:57]\u001b[0m Applied preprocessing transformations\u001b[0m\n",
                        "\u001b[32m[I 2022-10-01 13:46:57]\u001b[0m Encoded target variable using classes: [(0, 'no-recurrence-events'), (1, 'recurrence-events')]\u001b[0m\n"
                    ]
                }
            ],
            "source": [
                "setup, X_sample, y_sample = pt.modelling.prepare_data(\n",
                "    train_data=df,\n",
                "    config_path=\"./config_bc_cat.yml\",\n",
                ")"
            ]
        },
        {
            "cell_type": "code",
            "execution_count": 7,
            "metadata": {},
            "outputs": [
                {
                    "data": {
                        "text/html": [
                            "<div>\n",
                            "<style scoped>\n",
                            "    .dataframe tbody tr th:only-of-type {\n",
                            "        vertical-align: middle;\n",
                            "    }\n",
                            "\n",
                            "    .dataframe tbody tr th {\n",
                            "        vertical-align: top;\n",
                            "    }\n",
                            "\n",
                            "    .dataframe thead th {\n",
                            "        text-align: right;\n",
                            "    }\n",
                            "</style>\n",
                            "<table border=\"1\" class=\"dataframe\">\n",
                            "  <thead>\n",
                            "    <tr style=\"text-align: right;\">\n",
                            "      <th></th>\n",
                            "      <th>deg-malig</th>\n",
                            "      <th>age_20-29</th>\n",
                            "      <th>age_30-39</th>\n",
                            "      <th>age_40-49</th>\n",
                            "      <th>age_50-59</th>\n",
                            "      <th>age_60-69</th>\n",
                            "      <th>age_70-79</th>\n",
                            "      <th>menopause_ge40</th>\n",
                            "      <th>menopause_lt40</th>\n",
                            "      <th>menopause_premeno</th>\n",
                            "      <th>tumor-size_0-4</th>\n",
                            "      <th>tumor-size_10-14</th>\n",
                            "      <th>tumor-size_15-19</th>\n",
                            "      <th>tumor-size_20-24</th>\n",
                            "      <th>tumor-size_25-29</th>\n",
                            "      <th>tumor-size_30-34</th>\n",
                            "      <th>tumor-size_35-39</th>\n",
                            "      <th>tumor-size_40-44</th>\n",
                            "      <th>tumor-size_45-49</th>\n",
                            "      <th>tumor-size_5-9</th>\n",
                            "      <th>tumor-size_50-54</th>\n",
                            "      <th>inv-nodes_0-2</th>\n",
                            "      <th>inv-nodes_12-14</th>\n",
                            "      <th>inv-nodes_15-17</th>\n",
                            "      <th>inv-nodes_24-26</th>\n",
                            "      <th>inv-nodes_3-5</th>\n",
                            "      <th>inv-nodes_6-8</th>\n",
                            "      <th>inv-nodes_9-11</th>\n",
                            "      <th>node-caps_?</th>\n",
                            "      <th>node-caps_no</th>\n",
                            "      <th>node-caps_yes</th>\n",
                            "      <th>breast_left</th>\n",
                            "      <th>breast_right</th>\n",
                            "      <th>breast-quad_?</th>\n",
                            "      <th>breast-quad_central</th>\n",
                            "      <th>breast-quad_left_low</th>\n",
                            "      <th>breast-quad_left_up</th>\n",
                            "      <th>breast-quad_right_low</th>\n",
                            "      <th>breast-quad_right_up</th>\n",
                            "      <th>irradiat_no</th>\n",
                            "      <th>irradiat_yes</th>\n",
                            "    </tr>\n",
                            "  </thead>\n",
                            "  <tbody>\n",
                            "    <tr>\n",
                            "      <th>0</th>\n",
                            "      <td>3</td>\n",
                            "      <td>0</td>\n",
                            "      <td>1</td>\n",
                            "      <td>0</td>\n",
                            "      <td>0</td>\n",
                            "      <td>0</td>\n",
                            "      <td>0</td>\n",
                            "      <td>0</td>\n",
                            "      <td>0</td>\n",
                            "      <td>1</td>\n",
                            "      <td>0</td>\n",
                            "      <td>0</td>\n",
                            "      <td>0</td>\n",
                            "      <td>0</td>\n",
                            "      <td>0</td>\n",
                            "      <td>1</td>\n",
                            "      <td>0</td>\n",
                            "      <td>0</td>\n",
                            "      <td>0</td>\n",
                            "      <td>0</td>\n",
                            "      <td>0</td>\n",
                            "      <td>1</td>\n",
                            "      <td>0</td>\n",
                            "      <td>0</td>\n",
                            "      <td>0</td>\n",
                            "      <td>0</td>\n",
                            "      <td>0</td>\n",
                            "      <td>0</td>\n",
                            "      <td>0</td>\n",
                            "      <td>1</td>\n",
                            "      <td>0</td>\n",
                            "      <td>1</td>\n",
                            "      <td>0</td>\n",
                            "      <td>0</td>\n",
                            "      <td>0</td>\n",
                            "      <td>1</td>\n",
                            "      <td>0</td>\n",
                            "      <td>0</td>\n",
                            "      <td>0</td>\n",
                            "      <td>1</td>\n",
                            "      <td>0</td>\n",
                            "    </tr>\n",
                            "    <tr>\n",
                            "      <th>1</th>\n",
                            "      <td>2</td>\n",
                            "      <td>0</td>\n",
                            "      <td>0</td>\n",
                            "      <td>1</td>\n",
                            "      <td>0</td>\n",
                            "      <td>0</td>\n",
                            "      <td>0</td>\n",
                            "      <td>0</td>\n",
                            "      <td>0</td>\n",
                            "      <td>1</td>\n",
                            "      <td>0</td>\n",
                            "      <td>0</td>\n",
                            "      <td>0</td>\n",
                            "      <td>1</td>\n",
                            "      <td>0</td>\n",
                            "      <td>0</td>\n",
                            "      <td>0</td>\n",
                            "      <td>0</td>\n",
                            "      <td>0</td>\n",
                            "      <td>0</td>\n",
                            "      <td>0</td>\n",
                            "      <td>1</td>\n",
                            "      <td>0</td>\n",
                            "      <td>0</td>\n",
                            "      <td>0</td>\n",
                            "      <td>0</td>\n",
                            "      <td>0</td>\n",
                            "      <td>0</td>\n",
                            "      <td>0</td>\n",
                            "      <td>1</td>\n",
                            "      <td>0</td>\n",
                            "      <td>0</td>\n",
                            "      <td>1</td>\n",
                            "      <td>0</td>\n",
                            "      <td>0</td>\n",
                            "      <td>0</td>\n",
                            "      <td>0</td>\n",
                            "      <td>0</td>\n",
                            "      <td>1</td>\n",
                            "      <td>1</td>\n",
                            "      <td>0</td>\n",
                            "    </tr>\n",
                            "    <tr>\n",
                            "      <th>2</th>\n",
                            "      <td>2</td>\n",
                            "      <td>0</td>\n",
                            "      <td>0</td>\n",
                            "      <td>1</td>\n",
                            "      <td>0</td>\n",
                            "      <td>0</td>\n",
                            "      <td>0</td>\n",
                            "      <td>0</td>\n",
                            "      <td>0</td>\n",
                            "      <td>1</td>\n",
                            "      <td>0</td>\n",
                            "      <td>0</td>\n",
                            "      <td>0</td>\n",
                            "      <td>1</td>\n",
                            "      <td>0</td>\n",
                            "      <td>0</td>\n",
                            "      <td>0</td>\n",
                            "      <td>0</td>\n",
                            "      <td>0</td>\n",
                            "      <td>0</td>\n",
                            "      <td>0</td>\n",
                            "      <td>1</td>\n",
                            "      <td>0</td>\n",
                            "      <td>0</td>\n",
                            "      <td>0</td>\n",
                            "      <td>0</td>\n",
                            "      <td>0</td>\n",
                            "      <td>0</td>\n",
                            "      <td>0</td>\n",
                            "      <td>1</td>\n",
                            "      <td>0</td>\n",
                            "      <td>1</td>\n",
                            "      <td>0</td>\n",
                            "      <td>0</td>\n",
                            "      <td>0</td>\n",
                            "      <td>1</td>\n",
                            "      <td>0</td>\n",
                            "      <td>0</td>\n",
                            "      <td>0</td>\n",
                            "      <td>1</td>\n",
                            "      <td>0</td>\n",
                            "    </tr>\n",
                            "    <tr>\n",
                            "      <th>3</th>\n",
                            "      <td>2</td>\n",
                            "      <td>0</td>\n",
                            "      <td>0</td>\n",
                            "      <td>0</td>\n",
                            "      <td>0</td>\n",
                            "      <td>1</td>\n",
                            "      <td>0</td>\n",
                            "      <td>1</td>\n",
                            "      <td>0</td>\n",
                            "      <td>0</td>\n",
                            "      <td>0</td>\n",
                            "      <td>0</td>\n",
                            "      <td>1</td>\n",
                            "      <td>0</td>\n",
                            "      <td>0</td>\n",
                            "      <td>0</td>\n",
                            "      <td>0</td>\n",
                            "      <td>0</td>\n",
                            "      <td>0</td>\n",
                            "      <td>0</td>\n",
                            "      <td>0</td>\n",
                            "      <td>1</td>\n",
                            "      <td>0</td>\n",
                            "      <td>0</td>\n",
                            "      <td>0</td>\n",
                            "      <td>0</td>\n",
                            "      <td>0</td>\n",
                            "      <td>0</td>\n",
                            "      <td>0</td>\n",
                            "      <td>1</td>\n",
                            "      <td>0</td>\n",
                            "      <td>0</td>\n",
                            "      <td>1</td>\n",
                            "      <td>0</td>\n",
                            "      <td>0</td>\n",
                            "      <td>0</td>\n",
                            "      <td>1</td>\n",
                            "      <td>0</td>\n",
                            "      <td>0</td>\n",
                            "      <td>1</td>\n",
                            "      <td>0</td>\n",
                            "    </tr>\n",
                            "    <tr>\n",
                            "      <th>4</th>\n",
                            "      <td>2</td>\n",
                            "      <td>0</td>\n",
                            "      <td>0</td>\n",
                            "      <td>1</td>\n",
                            "      <td>0</td>\n",
                            "      <td>0</td>\n",
                            "      <td>0</td>\n",
                            "      <td>0</td>\n",
                            "      <td>0</td>\n",
                            "      <td>1</td>\n",
                            "      <td>1</td>\n",
                            "      <td>0</td>\n",
                            "      <td>0</td>\n",
                            "      <td>0</td>\n",
                            "      <td>0</td>\n",
                            "      <td>0</td>\n",
                            "      <td>0</td>\n",
                            "      <td>0</td>\n",
                            "      <td>0</td>\n",
                            "      <td>0</td>\n",
                            "      <td>0</td>\n",
                            "      <td>1</td>\n",
                            "      <td>0</td>\n",
                            "      <td>0</td>\n",
                            "      <td>0</td>\n",
                            "      <td>0</td>\n",
                            "      <td>0</td>\n",
                            "      <td>0</td>\n",
                            "      <td>0</td>\n",
                            "      <td>1</td>\n",
                            "      <td>0</td>\n",
                            "      <td>0</td>\n",
                            "      <td>1</td>\n",
                            "      <td>0</td>\n",
                            "      <td>0</td>\n",
                            "      <td>0</td>\n",
                            "      <td>0</td>\n",
                            "      <td>1</td>\n",
                            "      <td>0</td>\n",
                            "      <td>1</td>\n",
                            "      <td>0</td>\n",
                            "    </tr>\n",
                            "  </tbody>\n",
                            "</table>\n",
                            "</div>"
                        ],
                        "text/plain": [
                            "   deg-malig  age_20-29  age_30-39  age_40-49  age_50-59  age_60-69  \\\n",
                            "0          3          0          1          0          0          0   \n",
                            "1          2          0          0          1          0          0   \n",
                            "2          2          0          0          1          0          0   \n",
                            "3          2          0          0          0          0          1   \n",
                            "4          2          0          0          1          0          0   \n",
                            "\n",
                            "   age_70-79  menopause_ge40  menopause_lt40  menopause_premeno  \\\n",
                            "0          0               0               0                  1   \n",
                            "1          0               0               0                  1   \n",
                            "2          0               0               0                  1   \n",
                            "3          0               1               0                  0   \n",
                            "4          0               0               0                  1   \n",
                            "\n",
                            "   tumor-size_0-4  tumor-size_10-14  tumor-size_15-19  tumor-size_20-24  \\\n",
                            "0               0                 0                 0                 0   \n",
                            "1               0                 0                 0                 1   \n",
                            "2               0                 0                 0                 1   \n",
                            "3               0                 0                 1                 0   \n",
                            "4               1                 0                 0                 0   \n",
                            "\n",
                            "   tumor-size_25-29  tumor-size_30-34  tumor-size_35-39  tumor-size_40-44  \\\n",
                            "0                 0                 1                 0                 0   \n",
                            "1                 0                 0                 0                 0   \n",
                            "2                 0                 0                 0                 0   \n",
                            "3                 0                 0                 0                 0   \n",
                            "4                 0                 0                 0                 0   \n",
                            "\n",
                            "   tumor-size_45-49  tumor-size_5-9  tumor-size_50-54  inv-nodes_0-2  \\\n",
                            "0                 0               0                 0              1   \n",
                            "1                 0               0                 0              1   \n",
                            "2                 0               0                 0              1   \n",
                            "3                 0               0                 0              1   \n",
                            "4                 0               0                 0              1   \n",
                            "\n",
                            "   inv-nodes_12-14  inv-nodes_15-17  inv-nodes_24-26  inv-nodes_3-5  \\\n",
                            "0                0                0                0              0   \n",
                            "1                0                0                0              0   \n",
                            "2                0                0                0              0   \n",
                            "3                0                0                0              0   \n",
                            "4                0                0                0              0   \n",
                            "\n",
                            "   inv-nodes_6-8  inv-nodes_9-11  node-caps_?  node-caps_no  node-caps_yes  \\\n",
                            "0              0               0            0             1              0   \n",
                            "1              0               0            0             1              0   \n",
                            "2              0               0            0             1              0   \n",
                            "3              0               0            0             1              0   \n",
                            "4              0               0            0             1              0   \n",
                            "\n",
                            "   breast_left  breast_right  breast-quad_?  breast-quad_central  \\\n",
                            "0            1             0              0                    0   \n",
                            "1            0             1              0                    0   \n",
                            "2            1             0              0                    0   \n",
                            "3            0             1              0                    0   \n",
                            "4            0             1              0                    0   \n",
                            "\n",
                            "   breast-quad_left_low  breast-quad_left_up  breast-quad_right_low  \\\n",
                            "0                     1                    0                      0   \n",
                            "1                     0                    0                      0   \n",
                            "2                     1                    0                      0   \n",
                            "3                     0                    1                      0   \n",
                            "4                     0                    0                      1   \n",
                            "\n",
                            "   breast-quad_right_up  irradiat_no  irradiat_yes  \n",
                            "0                     0            1             0  \n",
                            "1                     1            1             0  \n",
                            "2                     0            1             0  \n",
                            "3                     0            1             0  \n",
                            "4                     0            1             0  "
                        ]
                    },
                    "execution_count": 7,
                    "metadata": {},
                    "output_type": "execute_result"
                }
            ],
            "source": [
                "X_sample"
            ]
        },
        {
            "cell_type": "code",
            "execution_count": 8,
            "metadata": {},
            "outputs": [
                {
                    "name": "stderr",
                    "output_type": "stream",
                    "text": [
                        "\u001b[32m[I 2022-10-01 13:46:58]\u001b[0m %%% COMPARING ALGORITHMS\u001b[0m\n",
                        "\u001b[33m[W 2022-10-01 13:46:58]\u001b[0m The algorithms ['lr'] work suboptimally without scaled features. Consider turning it on within the config and rerun pt.modelling.prepare_data().\u001b[0m\n",
                        "\u001b[32m[I 2022-10-01 13:46:58]\u001b[0m Evaluating lr...\u001b[0m\n",
                        "\u001b[32m[I 2022-10-01 13:47:13]\u001b[0m Evaluating nb...\u001b[0m\n"
                    ]
                },
                {
                    "data": {
                        "text/html": [
                            "<div>\n",
                            "<style scoped>\n",
                            "    .dataframe tbody tr th:only-of-type {\n",
                            "        vertical-align: middle;\n",
                            "    }\n",
                            "\n",
                            "    .dataframe tbody tr th {\n",
                            "        vertical-align: top;\n",
                            "    }\n",
                            "\n",
                            "    .dataframe thead th {\n",
                            "        text-align: right;\n",
                            "    }\n",
                            "</style>\n",
                            "<table border=\"1\" class=\"dataframe\">\n",
                            "  <thead>\n",
                            "    <tr style=\"text-align: right;\">\n",
                            "      <th></th>\n",
                            "      <th>algorithm</th>\n",
                            "      <th>accuracy</th>\n",
                            "      <th>precision</th>\n",
                            "      <th>recall</th>\n",
                            "      <th>f1</th>\n",
                            "      <th>roc_auc</th>\n",
                            "      <th>Fit time (s)</th>\n",
                            "    </tr>\n",
                            "  </thead>\n",
                            "  <tbody>\n",
                            "    <tr>\n",
                            "      <th>0</th>\n",
                            "      <td>nb</td>\n",
                            "      <td>0.549</td>\n",
                            "      <td>0.447</td>\n",
                            "      <td>0.835</td>\n",
                            "      <td>0.552</td>\n",
                            "      <td>0.659</td>\n",
                            "      <td>0.036</td>\n",
                            "    </tr>\n",
                            "    <tr>\n",
                            "      <th>1</th>\n",
                            "      <td>lr</td>\n",
                            "      <td>0.678</td>\n",
                            "      <td>0.527</td>\n",
                            "      <td>0.329</td>\n",
                            "      <td>0.338</td>\n",
                            "      <td>0.653</td>\n",
                            "      <td>0.139</td>\n",
                            "    </tr>\n",
                            "  </tbody>\n",
                            "</table>\n",
                            "</div>"
                        ],
                        "text/plain": [
                            "  algorithm  accuracy  precision  recall     f1  roc_auc  Fit time (s)\n",
                            "0        nb     0.549      0.447   0.835  0.552    0.659         0.036\n",
                            "1        lr     0.678      0.527   0.329  0.338    0.653         0.139"
                        ]
                    },
                    "execution_count": 8,
                    "metadata": {},
                    "output_type": "execute_result"
                }
            ],
            "source": [
                "compare_df, algo_list, model_list = pt.modelling.compare_algorithms(\n",
                "    setup=setup,\n",
                "    include=[\n",
                "        \"lr\",\n",
                "        # \"dt\",\n",
                "        # \"rf\",\n",
                "        # \"ridge\",\n",
                "        # \"perceptron\",\n",
                "        # \"passive-aggressive\",\n",
                "        # \"extratree\",\n",
                "        # \"extratrees\",\n",
                "        # \"knn\",\n",
                "        \"nb\",\n",
                "        # \"linearsvc\",\n",
                "        # \"rbfsvc\",\n",
                "    ],\n",
                "    sort=\"f1\",\n",
                "    return_models=True,\n",
                ")\n",
                "compare_df"
            ]
        },
        {
            "cell_type": "code",
            "execution_count": 9,
            "metadata": {},
            "outputs": [
                {
                    "data": {
                        "text/plain": [
                            "array(['recurrence-events', 'no-recurrence-events',\n",
                            "       'no-recurrence-events', 'no-recurrence-events',\n",
                            "       'no-recurrence-events'], dtype=object)"
                        ]
                    },
                    "execution_count": 9,
                    "metadata": {},
                    "output_type": "execute_result"
                }
            ],
            "source": [
                "le = setup.y_clf_encoder\n",
                "preds = model_list[-1].predict(X_sample)\n",
                "le.inverse_transform(preds)"
            ]
        },
        {
            "cell_type": "code",
            "execution_count": 10,
            "metadata": {},
            "outputs": [
                {
                    "name": "stdout",
                    "output_type": "stream",
                    "text": [
                        "(0, 'no-recurrence-events') (1, 'recurrence-events')\n"
                    ]
                }
            ],
            "source": [
                "print(*[(i, class_) for i, class_ in enumerate(le.classes_)])"
            ]
        },
        {
            "cell_type": "code",
            "execution_count": 12,
            "metadata": {},
            "outputs": [
                {
                    "name": "stderr",
                    "output_type": "stream",
                    "text": [
                        "\u001b[32m[I 2022-10-01 13:47:47]\u001b[0m %%% TUNING HYPERPARAMETERS\u001b[0m\n",
                        "\u001b[33m[W 2022-10-01 13:47:47]\u001b[0m The algorithms ['lr'] work suboptimally without scaled features. Consider turning it on within the config and rerun pt.modelling.prepare_data().\u001b[0m\n",
                        "\u001b[32m[I 2022-10-01 13:47:47]\u001b[0m Algorithms: ['lr', 'nb']\u001b[0m\n",
                        "\u001b[32m[I 2022-10-01 13:47:47]\u001b[0m Metric: f1\u001b[0m\n",
                        "\u001b[32m[I 2022-10-01 13:47:47]\u001b[0m Trials per algorithm: 50\u001b[0m\n",
                        "\u001b[32m[I 2022-10-01 13:47:48]\u001b[0m Trial 0 finished with value: 0.0000 and parameters: {'C': 0.00923877642726791, 'l1_ratio': 0.37240464230196757}. Best is trial 0 with value: 0.0000\u001b[0m\n",
                        "\u001b[32m[I 2022-10-01 13:47:48]\u001b[0m Trial 1 finished with value: 0.0000 and parameters: {'C': 0.00017099827427615987, 'l1_ratio': 0.11420957923715036}. Best is trial 0 with value: 0.0000\u001b[0m\n",
                        "\u001b[32m[I 2022-10-01 13:47:49]\u001b[0m Trial 2 finished with value: 0.0000 and parameters: {'C': 1.1759082244728964e-05, 'l1_ratio': 0.12367387822415088}. Best is trial 0 with value: 0.0000\u001b[0m\n",
                        "\u001b[32m[I 2022-10-01 13:47:49]\u001b[0m Trial 3 finished with value: 0.0000 and parameters: {'C': 0.0002733855817031065, 'l1_ratio': 0.03755892463089361}. Best is trial 0 with value: 0.0000\u001b[0m\n",
                        "\u001b[32m[I 2022-10-01 13:47:49]\u001b[0m Trial 4 finished with value: 0.0000 and parameters: {'C': 1.2897192455174333e-06, 'l1_ratio': 0.10015184443982672}. Best is trial 0 with value: 0.0000\u001b[0m\n",
                        "\u001b[32m[I 2022-10-01 13:47:50]\u001b[0m Trial 5 finished with value: 0.0000 and parameters: {'C': 3.337278703093155e-06, 'l1_ratio': 0.02987320604887478}. Best is trial 0 with value: 0.0000\u001b[0m\n",
                        "\u001b[32m[I 2022-10-01 13:47:51]\u001b[0m Trial 6 finished with value: 0.3980 and parameters: {'C': 2.9897746100913314, 'l1_ratio': 0.24969110304197595}. Best is trial 6 with value: 0.3980\u001b[0m\n",
                        "\u001b[32m[I 2022-10-01 13:47:51]\u001b[0m Trial 7 finished with value: 0.0000 and parameters: {'C': 0.0005739139281201255, 'l1_ratio': 0.8299462474437268}. Best is trial 6 with value: 0.3980\u001b[0m\n",
                        "\u001b[32m[I 2022-10-01 13:47:53]\u001b[0m Trial 8 finished with value: 0.3702 and parameters: {'C': 70.65983151626396, 'l1_ratio': 0.5182199206259255}. Best is trial 6 with value: 0.3980\u001b[0m\n",
                        "\u001b[32m[I 2022-10-01 13:47:53]\u001b[0m Trial 9 finished with value: 0.0000 and parameters: {'C': 0.0006353656985819568, 'l1_ratio': 0.189274571128227}. Best is trial 6 with value: 0.3980\u001b[0m\n",
                        "/home/george/Desktop/pytelligence/.venv/lib/python3.9/site-packages/sklearn/linear_model/_sag.py:350: ConvergenceWarning: The max_iter was reached which means the coef_ did not converge\n",
                        "  warnings.warn(\n",
                        "\u001b[32m[I 2022-10-01 13:47:54]\u001b[0m Trial 10 finished with value: 0.3872 and parameters: {'C': 11.205467857649106, 'l1_ratio': 0.6016158799540416}. Best is trial 6 with value: 0.3980\u001b[0m\n",
                        "/home/george/Desktop/pytelligence/.venv/lib/python3.9/site-packages/sklearn/linear_model/_sag.py:350: ConvergenceWarning: The max_iter was reached which means the coef_ did not converge\n",
                        "  warnings.warn(\n",
                        "\u001b[32m[I 2022-10-01 13:47:56]\u001b[0m Trial 11 finished with value: 0.3872 and parameters: {'C': 11.288958953382025, 'l1_ratio': 0.6155454604949222}. Best is trial 6 with value: 0.3980\u001b[0m\n",
                        "\u001b[32m[I 2022-10-01 13:47:56]\u001b[0m Trial 12 finished with value: 0.3698 and parameters: {'C': 0.9615021513270583, 'l1_ratio': 0.37534535797776725}. Best is trial 6 with value: 0.3980\u001b[0m\n",
                        "\u001b[32m[I 2022-10-01 13:47:57]\u001b[0m Trial 13 finished with value: 0.3019 and parameters: {'C': 0.4180180847153946, 'l1_ratio': 0.7701274026191018}. Best is trial 6 with value: 0.3980\u001b[0m\n",
                        "\u001b[32m[I 2022-10-01 13:47:57]\u001b[0m Trial 14 finished with value: 0.2596 and parameters: {'C': 0.39137182704984336, 'l1_ratio': 0.9987205625920101}. Best is trial 6 with value: 0.3980\u001b[0m\n",
                        "\u001b[32m[I 2022-10-01 13:47:59]\u001b[0m Trial 15 finished with value: 0.3906 and parameters: {'C': 7.760603028291353, 'l1_ratio': 0.31632144862576395}. Best is trial 6 with value: 0.3980\u001b[0m\n",
                        "\u001b[32m[I 2022-10-01 13:47:59]\u001b[0m Trial 16 finished with value: 0.0000 and parameters: {'C': 0.03310135404753302, 'l1_ratio': 0.2875712142821306}. Best is trial 6 with value: 0.3980\u001b[0m\n",
                        "\u001b[32m[I 2022-10-01 13:48:00]\u001b[0m Trial 17 finished with value: 0.3980 and parameters: {'C': 3.1158009490623306, 'l1_ratio': 0.3186643746603857}. Best is trial 6 with value: 0.3980\u001b[0m\n",
                        "\u001b[32m[I 2022-10-01 13:48:00]\u001b[0m Trial 18 finished with value: 0.1162 and parameters: {'C': 0.049105895418659375, 'l1_ratio': 0.25610472845587073}. Best is trial 6 with value: 0.3980\u001b[0m\n",
                        "\u001b[32m[I 2022-10-01 13:48:01]\u001b[0m Trial 19 finished with value: 0.3937 and parameters: {'C': 1.9094299345800996, 'l1_ratio': 0.5009677878563028}. Best is trial 6 with value: 0.3980\u001b[0m\n",
                        "\u001b[32m[I 2022-10-01 13:48:03]\u001b[0m Trial 20 finished with value: 0.3702 and parameters: {'C': 77.05705581096703, 'l1_ratio': 0.4158176813105088}. Best is trial 6 with value: 0.3980\u001b[0m\n",
                        "\u001b[32m[I 2022-10-01 13:48:04]\u001b[0m Trial 21 finished with value: 0.3937 and parameters: {'C': 2.1915322127031076, 'l1_ratio': 0.4821397017276411}. Best is trial 6 with value: 0.3980\u001b[0m\n",
                        "\u001b[32m[I 2022-10-01 13:48:05]\u001b[0m Trial 22 finished with value: 0.2340 and parameters: {'C': 0.1017537633158442, 'l1_ratio': 0.21792420022239817}. Best is trial 6 with value: 0.3980\u001b[0m\n",
                        "\u001b[32m[I 2022-10-01 13:48:05]\u001b[0m Trial 23 finished with value: 0.0000 and parameters: {'C': 0.006736295396964062, 'l1_ratio': 0.5040029422897272}. Best is trial 6 with value: 0.3980\u001b[0m\n",
                        "\u001b[32m[I 2022-10-01 13:48:07]\u001b[0m Trial 24 finished with value: 0.3869 and parameters: {'C': 3.8014320123742773, 'l1_ratio': 0.6332851852177033}. Best is trial 6 with value: 0.3980\u001b[0m\n",
                        "\u001b[32m[I 2022-10-01 13:48:07]\u001b[0m Trial 25 finished with value: 0.3045 and parameters: {'C': 0.2709281280780114, 'l1_ratio': 0.45145020945881476}. Best is trial 6 with value: 0.3980\u001b[0m\n",
                        "\u001b[32m[I 2022-10-01 13:48:08]\u001b[0m Trial 26 finished with value: 0.3687 and parameters: {'C': 24.005423596190788, 'l1_ratio': 0.32751778964019174}. Best is trial 6 with value: 0.3980\u001b[0m\n",
                        "\u001b[32m[I 2022-10-01 13:48:09]\u001b[0m Trial 27 finished with value: 0.3799 and parameters: {'C': 1.3782690351563156, 'l1_ratio': 0.1837505509630924}. Best is trial 6 with value: 0.3980\u001b[0m\n",
                        "/home/george/Desktop/pytelligence/.venv/lib/python3.9/site-packages/sklearn/linear_model/_sag.py:350: ConvergenceWarning: The max_iter was reached which means the coef_ did not converge\n",
                        "  warnings.warn(\n",
                        "\u001b[32m[I 2022-10-01 13:48:10]\u001b[0m Trial 28 finished with value: 0.3687 and parameters: {'C': 29.098656573363076, 'l1_ratio': 0.43059815163649207}. Best is trial 6 with value: 0.3980\u001b[0m\n",
                        "\u001b[32m[I 2022-10-01 13:48:11]\u001b[0m Trial 29 finished with value: 0.0000 and parameters: {'C': 0.004702697971470985, 'l1_ratio': 0.3515259470027726}. Best is trial 6 with value: 0.3980\u001b[0m\n",
                        "\u001b[32m[I 2022-10-01 13:48:12]\u001b[0m Trial 30 finished with value: 0.3869 and parameters: {'C': 3.7802556814187, 'l1_ratio': 0.6928844930927809}. Best is trial 6 with value: 0.3980\u001b[0m\n",
                        "\u001b[32m[I 2022-10-01 13:48:13]\u001b[0m Trial 31 finished with value: 0.3698 and parameters: {'C': 0.9637851698649292, 'l1_ratio': 0.5421004708058891}. Best is trial 6 with value: 0.3980\u001b[0m\n",
                        "\u001b[32m[I 2022-10-01 13:48:13]\u001b[0m Trial 32 finished with value: 0.3973 and parameters: {'C': 1.60884845208065, 'l1_ratio': 0.4692622879044235}. Best is trial 6 with value: 0.3980\u001b[0m\n",
                        "\u001b[32m[I 2022-10-01 13:48:14]\u001b[0m Trial 33 finished with value: 0.2097 and parameters: {'C': 0.12631568311938024, 'l1_ratio': 0.3896230165801063}. Best is trial 6 with value: 0.3980\u001b[0m\n",
                        "\u001b[32m[I 2022-10-01 13:48:14]\u001b[0m Trial 34 finished with value: 0.0000 and parameters: {'C': 0.02335063655252423, 'l1_ratio': 0.24605242354792298}. Best is trial 6 with value: 0.3980\u001b[0m\n",
                        "\u001b[32m[I 2022-10-01 13:48:15]\u001b[0m Trial 35 finished with value: 0.3980 and parameters: {'C': 4.492149756797057, 'l1_ratio': 0.13846271489676898}. Best is trial 6 with value: 0.3980\u001b[0m\n",
                        "\u001b[32m[I 2022-10-01 13:48:15]\u001b[0m Trial 36 finished with value: 0.0000 and parameters: {'C': 3.751142278256127e-05, 'l1_ratio': 0.12110700410576547}. Best is trial 6 with value: 0.3980\u001b[0m\n",
                        "\u001b[32m[I 2022-10-01 13:48:17]\u001b[0m Trial 37 finished with value: 0.3722 and parameters: {'C': 20.010479337759122, 'l1_ratio': 0.0024215521972813236}. Best is trial 6 with value: 0.3980\u001b[0m\n",
                        "\u001b[32m[I 2022-10-01 13:48:18]\u001b[0m Trial 38 finished with value: 0.3985 and parameters: {'C': 6.254082270609554, 'l1_ratio': 0.07256583223374671}. Best is trial 38 with value: 0.3985\u001b[0m\n",
                        "\u001b[32m[I 2022-10-01 13:48:19]\u001b[0m Trial 39 finished with value: 0.3964 and parameters: {'C': 5.331814636781576, 'l1_ratio': 0.06861520674791366}. Best is trial 38 with value: 0.3985\u001b[0m\n",
                        "\u001b[32m[I 2022-10-01 13:48:20]\u001b[0m Trial 40 finished with value: 0.3687 and parameters: {'C': 55.540285047691356, 'l1_ratio': 0.12642543204507942}. Best is trial 38 with value: 0.3985\u001b[0m\n",
                        "\u001b[32m[I 2022-10-01 13:48:21]\u001b[0m Trial 41 finished with value: 0.3526 and parameters: {'C': 0.5145036321798269, 'l1_ratio': 0.1335003561841529}. Best is trial 38 with value: 0.3985\u001b[0m\n",
                        "\u001b[32m[I 2022-10-01 13:48:22]\u001b[0m Trial 42 finished with value: 0.3892 and parameters: {'C': 8.424199204646149, 'l1_ratio': 0.16627795974297632}. Best is trial 38 with value: 0.3985\u001b[0m\n",
                        "\u001b[32m[I 2022-10-01 13:48:22]\u001b[0m Trial 43 finished with value: 0.2895 and parameters: {'C': 0.14071841248092173, 'l1_ratio': 0.0864439240266365}. Best is trial 38 with value: 0.3985\u001b[0m\n",
                        "\u001b[32m[I 2022-10-01 13:48:23]\u001b[0m Trial 44 finished with value: 0.3818 and parameters: {'C': 2.1576704096716015, 'l1_ratio': 0.0617497246454284}. Best is trial 38 with value: 0.3985\u001b[0m\n",
                        "\u001b[32m[I 2022-10-01 13:48:24]\u001b[0m Trial 45 finished with value: 0.3687 and parameters: {'C': 18.683265838274853, 'l1_ratio': 0.2506366503493817}. Best is trial 38 with value: 0.3985\u001b[0m\n",
                        "\u001b[32m[I 2022-10-01 13:48:25]\u001b[0m Trial 46 finished with value: 0.3600 and parameters: {'C': 0.9115289222706675, 'l1_ratio': 0.20855110981683556}. Best is trial 38 with value: 0.3985\u001b[0m\n",
                        "\u001b[32m[I 2022-10-01 13:48:26]\u001b[0m Trial 47 finished with value: 0.3980 and parameters: {'C': 3.9871671232037, 'l1_ratio': 0.3005592682119011}. Best is trial 38 with value: 0.3985\u001b[0m\n",
                        "\u001b[32m[I 2022-10-01 13:48:26]\u001b[0m Trial 48 finished with value: 0.0000 and parameters: {'C': 0.002966447290158568, 'l1_ratio': 0.28683735603281935}. Best is trial 38 with value: 0.3985\u001b[0m\n",
                        "\u001b[32m[I 2022-10-01 13:48:28]\u001b[0m Trial 49 finished with value: 0.3687 and parameters: {'C': 41.58446181135181, 'l1_ratio': 0.15653755151131918}. Best is trial 38 with value: 0.3985\u001b[0m\n",
                        "\u001b[32m[I 2022-10-01 13:48:28]\u001b[0m Trial 0 finished with value: 0.5676 and parameters: {'var_smoothing': 5.4787990027953e-07}. Best is trial 0 with value: 0.5676\u001b[0m\n",
                        "\u001b[32m[I 2022-10-01 13:48:29]\u001b[0m Trial 1 finished with value: 0.5553 and parameters: {'var_smoothing': 4.9969620353609514e-12}. Best is trial 0 with value: 0.5676\u001b[0m\n",
                        "\u001b[32m[I 2022-10-01 13:48:29]\u001b[0m Trial 2 finished with value: 0.5600 and parameters: {'var_smoothing': 3.283640673309896e-07}. Best is trial 0 with value: 0.5676\u001b[0m\n",
                        "\u001b[32m[I 2022-10-01 13:48:29]\u001b[0m Trial 3 finished with value: 0.5779 and parameters: {'var_smoothing': 7.233010172814609e-06}. Best is trial 3 with value: 0.5779\u001b[0m\n",
                        "\u001b[32m[I 2022-10-01 13:48:29]\u001b[0m Trial 4 finished with value: 0.5565 and parameters: {'var_smoothing': 1.3354127429281946e-05}. Best is trial 3 with value: 0.5779\u001b[0m\n",
                        "\u001b[32m[I 2022-10-01 13:48:30]\u001b[0m Trial 5 finished with value: 0.5504 and parameters: {'var_smoothing': 2.4115085735197047e-05}. Best is trial 3 with value: 0.5779\u001b[0m\n",
                        "\u001b[32m[I 2022-10-01 13:48:30]\u001b[0m Trial 6 finished with value: 0.5553 and parameters: {'var_smoothing': 2.2499537015513355e-12}. Best is trial 3 with value: 0.5779\u001b[0m\n",
                        "\u001b[32m[I 2022-10-01 13:48:31]\u001b[0m Trial 7 finished with value: 0.4678 and parameters: {'var_smoothing': 0.1646801159428691}. Best is trial 3 with value: 0.5779\u001b[0m\n",
                        "\u001b[32m[I 2022-10-01 13:48:31]\u001b[0m Trial 8 finished with value: 0.5606 and parameters: {'var_smoothing': 1.0913215597622299e-07}. Best is trial 3 with value: 0.5779\u001b[0m\n",
                        "\u001b[32m[I 2022-10-01 13:48:32]\u001b[0m Trial 9 finished with value: 0.4531 and parameters: {'var_smoothing': 0.0053870530676321466}. Best is trial 3 with value: 0.5779\u001b[0m\n",
                        "\u001b[32m[I 2022-10-01 13:48:32]\u001b[0m Trial 10 finished with value: 0.5505 and parameters: {'var_smoothing': 7.434194149684837e-10}. Best is trial 3 with value: 0.5779\u001b[0m\n",
                        "\u001b[32m[I 2022-10-01 13:48:32]\u001b[0m Trial 11 finished with value: 0.4913 and parameters: {'var_smoothing': 0.00038615320682873906}. Best is trial 3 with value: 0.5779\u001b[0m\n",
                        "\u001b[32m[I 2022-10-01 13:48:33]\u001b[0m Trial 12 finished with value: 0.5534 and parameters: {'var_smoothing': 1.1976445173461185e-09}. Best is trial 3 with value: 0.5779\u001b[0m\n",
                        "\u001b[32m[I 2022-10-01 13:48:33]\u001b[0m Trial 13 finished with value: 0.5574 and parameters: {'var_smoothing': 1.1295442605130594e-08}. Best is trial 3 with value: 0.5779\u001b[0m\n",
                        "\u001b[32m[I 2022-10-01 13:48:34]\u001b[0m Trial 14 finished with value: 0.5701 and parameters: {'var_smoothing': 8.370036349108928e-06}. Best is trial 3 with value: 0.5779\u001b[0m\n",
                        "\u001b[32m[I 2022-10-01 13:48:34]\u001b[0m Trial 15 finished with value: 0.5454 and parameters: {'var_smoothing': 6.256295527584286e-05}. Best is trial 3 with value: 0.5779\u001b[0m\n",
                        "\u001b[32m[I 2022-10-01 13:48:35]\u001b[0m Trial 16 finished with value: 0.4470 and parameters: {'var_smoothing': 0.006693321281210015}. Best is trial 3 with value: 0.5779\u001b[0m\n",
                        "\u001b[32m[I 2022-10-01 13:48:35]\u001b[0m Trial 17 finished with value: 0.3400 and parameters: {'var_smoothing': 0.7318278405549333}. Best is trial 3 with value: 0.5779\u001b[0m\n",
                        "\u001b[32m[I 2022-10-01 13:48:36]\u001b[0m Trial 18 finished with value: 0.5668 and parameters: {'var_smoothing': 4.27490230931184e-06}. Best is trial 3 with value: 0.5779\u001b[0m\n",
                        "\u001b[32m[I 2022-10-01 13:48:36]\u001b[0m Trial 19 finished with value: 0.4913 and parameters: {'var_smoothing': 0.0004784950375794363}. Best is trial 3 with value: 0.5779\u001b[0m\n",
                        "\u001b[32m[I 2022-10-01 13:48:37]\u001b[0m Trial 20 finished with value: 0.5590 and parameters: {'var_smoothing': 2.074166717626217e-08}. Best is trial 3 with value: 0.5779\u001b[0m\n",
                        "\u001b[32m[I 2022-10-01 13:48:37]\u001b[0m Trial 21 finished with value: 0.5665 and parameters: {'var_smoothing': 1.1949487038504407e-06}. Best is trial 3 with value: 0.5779\u001b[0m\n",
                        "\u001b[32m[I 2022-10-01 13:48:38]\u001b[0m Trial 22 finished with value: 0.5622 and parameters: {'var_smoothing': 3.286842892279724e-06}. Best is trial 3 with value: 0.5779\u001b[0m\n",
                        "\u001b[32m[I 2022-10-01 13:48:38]\u001b[0m Trial 23 finished with value: 0.5606 and parameters: {'var_smoothing': 8.795852589965774e-08}. Best is trial 3 with value: 0.5779\u001b[0m\n",
                        "\u001b[32m[I 2022-10-01 13:48:39]\u001b[0m Trial 24 finished with value: 0.5289 and parameters: {'var_smoothing': 0.00012849288510701078}. Best is trial 3 with value: 0.5779\u001b[0m\n",
                        "\u001b[32m[I 2022-10-01 13:48:39]\u001b[0m Trial 25 finished with value: 0.4864 and parameters: {'var_smoothing': 0.0023095045030379915}. Best is trial 3 with value: 0.5779\u001b[0m\n",
                        "\u001b[32m[I 2022-10-01 13:48:39]\u001b[0m Trial 26 finished with value: 0.5505 and parameters: {'var_smoothing': 4.96576827801821e-10}. Best is trial 3 with value: 0.5779\u001b[0m\n",
                        "\u001b[32m[I 2022-10-01 13:48:40]\u001b[0m Trial 27 finished with value: 0.5676 and parameters: {'var_smoothing': 7.041782287814824e-07}. Best is trial 3 with value: 0.5779\u001b[0m\n",
                        "\u001b[32m[I 2022-10-01 13:48:40]\u001b[0m Trial 28 finished with value: 0.5633 and parameters: {'var_smoothing': 9.703345577729605e-09}. Best is trial 3 with value: 0.5779\u001b[0m\n",
                        "\u001b[32m[I 2022-10-01 13:48:41]\u001b[0m Trial 29 finished with value: 0.5676 and parameters: {'var_smoothing': 5.911774255815704e-07}. Best is trial 3 with value: 0.5779\u001b[0m\n",
                        "\u001b[32m[I 2022-10-01 13:48:41]\u001b[0m Trial 30 finished with value: 0.5587 and parameters: {'var_smoothing': 5.091380139715264e-11}. Best is trial 3 with value: 0.5779\u001b[0m\n",
                        "\u001b[32m[I 2022-10-01 13:48:41]\u001b[0m Trial 31 finished with value: 0.5747 and parameters: {'var_smoothing': 5.830213027475619e-06}. Best is trial 3 with value: 0.5779\u001b[0m\n",
                        "\u001b[32m[I 2022-10-01 13:48:42]\u001b[0m Trial 32 finished with value: 0.5779 and parameters: {'var_smoothing': 6.952461694704191e-06}. Best is trial 3 with value: 0.5779\u001b[0m\n",
                        "\u001b[32m[I 2022-10-01 13:48:42]\u001b[0m Trial 33 finished with value: 0.5779 and parameters: {'var_smoothing': 7.679390439173667e-06}. Best is trial 3 with value: 0.5779\u001b[0m\n",
                        "\u001b[32m[I 2022-10-01 13:48:43]\u001b[0m Trial 34 finished with value: 0.5413 and parameters: {'var_smoothing': 7.728171987516667e-05}. Best is trial 3 with value: 0.5779\u001b[0m\n",
                        "\u001b[32m[I 2022-10-01 13:48:43]\u001b[0m Trial 35 finished with value: 0.5614 and parameters: {'var_smoothing': 1.519758340230443e-05}. Best is trial 3 with value: 0.5779\u001b[0m\n",
                        "\u001b[32m[I 2022-10-01 13:48:44]\u001b[0m Trial 36 finished with value: 0.5594 and parameters: {'var_smoothing': 2.3214739713471245e-06}. Best is trial 3 with value: 0.5779\u001b[0m\n",
                        "\u001b[32m[I 2022-10-01 13:48:44]\u001b[0m Trial 37 finished with value: 0.5606 and parameters: {'var_smoothing': 1.0601988582581964e-07}. Best is trial 3 with value: 0.5779\u001b[0m\n",
                        "\u001b[32m[I 2022-10-01 13:48:44]\u001b[0m Trial 38 finished with value: 0.4816 and parameters: {'var_smoothing': 0.0007445905606470673}. Best is trial 3 with value: 0.5779\u001b[0m\n",
                        "\u001b[32m[I 2022-10-01 13:48:44]\u001b[0m Trial 39 finished with value: 0.5454 and parameters: {'var_smoothing': 6.475278062164337e-05}. Best is trial 3 with value: 0.5779\u001b[0m\n",
                        "\u001b[32m[I 2022-10-01 13:48:45]\u001b[0m Trial 40 finished with value: 0.5651 and parameters: {'var_smoothing': 1.788015075259376e-07}. Best is trial 3 with value: 0.5779\u001b[0m\n",
                        "\u001b[32m[I 2022-10-01 13:48:45]\u001b[0m Trial 41 finished with value: 0.5558 and parameters: {'var_smoothing': 1.0180072917754799e-05}. Best is trial 3 with value: 0.5779\u001b[0m\n",
                        "\u001b[32m[I 2022-10-01 13:48:45]\u001b[0m Trial 42 finished with value: 0.5779 and parameters: {'var_smoothing': 7.314528917094094e-06}. Best is trial 3 with value: 0.5779\u001b[0m\n",
                        "\u001b[32m[I 2022-10-01 13:48:46]\u001b[0m Trial 43 finished with value: 0.5382 and parameters: {'var_smoothing': 2.5039862097512564e-05}. Best is trial 3 with value: 0.5779\u001b[0m\n",
                        "\u001b[32m[I 2022-10-01 13:48:46]\u001b[0m Trial 44 finished with value: 0.4524 and parameters: {'var_smoothing': 0.017419747654676635}. Best is trial 3 with value: 0.5779\u001b[0m\n",
                        "\u001b[32m[I 2022-10-01 13:48:47]\u001b[0m Trial 45 finished with value: 0.5246 and parameters: {'var_smoothing': 0.00021427323051835103}. Best is trial 3 with value: 0.5779\u001b[0m\n",
                        "\u001b[32m[I 2022-10-01 13:48:47]\u001b[0m Trial 46 finished with value: 0.5665 and parameters: {'var_smoothing': 1.646058997265338e-06}. Best is trial 3 with value: 0.5779\u001b[0m\n",
                        "\u001b[32m[I 2022-10-01 13:48:48]\u001b[0m Trial 47 finished with value: 0.5352 and parameters: {'var_smoothing': 2.90733114517045e-05}. Best is trial 3 with value: 0.5779\u001b[0m\n",
                        "\u001b[32m[I 2022-10-01 13:48:48]\u001b[0m Trial 48 finished with value: 0.5590 and parameters: {'var_smoothing': 3.655533852847402e-08}. Best is trial 3 with value: 0.5779\u001b[0m\n",
                        "\u001b[32m[I 2022-10-01 13:48:49]\u001b[0m Trial 49 finished with value: 0.5600 and parameters: {'var_smoothing': 3.4618358946237166e-07}. Best is trial 3 with value: 0.5779\u001b[0m\n",
                        "\u001b[32m[I 2022-10-01 13:48:49]\u001b[0m Tuning summary:\n",
                        "   algorithm  accuracy  precision  recall     f1  roc_auc  Fit time (s)  \\\n",
                        "0        nb     0.619      0.493   0.788  0.578    0.656         0.028   \n",
                        "1        lr     0.671      0.579   0.376  0.398    0.609         0.470   \n",
                        "\n",
                        "                                         hyperparams  \n",
                        "0  {'priors': None, 'var_smoothing': 7.2330101728...  \n",
                        "1  {'C': 6.254082270609554, 'class_weight': None,...  \u001b[0m\n"
                    ]
                },
                {
                    "data": {
                        "text/html": [
                            "<div>\n",
                            "<style scoped>\n",
                            "    .dataframe tbody tr th:only-of-type {\n",
                            "        vertical-align: middle;\n",
                            "    }\n",
                            "\n",
                            "    .dataframe tbody tr th {\n",
                            "        vertical-align: top;\n",
                            "    }\n",
                            "\n",
                            "    .dataframe thead th {\n",
                            "        text-align: right;\n",
                            "    }\n",
                            "</style>\n",
                            "<table border=\"1\" class=\"dataframe\">\n",
                            "  <thead>\n",
                            "    <tr style=\"text-align: right;\">\n",
                            "      <th></th>\n",
                            "      <th>algorithm</th>\n",
                            "      <th>accuracy</th>\n",
                            "      <th>precision</th>\n",
                            "      <th>recall</th>\n",
                            "      <th>f1</th>\n",
                            "      <th>roc_auc</th>\n",
                            "      <th>Fit time (s)</th>\n",
                            "      <th>hyperparams</th>\n",
                            "    </tr>\n",
                            "  </thead>\n",
                            "  <tbody>\n",
                            "    <tr>\n",
                            "      <th>0</th>\n",
                            "      <td>nb</td>\n",
                            "      <td>0.619</td>\n",
                            "      <td>0.493</td>\n",
                            "      <td>0.788</td>\n",
                            "      <td>0.578</td>\n",
                            "      <td>0.656</td>\n",
                            "      <td>0.028</td>\n",
                            "      <td>{'priors': None, 'var_smoothing': 7.2330101728...</td>\n",
                            "    </tr>\n",
                            "    <tr>\n",
                            "      <th>1</th>\n",
                            "      <td>lr</td>\n",
                            "      <td>0.671</td>\n",
                            "      <td>0.579</td>\n",
                            "      <td>0.376</td>\n",
                            "      <td>0.398</td>\n",
                            "      <td>0.609</td>\n",
                            "      <td>0.470</td>\n",
                            "      <td>{'C': 6.254082270609554, 'class_weight': None,...</td>\n",
                            "    </tr>\n",
                            "  </tbody>\n",
                            "</table>\n",
                            "</div>"
                        ],
                        "text/plain": [
                            "  algorithm  accuracy  precision  recall     f1  roc_auc  Fit time (s)  \\\n",
                            "0        nb     0.619      0.493   0.788  0.578    0.656         0.028   \n",
                            "1        lr     0.671      0.579   0.376  0.398    0.609         0.470   \n",
                            "\n",
                            "                                         hyperparams  \n",
                            "0  {'priors': None, 'var_smoothing': 7.2330101728...  \n",
                            "1  {'C': 6.254082270609554, 'class_weight': None,...  "
                        ]
                    },
                    "execution_count": 12,
                    "metadata": {},
                    "output_type": "execute_result"
                }
            ],
            "source": [
                "compare_df_tune, model_list, opt_history_dict = (\n",
                "        pt.modelling.tune_hyperparams(\n",
                "               setup=setup,\n",
                "               include=[\"lr\", \"nb\"],\n",
                "               optimize=\"f1\",\n",
                "               n_trials=50,\n",
                "               return_models=True,\n",
                "        )\n",
                ")\n",
                "compare_df_tune"
            ]
        },
        {
            "cell_type": "code",
            "execution_count": 13,
            "metadata": {},
            "outputs": [
                {
                    "data": {
                        "application/vnd.plotly.v1+json": {
                            "config": {
                                "plotlyServerURL": "https://plot.ly"
                            },
                            "data": [
                                {
                                    "mode": "markers",
                                    "name": "Objective Value",
                                    "type": "scatter",
                                    "x": [
                                        0,
                                        1,
                                        2,
                                        3,
                                        4,
                                        5,
                                        6,
                                        7,
                                        8,
                                        9,
                                        10,
                                        11,
                                        12,
                                        13,
                                        14,
                                        15,
                                        16,
                                        17,
                                        18,
                                        19,
                                        20,
                                        21,
                                        22,
                                        23,
                                        24,
                                        25,
                                        26,
                                        27,
                                        28,
                                        29,
                                        30,
                                        31,
                                        32,
                                        33,
                                        34,
                                        35,
                                        36,
                                        37,
                                        38,
                                        39,
                                        40,
                                        41,
                                        42,
                                        43,
                                        44,
                                        45,
                                        46,
                                        47,
                                        48,
                                        49
                                    ],
                                    "y": [
                                        0.567592686454194,
                                        0.5552861612072139,
                                        0.5600491661447163,
                                        0.5779101469890945,
                                        0.5565128098022836,
                                        0.5503926728586171,
                                        0.5552861612072139,
                                        0.46784486544606485,
                                        0.5606180630146796,
                                        0.45305330634278007,
                                        0.5505070100464838,
                                        0.49131165177093683,
                                        0.5534374129768868,
                                        0.5573922565630667,
                                        0.5701023391812866,
                                        0.5454073476503097,
                                        0.4470201238390093,
                                        0.33999525841631106,
                                        0.5668368118572293,
                                        0.49131165177093683,
                                        0.5589787187523846,
                                        0.5664840390040833,
                                        0.5622313810928887,
                                        0.5606180630146796,
                                        0.5289214299188834,
                                        0.4863866396761134,
                                        0.5505070100464838,
                                        0.567592686454194,
                                        0.5632698075834749,
                                        0.567592686454194,
                                        0.5586577019471757,
                                        0.5746843405374815,
                                        0.5779101469890945,
                                        0.5779101469890945,
                                        0.5413011695906433,
                                        0.5614115407831455,
                                        0.5594108682723758,
                                        0.5606180630146796,
                                        0.48162473491420865,
                                        0.5454073476503097,
                                        0.5651339119074282,
                                        0.5558166248955724,
                                        0.5779101469890945,
                                        0.5382442498530513,
                                        0.4524493177387915,
                                        0.5245870645938059,
                                        0.5664840390040833,
                                        0.5351603496262939,
                                        0.5589787187523846,
                                        0.5600491661447163
                                    ]
                                },
                                {
                                    "name": "Best Value",
                                    "type": "scatter",
                                    "x": [
                                        0,
                                        1,
                                        2,
                                        3,
                                        4,
                                        5,
                                        6,
                                        7,
                                        8,
                                        9,
                                        10,
                                        11,
                                        12,
                                        13,
                                        14,
                                        15,
                                        16,
                                        17,
                                        18,
                                        19,
                                        20,
                                        21,
                                        22,
                                        23,
                                        24,
                                        25,
                                        26,
                                        27,
                                        28,
                                        29,
                                        30,
                                        31,
                                        32,
                                        33,
                                        34,
                                        35,
                                        36,
                                        37,
                                        38,
                                        39,
                                        40,
                                        41,
                                        42,
                                        43,
                                        44,
                                        45,
                                        46,
                                        47,
                                        48,
                                        49
                                    ],
                                    "y": [
                                        0.567592686454194,
                                        0.567592686454194,
                                        0.567592686454194,
                                        0.5779101469890945,
                                        0.5779101469890945,
                                        0.5779101469890945,
                                        0.5779101469890945,
                                        0.5779101469890945,
                                        0.5779101469890945,
                                        0.5779101469890945,
                                        0.5779101469890945,
                                        0.5779101469890945,
                                        0.5779101469890945,
                                        0.5779101469890945,
                                        0.5779101469890945,
                                        0.5779101469890945,
                                        0.5779101469890945,
                                        0.5779101469890945,
                                        0.5779101469890945,
                                        0.5779101469890945,
                                        0.5779101469890945,
                                        0.5779101469890945,
                                        0.5779101469890945,
                                        0.5779101469890945,
                                        0.5779101469890945,
                                        0.5779101469890945,
                                        0.5779101469890945,
                                        0.5779101469890945,
                                        0.5779101469890945,
                                        0.5779101469890945,
                                        0.5779101469890945,
                                        0.5779101469890945,
                                        0.5779101469890945,
                                        0.5779101469890945,
                                        0.5779101469890945,
                                        0.5779101469890945,
                                        0.5779101469890945,
                                        0.5779101469890945,
                                        0.5779101469890945,
                                        0.5779101469890945,
                                        0.5779101469890945,
                                        0.5779101469890945,
                                        0.5779101469890945,
                                        0.5779101469890945,
                                        0.5779101469890945,
                                        0.5779101469890945,
                                        0.5779101469890945,
                                        0.5779101469890945,
                                        0.5779101469890945,
                                        0.5779101469890945
                                    ]
                                }
                            ],
                            "layout": {
                                "template": {
                                    "data": {
                                        "bar": [
                                            {
                                                "error_x": {
                                                    "color": "#2a3f5f"
                                                },
                                                "error_y": {
                                                    "color": "#2a3f5f"
                                                },
                                                "marker": {
                                                    "line": {
                                                        "color": "#E5ECF6",
                                                        "width": 0.5
                                                    },
                                                    "pattern": {
                                                        "fillmode": "overlay",
                                                        "size": 10,
                                                        "solidity": 0.2
                                                    }
                                                },
                                                "type": "bar"
                                            }
                                        ],
                                        "barpolar": [
                                            {
                                                "marker": {
                                                    "line": {
                                                        "color": "#E5ECF6",
                                                        "width": 0.5
                                                    },
                                                    "pattern": {
                                                        "fillmode": "overlay",
                                                        "size": 10,
                                                        "solidity": 0.2
                                                    }
                                                },
                                                "type": "barpolar"
                                            }
                                        ],
                                        "carpet": [
                                            {
                                                "aaxis": {
                                                    "endlinecolor": "#2a3f5f",
                                                    "gridcolor": "white",
                                                    "linecolor": "white",
                                                    "minorgridcolor": "white",
                                                    "startlinecolor": "#2a3f5f"
                                                },
                                                "baxis": {
                                                    "endlinecolor": "#2a3f5f",
                                                    "gridcolor": "white",
                                                    "linecolor": "white",
                                                    "minorgridcolor": "white",
                                                    "startlinecolor": "#2a3f5f"
                                                },
                                                "type": "carpet"
                                            }
                                        ],
                                        "choropleth": [
                                            {
                                                "colorbar": {
                                                    "outlinewidth": 0,
                                                    "ticks": ""
                                                },
                                                "type": "choropleth"
                                            }
                                        ],
                                        "contour": [
                                            {
                                                "colorbar": {
                                                    "outlinewidth": 0,
                                                    "ticks": ""
                                                },
                                                "colorscale": [
                                                    [
                                                        0,
                                                        "#0d0887"
                                                    ],
                                                    [
                                                        0.1111111111111111,
                                                        "#46039f"
                                                    ],
                                                    [
                                                        0.2222222222222222,
                                                        "#7201a8"
                                                    ],
                                                    [
                                                        0.3333333333333333,
                                                        "#9c179e"
                                                    ],
                                                    [
                                                        0.4444444444444444,
                                                        "#bd3786"
                                                    ],
                                                    [
                                                        0.5555555555555556,
                                                        "#d8576b"
                                                    ],
                                                    [
                                                        0.6666666666666666,
                                                        "#ed7953"
                                                    ],
                                                    [
                                                        0.7777777777777778,
                                                        "#fb9f3a"
                                                    ],
                                                    [
                                                        0.8888888888888888,
                                                        "#fdca26"
                                                    ],
                                                    [
                                                        1,
                                                        "#f0f921"
                                                    ]
                                                ],
                                                "type": "contour"
                                            }
                                        ],
                                        "contourcarpet": [
                                            {
                                                "colorbar": {
                                                    "outlinewidth": 0,
                                                    "ticks": ""
                                                },
                                                "type": "contourcarpet"
                                            }
                                        ],
                                        "heatmap": [
                                            {
                                                "colorbar": {
                                                    "outlinewidth": 0,
                                                    "ticks": ""
                                                },
                                                "colorscale": [
                                                    [
                                                        0,
                                                        "#0d0887"
                                                    ],
                                                    [
                                                        0.1111111111111111,
                                                        "#46039f"
                                                    ],
                                                    [
                                                        0.2222222222222222,
                                                        "#7201a8"
                                                    ],
                                                    [
                                                        0.3333333333333333,
                                                        "#9c179e"
                                                    ],
                                                    [
                                                        0.4444444444444444,
                                                        "#bd3786"
                                                    ],
                                                    [
                                                        0.5555555555555556,
                                                        "#d8576b"
                                                    ],
                                                    [
                                                        0.6666666666666666,
                                                        "#ed7953"
                                                    ],
                                                    [
                                                        0.7777777777777778,
                                                        "#fb9f3a"
                                                    ],
                                                    [
                                                        0.8888888888888888,
                                                        "#fdca26"
                                                    ],
                                                    [
                                                        1,
                                                        "#f0f921"
                                                    ]
                                                ],
                                                "type": "heatmap"
                                            }
                                        ],
                                        "heatmapgl": [
                                            {
                                                "colorbar": {
                                                    "outlinewidth": 0,
                                                    "ticks": ""
                                                },
                                                "colorscale": [
                                                    [
                                                        0,
                                                        "#0d0887"
                                                    ],
                                                    [
                                                        0.1111111111111111,
                                                        "#46039f"
                                                    ],
                                                    [
                                                        0.2222222222222222,
                                                        "#7201a8"
                                                    ],
                                                    [
                                                        0.3333333333333333,
                                                        "#9c179e"
                                                    ],
                                                    [
                                                        0.4444444444444444,
                                                        "#bd3786"
                                                    ],
                                                    [
                                                        0.5555555555555556,
                                                        "#d8576b"
                                                    ],
                                                    [
                                                        0.6666666666666666,
                                                        "#ed7953"
                                                    ],
                                                    [
                                                        0.7777777777777778,
                                                        "#fb9f3a"
                                                    ],
                                                    [
                                                        0.8888888888888888,
                                                        "#fdca26"
                                                    ],
                                                    [
                                                        1,
                                                        "#f0f921"
                                                    ]
                                                ],
                                                "type": "heatmapgl"
                                            }
                                        ],
                                        "histogram": [
                                            {
                                                "marker": {
                                                    "pattern": {
                                                        "fillmode": "overlay",
                                                        "size": 10,
                                                        "solidity": 0.2
                                                    }
                                                },
                                                "type": "histogram"
                                            }
                                        ],
                                        "histogram2d": [
                                            {
                                                "colorbar": {
                                                    "outlinewidth": 0,
                                                    "ticks": ""
                                                },
                                                "colorscale": [
                                                    [
                                                        0,
                                                        "#0d0887"
                                                    ],
                                                    [
                                                        0.1111111111111111,
                                                        "#46039f"
                                                    ],
                                                    [
                                                        0.2222222222222222,
                                                        "#7201a8"
                                                    ],
                                                    [
                                                        0.3333333333333333,
                                                        "#9c179e"
                                                    ],
                                                    [
                                                        0.4444444444444444,
                                                        "#bd3786"
                                                    ],
                                                    [
                                                        0.5555555555555556,
                                                        "#d8576b"
                                                    ],
                                                    [
                                                        0.6666666666666666,
                                                        "#ed7953"
                                                    ],
                                                    [
                                                        0.7777777777777778,
                                                        "#fb9f3a"
                                                    ],
                                                    [
                                                        0.8888888888888888,
                                                        "#fdca26"
                                                    ],
                                                    [
                                                        1,
                                                        "#f0f921"
                                                    ]
                                                ],
                                                "type": "histogram2d"
                                            }
                                        ],
                                        "histogram2dcontour": [
                                            {
                                                "colorbar": {
                                                    "outlinewidth": 0,
                                                    "ticks": ""
                                                },
                                                "colorscale": [
                                                    [
                                                        0,
                                                        "#0d0887"
                                                    ],
                                                    [
                                                        0.1111111111111111,
                                                        "#46039f"
                                                    ],
                                                    [
                                                        0.2222222222222222,
                                                        "#7201a8"
                                                    ],
                                                    [
                                                        0.3333333333333333,
                                                        "#9c179e"
                                                    ],
                                                    [
                                                        0.4444444444444444,
                                                        "#bd3786"
                                                    ],
                                                    [
                                                        0.5555555555555556,
                                                        "#d8576b"
                                                    ],
                                                    [
                                                        0.6666666666666666,
                                                        "#ed7953"
                                                    ],
                                                    [
                                                        0.7777777777777778,
                                                        "#fb9f3a"
                                                    ],
                                                    [
                                                        0.8888888888888888,
                                                        "#fdca26"
                                                    ],
                                                    [
                                                        1,
                                                        "#f0f921"
                                                    ]
                                                ],
                                                "type": "histogram2dcontour"
                                            }
                                        ],
                                        "mesh3d": [
                                            {
                                                "colorbar": {
                                                    "outlinewidth": 0,
                                                    "ticks": ""
                                                },
                                                "type": "mesh3d"
                                            }
                                        ],
                                        "parcoords": [
                                            {
                                                "line": {
                                                    "colorbar": {
                                                        "outlinewidth": 0,
                                                        "ticks": ""
                                                    }
                                                },
                                                "type": "parcoords"
                                            }
                                        ],
                                        "pie": [
                                            {
                                                "automargin": true,
                                                "type": "pie"
                                            }
                                        ],
                                        "scatter": [
                                            {
                                                "fillpattern": {
                                                    "fillmode": "overlay",
                                                    "size": 10,
                                                    "solidity": 0.2
                                                },
                                                "type": "scatter"
                                            }
                                        ],
                                        "scatter3d": [
                                            {
                                                "line": {
                                                    "colorbar": {
                                                        "outlinewidth": 0,
                                                        "ticks": ""
                                                    }
                                                },
                                                "marker": {
                                                    "colorbar": {
                                                        "outlinewidth": 0,
                                                        "ticks": ""
                                                    }
                                                },
                                                "type": "scatter3d"
                                            }
                                        ],
                                        "scattercarpet": [
                                            {
                                                "marker": {
                                                    "colorbar": {
                                                        "outlinewidth": 0,
                                                        "ticks": ""
                                                    }
                                                },
                                                "type": "scattercarpet"
                                            }
                                        ],
                                        "scattergeo": [
                                            {
                                                "marker": {
                                                    "colorbar": {
                                                        "outlinewidth": 0,
                                                        "ticks": ""
                                                    }
                                                },
                                                "type": "scattergeo"
                                            }
                                        ],
                                        "scattergl": [
                                            {
                                                "marker": {
                                                    "colorbar": {
                                                        "outlinewidth": 0,
                                                        "ticks": ""
                                                    }
                                                },
                                                "type": "scattergl"
                                            }
                                        ],
                                        "scattermapbox": [
                                            {
                                                "marker": {
                                                    "colorbar": {
                                                        "outlinewidth": 0,
                                                        "ticks": ""
                                                    }
                                                },
                                                "type": "scattermapbox"
                                            }
                                        ],
                                        "scatterpolar": [
                                            {
                                                "marker": {
                                                    "colorbar": {
                                                        "outlinewidth": 0,
                                                        "ticks": ""
                                                    }
                                                },
                                                "type": "scatterpolar"
                                            }
                                        ],
                                        "scatterpolargl": [
                                            {
                                                "marker": {
                                                    "colorbar": {
                                                        "outlinewidth": 0,
                                                        "ticks": ""
                                                    }
                                                },
                                                "type": "scatterpolargl"
                                            }
                                        ],
                                        "scatterternary": [
                                            {
                                                "marker": {
                                                    "colorbar": {
                                                        "outlinewidth": 0,
                                                        "ticks": ""
                                                    }
                                                },
                                                "type": "scatterternary"
                                            }
                                        ],
                                        "surface": [
                                            {
                                                "colorbar": {
                                                    "outlinewidth": 0,
                                                    "ticks": ""
                                                },
                                                "colorscale": [
                                                    [
                                                        0,
                                                        "#0d0887"
                                                    ],
                                                    [
                                                        0.1111111111111111,
                                                        "#46039f"
                                                    ],
                                                    [
                                                        0.2222222222222222,
                                                        "#7201a8"
                                                    ],
                                                    [
                                                        0.3333333333333333,
                                                        "#9c179e"
                                                    ],
                                                    [
                                                        0.4444444444444444,
                                                        "#bd3786"
                                                    ],
                                                    [
                                                        0.5555555555555556,
                                                        "#d8576b"
                                                    ],
                                                    [
                                                        0.6666666666666666,
                                                        "#ed7953"
                                                    ],
                                                    [
                                                        0.7777777777777778,
                                                        "#fb9f3a"
                                                    ],
                                                    [
                                                        0.8888888888888888,
                                                        "#fdca26"
                                                    ],
                                                    [
                                                        1,
                                                        "#f0f921"
                                                    ]
                                                ],
                                                "type": "surface"
                                            }
                                        ],
                                        "table": [
                                            {
                                                "cells": {
                                                    "fill": {
                                                        "color": "#EBF0F8"
                                                    },
                                                    "line": {
                                                        "color": "white"
                                                    }
                                                },
                                                "header": {
                                                    "fill": {
                                                        "color": "#C8D4E3"
                                                    },
                                                    "line": {
                                                        "color": "white"
                                                    }
                                                },
                                                "type": "table"
                                            }
                                        ]
                                    },
                                    "layout": {
                                        "annotationdefaults": {
                                            "arrowcolor": "#2a3f5f",
                                            "arrowhead": 0,
                                            "arrowwidth": 1
                                        },
                                        "autotypenumbers": "strict",
                                        "coloraxis": {
                                            "colorbar": {
                                                "outlinewidth": 0,
                                                "ticks": ""
                                            }
                                        },
                                        "colorscale": {
                                            "diverging": [
                                                [
                                                    0,
                                                    "#8e0152"
                                                ],
                                                [
                                                    0.1,
                                                    "#c51b7d"
                                                ],
                                                [
                                                    0.2,
                                                    "#de77ae"
                                                ],
                                                [
                                                    0.3,
                                                    "#f1b6da"
                                                ],
                                                [
                                                    0.4,
                                                    "#fde0ef"
                                                ],
                                                [
                                                    0.5,
                                                    "#f7f7f7"
                                                ],
                                                [
                                                    0.6,
                                                    "#e6f5d0"
                                                ],
                                                [
                                                    0.7,
                                                    "#b8e186"
                                                ],
                                                [
                                                    0.8,
                                                    "#7fbc41"
                                                ],
                                                [
                                                    0.9,
                                                    "#4d9221"
                                                ],
                                                [
                                                    1,
                                                    "#276419"
                                                ]
                                            ],
                                            "sequential": [
                                                [
                                                    0,
                                                    "#0d0887"
                                                ],
                                                [
                                                    0.1111111111111111,
                                                    "#46039f"
                                                ],
                                                [
                                                    0.2222222222222222,
                                                    "#7201a8"
                                                ],
                                                [
                                                    0.3333333333333333,
                                                    "#9c179e"
                                                ],
                                                [
                                                    0.4444444444444444,
                                                    "#bd3786"
                                                ],
                                                [
                                                    0.5555555555555556,
                                                    "#d8576b"
                                                ],
                                                [
                                                    0.6666666666666666,
                                                    "#ed7953"
                                                ],
                                                [
                                                    0.7777777777777778,
                                                    "#fb9f3a"
                                                ],
                                                [
                                                    0.8888888888888888,
                                                    "#fdca26"
                                                ],
                                                [
                                                    1,
                                                    "#f0f921"
                                                ]
                                            ],
                                            "sequentialminus": [
                                                [
                                                    0,
                                                    "#0d0887"
                                                ],
                                                [
                                                    0.1111111111111111,
                                                    "#46039f"
                                                ],
                                                [
                                                    0.2222222222222222,
                                                    "#7201a8"
                                                ],
                                                [
                                                    0.3333333333333333,
                                                    "#9c179e"
                                                ],
                                                [
                                                    0.4444444444444444,
                                                    "#bd3786"
                                                ],
                                                [
                                                    0.5555555555555556,
                                                    "#d8576b"
                                                ],
                                                [
                                                    0.6666666666666666,
                                                    "#ed7953"
                                                ],
                                                [
                                                    0.7777777777777778,
                                                    "#fb9f3a"
                                                ],
                                                [
                                                    0.8888888888888888,
                                                    "#fdca26"
                                                ],
                                                [
                                                    1,
                                                    "#f0f921"
                                                ]
                                            ]
                                        },
                                        "colorway": [
                                            "#636efa",
                                            "#EF553B",
                                            "#00cc96",
                                            "#ab63fa",
                                            "#FFA15A",
                                            "#19d3f3",
                                            "#FF6692",
                                            "#B6E880",
                                            "#FF97FF",
                                            "#FECB52"
                                        ],
                                        "font": {
                                            "color": "#2a3f5f"
                                        },
                                        "geo": {
                                            "bgcolor": "white",
                                            "lakecolor": "white",
                                            "landcolor": "#E5ECF6",
                                            "showlakes": true,
                                            "showland": true,
                                            "subunitcolor": "white"
                                        },
                                        "hoverlabel": {
                                            "align": "left"
                                        },
                                        "hovermode": "closest",
                                        "mapbox": {
                                            "style": "light"
                                        },
                                        "paper_bgcolor": "white",
                                        "plot_bgcolor": "#E5ECF6",
                                        "polar": {
                                            "angularaxis": {
                                                "gridcolor": "white",
                                                "linecolor": "white",
                                                "ticks": ""
                                            },
                                            "bgcolor": "#E5ECF6",
                                            "radialaxis": {
                                                "gridcolor": "white",
                                                "linecolor": "white",
                                                "ticks": ""
                                            }
                                        },
                                        "scene": {
                                            "xaxis": {
                                                "backgroundcolor": "#E5ECF6",
                                                "gridcolor": "white",
                                                "gridwidth": 2,
                                                "linecolor": "white",
                                                "showbackground": true,
                                                "ticks": "",
                                                "zerolinecolor": "white"
                                            },
                                            "yaxis": {
                                                "backgroundcolor": "#E5ECF6",
                                                "gridcolor": "white",
                                                "gridwidth": 2,
                                                "linecolor": "white",
                                                "showbackground": true,
                                                "ticks": "",
                                                "zerolinecolor": "white"
                                            },
                                            "zaxis": {
                                                "backgroundcolor": "#E5ECF6",
                                                "gridcolor": "white",
                                                "gridwidth": 2,
                                                "linecolor": "white",
                                                "showbackground": true,
                                                "ticks": "",
                                                "zerolinecolor": "white"
                                            }
                                        },
                                        "shapedefaults": {
                                            "line": {
                                                "color": "#2a3f5f"
                                            }
                                        },
                                        "ternary": {
                                            "aaxis": {
                                                "gridcolor": "white",
                                                "linecolor": "white",
                                                "ticks": ""
                                            },
                                            "baxis": {
                                                "gridcolor": "white",
                                                "linecolor": "white",
                                                "ticks": ""
                                            },
                                            "bgcolor": "#E5ECF6",
                                            "caxis": {
                                                "gridcolor": "white",
                                                "linecolor": "white",
                                                "ticks": ""
                                            }
                                        },
                                        "title": {
                                            "x": 0.05
                                        },
                                        "xaxis": {
                                            "automargin": true,
                                            "gridcolor": "white",
                                            "linecolor": "white",
                                            "ticks": "",
                                            "title": {
                                                "standoff": 15
                                            },
                                            "zerolinecolor": "white",
                                            "zerolinewidth": 2
                                        },
                                        "yaxis": {
                                            "automargin": true,
                                            "gridcolor": "white",
                                            "linecolor": "white",
                                            "ticks": "",
                                            "title": {
                                                "standoff": 15
                                            },
                                            "zerolinecolor": "white",
                                            "zerolinewidth": 2
                                        }
                                    }
                                },
                                "title": {
                                    "text": "Optimization History Plot"
                                },
                                "xaxis": {
                                    "title": {
                                        "text": "#Trials"
                                    }
                                },
                                "yaxis": {
                                    "title": {
                                        "text": "Objective Value"
                                    }
                                }
                            }
                        }
                    },
                    "metadata": {},
                    "output_type": "display_data"
                }
            ],
            "source": [
                "opt_history_dict[\"nb\"].show()"
            ]
        },
        {
            "cell_type": "code",
            "execution_count": 15,
            "metadata": {},
            "outputs": [
                {
                    "name": "stderr",
                    "output_type": "stream",
                    "text": [
                        "\u001b[32m[I 2022-10-01 13:49:45]\u001b[0m %%% REDUCING FEATURE SPACE\u001b[0m\n",
                        "\u001b[32m[I 2022-10-01 13:49:45]\u001b[0m Algorithm selected for feature space reduction: nb\u001b[0m\n",
                        "\u001b[32m[I 2022-10-01 13:49:45]\u001b[0m Metric to optimize for: f1\u001b[0m\n",
                        "\u001b[32m[I 2022-10-01 13:49:45]\u001b[0m Acceptable loss ratio: 0.99\u001b[0m\n",
                        "\u001b[32m[I 2022-10-01 13:49:45]\u001b[0m Reference metric: 0.578\u001b[0m\n",
                        "\u001b[32m[I 2022-10-01 13:49:45]\u001b[0m Minimum acceptable metric: 0.99 * 0.578 = 0.572\u001b[0m\n",
                        "\u001b[32m[I 2022-10-01 13:49:58]\u001b[0m Feature count: 40, metric: 0.586 (new best), removing worst feature: breast-quad_right_up\u001b[0m\n",
                        "\u001b[32m[I 2022-10-01 13:50:10]\u001b[0m Feature count: 39, metric: 0.593 (new best), removing worst feature: breast_left\u001b[0m\n",
                        "\u001b[32m[I 2022-10-01 13:50:20]\u001b[0m Feature count: 38, metric: 0.596 (new best), removing worst feature: tumor-size_20-24\u001b[0m\n",
                        "\u001b[32m[I 2022-10-01 13:50:31]\u001b[0m Feature count: 37, metric: 0.596, removing worst feature: age_40-49\u001b[0m\n",
                        "\u001b[32m[I 2022-10-01 13:50:42]\u001b[0m Feature count: 36, metric: 0.600 (new best), removing worst feature: breast-quad_right_low\u001b[0m\n",
                        "\u001b[32m[I 2022-10-01 13:50:52]\u001b[0m Feature count: 35, metric: 0.598, removing worst feature: tumor-size_25-29\u001b[0m\n",
                        "\u001b[32m[I 2022-10-01 13:51:02]\u001b[0m Feature count: 34, metric: 0.602 (new best), removing worst feature: age_60-69\u001b[0m\n",
                        "\u001b[32m[I 2022-10-01 13:51:12]\u001b[0m Feature count: 33, metric: 0.613 (new best), removing worst feature: breast_right\u001b[0m\n",
                        "\u001b[32m[I 2022-10-01 13:51:21]\u001b[0m Feature count: 32, metric: 0.616 (new best), removing worst feature: tumor-size_15-19\u001b[0m\n",
                        "\u001b[32m[I 2022-10-01 13:51:30]\u001b[0m Feature count: 31, metric: 0.620 (new best), removing worst feature: tumor-size_50-54\u001b[0m\n",
                        "\u001b[32m[I 2022-10-01 13:51:40]\u001b[0m Feature count: 30, metric: 0.618, removing worst feature: menopause_ge40\u001b[0m\n",
                        "\u001b[32m[I 2022-10-01 13:51:48]\u001b[0m Feature count: 29, metric: 0.621 (new best), removing worst feature: menopause_lt40\u001b[0m\n",
                        "\u001b[32m[I 2022-10-01 13:51:56]\u001b[0m Feature count: 28, metric: 0.622 (new best), removing worst feature: breast-quad_central\u001b[0m\n",
                        "\u001b[32m[I 2022-10-01 13:52:04]\u001b[0m Feature count: 27, metric: 0.628 (new best), removing worst feature: breast-quad_left_up\u001b[0m\n",
                        "\u001b[32m[I 2022-10-01 13:52:13]\u001b[0m Feature count: 26, metric: 0.625, removing worst feature: age_50-59\u001b[0m\n",
                        "\u001b[32m[I 2022-10-01 13:52:20]\u001b[0m Feature count: 25, metric: 0.623, removing worst feature: node-caps_?\u001b[0m\n",
                        "\u001b[32m[I 2022-10-01 13:52:28]\u001b[0m Feature count: 24, metric: 0.624, removing worst feature: node-caps_no\u001b[0m\n",
                        "\u001b[32m[I 2022-10-01 13:52:35]\u001b[0m Feature count: 23, metric: 0.624, removing worst feature: menopause_premeno\u001b[0m\n",
                        "\u001b[32m[I 2022-10-01 13:52:42]\u001b[0m Feature count: 22, metric: 0.620, removing worst feature: breast-quad_left_low\u001b[0m\n",
                        "\u001b[32m[I 2022-10-01 13:52:42]\u001b[0m Best f1 score found: 0.628\u001b[0m\n",
                        "\u001b[32m[I 2022-10-01 13:52:42]\u001b[0m Feature list for best score: ['deg-malig', 'age_20-29', 'age_30-39', 'age_50-59', 'age_70-79', 'menopause_premeno', 'tumor-size_0-4', 'tumor-size_10-14', 'tumor-size_30-34', 'tumor-size_35-39', 'tumor-size_40-44', 'tumor-size_45-49', 'tumor-size_5-9', 'inv-nodes_0-2', 'inv-nodes_12-14', 'inv-nodes_15-17', 'inv-nodes_24-26', 'inv-nodes_3-5', 'inv-nodes_6-8', 'inv-nodes_9-11', 'node-caps_?', 'node-caps_no', 'node-caps_yes', 'breast-quad_?', 'breast-quad_left_low', 'irradiat_no', 'irradiat_yes']\u001b[0m\n"
                    ]
                },
                {
                    "data": {
                        "image/png": "[encoded data removed]",
                        "text/plain": [
                            "<Figure size 432x288 with 1 Axes>"
                        ]
                    },
                    "metadata": {
                        "needs_background": "light"
                    },
                    "output_type": "display_data"
                }
            ],
            "source": [
                "best_feature_list, metric_feature_df = pt.modelling.reduce_feature_space(\n",
                "    setup=setup,\n",
                "    algorithm= \"nb\",\n",
                "    metric=\"f1\",\n",
                "    reference_metric=compare_df_tune.iloc[0][\"f1\"],\n",
                "    acceptable_loss=0.99,\n",
                "    hyperparams=compare_df_tune.iloc[0][\"hyperparams\"]\n",
                ")"
            ]
        },
        {
            "cell_type": "code",
            "execution_count": 17,
            "metadata": {},
            "outputs": [
                {
                    "name": "stderr",
                    "output_type": "stream",
                    "text": [
                        "\u001b[32m[I 2022-10-01 13:53:12]\u001b[0m %%% TUNING HYPERPARAMETERS\u001b[0m\n",
                        "\u001b[33m[W 2022-10-01 13:53:12]\u001b[0m The algorithms ['lr'] work suboptimally without scaled features. Consider turning it on within the config and rerun pt.modelling.prepare_data().\u001b[0m\n",
                        "\u001b[32m[I 2022-10-01 13:53:12]\u001b[0m Algorithms: ['nb', 'lr']\u001b[0m\n",
                        "\u001b[32m[I 2022-10-01 13:53:12]\u001b[0m Metric: f1\u001b[0m\n",
                        "\u001b[32m[I 2022-10-01 13:53:12]\u001b[0m Trials per algorithm: 20\u001b[0m\n",
                        "\u001b[32m[I 2022-10-01 13:53:12]\u001b[0m Trial 0 finished with value: 0.4659 and parameters: {'var_smoothing': 0.007449921926812464}. Best is trial 0 with value: 0.4659\u001b[0m\n",
                        "\u001b[32m[I 2022-10-01 13:53:13]\u001b[0m Trial 1 finished with value: 0.5862 and parameters: {'var_smoothing': 1.1487518810930647e-06}. Best is trial 1 with value: 0.5862\u001b[0m\n",
                        "\u001b[32m[I 2022-10-01 13:53:13]\u001b[0m Trial 2 finished with value: 0.5635 and parameters: {'var_smoothing': 3.5069463088014894e-05}. Best is trial 1 with value: 0.5862\u001b[0m\n",
                        "\u001b[32m[I 2022-10-01 13:53:14]\u001b[0m Trial 3 finished with value: 0.6267 and parameters: {'var_smoothing': 6.852840209009875e-06}. Best is trial 3 with value: 0.6267\u001b[0m\n",
                        "\u001b[32m[I 2022-10-01 13:53:14]\u001b[0m Trial 4 finished with value: 0.6034 and parameters: {'var_smoothing': 1.292215132482719e-05}. Best is trial 3 with value: 0.6267\u001b[0m\n",
                        "\u001b[32m[I 2022-10-01 13:53:14]\u001b[0m Trial 5 finished with value: 0.5635 and parameters: {'var_smoothing': 3.811061829337736e-05}. Best is trial 3 with value: 0.6267\u001b[0m\n",
                        "\u001b[32m[I 2022-10-01 13:53:14]\u001b[0m Trial 6 finished with value: 0.5631 and parameters: {'var_smoothing': 5.463018660351963e-05}. Best is trial 3 with value: 0.6267\u001b[0m\n",
                        "\u001b[32m[I 2022-10-01 13:53:14]\u001b[0m Trial 7 finished with value: 0.5638 and parameters: {'var_smoothing': 1.8933344418872618e-07}. Best is trial 3 with value: 0.6267\u001b[0m\n",
                        "\u001b[32m[I 2022-10-01 13:53:15]\u001b[0m Trial 8 finished with value: 0.4736 and parameters: {'var_smoothing': 0.0018311130866349465}. Best is trial 3 with value: 0.6267\u001b[0m\n",
                        "\u001b[32m[I 2022-10-01 13:53:15]\u001b[0m Trial 9 finished with value: 0.5638 and parameters: {'var_smoothing': 7.17194763321414e-11}. Best is trial 3 with value: 0.6267\u001b[0m\n",
                        "\u001b[32m[I 2022-10-01 13:53:16]\u001b[0m Trial 10 finished with value: 0.3282 and parameters: {'var_smoothing': 0.7262302655715738}. Best is trial 3 with value: 0.6267\u001b[0m\n",
                        "\u001b[32m[I 2022-10-01 13:53:16]\u001b[0m Trial 11 finished with value: 0.5638 and parameters: {'var_smoothing': 5.106478740380666e-09}. Best is trial 3 with value: 0.6267\u001b[0m\n",
                        "\u001b[32m[I 2022-10-01 13:53:16]\u001b[0m Trial 12 finished with value: 0.5638 and parameters: {'var_smoothing': 2.2150677140529516e-08}. Best is trial 3 with value: 0.6267\u001b[0m\n",
                        "\u001b[32m[I 2022-10-01 13:53:17]\u001b[0m Trial 13 finished with value: 0.5638 and parameters: {'var_smoothing': 1.4030483627151237e-12}. Best is trial 3 with value: 0.6267\u001b[0m\n",
                        "\u001b[32m[I 2022-10-01 13:53:17]\u001b[0m Trial 14 finished with value: 0.5919 and parameters: {'var_smoothing': 1.5522274389588698e-06}. Best is trial 3 with value: 0.6267\u001b[0m\n",
                        "\u001b[32m[I 2022-10-01 13:53:17]\u001b[0m Trial 15 finished with value: 0.4616 and parameters: {'var_smoothing': 0.004299288725937941}. Best is trial 3 with value: 0.6267\u001b[0m\n",
                        "\u001b[32m[I 2022-10-01 13:53:18]\u001b[0m Trial 16 finished with value: 0.5638 and parameters: {'var_smoothing': 6.310693625754236e-10}. Best is trial 3 with value: 0.6267\u001b[0m\n",
                        "\u001b[32m[I 2022-10-01 13:53:18]\u001b[0m Trial 17 finished with value: 0.4100 and parameters: {'var_smoothing': 0.3778745469924833}. Best is trial 3 with value: 0.6267\u001b[0m\n",
                        "\u001b[32m[I 2022-10-01 13:53:19]\u001b[0m Trial 18 finished with value: 0.5346 and parameters: {'var_smoothing': 0.00021862750626481882}. Best is trial 3 with value: 0.6267\u001b[0m\n",
                        "\u001b[32m[I 2022-10-01 13:53:19]\u001b[0m Trial 19 finished with value: 0.6207 and parameters: {'var_smoothing': 4.828382241602712e-06}. Best is trial 3 with value: 0.6267\u001b[0m\n",
                        "\u001b[32m[I 2022-10-01 13:53:20]\u001b[0m Trial 0 finished with value: 0.2775 and parameters: {'C': 8.300317606981315, 'l1_ratio': 0.8076640748857582}. Best is trial 0 with value: 0.2775\u001b[0m\n",
                        "\u001b[32m[I 2022-10-01 13:53:20]\u001b[0m Trial 1 finished with value: 0.0000 and parameters: {'C': 0.0007608954192082555, 'l1_ratio': 0.6514369113233923}. Best is trial 0 with value: 0.2775\u001b[0m\n",
                        "\u001b[32m[I 2022-10-01 13:53:21]\u001b[0m Trial 2 finished with value: 0.0000 and parameters: {'C': 0.05236905533242839, 'l1_ratio': 0.4016634784636287}. Best is trial 0 with value: 0.2775\u001b[0m\n",
                        "\u001b[32m[I 2022-10-01 13:53:21]\u001b[0m Trial 3 finished with value: 0.0000 and parameters: {'C': 1.4600726381610538e-06, 'l1_ratio': 0.3781653395883333}. Best is trial 0 with value: 0.2775\u001b[0m\n",
                        "\u001b[32m[I 2022-10-01 13:53:22]\u001b[0m Trial 4 finished with value: 0.0000 and parameters: {'C': 3.3164442869297675e-05, 'l1_ratio': 0.30961454258402255}. Best is trial 0 with value: 0.2775\u001b[0m\n",
                        "\u001b[32m[I 2022-10-01 13:53:22]\u001b[0m Trial 5 finished with value: 0.3119 and parameters: {'C': 1.7451133629320121, 'l1_ratio': 0.3499188980775366}. Best is trial 5 with value: 0.3119\u001b[0m\n",
                        "\u001b[32m[I 2022-10-01 13:53:22]\u001b[0m Trial 6 finished with value: 0.0000 and parameters: {'C': 1.3039746507697044e-06, 'l1_ratio': 0.6847238312176164}. Best is trial 5 with value: 0.3119\u001b[0m\n",
                        "\u001b[32m[I 2022-10-01 13:53:23]\u001b[0m Trial 7 finished with value: 0.0000 and parameters: {'C': 0.000474684314206229, 'l1_ratio': 0.6722406411436722}. Best is trial 5 with value: 0.3119\u001b[0m\n",
                        "\u001b[32m[I 2022-10-01 13:53:24]\u001b[0m Trial 8 finished with value: 0.2775 and parameters: {'C': 84.33800391494097, 'l1_ratio': 0.03724781351278683}. Best is trial 5 with value: 0.3119\u001b[0m\n",
                        "\u001b[32m[I 2022-10-01 13:53:25]\u001b[0m Trial 9 finished with value: 0.0000 and parameters: {'C': 1.3268664323648905e-06, 'l1_ratio': 0.8618090370109084}. Best is trial 5 with value: 0.3119\u001b[0m\n",
                        "\u001b[32m[I 2022-10-01 13:53:25]\u001b[0m Trial 10 finished with value: 0.3309 and parameters: {'C': 0.2784786170636181, 'l1_ratio': 0.10680686467331718}. Best is trial 10 with value: 0.3309\u001b[0m\n",
                        "\u001b[32m[I 2022-10-01 13:53:26]\u001b[0m Trial 11 finished with value: 0.3147 and parameters: {'C': 0.2647111097133901, 'l1_ratio': 0.11497530003751036}. Best is trial 10 with value: 0.3309\u001b[0m\n",
                        "\u001b[32m[I 2022-10-01 13:53:26]\u001b[0m Trial 12 finished with value: 0.2939 and parameters: {'C': 0.13102440955055836, 'l1_ratio': 0.013165496460425252}. Best is trial 10 with value: 0.3309\u001b[0m\n",
                        "\u001b[32m[I 2022-10-01 13:53:27]\u001b[0m Trial 13 finished with value: 0.3535 and parameters: {'C': 0.631715930371897, 'l1_ratio': 0.1689259488634518}. Best is trial 13 with value: 0.3535\u001b[0m\n",
                        "\u001b[32m[I 2022-10-01 13:53:27]\u001b[0m Trial 14 finished with value: 0.0000 and parameters: {'C': 0.006982593592420935, 'l1_ratio': 0.20082792321230442}. Best is trial 13 with value: 0.3535\u001b[0m\n",
                        "\u001b[32m[I 2022-10-01 13:53:28]\u001b[0m Trial 15 finished with value: 0.3247 and parameters: {'C': 2.242717945481437, 'l1_ratio': 0.16625031857463415}. Best is trial 13 with value: 0.3535\u001b[0m\n",
                        "\u001b[32m[I 2022-10-01 13:53:28]\u001b[0m Trial 16 finished with value: 0.0000 and parameters: {'C': 0.008979373118814846, 'l1_ratio': 0.506820564802275}. Best is trial 13 with value: 0.3535\u001b[0m\n",
                        "\u001b[32m[I 2022-10-01 13:53:29]\u001b[0m Trial 17 finished with value: 0.2775 and parameters: {'C': 51.98614278492772, 'l1_ratio': 0.2377294336993854}. Best is trial 13 with value: 0.3535\u001b[0m\n",
                        "\u001b[32m[I 2022-10-01 13:53:30]\u001b[0m Trial 18 finished with value: 0.3361 and parameters: {'C': 0.5712214555602747, 'l1_ratio': 0.5081258341288011}. Best is trial 13 with value: 0.3535\u001b[0m\n",
                        "\u001b[32m[I 2022-10-01 13:53:31]\u001b[0m Trial 19 finished with value: 0.2930 and parameters: {'C': 6.583701552318984, 'l1_ratio': 0.5529865483991083}. Best is trial 13 with value: 0.3535\u001b[0m\n",
                        "\u001b[32m[I 2022-10-01 13:53:31]\u001b[0m Tuning summary:\n",
                        "   algorithm  accuracy  precision  recall     f1  roc_auc  Fit time (s)  \\\n",
                        "0        nb     0.655      0.570   0.800  0.627    0.678         0.061   \n",
                        "1        lr     0.699      0.572   0.341  0.353    0.686         0.161   \n",
                        "\n",
                        "                                         hyperparams  \n",
                        "0  {'priors': None, 'var_smoothing': 6.8528402090...  \n",
                        "1  {'C': 0.631715930371897, 'class_weight': None,...  \u001b[0m\n"
                    ]
                },
                {
                    "data": {
                        "text/html": [
                            "<div>\n",
                            "<style scoped>\n",
                            "    .dataframe tbody tr th:only-of-type {\n",
                            "        vertical-align: middle;\n",
                            "    }\n",
                            "\n",
                            "    .dataframe tbody tr th {\n",
                            "        vertical-align: top;\n",
                            "    }\n",
                            "\n",
                            "    .dataframe thead th {\n",
                            "        text-align: right;\n",
                            "    }\n",
                            "</style>\n",
                            "<table border=\"1\" class=\"dataframe\">\n",
                            "  <thead>\n",
                            "    <tr style=\"text-align: right;\">\n",
                            "      <th></th>\n",
                            "      <th>algorithm</th>\n",
                            "      <th>accuracy</th>\n",
                            "      <th>precision</th>\n",
                            "      <th>recall</th>\n",
                            "      <th>f1</th>\n",
                            "      <th>roc_auc</th>\n",
                            "      <th>Fit time (s)</th>\n",
                            "      <th>hyperparams</th>\n",
                            "    </tr>\n",
                            "  </thead>\n",
                            "  <tbody>\n",
                            "    <tr>\n",
                            "      <th>0</th>\n",
                            "      <td>nb</td>\n",
                            "      <td>0.655</td>\n",
                            "      <td>0.570</td>\n",
                            "      <td>0.800</td>\n",
                            "      <td>0.627</td>\n",
                            "      <td>0.678</td>\n",
                            "      <td>0.061</td>\n",
                            "      <td>{'priors': None, 'var_smoothing': 6.8528402090...</td>\n",
                            "    </tr>\n",
                            "    <tr>\n",
                            "      <th>1</th>\n",
                            "      <td>lr</td>\n",
                            "      <td>0.699</td>\n",
                            "      <td>0.572</td>\n",
                            "      <td>0.341</td>\n",
                            "      <td>0.353</td>\n",
                            "      <td>0.686</td>\n",
                            "      <td>0.161</td>\n",
                            "      <td>{'C': 0.631715930371897, 'class_weight': None,...</td>\n",
                            "    </tr>\n",
                            "  </tbody>\n",
                            "</table>\n",
                            "</div>"
                        ],
                        "text/plain": [
                            "  algorithm  accuracy  precision  recall     f1  roc_auc  Fit time (s)  \\\n",
                            "0        nb     0.655      0.570   0.800  0.627    0.678         0.061   \n",
                            "1        lr     0.699      0.572   0.341  0.353    0.686         0.161   \n",
                            "\n",
                            "                                         hyperparams  \n",
                            "0  {'priors': None, 'var_smoothing': 6.8528402090...  \n",
                            "1  {'C': 0.631715930371897, 'class_weight': None,...  "
                        ]
                    },
                    "execution_count": 17,
                    "metadata": {},
                    "output_type": "execute_result"
                }
            ],
            "source": [
                "compare_df_final, model_list, opt_history_dict = (\n",
                "        pt.modelling.tune_hyperparams(\n",
                "               setup=setup,\n",
                "               include=[\"nb\", \"lr\"],\n",
                "               optimize=\"f1\",\n",
                "               n_trials=20,\n",
                "               feature_list=best_feature_list,\n",
                "               return_models=True,\n",
                "        )\n",
                ")\n",
                "compare_df_final"
            ]
        },
        {
            "cell_type": "code",
            "execution_count": 15,
            "metadata": {},
            "outputs": [
                {
                    "data": {
                        "text/html": [
                            "<style>#sk-container-id-1 {color: black;background-color: white;}#sk-container-id-1 pre{padding: 0;}#sk-container-id-1 div.sk-toggleable {background-color: white;}#sk-container-id-1 label.sk-toggleable__label {cursor: pointer;display: block;width: 100%;margin-bottom: 0;padding: 0.3em;box-sizing: border-box;text-align: center;}#sk-container-id-1 label.sk-toggleable__label-arrow:before {content: \"▸\";float: left;margin-right: 0.25em;color: #696969;}#sk-container-id-1 label.sk-toggleable__label-arrow:hover:before {color: black;}#sk-container-id-1 div.sk-estimator:hover label.sk-toggleable__label-arrow:before {color: black;}#sk-container-id-1 div.sk-toggleable__content {max-height: 0;max-width: 0;overflow: hidden;text-align: left;background-color: #f0f8ff;}#sk-container-id-1 div.sk-toggleable__content pre {margin: 0.2em;color: black;border-radius: 0.25em;background-color: #f0f8ff;}#sk-container-id-1 input.sk-toggleable__control:checked~div.sk-toggleable__content {max-height: 200px;max-width: 100%;overflow: auto;}#sk-container-id-1 input.sk-toggleable__control:checked~label.sk-toggleable__label-arrow:before {content: \"▾\";}#sk-container-id-1 div.sk-estimator input.sk-toggleable__control:checked~label.sk-toggleable__label {background-color: #d4ebff;}#sk-container-id-1 div.sk-label input.sk-toggleable__control:checked~label.sk-toggleable__label {background-color: #d4ebff;}#sk-container-id-1 input.sk-hidden--visually {border: 0;clip: rect(1px 1px 1px 1px);clip: rect(1px, 1px, 1px, 1px);height: 1px;margin: -1px;overflow: hidden;padding: 0;position: absolute;width: 1px;}#sk-container-id-1 div.sk-estimator {font-family: monospace;background-color: #f0f8ff;border: 1px dotted black;border-radius: 0.25em;box-sizing: border-box;margin-bottom: 0.5em;}#sk-container-id-1 div.sk-estimator:hover {background-color: #d4ebff;}#sk-container-id-1 div.sk-parallel-item::after {content: \"\";width: 100%;border-bottom: 1px solid gray;flex-grow: 1;}#sk-container-id-1 div.sk-label:hover label.sk-toggleable__label {background-color: #d4ebff;}#sk-container-id-1 div.sk-serial::before {content: \"\";position: absolute;border-left: 1px solid gray;box-sizing: border-box;top: 0;bottom: 0;left: 50%;z-index: 0;}#sk-container-id-1 div.sk-serial {display: flex;flex-direction: column;align-items: center;background-color: white;padding-right: 0.2em;padding-left: 0.2em;position: relative;}#sk-container-id-1 div.sk-item {position: relative;z-index: 1;}#sk-container-id-1 div.sk-parallel {display: flex;align-items: stretch;justify-content: center;background-color: white;position: relative;}#sk-container-id-1 div.sk-item::before, #sk-container-id-1 div.sk-parallel-item::before {content: \"\";position: absolute;border-left: 1px solid gray;box-sizing: border-box;top: 0;bottom: 0;left: 50%;z-index: -1;}#sk-container-id-1 div.sk-parallel-item {display: flex;flex-direction: column;z-index: 1;position: relative;background-color: white;}#sk-container-id-1 div.sk-parallel-item:first-child::after {align-self: flex-end;width: 50%;}#sk-container-id-1 div.sk-parallel-item:last-child::after {align-self: flex-start;width: 50%;}#sk-container-id-1 div.sk-parallel-item:only-child::after {width: 0;}#sk-container-id-1 div.sk-dashed-wrapped {border: 1px dashed gray;margin: 0 0.4em 0.5em 0.4em;box-sizing: border-box;padding-bottom: 0.4em;background-color: white;}#sk-container-id-1 div.sk-label label {font-family: monospace;font-weight: bold;display: inline-block;line-height: 1.2em;}#sk-container-id-1 div.sk-label-container {text-align: center;}#sk-container-id-1 div.sk-container {/* jupyter's `normalize.less` sets `[hidden] { display: none; }` but bootstrap.min.css set `[hidden] { display: none !important; }` so we also need the `!important` here to be able to override the default hidden behavior on the sphinx rendered scikit-learn.org. See: https://github.com/scikit-learn/scikit-learn/issues/21755 */display: inline-block !important;position: relative;}#sk-container-id-1 div.sk-text-repr-fallback {display: none;}</style><div id=\"sk-container-id-1\" class=\"sk-top-container\"><div class=\"sk-text-repr-fallback\"><pre>Pipeline(steps=[(&#x27;ohe&#x27;, OHE())])</pre><b>In a Jupyter environment, please rerun this cell to show the HTML representation or trust the notebook. <br />On GitHub, the HTML representation is unable to render, please try loading this page with nbviewer.org.</b></div><div class=\"sk-container\" hidden><div class=\"sk-item sk-dashed-wrapped\"><div class=\"sk-label-container\"><div class=\"sk-label sk-toggleable\"><input class=\"sk-toggleable__control sk-hidden--visually\" id=\"sk-estimator-id-1\" type=\"checkbox\" ><label for=\"sk-estimator-id-1\" class=\"sk-toggleable__label sk-toggleable__label-arrow\">Pipeline</label><div class=\"sk-toggleable__content\"><pre>Pipeline(steps=[(&#x27;ohe&#x27;, OHE())])</pre></div></div></div><div class=\"sk-serial\"><div class=\"sk-item\"><div class=\"sk-estimator sk-toggleable\"><input class=\"sk-toggleable__control sk-hidden--visually\" id=\"sk-estimator-id-2\" type=\"checkbox\" ><label for=\"sk-estimator-id-2\" class=\"sk-toggleable__label sk-toggleable__label-arrow\">OHE</label><div class=\"sk-toggleable__content\"><pre>OHE()</pre></div></div></div></div></div></div></div>"
                        ],
                        "text/plain": [
                            "Pipeline(steps=[('ohe', OHE())])"
                        ]
                    },
                    "execution_count": 15,
                    "metadata": {},
                    "output_type": "execute_result"
                }
            ],
            "source": [
                "setup.prep_pipe"
            ]
        },
        {
            "cell_type": "code",
            "execution_count": 16,
            "metadata": {},
            "outputs": [
                {
                    "name": "stderr",
                    "output_type": "stream",
                    "text": [
                        "\u001b[32m[I 2022-10-01 12:49:51]\u001b[0m Exported modelling pipeline to 'model_2022-10-01_nb_#1.joblib'\u001b[0m\n"
                    ]
                }
            ],
            "source": [
                "pt.modelling.export_model(\n",
                "        setup=setup,\n",
                "        model=model_list[0],\n",
                "        target_dir=\"./\",\n",
                "    )"
            ]
        }
    ],
    "metadata": {
        "kernelspec": {
            "display_name": "Python 3.9.13 ('.venv': poetry)",
            "language": "python",
            "name": "python3"
        },
        "language_info": {
            "codemirror_mode": {
                "name": "ipython",
                "version": 3
            },
            "file_extension": ".py",
            "mimetype": "text/x-python",
            "name": "python",
            "nbconvert_exporter": "python",
            "pygments_lexer": "ipython3",
            "version": "3.9.13"
        },
        "orig_nbformat": 4,
        "vscode": {
            "interpreter": {
                "hash": "b885852e26c7064962dac1b68bb792bbb99a8e2dbec080500e57a38605a5fe7f"
            }
        }
    },
    "nbformat": 4,
    "nbformat_minor": 2
}

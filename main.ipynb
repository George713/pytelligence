{
    "cells": [
        {
            "cell_type": "code",
            "execution_count": 1,
            "metadata": {},
            "outputs": [
                {
                    "name": "stderr",
                    "output_type": "stream",
                    "text": [
                        "/home/george/Desktop/pytelligence/.venv/lib/python3.9/site-packages/tqdm/auto.py:22: TqdmWarning: IProgress not found. Please update jupyter and ipywidgets. See https://ipywidgets.readthedocs.io/en/stable/user_install.html\n",
                        "  from .autonotebook import tqdm as notebook_tqdm\n"
                    ]
                }
            ],
            "source": [
                "from sklearn.datasets import load_breast_cancer\n",
                "import pandas as pd\n",
                "import seaborn as sns\n",
                "\n",
                "import pytelligence as pt\n",
                "\n",
                "%load_ext autoreload\n",
                "%autoreload 2\n",
                "\n",
                "pd.options.display.max_columns = 2000\n",
                "\n",
                "sns.set_theme()"
            ]
        },
        {
            "cell_type": "code",
            "execution_count": 2,
            "metadata": {},
            "outputs": [],
            "source": [
                "# bc = load_breast_cancer()\n",
                "# X = pd.DataFrame(bc.data, columns=bc.feature_names)\n",
                "# y = pd.Series(bc.target, name=\"class\")\n",
                "# df = pd.concat([X, y], axis=1)\n",
                "# df.head()"
            ]
        },
        {
            "cell_type": "code",
            "execution_count": 3,
            "metadata": {},
            "outputs": [
                {
                    "data": {
                        "text/html": [
                            "<div>\n",
                            "<style scoped>\n",
                            "    .dataframe tbody tr th:only-of-type {\n",
                            "        vertical-align: middle;\n",
                            "    }\n",
                            "\n",
                            "    .dataframe tbody tr th {\n",
                            "        vertical-align: top;\n",
                            "    }\n",
                            "\n",
                            "    .dataframe thead th {\n",
                            "        text-align: right;\n",
                            "    }\n",
                            "</style>\n",
                            "<table border=\"1\" class=\"dataframe\">\n",
                            "  <thead>\n",
                            "    <tr style=\"text-align: right;\">\n",
                            "      <th></th>\n",
                            "      <th>class</th>\n",
                            "      <th>age</th>\n",
                            "      <th>menopause</th>\n",
                            "      <th>tumor-size</th>\n",
                            "      <th>inv-nodes</th>\n",
                            "      <th>node-caps</th>\n",
                            "      <th>deg-malig</th>\n",
                            "      <th>breast</th>\n",
                            "      <th>breast-quad</th>\n",
                            "      <th>irradiat</th>\n",
                            "    </tr>\n",
                            "  </thead>\n",
                            "  <tbody>\n",
                            "    <tr>\n",
                            "      <th>0</th>\n",
                            "      <td>no-recurrence-events</td>\n",
                            "      <td>30-39</td>\n",
                            "      <td>premeno</td>\n",
                            "      <td>30-34</td>\n",
                            "      <td>0-2</td>\n",
                            "      <td>no</td>\n",
                            "      <td>3</td>\n",
                            "      <td>left</td>\n",
                            "      <td>left_low</td>\n",
                            "      <td>no</td>\n",
                            "    </tr>\n",
                            "    <tr>\n",
                            "      <th>1</th>\n",
                            "      <td>no-recurrence-events</td>\n",
                            "      <td>40-49</td>\n",
                            "      <td>premeno</td>\n",
                            "      <td>20-24</td>\n",
                            "      <td>0-2</td>\n",
                            "      <td>no</td>\n",
                            "      <td>2</td>\n",
                            "      <td>right</td>\n",
                            "      <td>right_up</td>\n",
                            "      <td>no</td>\n",
                            "    </tr>\n",
                            "    <tr>\n",
                            "      <th>2</th>\n",
                            "      <td>no-recurrence-events</td>\n",
                            "      <td>40-49</td>\n",
                            "      <td>premeno</td>\n",
                            "      <td>20-24</td>\n",
                            "      <td>0-2</td>\n",
                            "      <td>no</td>\n",
                            "      <td>2</td>\n",
                            "      <td>left</td>\n",
                            "      <td>left_low</td>\n",
                            "      <td>no</td>\n",
                            "    </tr>\n",
                            "    <tr>\n",
                            "      <th>3</th>\n",
                            "      <td>no-recurrence-events</td>\n",
                            "      <td>60-69</td>\n",
                            "      <td>ge40</td>\n",
                            "      <td>15-19</td>\n",
                            "      <td>0-2</td>\n",
                            "      <td>no</td>\n",
                            "      <td>2</td>\n",
                            "      <td>right</td>\n",
                            "      <td>left_up</td>\n",
                            "      <td>no</td>\n",
                            "    </tr>\n",
                            "    <tr>\n",
                            "      <th>4</th>\n",
                            "      <td>no-recurrence-events</td>\n",
                            "      <td>40-49</td>\n",
                            "      <td>premeno</td>\n",
                            "      <td>0-4</td>\n",
                            "      <td>0-2</td>\n",
                            "      <td>no</td>\n",
                            "      <td>2</td>\n",
                            "      <td>right</td>\n",
                            "      <td>right_low</td>\n",
                            "      <td>no</td>\n",
                            "    </tr>\n",
                            "  </tbody>\n",
                            "</table>\n",
                            "</div>"
                        ],
                        "text/plain": [
                            "                  class    age menopause tumor-size inv-nodes node-caps  \\\n",
                            "0  no-recurrence-events  30-39   premeno      30-34       0-2        no   \n",
                            "1  no-recurrence-events  40-49   premeno      20-24       0-2        no   \n",
                            "2  no-recurrence-events  40-49   premeno      20-24       0-2        no   \n",
                            "3  no-recurrence-events  60-69      ge40      15-19       0-2        no   \n",
                            "4  no-recurrence-events  40-49   premeno        0-4       0-2        no   \n",
                            "\n",
                            "   deg-malig breast breast-quad irradiat  \n",
                            "0          3   left    left_low       no  \n",
                            "1          2  right    right_up       no  \n",
                            "2          2   left    left_low       no  \n",
                            "3          2  right     left_up       no  \n",
                            "4          2  right   right_low       no  "
                        ]
                    },
                    "execution_count": 3,
                    "metadata": {},
                    "output_type": "execute_result"
                }
            ],
            "source": [
                "df = pd.read_csv(\n",
                "    \"./data/breast_cancer_cat/breast-cancer.data\",\n",
                "    names=[\n",
                "        \"class\",\n",
                "        \"age\",\n",
                "        \"menopause\",\n",
                "        \"tumor-size\",\n",
                "        \"inv-nodes\",\n",
                "        \"node-caps\",\n",
                "        \"deg-malig\",\n",
                "        \"breast\",\n",
                "        \"breast-quad\",\n",
                "        \"irradiat\",\n",
                "    ],\n",
                ")\n",
                "df.head()"
            ]
        },
        {
            "cell_type": "code",
            "execution_count": 4,
            "metadata": {},
            "outputs": [],
            "source": [
                "# pt.feat_analysis.get_distribution(df)"
            ]
        },
        {
            "cell_type": "code",
            "execution_count": 5,
            "metadata": {},
            "outputs": [],
            "source": [
                "# sns.jointplot(data=df, x=\"deg-malig\", y=\"breast\", hue=\"class\")"
            ]
        },
        {
            "cell_type": "markdown",
            "metadata": {},
            "source": [
                "## Training"
            ]
        },
        {
            "cell_type": "code",
            "execution_count": 6,
            "metadata": {},
            "outputs": [
                {
                    "data": {
                        "text/plain": [
                            "Index(['class', 'age', 'menopause', 'tumor-size', 'inv-nodes', 'node-caps',\n",
                            "       'deg-malig', 'breast', 'breast-quad', 'irradiat'],\n",
                            "      dtype='object')"
                        ]
                    },
                    "execution_count": 6,
                    "metadata": {},
                    "output_type": "execute_result"
                }
            ],
            "source": [
                "df.columns"
            ]
        },
        {
            "cell_type": "code",
            "execution_count": 7,
            "metadata": {},
            "outputs": [
                {
                    "name": "stderr",
                    "output_type": "stream",
                    "text": [
                        "\u001b[32m[I 2022-08-14 19:26:56]\u001b[0m %%% PREPARING DATA\u001b[0m\n",
                        "\u001b[32m[I 2022-08-14 19:26:56]\u001b[0m Read ./config_bc_cat.yml: \n",
                        " {'modelling': {'target_clf': 'class', 'numeric_cols': ['deg-malig'], 'categorical_cols': ['age', 'menopause', 'tumor-size', 'inv-nodes', 'node-caps', 'breast', 'breast-quad', 'irradiat'], 'feature_scaling': False}}\u001b[0m\n",
                        "\u001b[32m[I 2022-08-14 19:26:56]\u001b[0m Created preprocessing pipeline with following steps: ['ohe']\u001b[0m\n",
                        "\u001b[32m[I 2022-08-14 19:26:56]\u001b[0m Applied preprocessing transformations\u001b[0m\n",
                        "\u001b[32m[I 2022-08-14 19:26:56]\u001b[0m Encoded target variable using classes: [(0, 'no-recurrence-events'), (1, 'recurrence-events')]\u001b[0m\n"
                    ]
                }
            ],
            "source": [
                "setup, X_sample, y_sample = pt.modelling.prepare_data(\n",
                "    train_data=df,\n",
                "    config_path=\"./config_bc_cat.yml\",\n",
                ")"
            ]
        },
        {
            "cell_type": "code",
            "execution_count": 8,
            "metadata": {},
            "outputs": [
                {
                    "data": {
                        "text/html": [
                            "<div>\n",
                            "<style scoped>\n",
                            "    .dataframe tbody tr th:only-of-type {\n",
                            "        vertical-align: middle;\n",
                            "    }\n",
                            "\n",
                            "    .dataframe tbody tr th {\n",
                            "        vertical-align: top;\n",
                            "    }\n",
                            "\n",
                            "    .dataframe thead th {\n",
                            "        text-align: right;\n",
                            "    }\n",
                            "</style>\n",
                            "<table border=\"1\" class=\"dataframe\">\n",
                            "  <thead>\n",
                            "    <tr style=\"text-align: right;\">\n",
                            "      <th></th>\n",
                            "      <th>deg-malig</th>\n",
                            "      <th>age_20-29</th>\n",
                            "      <th>age_30-39</th>\n",
                            "      <th>age_40-49</th>\n",
                            "      <th>age_50-59</th>\n",
                            "      <th>age_60-69</th>\n",
                            "      <th>age_70-79</th>\n",
                            "      <th>menopause_ge40</th>\n",
                            "      <th>menopause_lt40</th>\n",
                            "      <th>menopause_premeno</th>\n",
                            "      <th>tumor-size_0-4</th>\n",
                            "      <th>tumor-size_10-14</th>\n",
                            "      <th>tumor-size_15-19</th>\n",
                            "      <th>tumor-size_20-24</th>\n",
                            "      <th>tumor-size_25-29</th>\n",
                            "      <th>tumor-size_30-34</th>\n",
                            "      <th>tumor-size_35-39</th>\n",
                            "      <th>tumor-size_40-44</th>\n",
                            "      <th>tumor-size_45-49</th>\n",
                            "      <th>tumor-size_5-9</th>\n",
                            "      <th>tumor-size_50-54</th>\n",
                            "      <th>inv-nodes_0-2</th>\n",
                            "      <th>inv-nodes_12-14</th>\n",
                            "      <th>inv-nodes_15-17</th>\n",
                            "      <th>inv-nodes_24-26</th>\n",
                            "      <th>inv-nodes_3-5</th>\n",
                            "      <th>inv-nodes_6-8</th>\n",
                            "      <th>inv-nodes_9-11</th>\n",
                            "      <th>node-caps_?</th>\n",
                            "      <th>node-caps_no</th>\n",
                            "      <th>node-caps_yes</th>\n",
                            "      <th>breast_left</th>\n",
                            "      <th>breast_right</th>\n",
                            "      <th>breast-quad_?</th>\n",
                            "      <th>breast-quad_central</th>\n",
                            "      <th>breast-quad_left_low</th>\n",
                            "      <th>breast-quad_left_up</th>\n",
                            "      <th>breast-quad_right_low</th>\n",
                            "      <th>breast-quad_right_up</th>\n",
                            "      <th>irradiat_no</th>\n",
                            "      <th>irradiat_yes</th>\n",
                            "    </tr>\n",
                            "  </thead>\n",
                            "  <tbody>\n",
                            "    <tr>\n",
                            "      <th>0</th>\n",
                            "      <td>3</td>\n",
                            "      <td>0</td>\n",
                            "      <td>1</td>\n",
                            "      <td>0</td>\n",
                            "      <td>0</td>\n",
                            "      <td>0</td>\n",
                            "      <td>0</td>\n",
                            "      <td>0</td>\n",
                            "      <td>0</td>\n",
                            "      <td>1</td>\n",
                            "      <td>0</td>\n",
                            "      <td>0</td>\n",
                            "      <td>0</td>\n",
                            "      <td>0</td>\n",
                            "      <td>0</td>\n",
                            "      <td>1</td>\n",
                            "      <td>0</td>\n",
                            "      <td>0</td>\n",
                            "      <td>0</td>\n",
                            "      <td>0</td>\n",
                            "      <td>0</td>\n",
                            "      <td>1</td>\n",
                            "      <td>0</td>\n",
                            "      <td>0</td>\n",
                            "      <td>0</td>\n",
                            "      <td>0</td>\n",
                            "      <td>0</td>\n",
                            "      <td>0</td>\n",
                            "      <td>0</td>\n",
                            "      <td>1</td>\n",
                            "      <td>0</td>\n",
                            "      <td>1</td>\n",
                            "      <td>0</td>\n",
                            "      <td>0</td>\n",
                            "      <td>0</td>\n",
                            "      <td>1</td>\n",
                            "      <td>0</td>\n",
                            "      <td>0</td>\n",
                            "      <td>0</td>\n",
                            "      <td>1</td>\n",
                            "      <td>0</td>\n",
                            "    </tr>\n",
                            "    <tr>\n",
                            "      <th>1</th>\n",
                            "      <td>2</td>\n",
                            "      <td>0</td>\n",
                            "      <td>0</td>\n",
                            "      <td>1</td>\n",
                            "      <td>0</td>\n",
                            "      <td>0</td>\n",
                            "      <td>0</td>\n",
                            "      <td>0</td>\n",
                            "      <td>0</td>\n",
                            "      <td>1</td>\n",
                            "      <td>0</td>\n",
                            "      <td>0</td>\n",
                            "      <td>0</td>\n",
                            "      <td>1</td>\n",
                            "      <td>0</td>\n",
                            "      <td>0</td>\n",
                            "      <td>0</td>\n",
                            "      <td>0</td>\n",
                            "      <td>0</td>\n",
                            "      <td>0</td>\n",
                            "      <td>0</td>\n",
                            "      <td>1</td>\n",
                            "      <td>0</td>\n",
                            "      <td>0</td>\n",
                            "      <td>0</td>\n",
                            "      <td>0</td>\n",
                            "      <td>0</td>\n",
                            "      <td>0</td>\n",
                            "      <td>0</td>\n",
                            "      <td>1</td>\n",
                            "      <td>0</td>\n",
                            "      <td>0</td>\n",
                            "      <td>1</td>\n",
                            "      <td>0</td>\n",
                            "      <td>0</td>\n",
                            "      <td>0</td>\n",
                            "      <td>0</td>\n",
                            "      <td>0</td>\n",
                            "      <td>1</td>\n",
                            "      <td>1</td>\n",
                            "      <td>0</td>\n",
                            "    </tr>\n",
                            "    <tr>\n",
                            "      <th>2</th>\n",
                            "      <td>2</td>\n",
                            "      <td>0</td>\n",
                            "      <td>0</td>\n",
                            "      <td>1</td>\n",
                            "      <td>0</td>\n",
                            "      <td>0</td>\n",
                            "      <td>0</td>\n",
                            "      <td>0</td>\n",
                            "      <td>0</td>\n",
                            "      <td>1</td>\n",
                            "      <td>0</td>\n",
                            "      <td>0</td>\n",
                            "      <td>0</td>\n",
                            "      <td>1</td>\n",
                            "      <td>0</td>\n",
                            "      <td>0</td>\n",
                            "      <td>0</td>\n",
                            "      <td>0</td>\n",
                            "      <td>0</td>\n",
                            "      <td>0</td>\n",
                            "      <td>0</td>\n",
                            "      <td>1</td>\n",
                            "      <td>0</td>\n",
                            "      <td>0</td>\n",
                            "      <td>0</td>\n",
                            "      <td>0</td>\n",
                            "      <td>0</td>\n",
                            "      <td>0</td>\n",
                            "      <td>0</td>\n",
                            "      <td>1</td>\n",
                            "      <td>0</td>\n",
                            "      <td>1</td>\n",
                            "      <td>0</td>\n",
                            "      <td>0</td>\n",
                            "      <td>0</td>\n",
                            "      <td>1</td>\n",
                            "      <td>0</td>\n",
                            "      <td>0</td>\n",
                            "      <td>0</td>\n",
                            "      <td>1</td>\n",
                            "      <td>0</td>\n",
                            "    </tr>\n",
                            "    <tr>\n",
                            "      <th>3</th>\n",
                            "      <td>2</td>\n",
                            "      <td>0</td>\n",
                            "      <td>0</td>\n",
                            "      <td>0</td>\n",
                            "      <td>0</td>\n",
                            "      <td>1</td>\n",
                            "      <td>0</td>\n",
                            "      <td>1</td>\n",
                            "      <td>0</td>\n",
                            "      <td>0</td>\n",
                            "      <td>0</td>\n",
                            "      <td>0</td>\n",
                            "      <td>1</td>\n",
                            "      <td>0</td>\n",
                            "      <td>0</td>\n",
                            "      <td>0</td>\n",
                            "      <td>0</td>\n",
                            "      <td>0</td>\n",
                            "      <td>0</td>\n",
                            "      <td>0</td>\n",
                            "      <td>0</td>\n",
                            "      <td>1</td>\n",
                            "      <td>0</td>\n",
                            "      <td>0</td>\n",
                            "      <td>0</td>\n",
                            "      <td>0</td>\n",
                            "      <td>0</td>\n",
                            "      <td>0</td>\n",
                            "      <td>0</td>\n",
                            "      <td>1</td>\n",
                            "      <td>0</td>\n",
                            "      <td>0</td>\n",
                            "      <td>1</td>\n",
                            "      <td>0</td>\n",
                            "      <td>0</td>\n",
                            "      <td>0</td>\n",
                            "      <td>1</td>\n",
                            "      <td>0</td>\n",
                            "      <td>0</td>\n",
                            "      <td>1</td>\n",
                            "      <td>0</td>\n",
                            "    </tr>\n",
                            "    <tr>\n",
                            "      <th>4</th>\n",
                            "      <td>2</td>\n",
                            "      <td>0</td>\n",
                            "      <td>0</td>\n",
                            "      <td>1</td>\n",
                            "      <td>0</td>\n",
                            "      <td>0</td>\n",
                            "      <td>0</td>\n",
                            "      <td>0</td>\n",
                            "      <td>0</td>\n",
                            "      <td>1</td>\n",
                            "      <td>1</td>\n",
                            "      <td>0</td>\n",
                            "      <td>0</td>\n",
                            "      <td>0</td>\n",
                            "      <td>0</td>\n",
                            "      <td>0</td>\n",
                            "      <td>0</td>\n",
                            "      <td>0</td>\n",
                            "      <td>0</td>\n",
                            "      <td>0</td>\n",
                            "      <td>0</td>\n",
                            "      <td>1</td>\n",
                            "      <td>0</td>\n",
                            "      <td>0</td>\n",
                            "      <td>0</td>\n",
                            "      <td>0</td>\n",
                            "      <td>0</td>\n",
                            "      <td>0</td>\n",
                            "      <td>0</td>\n",
                            "      <td>1</td>\n",
                            "      <td>0</td>\n",
                            "      <td>0</td>\n",
                            "      <td>1</td>\n",
                            "      <td>0</td>\n",
                            "      <td>0</td>\n",
                            "      <td>0</td>\n",
                            "      <td>0</td>\n",
                            "      <td>1</td>\n",
                            "      <td>0</td>\n",
                            "      <td>1</td>\n",
                            "      <td>0</td>\n",
                            "    </tr>\n",
                            "  </tbody>\n",
                            "</table>\n",
                            "</div>"
                        ],
                        "text/plain": [
                            "   deg-malig  age_20-29  age_30-39  age_40-49  age_50-59  age_60-69  \\\n",
                            "0          3          0          1          0          0          0   \n",
                            "1          2          0          0          1          0          0   \n",
                            "2          2          0          0          1          0          0   \n",
                            "3          2          0          0          0          0          1   \n",
                            "4          2          0          0          1          0          0   \n",
                            "\n",
                            "   age_70-79  menopause_ge40  menopause_lt40  menopause_premeno  \\\n",
                            "0          0               0               0                  1   \n",
                            "1          0               0               0                  1   \n",
                            "2          0               0               0                  1   \n",
                            "3          0               1               0                  0   \n",
                            "4          0               0               0                  1   \n",
                            "\n",
                            "   tumor-size_0-4  tumor-size_10-14  tumor-size_15-19  tumor-size_20-24  \\\n",
                            "0               0                 0                 0                 0   \n",
                            "1               0                 0                 0                 1   \n",
                            "2               0                 0                 0                 1   \n",
                            "3               0                 0                 1                 0   \n",
                            "4               1                 0                 0                 0   \n",
                            "\n",
                            "   tumor-size_25-29  tumor-size_30-34  tumor-size_35-39  tumor-size_40-44  \\\n",
                            "0                 0                 1                 0                 0   \n",
                            "1                 0                 0                 0                 0   \n",
                            "2                 0                 0                 0                 0   \n",
                            "3                 0                 0                 0                 0   \n",
                            "4                 0                 0                 0                 0   \n",
                            "\n",
                            "   tumor-size_45-49  tumor-size_5-9  tumor-size_50-54  inv-nodes_0-2  \\\n",
                            "0                 0               0                 0              1   \n",
                            "1                 0               0                 0              1   \n",
                            "2                 0               0                 0              1   \n",
                            "3                 0               0                 0              1   \n",
                            "4                 0               0                 0              1   \n",
                            "\n",
                            "   inv-nodes_12-14  inv-nodes_15-17  inv-nodes_24-26  inv-nodes_3-5  \\\n",
                            "0                0                0                0              0   \n",
                            "1                0                0                0              0   \n",
                            "2                0                0                0              0   \n",
                            "3                0                0                0              0   \n",
                            "4                0                0                0              0   \n",
                            "\n",
                            "   inv-nodes_6-8  inv-nodes_9-11  node-caps_?  node-caps_no  node-caps_yes  \\\n",
                            "0              0               0            0             1              0   \n",
                            "1              0               0            0             1              0   \n",
                            "2              0               0            0             1              0   \n",
                            "3              0               0            0             1              0   \n",
                            "4              0               0            0             1              0   \n",
                            "\n",
                            "   breast_left  breast_right  breast-quad_?  breast-quad_central  \\\n",
                            "0            1             0              0                    0   \n",
                            "1            0             1              0                    0   \n",
                            "2            1             0              0                    0   \n",
                            "3            0             1              0                    0   \n",
                            "4            0             1              0                    0   \n",
                            "\n",
                            "   breast-quad_left_low  breast-quad_left_up  breast-quad_right_low  \\\n",
                            "0                     1                    0                      0   \n",
                            "1                     0                    0                      0   \n",
                            "2                     1                    0                      0   \n",
                            "3                     0                    1                      0   \n",
                            "4                     0                    0                      1   \n",
                            "\n",
                            "   breast-quad_right_up  irradiat_no  irradiat_yes  \n",
                            "0                     0            1             0  \n",
                            "1                     1            1             0  \n",
                            "2                     0            1             0  \n",
                            "3                     0            1             0  \n",
                            "4                     0            1             0  "
                        ]
                    },
                    "execution_count": 8,
                    "metadata": {},
                    "output_type": "execute_result"
                }
            ],
            "source": [
                "X_sample"
            ]
        },
        {
            "cell_type": "code",
            "execution_count": 9,
            "metadata": {},
            "outputs": [
                {
                    "name": "stderr",
                    "output_type": "stream",
                    "text": [
                        "\u001b[32m[I 2022-08-14 19:26:58]\u001b[0m %%% COMPARING ALGORITHMS\u001b[0m\n",
                        "\u001b[33m[W 2022-08-14 19:26:58]\u001b[0m The algorithms ['lr'] work suboptimally without scaled features. Consider turning it on within the config and rerun pt.modelling.prepare_data().\u001b[0m\n",
                        "\u001b[32m[I 2022-08-14 19:26:58]\u001b[0m Evaluating lr...\u001b[0m\n",
                        "\u001b[32m[I 2022-08-14 19:27:10]\u001b[0m Evaluating nb...\u001b[0m\n"
                    ]
                },
                {
                    "data": {
                        "text/html": [
                            "<div>\n",
                            "<style scoped>\n",
                            "    .dataframe tbody tr th:only-of-type {\n",
                            "        vertical-align: middle;\n",
                            "    }\n",
                            "\n",
                            "    .dataframe tbody tr th {\n",
                            "        vertical-align: top;\n",
                            "    }\n",
                            "\n",
                            "    .dataframe thead th {\n",
                            "        text-align: right;\n",
                            "    }\n",
                            "</style>\n",
                            "<table border=\"1\" class=\"dataframe\">\n",
                            "  <thead>\n",
                            "    <tr style=\"text-align: right;\">\n",
                            "      <th></th>\n",
                            "      <th>algorithm</th>\n",
                            "      <th>accuracy</th>\n",
                            "      <th>precision</th>\n",
                            "      <th>recall</th>\n",
                            "      <th>f1</th>\n",
                            "      <th>roc_auc</th>\n",
                            "      <th>Fit time (s)</th>\n",
                            "    </tr>\n",
                            "  </thead>\n",
                            "  <tbody>\n",
                            "    <tr>\n",
                            "      <th>0</th>\n",
                            "      <td>nb</td>\n",
                            "      <td>0.549</td>\n",
                            "      <td>0.447</td>\n",
                            "      <td>0.835</td>\n",
                            "      <td>0.552</td>\n",
                            "      <td>0.659</td>\n",
                            "      <td>0.042</td>\n",
                            "    </tr>\n",
                            "    <tr>\n",
                            "      <th>1</th>\n",
                            "      <td>lr</td>\n",
                            "      <td>0.678</td>\n",
                            "      <td>0.527</td>\n",
                            "      <td>0.329</td>\n",
                            "      <td>0.338</td>\n",
                            "      <td>0.653</td>\n",
                            "      <td>0.177</td>\n",
                            "    </tr>\n",
                            "  </tbody>\n",
                            "</table>\n",
                            "</div>"
                        ],
                        "text/plain": [
                            "  algorithm  accuracy  precision  recall     f1  roc_auc  Fit time (s)\n",
                            "0        nb     0.549      0.447   0.835  0.552    0.659         0.042\n",
                            "1        lr     0.678      0.527   0.329  0.338    0.653         0.177"
                        ]
                    },
                    "execution_count": 9,
                    "metadata": {},
                    "output_type": "execute_result"
                }
            ],
            "source": [
                "compare_df, algo_list, model_list = pt.modelling.compare_algorithms(\n",
                "    setup=setup,\n",
                "    include=[\n",
                "        \"lr\",\n",
                "        # \"dt\",\n",
                "        # \"rf\",\n",
                "        # \"ridge\",\n",
                "        # \"perceptron\",\n",
                "        # \"passive-aggressive\",\n",
                "        # \"extratree\",\n",
                "        # \"extratrees\",\n",
                "        # \"knn\",\n",
                "        \"nb\",\n",
                "        # \"linearsvc\",\n",
                "        # \"rbfsvc\",\n",
                "    ],\n",
                "    sort=\"f1\",\n",
                "    return_models=True,\n",
                ")\n",
                "compare_df"
            ]
        },
        {
            "cell_type": "code",
            "execution_count": 10,
            "metadata": {},
            "outputs": [
                {
                    "data": {
                        "text/plain": [
                            "array(['recurrence-events', 'no-recurrence-events',\n",
                            "       'no-recurrence-events', 'no-recurrence-events',\n",
                            "       'no-recurrence-events'], dtype=object)"
                        ]
                    },
                    "execution_count": 10,
                    "metadata": {},
                    "output_type": "execute_result"
                }
            ],
            "source": [
                "le = setup.y_clf_encoder\n",
                "preds = model_list[-1].predict(X_sample)\n",
                "le.inverse_transform(preds)"
            ]
        },
        {
            "cell_type": "code",
            "execution_count": 11,
            "metadata": {},
            "outputs": [
                {
                    "name": "stdout",
                    "output_type": "stream",
                    "text": [
                        "(0, 'no-recurrence-events') (1, 'recurrence-events')\n"
                    ]
                }
            ],
            "source": [
                "print(*[(i, class_) for i, class_ in enumerate(le.classes_)])"
            ]
        },
        {
            "cell_type": "code",
            "execution_count": 22,
            "metadata": {},
            "outputs": [
                {
                    "name": "stderr",
                    "output_type": "stream",
                    "text": [
                        "\u001b[32m[I 2022-08-14 19:51:10]\u001b[0m %%% TUNING HYPERPARAMETERS\u001b[0m\n",
                        "\u001b[33m[W 2022-08-14 19:51:10]\u001b[0m The algorithms ['lr'] work suboptimally without scaled features. Consider turning it on within the config and rerun pt.modelling.prepare_data().\u001b[0m\n",
                        "\u001b[32m[I 2022-08-14 19:51:10]\u001b[0m Algorithms: ['lr', 'nb']\u001b[0m\n",
                        "\u001b[32m[I 2022-08-14 19:51:10]\u001b[0m Metric: f1\u001b[0m\n",
                        "\u001b[32m[I 2022-08-14 19:51:10]\u001b[0m Trials per algorithm: 5\u001b[0m\n",
                        "\u001b[32m[I 2022-08-14 19:51:24]\u001b[0m Trial 0 finished with value: 0.3937 and parameters: {'C': 1.9154316830009832, 'l1_ratio': 0.29596106348948914}. Best is trial 0 with value: 0.3937\u001b[0m\n",
                        "\u001b[32m[I 2022-08-14 19:51:24]\u001b[0m Trial 1 finished with value: 0.0000 and parameters: {'C': 2.6792964933674146e-05, 'l1_ratio': 0.045017293161785266}. Best is trial 0 with value: 0.3937\u001b[0m\n",
                        "\u001b[32m[I 2022-08-14 19:51:25]\u001b[0m Trial 2 finished with value: 0.3673 and parameters: {'C': 0.9036031778764756, 'l1_ratio': 0.28620540419414764}. Best is trial 0 with value: 0.3937\u001b[0m\n",
                        "\u001b[32m[I 2022-08-14 19:51:25]\u001b[0m Trial 3 finished with value: 0.0000 and parameters: {'C': 0.005842623919717183, 'l1_ratio': 0.04348436680250778}. Best is trial 0 with value: 0.3937\u001b[0m\n",
                        "\u001b[32m[I 2022-08-14 19:51:27]\u001b[0m Trial 4 finished with value: 0.3980 and parameters: {'C': 3.094429542068682, 'l1_ratio': 0.3315190672496541}. Best is trial 4 with value: 0.3980\u001b[0m\n",
                        "\u001b[32m[I 2022-08-14 19:51:28]\u001b[0m Trial 0 finished with value: 0.5637 and parameters: {'var_smoothing': 9.800076519979414e-07}. Best is trial 0 with value: 0.5637\u001b[0m\n",
                        "\u001b[32m[I 2022-08-14 19:51:28]\u001b[0m Trial 1 finished with value: 0.4678 and parameters: {'var_smoothing': 0.16663022121579651}. Best is trial 0 with value: 0.5637\u001b[0m\n",
                        "\u001b[32m[I 2022-08-14 19:51:28]\u001b[0m Trial 2 finished with value: 0.5449 and parameters: {'var_smoothing': 2.4298522529013947e-05}. Best is trial 0 with value: 0.5637\u001b[0m\n",
                        "\u001b[32m[I 2022-08-14 19:51:29]\u001b[0m Trial 3 finished with value: 0.5454 and parameters: {'var_smoothing': 3.9474664755265105e-05}. Best is trial 0 with value: 0.5637\u001b[0m\n",
                        "\u001b[32m[I 2022-08-14 19:51:29]\u001b[0m Trial 4 finished with value: 0.5574 and parameters: {'var_smoothing': 2.766443614694311e-09}. Best is trial 0 with value: 0.5637\u001b[0m\n",
                        "\u001b[32m[I 2022-08-14 19:51:29]\u001b[0m \n",
                        "   algorithm    metric\n",
                        "0        nb  0.563697\n",
                        "1        lr  0.398025\u001b[0m\n"
                    ]
                },
                {
                    "data": {
                        "text/html": [
                            "<div>\n",
                            "<style scoped>\n",
                            "    .dataframe tbody tr th:only-of-type {\n",
                            "        vertical-align: middle;\n",
                            "    }\n",
                            "\n",
                            "    .dataframe tbody tr th {\n",
                            "        vertical-align: top;\n",
                            "    }\n",
                            "\n",
                            "    .dataframe thead th {\n",
                            "        text-align: right;\n",
                            "    }\n",
                            "</style>\n",
                            "<table border=\"1\" class=\"dataframe\">\n",
                            "  <thead>\n",
                            "    <tr style=\"text-align: right;\">\n",
                            "      <th></th>\n",
                            "      <th>algorithm</th>\n",
                            "      <th>metric</th>\n",
                            "      <th>hyperparams</th>\n",
                            "    </tr>\n",
                            "  </thead>\n",
                            "  <tbody>\n",
                            "    <tr>\n",
                            "      <th>0</th>\n",
                            "      <td>nb</td>\n",
                            "      <td>0.563697</td>\n",
                            "      <td>{'priors': None, 'var_smoothing': 9.8000765199...</td>\n",
                            "    </tr>\n",
                            "    <tr>\n",
                            "      <th>1</th>\n",
                            "      <td>lr</td>\n",
                            "      <td>0.398025</td>\n",
                            "      <td>{'C': 3.094429542068682, 'class_weight': None,...</td>\n",
                            "    </tr>\n",
                            "  </tbody>\n",
                            "</table>\n",
                            "</div>"
                        ],
                        "text/plain": [
                            "  algorithm    metric                                        hyperparams\n",
                            "0        nb  0.563697  {'priors': None, 'var_smoothing': 9.8000765199...\n",
                            "1        lr  0.398025  {'C': 3.094429542068682, 'class_weight': None,..."
                        ]
                    },
                    "execution_count": 22,
                    "metadata": {},
                    "output_type": "execute_result"
                }
            ],
            "source": [
                "compare_df_tune, model_list, opt_history_dict = (\n",
                "        pt.modelling.tune_hyperparams(\n",
                "               setup=setup,\n",
                "               include=[\"lr\", \"nb\"],\n",
                "               optimize=\"f1\",\n",
                "               n_trials=5,\n",
                "               return_models=True,\n",
                "        )\n",
                ")\n",
                "compare_df_tune"
            ]
        },
        {
            "cell_type": "code",
            "execution_count": 21,
            "metadata": {},
            "outputs": [
                {
                    "data": {
                        "application/vnd.plotly.v1+json": {
                            "config": {
                                "plotlyServerURL": "https://plot.ly"
                            },
                            "data": [
                                {
                                    "mode": "markers",
                                    "name": "Objective Value",
                                    "type": "scatter",
                                    "x": [
                                        0,
                                        1,
                                        2,
                                        3,
                                        4,
                                        5,
                                        6,
                                        7,
                                        8,
                                        9,
                                        10,
                                        11,
                                        12,
                                        13,
                                        14,
                                        15,
                                        16,
                                        17,
                                        18,
                                        19,
                                        20,
                                        21,
                                        22,
                                        23,
                                        24,
                                        25,
                                        26,
                                        27,
                                        28,
                                        29,
                                        30,
                                        31,
                                        32,
                                        33,
                                        34,
                                        35,
                                        36,
                                        37,
                                        38,
                                        39,
                                        40,
                                        41,
                                        42,
                                        43,
                                        44,
                                        45,
                                        46,
                                        47,
                                        48,
                                        49,
                                        50,
                                        51,
                                        52,
                                        53,
                                        54,
                                        55,
                                        56,
                                        57,
                                        58,
                                        59,
                                        60,
                                        61,
                                        62,
                                        63,
                                        64,
                                        65,
                                        66,
                                        67,
                                        68,
                                        69,
                                        70,
                                        71,
                                        72,
                                        73,
                                        74,
                                        75,
                                        76,
                                        77,
                                        78,
                                        79,
                                        80,
                                        81,
                                        82,
                                        83,
                                        84,
                                        85,
                                        86,
                                        87,
                                        88,
                                        89,
                                        90,
                                        91,
                                        92,
                                        93,
                                        94,
                                        95,
                                        96,
                                        97,
                                        98,
                                        99,
                                        100,
                                        101,
                                        102,
                                        103,
                                        104,
                                        105,
                                        106,
                                        107,
                                        108,
                                        109,
                                        110,
                                        111,
                                        112,
                                        113,
                                        114,
                                        115,
                                        116,
                                        117,
                                        118,
                                        119,
                                        120,
                                        121,
                                        122,
                                        123,
                                        124,
                                        125,
                                        126,
                                        127,
                                        128,
                                        129,
                                        130,
                                        131,
                                        132,
                                        133,
                                        134,
                                        135,
                                        136,
                                        137,
                                        138,
                                        139,
                                        140,
                                        141,
                                        142,
                                        143,
                                        144,
                                        145,
                                        146,
                                        147,
                                        148,
                                        149
                                    ],
                                    "y": [
                                        0.3791964772815836,
                                        0.34474168231498864,
                                        0,
                                        0.37783345957683173,
                                        0.3799365079365079,
                                        0,
                                        0.40123395445134574,
                                        0.39612040133779264,
                                        0.36870274652883345,
                                        0,
                                        0,
                                        0.2502711323763955,
                                        0.3555234613771199,
                                        0,
                                        0.3702486402486403,
                                        0,
                                        0.3702486402486403,
                                        0.37632900432900435,
                                        0,
                                        0.3555234613771199,
                                        0.39231087752826876,
                                        0.40011575557704926,
                                        0.36269931553070467,
                                        0.38694824016563145,
                                        0.36870274652883345,
                                        0,
                                        0.20574162679425836,
                                        0.39927272727272733,
                                        0.36870274652883345,
                                        0.39802516324255455,
                                        0.38086160216595,
                                        0.39802516324255455,
                                        0.34474168231498864,
                                        0.39035965801607364,
                                        0.3423053589484327,
                                        0.3945108225108226,
                                        0,
                                        0.36870274652883345,
                                        0.3721659499920369,
                                        0.39188899167437563,
                                        0.3512855260681348,
                                        0.39231087752826876,
                                        0.38694824016563145,
                                        0.21429658685088696,
                                        0.36870274652883345,
                                        0.38195670995670994,
                                        0.36870274652883345,
                                        0.39064575264390244,
                                        0,
                                        0,
                                        0,
                                        0.3959891705652521,
                                        0.3697851605758583,
                                        0.347978687978688,
                                        0.3702486402486403,
                                        0,
                                        0.13853073463268367,
                                        0.39802516324255455,
                                        0.39502277432712213,
                                        0.3886945331317073,
                                        0.3299994950260062,
                                        0.39802516324255455,
                                        0.36870274652883345,
                                        0.39802516324255455,
                                        0.39845063069268294,
                                        0.3891964772815836,
                                        0.39612040133779264,
                                        0.391013431013431,
                                        0.36870274652883345,
                                        0.34711505296871153,
                                        0.3802147304798418,
                                        0.39802516324255455,
                                        0.39802516324255455,
                                        0.39845063069268294,
                                        0.39802516324255455,
                                        0.39845063069268294,
                                        0.36870274652883345,
                                        0.33952330454981566,
                                        0.36870274652883345,
                                        0.39636003835818817,
                                        0.38724525776938845,
                                        0.3972525252525253,
                                        0.3557209302325582,
                                        0.39802516324255455,
                                        0.39231087752826876,
                                        0.38724525776938845,
                                        0.36870274652883345,
                                        0,
                                        0.39802516324255455,
                                        0.3972525252525253,
                                        0.39845063069268294,
                                        0.39064575264390244,
                                        0.3721659499920369,
                                        0.3891964772815836,
                                        0,
                                        0.3600398671096346,
                                        0.3937391304347827,
                                        0.36870274652883345,
                                        0.39802516324255455,
                                        0.39802516324255455,
                                        0.40123395445134574,
                                        0.39845063069268294,
                                        0.39845063069268294,
                                        0.3702486402486403,
                                        0.36870274652883345,
                                        0.39231087752826876,
                                        0.38724525776938845,
                                        0.352968292968293,
                                        0.39802516324255455,
                                        0.4029659147512986,
                                        0.39612040133779264,
                                        0.38183468705207835,
                                        0.3624761904761905,
                                        0.3697851605758583,
                                        0.39064575264390244,
                                        0.39802516324255455,
                                        0.38724525776938845,
                                        0.39612040133779264,
                                        0,
                                        0.39802516324255455,
                                        0.3721659499920369,
                                        0.39035965801607364,
                                        0.38724525776938845,
                                        0.39802516324255455,
                                        0.3697851605758583,
                                        0.39231087752826876,
                                        0.39802516324255455,
                                        0.36870274652883345,
                                        0.3937391304347827,
                                        0.4029659147512986,
                                        0.4080794678648518,
                                        0.40123395445134574,
                                        0.4029659147512986,
                                        0.39188899167437563,
                                        0.3423053589484327,
                                        0.30776942355889725,
                                        0.36734883720930234,
                                        0.40123395445134574,
                                        0.4048160535117057,
                                        0.40876862268166614,
                                        0.4033729061636039,
                                        0.3922959830866808,
                                        0.3697851605758583,
                                        0.39453989520293326,
                                        0.34474168231498864,
                                        0.2611802232854864,
                                        0.3321946169772257,
                                        0.40876862268166614,
                                        0.3922959830866808,
                                        0.40754897276636404
                                    ]
                                },
                                {
                                    "name": "Best Value",
                                    "type": "scatter",
                                    "x": [
                                        0,
                                        1,
                                        2,
                                        3,
                                        4,
                                        5,
                                        6,
                                        7,
                                        8,
                                        9,
                                        10,
                                        11,
                                        12,
                                        13,
                                        14,
                                        15,
                                        16,
                                        17,
                                        18,
                                        19,
                                        20,
                                        21,
                                        22,
                                        23,
                                        24,
                                        25,
                                        26,
                                        27,
                                        28,
                                        29,
                                        30,
                                        31,
                                        32,
                                        33,
                                        34,
                                        35,
                                        36,
                                        37,
                                        38,
                                        39,
                                        40,
                                        41,
                                        42,
                                        43,
                                        44,
                                        45,
                                        46,
                                        47,
                                        48,
                                        49,
                                        50,
                                        51,
                                        52,
                                        53,
                                        54,
                                        55,
                                        56,
                                        57,
                                        58,
                                        59,
                                        60,
                                        61,
                                        62,
                                        63,
                                        64,
                                        65,
                                        66,
                                        67,
                                        68,
                                        69,
                                        70,
                                        71,
                                        72,
                                        73,
                                        74,
                                        75,
                                        76,
                                        77,
                                        78,
                                        79,
                                        80,
                                        81,
                                        82,
                                        83,
                                        84,
                                        85,
                                        86,
                                        87,
                                        88,
                                        89,
                                        90,
                                        91,
                                        92,
                                        93,
                                        94,
                                        95,
                                        96,
                                        97,
                                        98,
                                        99,
                                        100,
                                        101,
                                        102,
                                        103,
                                        104,
                                        105,
                                        106,
                                        107,
                                        108,
                                        109,
                                        110,
                                        111,
                                        112,
                                        113,
                                        114,
                                        115,
                                        116,
                                        117,
                                        118,
                                        119,
                                        120,
                                        121,
                                        122,
                                        123,
                                        124,
                                        125,
                                        126,
                                        127,
                                        128,
                                        129,
                                        130,
                                        131,
                                        132,
                                        133,
                                        134,
                                        135,
                                        136,
                                        137,
                                        138,
                                        139,
                                        140,
                                        141,
                                        142,
                                        143,
                                        144,
                                        145,
                                        146,
                                        147,
                                        148,
                                        149
                                    ],
                                    "y": [
                                        0.3791964772815836,
                                        0.3791964772815836,
                                        0.3791964772815836,
                                        0.3791964772815836,
                                        0.3799365079365079,
                                        0.3799365079365079,
                                        0.40123395445134574,
                                        0.40123395445134574,
                                        0.40123395445134574,
                                        0.40123395445134574,
                                        0.40123395445134574,
                                        0.40123395445134574,
                                        0.40123395445134574,
                                        0.40123395445134574,
                                        0.40123395445134574,
                                        0.40123395445134574,
                                        0.40123395445134574,
                                        0.40123395445134574,
                                        0.40123395445134574,
                                        0.40123395445134574,
                                        0.40123395445134574,
                                        0.40123395445134574,
                                        0.40123395445134574,
                                        0.40123395445134574,
                                        0.40123395445134574,
                                        0.40123395445134574,
                                        0.40123395445134574,
                                        0.40123395445134574,
                                        0.40123395445134574,
                                        0.40123395445134574,
                                        0.40123395445134574,
                                        0.40123395445134574,
                                        0.40123395445134574,
                                        0.40123395445134574,
                                        0.40123395445134574,
                                        0.40123395445134574,
                                        0.40123395445134574,
                                        0.40123395445134574,
                                        0.40123395445134574,
                                        0.40123395445134574,
                                        0.40123395445134574,
                                        0.40123395445134574,
                                        0.40123395445134574,
                                        0.40123395445134574,
                                        0.40123395445134574,
                                        0.40123395445134574,
                                        0.40123395445134574,
                                        0.40123395445134574,
                                        0.40123395445134574,
                                        0.40123395445134574,
                                        0.40123395445134574,
                                        0.40123395445134574,
                                        0.40123395445134574,
                                        0.40123395445134574,
                                        0.40123395445134574,
                                        0.40123395445134574,
                                        0.40123395445134574,
                                        0.40123395445134574,
                                        0.40123395445134574,
                                        0.40123395445134574,
                                        0.40123395445134574,
                                        0.40123395445134574,
                                        0.40123395445134574,
                                        0.40123395445134574,
                                        0.40123395445134574,
                                        0.40123395445134574,
                                        0.40123395445134574,
                                        0.40123395445134574,
                                        0.40123395445134574,
                                        0.40123395445134574,
                                        0.40123395445134574,
                                        0.40123395445134574,
                                        0.40123395445134574,
                                        0.40123395445134574,
                                        0.40123395445134574,
                                        0.40123395445134574,
                                        0.40123395445134574,
                                        0.40123395445134574,
                                        0.40123395445134574,
                                        0.40123395445134574,
                                        0.40123395445134574,
                                        0.40123395445134574,
                                        0.40123395445134574,
                                        0.40123395445134574,
                                        0.40123395445134574,
                                        0.40123395445134574,
                                        0.40123395445134574,
                                        0.40123395445134574,
                                        0.40123395445134574,
                                        0.40123395445134574,
                                        0.40123395445134574,
                                        0.40123395445134574,
                                        0.40123395445134574,
                                        0.40123395445134574,
                                        0.40123395445134574,
                                        0.40123395445134574,
                                        0.40123395445134574,
                                        0.40123395445134574,
                                        0.40123395445134574,
                                        0.40123395445134574,
                                        0.40123395445134574,
                                        0.40123395445134574,
                                        0.40123395445134574,
                                        0.40123395445134574,
                                        0.40123395445134574,
                                        0.40123395445134574,
                                        0.40123395445134574,
                                        0.40123395445134574,
                                        0.40123395445134574,
                                        0.4029659147512986,
                                        0.4029659147512986,
                                        0.4029659147512986,
                                        0.4029659147512986,
                                        0.4029659147512986,
                                        0.4029659147512986,
                                        0.4029659147512986,
                                        0.4029659147512986,
                                        0.4029659147512986,
                                        0.4029659147512986,
                                        0.4029659147512986,
                                        0.4029659147512986,
                                        0.4029659147512986,
                                        0.4029659147512986,
                                        0.4029659147512986,
                                        0.4029659147512986,
                                        0.4029659147512986,
                                        0.4029659147512986,
                                        0.4029659147512986,
                                        0.4029659147512986,
                                        0.4029659147512986,
                                        0.4080794678648518,
                                        0.4080794678648518,
                                        0.4080794678648518,
                                        0.4080794678648518,
                                        0.4080794678648518,
                                        0.4080794678648518,
                                        0.4080794678648518,
                                        0.4080794678648518,
                                        0.4080794678648518,
                                        0.40876862268166614,
                                        0.40876862268166614,
                                        0.40876862268166614,
                                        0.40876862268166614,
                                        0.40876862268166614,
                                        0.40876862268166614,
                                        0.40876862268166614,
                                        0.40876862268166614,
                                        0.40876862268166614,
                                        0.40876862268166614,
                                        0.40876862268166614
                                    ]
                                }
                            ],
                            "layout": {
                                "template": {
                                    "data": {
                                        "bar": [
                                            {
                                                "error_x": {
                                                    "color": "#2a3f5f"
                                                },
                                                "error_y": {
                                                    "color": "#2a3f5f"
                                                },
                                                "marker": {
                                                    "line": {
                                                        "color": "#E5ECF6",
                                                        "width": 0.5
                                                    },
                                                    "pattern": {
                                                        "fillmode": "overlay",
                                                        "size": 10,
                                                        "solidity": 0.2
                                                    }
                                                },
                                                "type": "bar"
                                            }
                                        ],
                                        "barpolar": [
                                            {
                                                "marker": {
                                                    "line": {
                                                        "color": "#E5ECF6",
                                                        "width": 0.5
                                                    },
                                                    "pattern": {
                                                        "fillmode": "overlay",
                                                        "size": 10,
                                                        "solidity": 0.2
                                                    }
                                                },
                                                "type": "barpolar"
                                            }
                                        ],
                                        "carpet": [
                                            {
                                                "aaxis": {
                                                    "endlinecolor": "#2a3f5f",
                                                    "gridcolor": "white",
                                                    "linecolor": "white",
                                                    "minorgridcolor": "white",
                                                    "startlinecolor": "#2a3f5f"
                                                },
                                                "baxis": {
                                                    "endlinecolor": "#2a3f5f",
                                                    "gridcolor": "white",
                                                    "linecolor": "white",
                                                    "minorgridcolor": "white",
                                                    "startlinecolor": "#2a3f5f"
                                                },
                                                "type": "carpet"
                                            }
                                        ],
                                        "choropleth": [
                                            {
                                                "colorbar": {
                                                    "outlinewidth": 0,
                                                    "ticks": ""
                                                },
                                                "type": "choropleth"
                                            }
                                        ],
                                        "contour": [
                                            {
                                                "colorbar": {
                                                    "outlinewidth": 0,
                                                    "ticks": ""
                                                },
                                                "colorscale": [
                                                    [
                                                        0,
                                                        "#0d0887"
                                                    ],
                                                    [
                                                        0.1111111111111111,
                                                        "#46039f"
                                                    ],
                                                    [
                                                        0.2222222222222222,
                                                        "#7201a8"
                                                    ],
                                                    [
                                                        0.3333333333333333,
                                                        "#9c179e"
                                                    ],
                                                    [
                                                        0.4444444444444444,
                                                        "#bd3786"
                                                    ],
                                                    [
                                                        0.5555555555555556,
                                                        "#d8576b"
                                                    ],
                                                    [
                                                        0.6666666666666666,
                                                        "#ed7953"
                                                    ],
                                                    [
                                                        0.7777777777777778,
                                                        "#fb9f3a"
                                                    ],
                                                    [
                                                        0.8888888888888888,
                                                        "#fdca26"
                                                    ],
                                                    [
                                                        1,
                                                        "#f0f921"
                                                    ]
                                                ],
                                                "type": "contour"
                                            }
                                        ],
                                        "contourcarpet": [
                                            {
                                                "colorbar": {
                                                    "outlinewidth": 0,
                                                    "ticks": ""
                                                },
                                                "type": "contourcarpet"
                                            }
                                        ],
                                        "heatmap": [
                                            {
                                                "colorbar": {
                                                    "outlinewidth": 0,
                                                    "ticks": ""
                                                },
                                                "colorscale": [
                                                    [
                                                        0,
                                                        "#0d0887"
                                                    ],
                                                    [
                                                        0.1111111111111111,
                                                        "#46039f"
                                                    ],
                                                    [
                                                        0.2222222222222222,
                                                        "#7201a8"
                                                    ],
                                                    [
                                                        0.3333333333333333,
                                                        "#9c179e"
                                                    ],
                                                    [
                                                        0.4444444444444444,
                                                        "#bd3786"
                                                    ],
                                                    [
                                                        0.5555555555555556,
                                                        "#d8576b"
                                                    ],
                                                    [
                                                        0.6666666666666666,
                                                        "#ed7953"
                                                    ],
                                                    [
                                                        0.7777777777777778,
                                                        "#fb9f3a"
                                                    ],
                                                    [
                                                        0.8888888888888888,
                                                        "#fdca26"
                                                    ],
                                                    [
                                                        1,
                                                        "#f0f921"
                                                    ]
                                                ],
                                                "type": "heatmap"
                                            }
                                        ],
                                        "heatmapgl": [
                                            {
                                                "colorbar": {
                                                    "outlinewidth": 0,
                                                    "ticks": ""
                                                },
                                                "colorscale": [
                                                    [
                                                        0,
                                                        "#0d0887"
                                                    ],
                                                    [
                                                        0.1111111111111111,
                                                        "#46039f"
                                                    ],
                                                    [
                                                        0.2222222222222222,
                                                        "#7201a8"
                                                    ],
                                                    [
                                                        0.3333333333333333,
                                                        "#9c179e"
                                                    ],
                                                    [
                                                        0.4444444444444444,
                                                        "#bd3786"
                                                    ],
                                                    [
                                                        0.5555555555555556,
                                                        "#d8576b"
                                                    ],
                                                    [
                                                        0.6666666666666666,
                                                        "#ed7953"
                                                    ],
                                                    [
                                                        0.7777777777777778,
                                                        "#fb9f3a"
                                                    ],
                                                    [
                                                        0.8888888888888888,
                                                        "#fdca26"
                                                    ],
                                                    [
                                                        1,
                                                        "#f0f921"
                                                    ]
                                                ],
                                                "type": "heatmapgl"
                                            }
                                        ],
                                        "histogram": [
                                            {
                                                "marker": {
                                                    "pattern": {
                                                        "fillmode": "overlay",
                                                        "size": 10,
                                                        "solidity": 0.2
                                                    }
                                                },
                                                "type": "histogram"
                                            }
                                        ],
                                        "histogram2d": [
                                            {
                                                "colorbar": {
                                                    "outlinewidth": 0,
                                                    "ticks": ""
                                                },
                                                "colorscale": [
                                                    [
                                                        0,
                                                        "#0d0887"
                                                    ],
                                                    [
                                                        0.1111111111111111,
                                                        "#46039f"
                                                    ],
                                                    [
                                                        0.2222222222222222,
                                                        "#7201a8"
                                                    ],
                                                    [
                                                        0.3333333333333333,
                                                        "#9c179e"
                                                    ],
                                                    [
                                                        0.4444444444444444,
                                                        "#bd3786"
                                                    ],
                                                    [
                                                        0.5555555555555556,
                                                        "#d8576b"
                                                    ],
                                                    [
                                                        0.6666666666666666,
                                                        "#ed7953"
                                                    ],
                                                    [
                                                        0.7777777777777778,
                                                        "#fb9f3a"
                                                    ],
                                                    [
                                                        0.8888888888888888,
                                                        "#fdca26"
                                                    ],
                                                    [
                                                        1,
                                                        "#f0f921"
                                                    ]
                                                ],
                                                "type": "histogram2d"
                                            }
                                        ],
                                        "histogram2dcontour": [
                                            {
                                                "colorbar": {
                                                    "outlinewidth": 0,
                                                    "ticks": ""
                                                },
                                                "colorscale": [
                                                    [
                                                        0,
                                                        "#0d0887"
                                                    ],
                                                    [
                                                        0.1111111111111111,
                                                        "#46039f"
                                                    ],
                                                    [
                                                        0.2222222222222222,
                                                        "#7201a8"
                                                    ],
                                                    [
                                                        0.3333333333333333,
                                                        "#9c179e"
                                                    ],
                                                    [
                                                        0.4444444444444444,
                                                        "#bd3786"
                                                    ],
                                                    [
                                                        0.5555555555555556,
                                                        "#d8576b"
                                                    ],
                                                    [
                                                        0.6666666666666666,
                                                        "#ed7953"
                                                    ],
                                                    [
                                                        0.7777777777777778,
                                                        "#fb9f3a"
                                                    ],
                                                    [
                                                        0.8888888888888888,
                                                        "#fdca26"
                                                    ],
                                                    [
                                                        1,
                                                        "#f0f921"
                                                    ]
                                                ],
                                                "type": "histogram2dcontour"
                                            }
                                        ],
                                        "mesh3d": [
                                            {
                                                "colorbar": {
                                                    "outlinewidth": 0,
                                                    "ticks": ""
                                                },
                                                "type": "mesh3d"
                                            }
                                        ],
                                        "parcoords": [
                                            {
                                                "line": {
                                                    "colorbar": {
                                                        "outlinewidth": 0,
                                                        "ticks": ""
                                                    }
                                                },
                                                "type": "parcoords"
                                            }
                                        ],
                                        "pie": [
                                            {
                                                "automargin": true,
                                                "type": "pie"
                                            }
                                        ],
                                        "scatter": [
                                            {
                                                "fillpattern": {
                                                    "fillmode": "overlay",
                                                    "size": 10,
                                                    "solidity": 0.2
                                                },
                                                "type": "scatter"
                                            }
                                        ],
                                        "scatter3d": [
                                            {
                                                "line": {
                                                    "colorbar": {
                                                        "outlinewidth": 0,
                                                        "ticks": ""
                                                    }
                                                },
                                                "marker": {
                                                    "colorbar": {
                                                        "outlinewidth": 0,
                                                        "ticks": ""
                                                    }
                                                },
                                                "type": "scatter3d"
                                            }
                                        ],
                                        "scattercarpet": [
                                            {
                                                "marker": {
                                                    "colorbar": {
                                                        "outlinewidth": 0,
                                                        "ticks": ""
                                                    }
                                                },
                                                "type": "scattercarpet"
                                            }
                                        ],
                                        "scattergeo": [
                                            {
                                                "marker": {
                                                    "colorbar": {
                                                        "outlinewidth": 0,
                                                        "ticks": ""
                                                    }
                                                },
                                                "type": "scattergeo"
                                            }
                                        ],
                                        "scattergl": [
                                            {
                                                "marker": {
                                                    "colorbar": {
                                                        "outlinewidth": 0,
                                                        "ticks": ""
                                                    }
                                                },
                                                "type": "scattergl"
                                            }
                                        ],
                                        "scattermapbox": [
                                            {
                                                "marker": {
                                                    "colorbar": {
                                                        "outlinewidth": 0,
                                                        "ticks": ""
                                                    }
                                                },
                                                "type": "scattermapbox"
                                            }
                                        ],
                                        "scatterpolar": [
                                            {
                                                "marker": {
                                                    "colorbar": {
                                                        "outlinewidth": 0,
                                                        "ticks": ""
                                                    }
                                                },
                                                "type": "scatterpolar"
                                            }
                                        ],
                                        "scatterpolargl": [
                                            {
                                                "marker": {
                                                    "colorbar": {
                                                        "outlinewidth": 0,
                                                        "ticks": ""
                                                    }
                                                },
                                                "type": "scatterpolargl"
                                            }
                                        ],
                                        "scatterternary": [
                                            {
                                                "marker": {
                                                    "colorbar": {
                                                        "outlinewidth": 0,
                                                        "ticks": ""
                                                    }
                                                },
                                                "type": "scatterternary"
                                            }
                                        ],
                                        "surface": [
                                            {
                                                "colorbar": {
                                                    "outlinewidth": 0,
                                                    "ticks": ""
                                                },
                                                "colorscale": [
                                                    [
                                                        0,
                                                        "#0d0887"
                                                    ],
                                                    [
                                                        0.1111111111111111,
                                                        "#46039f"
                                                    ],
                                                    [
                                                        0.2222222222222222,
                                                        "#7201a8"
                                                    ],
                                                    [
                                                        0.3333333333333333,
                                                        "#9c179e"
                                                    ],
                                                    [
                                                        0.4444444444444444,
                                                        "#bd3786"
                                                    ],
                                                    [
                                                        0.5555555555555556,
                                                        "#d8576b"
                                                    ],
                                                    [
                                                        0.6666666666666666,
                                                        "#ed7953"
                                                    ],
                                                    [
                                                        0.7777777777777778,
                                                        "#fb9f3a"
                                                    ],
                                                    [
                                                        0.8888888888888888,
                                                        "#fdca26"
                                                    ],
                                                    [
                                                        1,
                                                        "#f0f921"
                                                    ]
                                                ],
                                                "type": "surface"
                                            }
                                        ],
                                        "table": [
                                            {
                                                "cells": {
                                                    "fill": {
                                                        "color": "#EBF0F8"
                                                    },
                                                    "line": {
                                                        "color": "white"
                                                    }
                                                },
                                                "header": {
                                                    "fill": {
                                                        "color": "#C8D4E3"
                                                    },
                                                    "line": {
                                                        "color": "white"
                                                    }
                                                },
                                                "type": "table"
                                            }
                                        ]
                                    },
                                    "layout": {
                                        "annotationdefaults": {
                                            "arrowcolor": "#2a3f5f",
                                            "arrowhead": 0,
                                            "arrowwidth": 1
                                        },
                                        "autotypenumbers": "strict",
                                        "coloraxis": {
                                            "colorbar": {
                                                "outlinewidth": 0,
                                                "ticks": ""
                                            }
                                        },
                                        "colorscale": {
                                            "diverging": [
                                                [
                                                    0,
                                                    "#8e0152"
                                                ],
                                                [
                                                    0.1,
                                                    "#c51b7d"
                                                ],
                                                [
                                                    0.2,
                                                    "#de77ae"
                                                ],
                                                [
                                                    0.3,
                                                    "#f1b6da"
                                                ],
                                                [
                                                    0.4,
                                                    "#fde0ef"
                                                ],
                                                [
                                                    0.5,
                                                    "#f7f7f7"
                                                ],
                                                [
                                                    0.6,
                                                    "#e6f5d0"
                                                ],
                                                [
                                                    0.7,
                                                    "#b8e186"
                                                ],
                                                [
                                                    0.8,
                                                    "#7fbc41"
                                                ],
                                                [
                                                    0.9,
                                                    "#4d9221"
                                                ],
                                                [
                                                    1,
                                                    "#276419"
                                                ]
                                            ],
                                            "sequential": [
                                                [
                                                    0,
                                                    "#0d0887"
                                                ],
                                                [
                                                    0.1111111111111111,
                                                    "#46039f"
                                                ],
                                                [
                                                    0.2222222222222222,
                                                    "#7201a8"
                                                ],
                                                [
                                                    0.3333333333333333,
                                                    "#9c179e"
                                                ],
                                                [
                                                    0.4444444444444444,
                                                    "#bd3786"
                                                ],
                                                [
                                                    0.5555555555555556,
                                                    "#d8576b"
                                                ],
                                                [
                                                    0.6666666666666666,
                                                    "#ed7953"
                                                ],
                                                [
                                                    0.7777777777777778,
                                                    "#fb9f3a"
                                                ],
                                                [
                                                    0.8888888888888888,
                                                    "#fdca26"
                                                ],
                                                [
                                                    1,
                                                    "#f0f921"
                                                ]
                                            ],
                                            "sequentialminus": [
                                                [
                                                    0,
                                                    "#0d0887"
                                                ],
                                                [
                                                    0.1111111111111111,
                                                    "#46039f"
                                                ],
                                                [
                                                    0.2222222222222222,
                                                    "#7201a8"
                                                ],
                                                [
                                                    0.3333333333333333,
                                                    "#9c179e"
                                                ],
                                                [
                                                    0.4444444444444444,
                                                    "#bd3786"
                                                ],
                                                [
                                                    0.5555555555555556,
                                                    "#d8576b"
                                                ],
                                                [
                                                    0.6666666666666666,
                                                    "#ed7953"
                                                ],
                                                [
                                                    0.7777777777777778,
                                                    "#fb9f3a"
                                                ],
                                                [
                                                    0.8888888888888888,
                                                    "#fdca26"
                                                ],
                                                [
                                                    1,
                                                    "#f0f921"
                                                ]
                                            ]
                                        },
                                        "colorway": [
                                            "#636efa",
                                            "#EF553B",
                                            "#00cc96",
                                            "#ab63fa",
                                            "#FFA15A",
                                            "#19d3f3",
                                            "#FF6692",
                                            "#B6E880",
                                            "#FF97FF",
                                            "#FECB52"
                                        ],
                                        "font": {
                                            "color": "#2a3f5f"
                                        },
                                        "geo": {
                                            "bgcolor": "white",
                                            "lakecolor": "white",
                                            "landcolor": "#E5ECF6",
                                            "showlakes": true,
                                            "showland": true,
                                            "subunitcolor": "white"
                                        },
                                        "hoverlabel": {
                                            "align": "left"
                                        },
                                        "hovermode": "closest",
                                        "mapbox": {
                                            "style": "light"
                                        },
                                        "paper_bgcolor": "white",
                                        "plot_bgcolor": "#E5ECF6",
                                        "polar": {
                                            "angularaxis": {
                                                "gridcolor": "white",
                                                "linecolor": "white",
                                                "ticks": ""
                                            },
                                            "bgcolor": "#E5ECF6",
                                            "radialaxis": {
                                                "gridcolor": "white",
                                                "linecolor": "white",
                                                "ticks": ""
                                            }
                                        },
                                        "scene": {
                                            "xaxis": {
                                                "backgroundcolor": "#E5ECF6",
                                                "gridcolor": "white",
                                                "gridwidth": 2,
                                                "linecolor": "white",
                                                "showbackground": true,
                                                "ticks": "",
                                                "zerolinecolor": "white"
                                            },
                                            "yaxis": {
                                                "backgroundcolor": "#E5ECF6",
                                                "gridcolor": "white",
                                                "gridwidth": 2,
                                                "linecolor": "white",
                                                "showbackground": true,
                                                "ticks": "",
                                                "zerolinecolor": "white"
                                            },
                                            "zaxis": {
                                                "backgroundcolor": "#E5ECF6",
                                                "gridcolor": "white",
                                                "gridwidth": 2,
                                                "linecolor": "white",
                                                "showbackground": true,
                                                "ticks": "",
                                                "zerolinecolor": "white"
                                            }
                                        },
                                        "shapedefaults": {
                                            "line": {
                                                "color": "#2a3f5f"
                                            }
                                        },
                                        "ternary": {
                                            "aaxis": {
                                                "gridcolor": "white",
                                                "linecolor": "white",
                                                "ticks": ""
                                            },
                                            "baxis": {
                                                "gridcolor": "white",
                                                "linecolor": "white",
                                                "ticks": ""
                                            },
                                            "bgcolor": "#E5ECF6",
                                            "caxis": {
                                                "gridcolor": "white",
                                                "linecolor": "white",
                                                "ticks": ""
                                            }
                                        },
                                        "title": {
                                            "x": 0.05
                                        },
                                        "xaxis": {
                                            "automargin": true,
                                            "gridcolor": "white",
                                            "linecolor": "white",
                                            "ticks": "",
                                            "title": {
                                                "standoff": 15
                                            },
                                            "zerolinecolor": "white",
                                            "zerolinewidth": 2
                                        },
                                        "yaxis": {
                                            "automargin": true,
                                            "gridcolor": "white",
                                            "linecolor": "white",
                                            "ticks": "",
                                            "title": {
                                                "standoff": 15
                                            },
                                            "zerolinecolor": "white",
                                            "zerolinewidth": 2
                                        }
                                    }
                                },
                                "title": {
                                    "text": "Optimization History Plot"
                                },
                                "xaxis": {
                                    "title": {
                                        "text": "#Trials"
                                    }
                                },
                                "yaxis": {
                                    "title": {
                                        "text": "Objective Value"
                                    }
                                }
                            }
                        }
                    },
                    "metadata": {},
                    "output_type": "display_data"
                }
            ],
            "source": [
                "opt_history_dict[\"lr\"].show()"
            ]
        },
        {
            "cell_type": "code",
            "execution_count": 68,
            "metadata": {},
            "outputs": [
                {
                    "name": "stderr",
                    "output_type": "stream",
                    "text": [
                        "\u001b[32m[I 2022-08-14 22:18:37]\u001b[0m %%% REDUCING FEATURE SPACE\u001b[0m\n",
                        "\u001b[32m[I 2022-08-14 22:18:37]\u001b[0m Algorithm selected for feature space reduction: nb\u001b[0m\n",
                        "\u001b[32m[I 2022-08-14 22:18:37]\u001b[0m Metric to optimize for: f1\u001b[0m\n",
                        "\u001b[32m[I 2022-08-14 22:18:37]\u001b[0m Minimum acceptable metric: 0.558 or 0.99 * reference metric (0.564)\u001b[0m\n",
                        "\u001b[32m[I 2022-08-14 22:18:48]\u001b[0m Feature count: 40, metric: 0.581 (new best), removing worst feature: breast-quad_right_up\u001b[0m\n",
                        "\u001b[32m[I 2022-08-14 22:19:04]\u001b[0m Feature count: 39, metric: 0.586 (new best), removing worst feature: tumor-size_15-19\u001b[0m\n",
                        "\u001b[32m[I 2022-08-14 22:19:08]\u001b[0m Feature count: 38, metric: 0.588 (new best), removing worst feature: inv-nodes_15-17\u001b[0m\n",
                        "\u001b[32m[I 2022-08-14 22:19:12]\u001b[0m Feature count: 37, metric: 0.590 (new best), removing worst feature: tumor-size_40-44\u001b[0m\n",
                        "\u001b[32m[I 2022-08-14 22:19:19]\u001b[0m Feature count: 36, metric: 0.590, removing worst feature: age_40-49\u001b[0m\n",
                        "\u001b[32m[I 2022-08-14 22:19:28]\u001b[0m Feature count: 35, metric: 0.590, removing worst feature: age_50-59\u001b[0m\n",
                        "\u001b[32m[I 2022-08-14 22:19:39]\u001b[0m Feature count: 34, metric: 0.590, removing worst feature: age_60-69\u001b[0m\n",
                        "\u001b[32m[I 2022-08-14 22:19:48]\u001b[0m Feature count: 33, metric: 0.594 (new best), removing worst feature: tumor-size_25-29\u001b[0m\n",
                        "\u001b[32m[I 2022-08-14 22:19:56]\u001b[0m Feature count: 32, metric: 0.597 (new best), removing worst feature: breast-quad_central\u001b[0m\n",
                        "\u001b[32m[I 2022-08-14 22:20:04]\u001b[0m Feature count: 31, metric: 0.600 (new best), removing worst feature: menopause_ge40\u001b[0m\n",
                        "\u001b[32m[I 2022-08-14 22:20:12]\u001b[0m Feature count: 30, metric: 0.603 (new best), removing worst feature: menopause_premeno\u001b[0m\n",
                        "\u001b[32m[I 2022-08-14 22:20:23]\u001b[0m Feature count: 29, metric: 0.603, removing worst feature: breast_left\u001b[0m\n",
                        "\u001b[32m[I 2022-08-14 22:20:35]\u001b[0m Feature count: 28, metric: 0.603, removing worst feature: tumor-size_20-24\u001b[0m\n",
                        "\u001b[32m[I 2022-08-14 22:20:46]\u001b[0m Feature count: 27, metric: 0.603, removing worst feature: breast-quad_left_low\u001b[0m\n",
                        "\u001b[32m[I 2022-08-14 22:20:56]\u001b[0m Feature count: 26, metric: 0.598, removing worst feature: node-caps_?\u001b[0m\n",
                        "\u001b[32m[I 2022-08-14 22:21:06]\u001b[0m Feature count: 25, metric: 0.597, removing worst feature: breast-quad_right_low\u001b[0m\n",
                        "\u001b[32m[I 2022-08-14 22:21:15]\u001b[0m Feature count: 24, metric: 0.593, removing worst feature: tumor-size_30-34\u001b[0m\n",
                        "\u001b[32m[I 2022-08-14 22:21:15]\u001b[0m Best f1 score found: 0.603\u001b[0m\n",
                        "\u001b[32m[I 2022-08-14 22:21:15]\u001b[0m Feature list for best score: ['deg-malig', 'age_20-29', 'age_30-39', 'age_70-79', 'menopause_lt40', 'tumor-size_0-4', 'tumor-size_10-14', 'tumor-size_30-34', 'tumor-size_35-39', 'tumor-size_45-49', 'tumor-size_5-9', 'tumor-size_50-54', 'inv-nodes_0-2', 'inv-nodes_12-14', 'inv-nodes_24-26', 'inv-nodes_3-5', 'inv-nodes_6-8', 'inv-nodes_9-11', 'node-caps_?', 'node-caps_no', 'node-caps_yes', 'breast_right', 'breast-quad_?', 'breast-quad_left_up', 'breast-quad_right_low', 'irradiat_no', 'irradiat_yes']\u001b[0m\n"
                    ]
                },
                {
                    "data": {
                        "image/png": "[encoded data removed]",
                        "text/plain": [
                            "<Figure size 432x288 with 1 Axes>"
                        ]
                    },
                    "metadata": {
                        "needs_background": "light"
                    },
                    "output_type": "display_data"
                }
            ],
            "source": [
                "best_feature_list, metric_feature_df = pt.modelling.reduce_feature_space(\n",
                "    setup=setup,\n",
                "    algorithm= \"nb\",\n",
                "    metric=\"f1\",\n",
                "    reference_metric=compare_df_tune.iloc[0][\"metric\"],\n",
                "    acceptable_loss=0.99,\n",
                "    hyperparams=compare_df_tune.iloc[0][\"hyperparams\"]\n",
                ")"
            ]
        },
        {
            "cell_type": "code",
            "execution_count": 70,
            "metadata": {},
            "outputs": [
                {
                    "name": "stderr",
                    "output_type": "stream",
                    "text": [
                        "\u001b[32m[I 2022-08-14 22:22:33]\u001b[0m %%% TUNING HYPERPARAMETERS\u001b[0m\n",
                        "\u001b[32m[I 2022-08-14 22:22:33]\u001b[0m Algorithms: ['nb']\u001b[0m\n",
                        "\u001b[32m[I 2022-08-14 22:22:33]\u001b[0m Metric: f1\u001b[0m\n",
                        "\u001b[32m[I 2022-08-14 22:22:33]\u001b[0m Trials per algorithm: 50\u001b[0m\n",
                        "\u001b[32m[I 2022-08-14 22:22:33]\u001b[0m Trial 0 finished with value: 0.5659 and parameters: {'var_smoothing': 5.964432031815646e-08}. Best is trial 0 with value: 0.5659\u001b[0m\n",
                        "\u001b[32m[I 2022-08-14 22:22:33]\u001b[0m Trial 1 finished with value: 0.4562 and parameters: {'var_smoothing': 0.03103673486258022}. Best is trial 0 with value: 0.5659\u001b[0m\n",
                        "\u001b[32m[I 2022-08-14 22:22:34]\u001b[0m Trial 2 finished with value: 0.4528 and parameters: {'var_smoothing': 0.005677761496476395}. Best is trial 0 with value: 0.5659\u001b[0m\n",
                        "\u001b[32m[I 2022-08-14 22:22:34]\u001b[0m Trial 3 finished with value: 0.4528 and parameters: {'var_smoothing': 0.006535511523618578}. Best is trial 0 with value: 0.5659\u001b[0m\n",
                        "\u001b[32m[I 2022-08-14 22:22:34]\u001b[0m Trial 4 finished with value: 0.4402 and parameters: {'var_smoothing': 0.27940231983670843}. Best is trial 0 with value: 0.5659\u001b[0m\n",
                        "\u001b[32m[I 2022-08-14 22:22:34]\u001b[0m Trial 5 finished with value: 0.5659 and parameters: {'var_smoothing': 1.2353516586084786e-08}. Best is trial 0 with value: 0.5659\u001b[0m\n",
                        "\u001b[32m[I 2022-08-14 22:22:34]\u001b[0m Trial 6 finished with value: 0.5644 and parameters: {'var_smoothing': 5.729503638578522e-12}. Best is trial 0 with value: 0.5659\u001b[0m\n",
                        "\u001b[32m[I 2022-08-14 22:22:34]\u001b[0m Trial 7 finished with value: 0.3623 and parameters: {'var_smoothing': 0.4666611906466231}. Best is trial 0 with value: 0.5659\u001b[0m\n",
                        "\u001b[32m[I 2022-08-14 22:22:34]\u001b[0m Trial 8 finished with value: 0.5111 and parameters: {'var_smoothing': 0.00016946545709426437}. Best is trial 0 with value: 0.5659\u001b[0m\n",
                        "\u001b[32m[I 2022-08-14 22:22:35]\u001b[0m Trial 9 finished with value: 0.5644 and parameters: {'var_smoothing': 1.1727785194210385e-10}. Best is trial 0 with value: 0.5659\u001b[0m\n",
                        "\u001b[32m[I 2022-08-14 22:22:35]\u001b[0m Trial 10 finished with value: 0.6029 and parameters: {'var_smoothing': 1.7724253476694676e-06}. Best is trial 10 with value: 0.6029\u001b[0m\n",
                        "\u001b[32m[I 2022-08-14 22:22:35]\u001b[0m Trial 11 finished with value: 0.6029 and parameters: {'var_smoothing': 1.7669018918763786e-06}. Best is trial 10 with value: 0.6029\u001b[0m\n",
                        "\u001b[32m[I 2022-08-14 22:22:35]\u001b[0m Trial 12 finished with value: 0.5922 and parameters: {'var_smoothing': 1.139130379005563e-05}. Best is trial 10 with value: 0.6029\u001b[0m\n",
                        "\u001b[32m[I 2022-08-14 22:22:35]\u001b[0m Trial 13 finished with value: 0.5893 and parameters: {'var_smoothing': 6.098434683167785e-07}. Best is trial 10 with value: 0.6029\u001b[0m\n",
                        "\u001b[32m[I 2022-08-14 22:22:36]\u001b[0m Trial 14 finished with value: 0.5751 and parameters: {'var_smoothing': 4.317755775933641e-05}. Best is trial 10 with value: 0.6029\u001b[0m\n",
                        "\u001b[32m[I 2022-08-14 22:22:36]\u001b[0m Trial 15 finished with value: 0.5644 and parameters: {'var_smoothing': 2.9043027688701777e-09}. Best is trial 10 with value: 0.6029\u001b[0m\n",
                        "\u001b[32m[I 2022-08-14 22:22:36]\u001b[0m Trial 16 finished with value: 0.6032 and parameters: {'var_smoothing': 9.719907422159354e-07}. Best is trial 16 with value: 0.6032\u001b[0m\n",
                        "\u001b[32m[I 2022-08-14 22:22:36]\u001b[0m Trial 17 finished with value: 0.4978 and parameters: {'var_smoothing': 0.0005304013186644675}. Best is trial 16 with value: 0.6032\u001b[0m\n",
                        "\u001b[32m[I 2022-08-14 22:22:36]\u001b[0m Trial 18 finished with value: 0.5644 and parameters: {'var_smoothing': 4.1340073981760386e-10}. Best is trial 16 with value: 0.6032\u001b[0m\n",
                        "\u001b[32m[I 2022-08-14 22:22:36]\u001b[0m Trial 19 finished with value: 0.5829 and parameters: {'var_smoothing': 4.29720950451413e-07}. Best is trial 16 with value: 0.6032\u001b[0m\n",
                        "\u001b[32m[I 2022-08-14 22:22:36]\u001b[0m Trial 20 finished with value: 0.5930 and parameters: {'var_smoothing': 7.696887016941338e-06}. Best is trial 16 with value: 0.6032\u001b[0m\n",
                        "\u001b[32m[I 2022-08-14 22:22:37]\u001b[0m Trial 21 finished with value: 0.5717 and parameters: {'var_smoothing': 1.2979891582271986e-07}. Best is trial 16 with value: 0.6032\u001b[0m\n",
                        "\u001b[32m[I 2022-08-14 22:22:37]\u001b[0m Trial 22 finished with value: 0.6064 and parameters: {'var_smoothing': 1.268401125824822e-06}. Best is trial 22 with value: 0.6064\u001b[0m\n",
                        "\u001b[32m[I 2022-08-14 22:22:37]\u001b[0m Trial 23 finished with value: 0.5659 and parameters: {'var_smoothing': 1.1049919305165664e-08}. Best is trial 22 with value: 0.6064\u001b[0m\n",
                        "\u001b[32m[I 2022-08-14 22:22:37]\u001b[0m Trial 24 finished with value: 0.6019 and parameters: {'var_smoothing': 4.233937003045005e-06}. Best is trial 22 with value: 0.6064\u001b[0m\n",
                        "\u001b[32m[I 2022-08-14 22:22:37]\u001b[0m Trial 25 finished with value: 0.5125 and parameters: {'var_smoothing': 0.0002730434624548291}. Best is trial 22 with value: 0.6064\u001b[0m\n",
                        "\u001b[32m[I 2022-08-14 22:22:38]\u001b[0m Trial 26 finished with value: 0.5659 and parameters: {'var_smoothing': 5.7118056397317136e-08}. Best is trial 22 with value: 0.6064\u001b[0m\n",
                        "\u001b[32m[I 2022-08-14 22:22:38]\u001b[0m Trial 27 finished with value: 0.5714 and parameters: {'var_smoothing': 3.557469038924346e-05}. Best is trial 22 with value: 0.6064\u001b[0m\n",
                        "\u001b[32m[I 2022-08-14 22:22:38]\u001b[0m Trial 28 finished with value: 0.6032 and parameters: {'var_smoothing': 8.991764924525438e-07}. Best is trial 22 with value: 0.6064\u001b[0m\n",
                        "\u001b[32m[I 2022-08-14 22:22:38]\u001b[0m Trial 29 finished with value: 0.5697 and parameters: {'var_smoothing': 8.958113402517993e-08}. Best is trial 22 with value: 0.6064\u001b[0m\n",
                        "\u001b[32m[I 2022-08-14 22:22:38]\u001b[0m Trial 30 finished with value: 0.5644 and parameters: {'var_smoothing': 1.0784650382288646e-09}. Best is trial 22 with value: 0.6064\u001b[0m\n",
                        "\u001b[32m[I 2022-08-14 22:22:38]\u001b[0m Trial 31 finished with value: 0.5919 and parameters: {'var_smoothing': 7.139983454860452e-07}. Best is trial 22 with value: 0.6064\u001b[0m\n",
                        "\u001b[32m[I 2022-08-14 22:22:39]\u001b[0m Trial 32 finished with value: 0.5738 and parameters: {'var_smoothing': 2.4983028151285317e-05}. Best is trial 22 with value: 0.6064\u001b[0m\n",
                        "\u001b[32m[I 2022-08-14 22:22:39]\u001b[0m Trial 33 finished with value: 0.5659 and parameters: {'var_smoothing': 1.712545885535156e-08}. Best is trial 22 with value: 0.6064\u001b[0m\n",
                        "\u001b[32m[I 2022-08-14 22:22:39]\u001b[0m Trial 34 finished with value: 0.6029 and parameters: {'var_smoothing': 2.4179413945009334e-06}. Best is trial 22 with value: 0.6064\u001b[0m\n",
                        "\u001b[32m[I 2022-08-14 22:22:39]\u001b[0m Trial 35 finished with value: 0.4528 and parameters: {'var_smoothing': 0.002326823669437004}. Best is trial 22 with value: 0.6064\u001b[0m\n",
                        "\u001b[32m[I 2022-08-14 22:22:40]\u001b[0m Trial 36 finished with value: 0.5760 and parameters: {'var_smoothing': 1.6474248182408958e-07}. Best is trial 22 with value: 0.6064\u001b[0m\n",
                        "\u001b[32m[I 2022-08-14 22:22:40]\u001b[0m Trial 37 finished with value: 0.4544 and parameters: {'var_smoothing': 0.046823010198252565}. Best is trial 22 with value: 0.6064\u001b[0m\n",
                        "\u001b[32m[I 2022-08-14 22:22:40]\u001b[0m Trial 38 finished with value: 0.5351 and parameters: {'var_smoothing': 8.164301961131385e-05}. Best is trial 22 with value: 0.6064\u001b[0m\n",
                        "\u001b[32m[I 2022-08-14 22:22:40]\u001b[0m Trial 39 finished with value: 0.4848 and parameters: {'var_smoothing': 0.0014805675500013972}. Best is trial 22 with value: 0.6064\u001b[0m\n",
                        "\u001b[32m[I 2022-08-14 22:22:41]\u001b[0m Trial 40 finished with value: 0.5659 and parameters: {'var_smoothing': 2.1053578330258628e-08}. Best is trial 22 with value: 0.6064\u001b[0m\n",
                        "\u001b[32m[I 2022-08-14 22:22:41]\u001b[0m Trial 41 finished with value: 0.6029 and parameters: {'var_smoothing': 2.4853850584937975e-06}. Best is trial 22 with value: 0.6064\u001b[0m\n",
                        "\u001b[32m[I 2022-08-14 22:22:41]\u001b[0m Trial 42 finished with value: 0.5967 and parameters: {'var_smoothing': 2.7115154202767183e-06}. Best is trial 22 with value: 0.6064\u001b[0m\n",
                        "\u001b[32m[I 2022-08-14 22:22:42]\u001b[0m Trial 43 finished with value: 0.5852 and parameters: {'var_smoothing': 4.5970597341254955e-07}. Best is trial 22 with value: 0.6064\u001b[0m\n",
                        "\u001b[32m[I 2022-08-14 22:22:42]\u001b[0m Trial 44 finished with value: 0.5922 and parameters: {'var_smoothing': 1.2037229318082376e-05}. Best is trial 22 with value: 0.6064\u001b[0m\n",
                        "\u001b[32m[I 2022-08-14 22:22:42]\u001b[0m Trial 45 finished with value: 0.6019 and parameters: {'var_smoothing': 3.8472143818541825e-06}. Best is trial 22 with value: 0.6064\u001b[0m\n",
                        "\u001b[32m[I 2022-08-14 22:22:42]\u001b[0m Trial 46 finished with value: 0.6032 and parameters: {'var_smoothing': 1.1533043583619335e-06}. Best is trial 22 with value: 0.6064\u001b[0m\n",
                        "\u001b[32m[I 2022-08-14 22:22:43]\u001b[0m Trial 47 finished with value: 0.5644 and parameters: {'var_smoothing': 4.916658338808894e-12}. Best is trial 22 with value: 0.6064\u001b[0m\n",
                        "\u001b[32m[I 2022-08-14 22:22:43]\u001b[0m Trial 48 finished with value: 0.5644 and parameters: {'var_smoothing': 4.0488918552043225e-09}. Best is trial 22 with value: 0.6064\u001b[0m\n",
                        "\u001b[32m[I 2022-08-14 22:22:43]\u001b[0m Trial 49 finished with value: 0.5775 and parameters: {'var_smoothing': 2.8018737020757597e-07}. Best is trial 22 with value: 0.6064\u001b[0m\n",
                        "\u001b[32m[I 2022-08-14 22:22:43]\u001b[0m \n",
                        "   algorithm   metric                                        hyperparams\n",
                        "0        nb  0.60639  {'priors': None, 'var_smoothing': 1.2684011258...\u001b[0m\n"
                    ]
                },
                {
                    "data": {
                        "text/html": [
                            "<div>\n",
                            "<style scoped>\n",
                            "    .dataframe tbody tr th:only-of-type {\n",
                            "        vertical-align: middle;\n",
                            "    }\n",
                            "\n",
                            "    .dataframe tbody tr th {\n",
                            "        vertical-align: top;\n",
                            "    }\n",
                            "\n",
                            "    .dataframe thead th {\n",
                            "        text-align: right;\n",
                            "    }\n",
                            "</style>\n",
                            "<table border=\"1\" class=\"dataframe\">\n",
                            "  <thead>\n",
                            "    <tr style=\"text-align: right;\">\n",
                            "      <th></th>\n",
                            "      <th>algorithm</th>\n",
                            "      <th>metric</th>\n",
                            "      <th>hyperparams</th>\n",
                            "    </tr>\n",
                            "  </thead>\n",
                            "  <tbody>\n",
                            "    <tr>\n",
                            "      <th>0</th>\n",
                            "      <td>nb</td>\n",
                            "      <td>0.60639</td>\n",
                            "      <td>{'priors': None, 'var_smoothing': 1.2684011258...</td>\n",
                            "    </tr>\n",
                            "  </tbody>\n",
                            "</table>\n",
                            "</div>"
                        ],
                        "text/plain": [
                            "  algorithm   metric                                        hyperparams\n",
                            "0        nb  0.60639  {'priors': None, 'var_smoothing': 1.2684011258..."
                        ]
                    },
                    "execution_count": 70,
                    "metadata": {},
                    "output_type": "execute_result"
                }
            ],
            "source": [
                "compare_df_final, model_list, opt_history_dict = (\n",
                "        pt.modelling.tune_hyperparams(\n",
                "               setup=setup,\n",
                "               include=[\"nb\"],\n",
                "               optimize=\"f1\",\n",
                "               n_trials=50,\n",
                "               feature_list=best_feature_list,\n",
                "               return_models=True,\n",
                "        )\n",
                ")\n",
                "compare_df_final"
            ]
        },
        {
            "cell_type": "code",
            "execution_count": 37,
            "metadata": {},
            "outputs": [
                {
                    "data": {
                        "text/html": [
                            "<style>#sk-container-id-10 {color: black;background-color: white;}#sk-container-id-10 pre{padding: 0;}#sk-container-id-10 div.sk-toggleable {background-color: white;}#sk-container-id-10 label.sk-toggleable__label {cursor: pointer;display: block;width: 100%;margin-bottom: 0;padding: 0.3em;box-sizing: border-box;text-align: center;}#sk-container-id-10 label.sk-toggleable__label-arrow:before {content: \"▸\";float: left;margin-right: 0.25em;color: #696969;}#sk-container-id-10 label.sk-toggleable__label-arrow:hover:before {color: black;}#sk-container-id-10 div.sk-estimator:hover label.sk-toggleable__label-arrow:before {color: black;}#sk-container-id-10 div.sk-toggleable__content {max-height: 0;max-width: 0;overflow: hidden;text-align: left;background-color: #f0f8ff;}#sk-container-id-10 div.sk-toggleable__content pre {margin: 0.2em;color: black;border-radius: 0.25em;background-color: #f0f8ff;}#sk-container-id-10 input.sk-toggleable__control:checked~div.sk-toggleable__content {max-height: 200px;max-width: 100%;overflow: auto;}#sk-container-id-10 input.sk-toggleable__control:checked~label.sk-toggleable__label-arrow:before {content: \"▾\";}#sk-container-id-10 div.sk-estimator input.sk-toggleable__control:checked~label.sk-toggleable__label {background-color: #d4ebff;}#sk-container-id-10 div.sk-label input.sk-toggleable__control:checked~label.sk-toggleable__label {background-color: #d4ebff;}#sk-container-id-10 input.sk-hidden--visually {border: 0;clip: rect(1px 1px 1px 1px);clip: rect(1px, 1px, 1px, 1px);height: 1px;margin: -1px;overflow: hidden;padding: 0;position: absolute;width: 1px;}#sk-container-id-10 div.sk-estimator {font-family: monospace;background-color: #f0f8ff;border: 1px dotted black;border-radius: 0.25em;box-sizing: border-box;margin-bottom: 0.5em;}#sk-container-id-10 div.sk-estimator:hover {background-color: #d4ebff;}#sk-container-id-10 div.sk-parallel-item::after {content: \"\";width: 100%;border-bottom: 1px solid gray;flex-grow: 1;}#sk-container-id-10 div.sk-label:hover label.sk-toggleable__label {background-color: #d4ebff;}#sk-container-id-10 div.sk-serial::before {content: \"\";position: absolute;border-left: 1px solid gray;box-sizing: border-box;top: 0;bottom: 0;left: 50%;z-index: 0;}#sk-container-id-10 div.sk-serial {display: flex;flex-direction: column;align-items: center;background-color: white;padding-right: 0.2em;padding-left: 0.2em;position: relative;}#sk-container-id-10 div.sk-item {position: relative;z-index: 1;}#sk-container-id-10 div.sk-parallel {display: flex;align-items: stretch;justify-content: center;background-color: white;position: relative;}#sk-container-id-10 div.sk-item::before, #sk-container-id-10 div.sk-parallel-item::before {content: \"\";position: absolute;border-left: 1px solid gray;box-sizing: border-box;top: 0;bottom: 0;left: 50%;z-index: -1;}#sk-container-id-10 div.sk-parallel-item {display: flex;flex-direction: column;z-index: 1;position: relative;background-color: white;}#sk-container-id-10 div.sk-parallel-item:first-child::after {align-self: flex-end;width: 50%;}#sk-container-id-10 div.sk-parallel-item:last-child::after {align-self: flex-start;width: 50%;}#sk-container-id-10 div.sk-parallel-item:only-child::after {width: 0;}#sk-container-id-10 div.sk-dashed-wrapped {border: 1px dashed gray;margin: 0 0.4em 0.5em 0.4em;box-sizing: border-box;padding-bottom: 0.4em;background-color: white;}#sk-container-id-10 div.sk-label label {font-family: monospace;font-weight: bold;display: inline-block;line-height: 1.2em;}#sk-container-id-10 div.sk-label-container {text-align: center;}#sk-container-id-10 div.sk-container {/* jupyter's `normalize.less` sets `[hidden] { display: none; }` but bootstrap.min.css set `[hidden] { display: none !important; }` so we also need the `!important` here to be able to override the default hidden behavior on the sphinx rendered scikit-learn.org. See: https://github.com/scikit-learn/scikit-learn/issues/21755 */display: inline-block !important;position: relative;}#sk-container-id-10 div.sk-text-repr-fallback {display: none;}</style><div id=\"sk-container-id-10\" class=\"sk-top-container\"><div class=\"sk-text-repr-fallback\"><pre>Pipeline(steps=[(&#x27;ohe&#x27;, OHE())])</pre><b>In a Jupyter environment, please rerun this cell to show the HTML representation or trust the notebook. <br />On GitHub, the HTML representation is unable to render, please try loading this page with nbviewer.org.</b></div><div class=\"sk-container\" hidden><div class=\"sk-item sk-dashed-wrapped\"><div class=\"sk-label-container\"><div class=\"sk-label sk-toggleable\"><input class=\"sk-toggleable__control sk-hidden--visually\" id=\"sk-estimator-id-25\" type=\"checkbox\" ><label for=\"sk-estimator-id-25\" class=\"sk-toggleable__label sk-toggleable__label-arrow\">Pipeline</label><div class=\"sk-toggleable__content\"><pre>Pipeline(steps=[(&#x27;ohe&#x27;, OHE())])</pre></div></div></div><div class=\"sk-serial\"><div class=\"sk-item\"><div class=\"sk-estimator sk-toggleable\"><input class=\"sk-toggleable__control sk-hidden--visually\" id=\"sk-estimator-id-26\" type=\"checkbox\" ><label for=\"sk-estimator-id-26\" class=\"sk-toggleable__label sk-toggleable__label-arrow\">OHE</label><div class=\"sk-toggleable__content\"><pre>OHE()</pre></div></div></div></div></div></div></div>"
                        ],
                        "text/plain": [
                            "Pipeline(steps=[('ohe', OHE())])"
                        ]
                    },
                    "execution_count": 37,
                    "metadata": {},
                    "output_type": "execute_result"
                }
            ],
            "source": [
                "setup.prep_pipe"
            ]
        },
        {
            "cell_type": "code",
            "execution_count": 36,
            "metadata": {},
            "outputs": [],
            "source": [
                "pt.modelling.export_model(\n",
                "        setup=setup,\n",
                "        model=model_list[0],\n",
                "        target_dir=\"./\",\n",
                "    )"
            ]
        }
    ],
    "metadata": {
        "kernelspec": {
            "display_name": "Python 3.9.13 ('.venv': poetry)",
            "language": "python",
            "name": "python3"
        },
        "language_info": {
            "codemirror_mode": {
                "name": "ipython",
                "version": 3
            },
            "file_extension": ".py",
            "mimetype": "text/x-python",
            "name": "python",
            "nbconvert_exporter": "python",
            "pygments_lexer": "ipython3",
            "version": "3.9.13"
        },
        "orig_nbformat": 4,
        "vscode": {
            "interpreter": {
                "hash": "b885852e26c7064962dac1b68bb792bbb99a8e2dbec080500e57a38605a5fe7f"
            }
        }
    },
    "nbformat": 4,
    "nbformat_minor": 2
}

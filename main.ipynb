{
    "cells": [
        {
            "cell_type": "code",
            "execution_count": 1,
            "metadata": {},
            "outputs": [
                {
                    "name": "stderr",
                    "output_type": "stream",
                    "text": [
                        "/home/george/Desktop/pytelligence/.venv/lib/python3.9/site-packages/tqdm/auto.py:22: TqdmWarning: IProgress not found. Please update jupyter and ipywidgets. See https://ipywidgets.readthedocs.io/en/stable/user_install.html\n",
                        "  from .autonotebook import tqdm as notebook_tqdm\n"
                    ]
                }
            ],
            "source": [
                "from sklearn.datasets import load_breast_cancer\n",
                "import pandas as pd\n",
                "import seaborn as sns\n",
                "\n",
                "import pytelligence as pt\n",
                "\n",
                "%load_ext autoreload\n",
                "%autoreload 2\n",
                "\n",
                "pd.options.display.max_columns = 2000\n",
                "\n",
                "sns.set_theme()"
            ]
        },
        {
            "cell_type": "code",
            "execution_count": 2,
            "metadata": {},
            "outputs": [],
            "source": [
                "# bc = load_breast_cancer()\n",
                "# X = pd.DataFrame(bc.data, columns=bc.feature_names)\n",
                "# y = pd.Series(bc.target, name=\"class\")\n",
                "# df = pd.concat([X, y], axis=1)\n",
                "# df.head()"
            ]
        },
        {
            "cell_type": "code",
            "execution_count": 3,
            "metadata": {},
            "outputs": [
                {
                    "data": {
                        "text/html": [
                            "<div>\n",
                            "<style scoped>\n",
                            "    .dataframe tbody tr th:only-of-type {\n",
                            "        vertical-align: middle;\n",
                            "    }\n",
                            "\n",
                            "    .dataframe tbody tr th {\n",
                            "        vertical-align: top;\n",
                            "    }\n",
                            "\n",
                            "    .dataframe thead th {\n",
                            "        text-align: right;\n",
                            "    }\n",
                            "</style>\n",
                            "<table border=\"1\" class=\"dataframe\">\n",
                            "  <thead>\n",
                            "    <tr style=\"text-align: right;\">\n",
                            "      <th></th>\n",
                            "      <th>class</th>\n",
                            "      <th>age</th>\n",
                            "      <th>menopause</th>\n",
                            "      <th>tumor-size</th>\n",
                            "      <th>inv-nodes</th>\n",
                            "      <th>node-caps</th>\n",
                            "      <th>deg-malig</th>\n",
                            "      <th>breast</th>\n",
                            "      <th>breast-quad</th>\n",
                            "      <th>irradiat</th>\n",
                            "    </tr>\n",
                            "  </thead>\n",
                            "  <tbody>\n",
                            "    <tr>\n",
                            "      <th>0</th>\n",
                            "      <td>no-recurrence-events</td>\n",
                            "      <td>30-39</td>\n",
                            "      <td>premeno</td>\n",
                            "      <td>30-34</td>\n",
                            "      <td>0-2</td>\n",
                            "      <td>no</td>\n",
                            "      <td>3</td>\n",
                            "      <td>left</td>\n",
                            "      <td>left_low</td>\n",
                            "      <td>no</td>\n",
                            "    </tr>\n",
                            "    <tr>\n",
                            "      <th>1</th>\n",
                            "      <td>no-recurrence-events</td>\n",
                            "      <td>40-49</td>\n",
                            "      <td>premeno</td>\n",
                            "      <td>20-24</td>\n",
                            "      <td>0-2</td>\n",
                            "      <td>no</td>\n",
                            "      <td>2</td>\n",
                            "      <td>right</td>\n",
                            "      <td>right_up</td>\n",
                            "      <td>no</td>\n",
                            "    </tr>\n",
                            "    <tr>\n",
                            "      <th>2</th>\n",
                            "      <td>no-recurrence-events</td>\n",
                            "      <td>40-49</td>\n",
                            "      <td>premeno</td>\n",
                            "      <td>20-24</td>\n",
                            "      <td>0-2</td>\n",
                            "      <td>no</td>\n",
                            "      <td>2</td>\n",
                            "      <td>left</td>\n",
                            "      <td>left_low</td>\n",
                            "      <td>no</td>\n",
                            "    </tr>\n",
                            "    <tr>\n",
                            "      <th>3</th>\n",
                            "      <td>no-recurrence-events</td>\n",
                            "      <td>60-69</td>\n",
                            "      <td>ge40</td>\n",
                            "      <td>15-19</td>\n",
                            "      <td>0-2</td>\n",
                            "      <td>no</td>\n",
                            "      <td>2</td>\n",
                            "      <td>right</td>\n",
                            "      <td>left_up</td>\n",
                            "      <td>no</td>\n",
                            "    </tr>\n",
                            "    <tr>\n",
                            "      <th>4</th>\n",
                            "      <td>no-recurrence-events</td>\n",
                            "      <td>40-49</td>\n",
                            "      <td>premeno</td>\n",
                            "      <td>0-4</td>\n",
                            "      <td>0-2</td>\n",
                            "      <td>no</td>\n",
                            "      <td>2</td>\n",
                            "      <td>right</td>\n",
                            "      <td>right_low</td>\n",
                            "      <td>no</td>\n",
                            "    </tr>\n",
                            "  </tbody>\n",
                            "</table>\n",
                            "</div>"
                        ],
                        "text/plain": [
                            "                  class    age menopause tumor-size inv-nodes node-caps  \\\n",
                            "0  no-recurrence-events  30-39   premeno      30-34       0-2        no   \n",
                            "1  no-recurrence-events  40-49   premeno      20-24       0-2        no   \n",
                            "2  no-recurrence-events  40-49   premeno      20-24       0-2        no   \n",
                            "3  no-recurrence-events  60-69      ge40      15-19       0-2        no   \n",
                            "4  no-recurrence-events  40-49   premeno        0-4       0-2        no   \n",
                            "\n",
                            "   deg-malig breast breast-quad irradiat  \n",
                            "0          3   left    left_low       no  \n",
                            "1          2  right    right_up       no  \n",
                            "2          2   left    left_low       no  \n",
                            "3          2  right     left_up       no  \n",
                            "4          2  right   right_low       no  "
                        ]
                    },
                    "execution_count": 3,
                    "metadata": {},
                    "output_type": "execute_result"
                }
            ],
            "source": [
                "df = pd.read_csv(\n",
                "    \"./data/breast_cancer_cat/breast-cancer.data\",\n",
                "    names=[\n",
                "        \"class\",\n",
                "        \"age\",\n",
                "        \"menopause\",\n",
                "        \"tumor-size\",\n",
                "        \"inv-nodes\",\n",
                "        \"node-caps\",\n",
                "        \"deg-malig\",\n",
                "        \"breast\",\n",
                "        \"breast-quad\",\n",
                "        \"irradiat\",\n",
                "    ],\n",
                ")\n",
                "df.head()"
            ]
        },
        {
            "cell_type": "code",
            "execution_count": 4,
            "metadata": {},
            "outputs": [],
            "source": [
                "# pt.feat_analysis.get_distribution(df)"
            ]
        },
        {
            "cell_type": "code",
            "execution_count": 5,
            "metadata": {},
            "outputs": [],
            "source": [
                "# sns.jointplot(data=df, x=\"deg-malig\", y=\"breast\", hue=\"class\")"
            ]
        },
        {
            "cell_type": "markdown",
            "metadata": {},
            "source": [
                "## Training"
            ]
        },
        {
            "cell_type": "code",
            "execution_count": 6,
            "metadata": {},
            "outputs": [
                {
                    "data": {
                        "text/plain": [
                            "Index(['class', 'age', 'menopause', 'tumor-size', 'inv-nodes', 'node-caps',\n",
                            "       'deg-malig', 'breast', 'breast-quad', 'irradiat'],\n",
                            "      dtype='object')"
                        ]
                    },
                    "execution_count": 6,
                    "metadata": {},
                    "output_type": "execute_result"
                }
            ],
            "source": [
                "df.columns"
            ]
        },
        {
            "cell_type": "code",
            "execution_count": 7,
            "metadata": {},
            "outputs": [
                {
                    "name": "stderr",
                    "output_type": "stream",
                    "text": [
                        "\u001b[32m[I 2022-08-14 19:26:56]\u001b[0m %%% PREPARING DATA\u001b[0m\n",
                        "\u001b[32m[I 2022-08-14 19:26:56]\u001b[0m Read ./config_bc_cat.yml: \n",
                        " {'modelling': {'target_clf': 'class', 'numeric_cols': ['deg-malig'], 'categorical_cols': ['age', 'menopause', 'tumor-size', 'inv-nodes', 'node-caps', 'breast', 'breast-quad', 'irradiat'], 'feature_scaling': False}}\u001b[0m\n",
                        "\u001b[32m[I 2022-08-14 19:26:56]\u001b[0m Created preprocessing pipeline with following steps: ['ohe']\u001b[0m\n",
                        "\u001b[32m[I 2022-08-14 19:26:56]\u001b[0m Applied preprocessing transformations\u001b[0m\n",
                        "\u001b[32m[I 2022-08-14 19:26:56]\u001b[0m Encoded target variable using classes: [(0, 'no-recurrence-events'), (1, 'recurrence-events')]\u001b[0m\n"
                    ]
                }
            ],
            "source": [
                "setup, X_sample, y_sample = pt.modelling.prepare_data(\n",
                "    train_data=df,\n",
                "    config_path=\"./config_bc_cat.yml\",\n",
                ")"
            ]
        },
        {
            "cell_type": "code",
            "execution_count": 8,
            "metadata": {},
            "outputs": [
                {
                    "data": {
                        "text/html": [
                            "<div>\n",
                            "<style scoped>\n",
                            "    .dataframe tbody tr th:only-of-type {\n",
                            "        vertical-align: middle;\n",
                            "    }\n",
                            "\n",
                            "    .dataframe tbody tr th {\n",
                            "        vertical-align: top;\n",
                            "    }\n",
                            "\n",
                            "    .dataframe thead th {\n",
                            "        text-align: right;\n",
                            "    }\n",
                            "</style>\n",
                            "<table border=\"1\" class=\"dataframe\">\n",
                            "  <thead>\n",
                            "    <tr style=\"text-align: right;\">\n",
                            "      <th></th>\n",
                            "      <th>deg-malig</th>\n",
                            "      <th>age_20-29</th>\n",
                            "      <th>age_30-39</th>\n",
                            "      <th>age_40-49</th>\n",
                            "      <th>age_50-59</th>\n",
                            "      <th>age_60-69</th>\n",
                            "      <th>age_70-79</th>\n",
                            "      <th>menopause_ge40</th>\n",
                            "      <th>menopause_lt40</th>\n",
                            "      <th>menopause_premeno</th>\n",
                            "      <th>tumor-size_0-4</th>\n",
                            "      <th>tumor-size_10-14</th>\n",
                            "      <th>tumor-size_15-19</th>\n",
                            "      <th>tumor-size_20-24</th>\n",
                            "      <th>tumor-size_25-29</th>\n",
                            "      <th>tumor-size_30-34</th>\n",
                            "      <th>tumor-size_35-39</th>\n",
                            "      <th>tumor-size_40-44</th>\n",
                            "      <th>tumor-size_45-49</th>\n",
                            "      <th>tumor-size_5-9</th>\n",
                            "      <th>tumor-size_50-54</th>\n",
                            "      <th>inv-nodes_0-2</th>\n",
                            "      <th>inv-nodes_12-14</th>\n",
                            "      <th>inv-nodes_15-17</th>\n",
                            "      <th>inv-nodes_24-26</th>\n",
                            "      <th>inv-nodes_3-5</th>\n",
                            "      <th>inv-nodes_6-8</th>\n",
                            "      <th>inv-nodes_9-11</th>\n",
                            "      <th>node-caps_?</th>\n",
                            "      <th>node-caps_no</th>\n",
                            "      <th>node-caps_yes</th>\n",
                            "      <th>breast_left</th>\n",
                            "      <th>breast_right</th>\n",
                            "      <th>breast-quad_?</th>\n",
                            "      <th>breast-quad_central</th>\n",
                            "      <th>breast-quad_left_low</th>\n",
                            "      <th>breast-quad_left_up</th>\n",
                            "      <th>breast-quad_right_low</th>\n",
                            "      <th>breast-quad_right_up</th>\n",
                            "      <th>irradiat_no</th>\n",
                            "      <th>irradiat_yes</th>\n",
                            "    </tr>\n",
                            "  </thead>\n",
                            "  <tbody>\n",
                            "    <tr>\n",
                            "      <th>0</th>\n",
                            "      <td>3</td>\n",
                            "      <td>0</td>\n",
                            "      <td>1</td>\n",
                            "      <td>0</td>\n",
                            "      <td>0</td>\n",
                            "      <td>0</td>\n",
                            "      <td>0</td>\n",
                            "      <td>0</td>\n",
                            "      <td>0</td>\n",
                            "      <td>1</td>\n",
                            "      <td>0</td>\n",
                            "      <td>0</td>\n",
                            "      <td>0</td>\n",
                            "      <td>0</td>\n",
                            "      <td>0</td>\n",
                            "      <td>1</td>\n",
                            "      <td>0</td>\n",
                            "      <td>0</td>\n",
                            "      <td>0</td>\n",
                            "      <td>0</td>\n",
                            "      <td>0</td>\n",
                            "      <td>1</td>\n",
                            "      <td>0</td>\n",
                            "      <td>0</td>\n",
                            "      <td>0</td>\n",
                            "      <td>0</td>\n",
                            "      <td>0</td>\n",
                            "      <td>0</td>\n",
                            "      <td>0</td>\n",
                            "      <td>1</td>\n",
                            "      <td>0</td>\n",
                            "      <td>1</td>\n",
                            "      <td>0</td>\n",
                            "      <td>0</td>\n",
                            "      <td>0</td>\n",
                            "      <td>1</td>\n",
                            "      <td>0</td>\n",
                            "      <td>0</td>\n",
                            "      <td>0</td>\n",
                            "      <td>1</td>\n",
                            "      <td>0</td>\n",
                            "    </tr>\n",
                            "    <tr>\n",
                            "      <th>1</th>\n",
                            "      <td>2</td>\n",
                            "      <td>0</td>\n",
                            "      <td>0</td>\n",
                            "      <td>1</td>\n",
                            "      <td>0</td>\n",
                            "      <td>0</td>\n",
                            "      <td>0</td>\n",
                            "      <td>0</td>\n",
                            "      <td>0</td>\n",
                            "      <td>1</td>\n",
                            "      <td>0</td>\n",
                            "      <td>0</td>\n",
                            "      <td>0</td>\n",
                            "      <td>1</td>\n",
                            "      <td>0</td>\n",
                            "      <td>0</td>\n",
                            "      <td>0</td>\n",
                            "      <td>0</td>\n",
                            "      <td>0</td>\n",
                            "      <td>0</td>\n",
                            "      <td>0</td>\n",
                            "      <td>1</td>\n",
                            "      <td>0</td>\n",
                            "      <td>0</td>\n",
                            "      <td>0</td>\n",
                            "      <td>0</td>\n",
                            "      <td>0</td>\n",
                            "      <td>0</td>\n",
                            "      <td>0</td>\n",
                            "      <td>1</td>\n",
                            "      <td>0</td>\n",
                            "      <td>0</td>\n",
                            "      <td>1</td>\n",
                            "      <td>0</td>\n",
                            "      <td>0</td>\n",
                            "      <td>0</td>\n",
                            "      <td>0</td>\n",
                            "      <td>0</td>\n",
                            "      <td>1</td>\n",
                            "      <td>1</td>\n",
                            "      <td>0</td>\n",
                            "    </tr>\n",
                            "    <tr>\n",
                            "      <th>2</th>\n",
                            "      <td>2</td>\n",
                            "      <td>0</td>\n",
                            "      <td>0</td>\n",
                            "      <td>1</td>\n",
                            "      <td>0</td>\n",
                            "      <td>0</td>\n",
                            "      <td>0</td>\n",
                            "      <td>0</td>\n",
                            "      <td>0</td>\n",
                            "      <td>1</td>\n",
                            "      <td>0</td>\n",
                            "      <td>0</td>\n",
                            "      <td>0</td>\n",
                            "      <td>1</td>\n",
                            "      <td>0</td>\n",
                            "      <td>0</td>\n",
                            "      <td>0</td>\n",
                            "      <td>0</td>\n",
                            "      <td>0</td>\n",
                            "      <td>0</td>\n",
                            "      <td>0</td>\n",
                            "      <td>1</td>\n",
                            "      <td>0</td>\n",
                            "      <td>0</td>\n",
                            "      <td>0</td>\n",
                            "      <td>0</td>\n",
                            "      <td>0</td>\n",
                            "      <td>0</td>\n",
                            "      <td>0</td>\n",
                            "      <td>1</td>\n",
                            "      <td>0</td>\n",
                            "      <td>1</td>\n",
                            "      <td>0</td>\n",
                            "      <td>0</td>\n",
                            "      <td>0</td>\n",
                            "      <td>1</td>\n",
                            "      <td>0</td>\n",
                            "      <td>0</td>\n",
                            "      <td>0</td>\n",
                            "      <td>1</td>\n",
                            "      <td>0</td>\n",
                            "    </tr>\n",
                            "    <tr>\n",
                            "      <th>3</th>\n",
                            "      <td>2</td>\n",
                            "      <td>0</td>\n",
                            "      <td>0</td>\n",
                            "      <td>0</td>\n",
                            "      <td>0</td>\n",
                            "      <td>1</td>\n",
                            "      <td>0</td>\n",
                            "      <td>1</td>\n",
                            "      <td>0</td>\n",
                            "      <td>0</td>\n",
                            "      <td>0</td>\n",
                            "      <td>0</td>\n",
                            "      <td>1</td>\n",
                            "      <td>0</td>\n",
                            "      <td>0</td>\n",
                            "      <td>0</td>\n",
                            "      <td>0</td>\n",
                            "      <td>0</td>\n",
                            "      <td>0</td>\n",
                            "      <td>0</td>\n",
                            "      <td>0</td>\n",
                            "      <td>1</td>\n",
                            "      <td>0</td>\n",
                            "      <td>0</td>\n",
                            "      <td>0</td>\n",
                            "      <td>0</td>\n",
                            "      <td>0</td>\n",
                            "      <td>0</td>\n",
                            "      <td>0</td>\n",
                            "      <td>1</td>\n",
                            "      <td>0</td>\n",
                            "      <td>0</td>\n",
                            "      <td>1</td>\n",
                            "      <td>0</td>\n",
                            "      <td>0</td>\n",
                            "      <td>0</td>\n",
                            "      <td>1</td>\n",
                            "      <td>0</td>\n",
                            "      <td>0</td>\n",
                            "      <td>1</td>\n",
                            "      <td>0</td>\n",
                            "    </tr>\n",
                            "    <tr>\n",
                            "      <th>4</th>\n",
                            "      <td>2</td>\n",
                            "      <td>0</td>\n",
                            "      <td>0</td>\n",
                            "      <td>1</td>\n",
                            "      <td>0</td>\n",
                            "      <td>0</td>\n",
                            "      <td>0</td>\n",
                            "      <td>0</td>\n",
                            "      <td>0</td>\n",
                            "      <td>1</td>\n",
                            "      <td>1</td>\n",
                            "      <td>0</td>\n",
                            "      <td>0</td>\n",
                            "      <td>0</td>\n",
                            "      <td>0</td>\n",
                            "      <td>0</td>\n",
                            "      <td>0</td>\n",
                            "      <td>0</td>\n",
                            "      <td>0</td>\n",
                            "      <td>0</td>\n",
                            "      <td>0</td>\n",
                            "      <td>1</td>\n",
                            "      <td>0</td>\n",
                            "      <td>0</td>\n",
                            "      <td>0</td>\n",
                            "      <td>0</td>\n",
                            "      <td>0</td>\n",
                            "      <td>0</td>\n",
                            "      <td>0</td>\n",
                            "      <td>1</td>\n",
                            "      <td>0</td>\n",
                            "      <td>0</td>\n",
                            "      <td>1</td>\n",
                            "      <td>0</td>\n",
                            "      <td>0</td>\n",
                            "      <td>0</td>\n",
                            "      <td>0</td>\n",
                            "      <td>1</td>\n",
                            "      <td>0</td>\n",
                            "      <td>1</td>\n",
                            "      <td>0</td>\n",
                            "    </tr>\n",
                            "  </tbody>\n",
                            "</table>\n",
                            "</div>"
                        ],
                        "text/plain": [
                            "   deg-malig  age_20-29  age_30-39  age_40-49  age_50-59  age_60-69  \\\n",
                            "0          3          0          1          0          0          0   \n",
                            "1          2          0          0          1          0          0   \n",
                            "2          2          0          0          1          0          0   \n",
                            "3          2          0          0          0          0          1   \n",
                            "4          2          0          0          1          0          0   \n",
                            "\n",
                            "   age_70-79  menopause_ge40  menopause_lt40  menopause_premeno  \\\n",
                            "0          0               0               0                  1   \n",
                            "1          0               0               0                  1   \n",
                            "2          0               0               0                  1   \n",
                            "3          0               1               0                  0   \n",
                            "4          0               0               0                  1   \n",
                            "\n",
                            "   tumor-size_0-4  tumor-size_10-14  tumor-size_15-19  tumor-size_20-24  \\\n",
                            "0               0                 0                 0                 0   \n",
                            "1               0                 0                 0                 1   \n",
                            "2               0                 0                 0                 1   \n",
                            "3               0                 0                 1                 0   \n",
                            "4               1                 0                 0                 0   \n",
                            "\n",
                            "   tumor-size_25-29  tumor-size_30-34  tumor-size_35-39  tumor-size_40-44  \\\n",
                            "0                 0                 1                 0                 0   \n",
                            "1                 0                 0                 0                 0   \n",
                            "2                 0                 0                 0                 0   \n",
                            "3                 0                 0                 0                 0   \n",
                            "4                 0                 0                 0                 0   \n",
                            "\n",
                            "   tumor-size_45-49  tumor-size_5-9  tumor-size_50-54  inv-nodes_0-2  \\\n",
                            "0                 0               0                 0              1   \n",
                            "1                 0               0                 0              1   \n",
                            "2                 0               0                 0              1   \n",
                            "3                 0               0                 0              1   \n",
                            "4                 0               0                 0              1   \n",
                            "\n",
                            "   inv-nodes_12-14  inv-nodes_15-17  inv-nodes_24-26  inv-nodes_3-5  \\\n",
                            "0                0                0                0              0   \n",
                            "1                0                0                0              0   \n",
                            "2                0                0                0              0   \n",
                            "3                0                0                0              0   \n",
                            "4                0                0                0              0   \n",
                            "\n",
                            "   inv-nodes_6-8  inv-nodes_9-11  node-caps_?  node-caps_no  node-caps_yes  \\\n",
                            "0              0               0            0             1              0   \n",
                            "1              0               0            0             1              0   \n",
                            "2              0               0            0             1              0   \n",
                            "3              0               0            0             1              0   \n",
                            "4              0               0            0             1              0   \n",
                            "\n",
                            "   breast_left  breast_right  breast-quad_?  breast-quad_central  \\\n",
                            "0            1             0              0                    0   \n",
                            "1            0             1              0                    0   \n",
                            "2            1             0              0                    0   \n",
                            "3            0             1              0                    0   \n",
                            "4            0             1              0                    0   \n",
                            "\n",
                            "   breast-quad_left_low  breast-quad_left_up  breast-quad_right_low  \\\n",
                            "0                     1                    0                      0   \n",
                            "1                     0                    0                      0   \n",
                            "2                     1                    0                      0   \n",
                            "3                     0                    1                      0   \n",
                            "4                     0                    0                      1   \n",
                            "\n",
                            "   breast-quad_right_up  irradiat_no  irradiat_yes  \n",
                            "0                     0            1             0  \n",
                            "1                     1            1             0  \n",
                            "2                     0            1             0  \n",
                            "3                     0            1             0  \n",
                            "4                     0            1             0  "
                        ]
                    },
                    "execution_count": 8,
                    "metadata": {},
                    "output_type": "execute_result"
                }
            ],
            "source": [
                "X_sample"
            ]
        },
        {
            "cell_type": "code",
            "execution_count": 9,
            "metadata": {},
            "outputs": [
                {
                    "name": "stderr",
                    "output_type": "stream",
                    "text": [
                        "\u001b[32m[I 2022-08-14 19:26:58]\u001b[0m %%% COMPARING ALGORITHMS\u001b[0m\n",
                        "\u001b[33m[W 2022-08-14 19:26:58]\u001b[0m The algorithms ['lr'] work suboptimally without scaled features. Consider turning it on within the config and rerun pt.modelling.prepare_data().\u001b[0m\n",
                        "\u001b[32m[I 2022-08-14 19:26:58]\u001b[0m Evaluating lr...\u001b[0m\n",
                        "\u001b[32m[I 2022-08-14 19:27:10]\u001b[0m Evaluating nb...\u001b[0m\n"
                    ]
                },
                {
                    "data": {
                        "text/html": [
                            "<div>\n",
                            "<style scoped>\n",
                            "    .dataframe tbody tr th:only-of-type {\n",
                            "        vertical-align: middle;\n",
                            "    }\n",
                            "\n",
                            "    .dataframe tbody tr th {\n",
                            "        vertical-align: top;\n",
                            "    }\n",
                            "\n",
                            "    .dataframe thead th {\n",
                            "        text-align: right;\n",
                            "    }\n",
                            "</style>\n",
                            "<table border=\"1\" class=\"dataframe\">\n",
                            "  <thead>\n",
                            "    <tr style=\"text-align: right;\">\n",
                            "      <th></th>\n",
                            "      <th>algorithm</th>\n",
                            "      <th>accuracy</th>\n",
                            "      <th>precision</th>\n",
                            "      <th>recall</th>\n",
                            "      <th>f1</th>\n",
                            "      <th>roc_auc</th>\n",
                            "      <th>Fit time (s)</th>\n",
                            "    </tr>\n",
                            "  </thead>\n",
                            "  <tbody>\n",
                            "    <tr>\n",
                            "      <th>0</th>\n",
                            "      <td>nb</td>\n",
                            "      <td>0.549</td>\n",
                            "      <td>0.447</td>\n",
                            "      <td>0.835</td>\n",
                            "      <td>0.552</td>\n",
                            "      <td>0.659</td>\n",
                            "      <td>0.042</td>\n",
                            "    </tr>\n",
                            "    <tr>\n",
                            "      <th>1</th>\n",
                            "      <td>lr</td>\n",
                            "      <td>0.678</td>\n",
                            "      <td>0.527</td>\n",
                            "      <td>0.329</td>\n",
                            "      <td>0.338</td>\n",
                            "      <td>0.653</td>\n",
                            "      <td>0.177</td>\n",
                            "    </tr>\n",
                            "  </tbody>\n",
                            "</table>\n",
                            "</div>"
                        ],
                        "text/plain": [
                            "  algorithm  accuracy  precision  recall     f1  roc_auc  Fit time (s)\n",
                            "0        nb     0.549      0.447   0.835  0.552    0.659         0.042\n",
                            "1        lr     0.678      0.527   0.329  0.338    0.653         0.177"
                        ]
                    },
                    "execution_count": 9,
                    "metadata": {},
                    "output_type": "execute_result"
                }
            ],
            "source": [
                "compare_df, algo_list, model_list = pt.modelling.compare_algorithms(\n",
                "    setup=setup,\n",
                "    include=[\n",
                "        \"lr\",\n",
                "        # \"dt\",\n",
                "        # \"rf\",\n",
                "        # \"ridge\",\n",
                "        # \"perceptron\",\n",
                "        # \"passive-aggressive\",\n",
                "        # \"extratree\",\n",
                "        # \"extratrees\",\n",
                "        # \"knn\",\n",
                "        \"nb\",\n",
                "        # \"linearsvc\",\n",
                "        # \"rbfsvc\",\n",
                "    ],\n",
                "    sort=\"f1\",\n",
                "    return_models=True,\n",
                ")\n",
                "compare_df"
            ]
        },
        {
            "cell_type": "code",
            "execution_count": 10,
            "metadata": {},
            "outputs": [
                {
                    "data": {
                        "text/plain": [
                            "array(['recurrence-events', 'no-recurrence-events',\n",
                            "       'no-recurrence-events', 'no-recurrence-events',\n",
                            "       'no-recurrence-events'], dtype=object)"
                        ]
                    },
                    "execution_count": 10,
                    "metadata": {},
                    "output_type": "execute_result"
                }
            ],
            "source": [
                "le = setup.y_clf_encoder\n",
                "preds = model_list[-1].predict(X_sample)\n",
                "le.inverse_transform(preds)"
            ]
        },
        {
            "cell_type": "code",
            "execution_count": 11,
            "metadata": {},
            "outputs": [
                {
                    "name": "stdout",
                    "output_type": "stream",
                    "text": [
                        "(0, 'no-recurrence-events') (1, 'recurrence-events')\n"
                    ]
                }
            ],
            "source": [
                "print(*[(i, class_) for i, class_ in enumerate(le.classes_)])"
            ]
        },
        {
            "cell_type": "code",
            "execution_count": 18,
            "metadata": {},
            "outputs": [
                {
                    "name": "stderr",
                    "output_type": "stream",
                    "text": [
                        "\u001b[32m[I 2022-08-14 19:29:55]\u001b[0m %%% TUNING HYPERPARAMETERS\u001b[0m\n",
                        "\u001b[33m[W 2022-08-14 19:29:55]\u001b[0m The algorithms ['lr'] work suboptimally without scaled features. Consider turning it on within the config and rerun pt.modelling.prepare_data().\u001b[0m\n",
                        "\u001b[32m[I 2022-08-14 19:29:55]\u001b[0m Algorithms: ['lr', 'nb']\u001b[0m\n",
                        "\u001b[32m[I 2022-08-14 19:29:55]\u001b[0m Metric: f1\u001b[0m\n",
                        "\u001b[32m[I 2022-08-14 19:29:55]\u001b[0m Trials per algorithm: 150\u001b[0m\n",
                        "\u001b[32m[I 2022-08-14 19:29:58]\u001b[0m Trial 0 finished with value: 0.3792 and parameters: {'C': 11.189818280707982, 'l1_ratio': 0.8296462967310544}. Best is trial 0 with value: 0.3792\u001b[0m\n",
                        "\u001b[32m[I 2022-08-14 19:29:58]\u001b[0m Trial 1 finished with value: 0.3447 and parameters: {'C': 0.8099045984445684, 'l1_ratio': 0.6656252949892254}. Best is trial 0 with value: 0.3792\u001b[0m\n",
                        "\u001b[32m[I 2022-08-14 19:29:59]\u001b[0m Trial 2 finished with value: 0.0000 and parameters: {'C': 8.109518418383147e-05, 'l1_ratio': 0.8086845489193774}. Best is trial 0 with value: 0.3792\u001b[0m\n",
                        "\u001b[32m[I 2022-08-14 19:29:59]\u001b[0m Trial 3 finished with value: 0.3778 and parameters: {'C': 5.499900055540439, 'l1_ratio': 0.9955412689359607}. Best is trial 0 with value: 0.3792\u001b[0m\n",
                        "\u001b[32m[I 2022-08-14 19:30:00]\u001b[0m Trial 4 finished with value: 0.3799 and parameters: {'C': 1.36390099981369, 'l1_ratio': 0.3069180509725131}. Best is trial 4 with value: 0.3799\u001b[0m\n",
                        "\u001b[32m[I 2022-08-14 19:30:00]\u001b[0m Trial 5 finished with value: 0.0000 and parameters: {'C': 1.478936727709715e-06, 'l1_ratio': 0.5190890794231086}. Best is trial 4 with value: 0.3799\u001b[0m\n",
                        "\u001b[32m[I 2022-08-14 19:30:01]\u001b[0m Trial 6 finished with value: 0.4012 and parameters: {'C': 3.002516483056705, 'l1_ratio': 0.7096337658768098}. Best is trial 6 with value: 0.4012\u001b[0m\n",
                        "\u001b[32m[I 2022-08-14 19:30:01]\u001b[0m Trial 7 finished with value: 0.3961 and parameters: {'C': 1.5861628256394034, 'l1_ratio': 0.02197118945698051}. Best is trial 6 with value: 0.4012\u001b[0m\n",
                        "\u001b[32m[I 2022-08-14 19:30:02]\u001b[0m Trial 8 finished with value: 0.3687 and parameters: {'C': 24.43822119500184, 'l1_ratio': 0.33219043897329337}. Best is trial 6 with value: 0.4012\u001b[0m\n",
                        "\u001b[32m[I 2022-08-14 19:30:02]\u001b[0m Trial 9 finished with value: 0.0000 and parameters: {'C': 0.03923901868641114, 'l1_ratio': 0.41252449790733725}. Best is trial 6 with value: 0.4012\u001b[0m\n",
                        "\u001b[32m[I 2022-08-14 19:30:02]\u001b[0m Trial 10 finished with value: 0.0000 and parameters: {'C': 0.003232155602753431, 'l1_ratio': 0.04986122137538673}. Best is trial 6 with value: 0.4012\u001b[0m\n",
                        "\u001b[32m[I 2022-08-14 19:30:03]\u001b[0m Trial 11 finished with value: 0.2503 and parameters: {'C': 0.053533335200582025, 'l1_ratio': 0.010070291597170142}. Best is trial 6 with value: 0.4012\u001b[0m\n",
                        "\u001b[32m[I 2022-08-14 19:30:03]\u001b[0m Trial 12 finished with value: 0.3555 and parameters: {'C': 0.2408398883776469, 'l1_ratio': 0.17904429026613045}. Best is trial 6 with value: 0.4012\u001b[0m\n",
                        "\u001b[32m[I 2022-08-14 19:30:03]\u001b[0m Trial 13 finished with value: 0.0000 and parameters: {'C': 0.0021700277800109137, 'l1_ratio': 0.6126728008065384}. Best is trial 6 with value: 0.4012\u001b[0m\n",
                        "\u001b[32m[I 2022-08-14 19:30:05]\u001b[0m Trial 14 finished with value: 0.3702 and parameters: {'C': 63.31692303479066, 'l1_ratio': 0.715614495061881}. Best is trial 6 with value: 0.4012\u001b[0m\n",
                        "\u001b[32m[I 2022-08-14 19:30:05]\u001b[0m Trial 15 finished with value: 0.0000 and parameters: {'C': 0.0003201378616929355, 'l1_ratio': 0.16783415557762868}. Best is trial 6 with value: 0.4012\u001b[0m\n",
                        "\u001b[32m[I 2022-08-14 19:30:07]\u001b[0m Trial 16 finished with value: 0.3702 and parameters: {'C': 98.83592437013172, 'l1_ratio': 0.5235531361727245}. Best is trial 6 with value: 0.4012\u001b[0m\n",
                        "/home/george/Desktop/pytelligence/.venv/lib/python3.9/site-packages/sklearn/linear_model/_sag.py:350: ConvergenceWarning: The max_iter was reached which means the coef_ did not converge\n",
                        "  warnings.warn(\n",
                        "\u001b[32m[I 2022-08-14 19:30:08]\u001b[0m Trial 17 finished with value: 0.3763 and parameters: {'C': 1.806909051608369, 'l1_ratio': 0.9610248986900816}. Best is trial 6 with value: 0.4012\u001b[0m\n",
                        "\u001b[32m[I 2022-08-14 19:30:08]\u001b[0m Trial 18 finished with value: 0.0000 and parameters: {'C': 0.05432047737987966, 'l1_ratio': 0.8191511969586138}. Best is trial 6 with value: 0.4012\u001b[0m\n",
                        "\u001b[32m[I 2022-08-14 19:30:08]\u001b[0m Trial 19 finished with value: 0.3555 and parameters: {'C': 0.2595681858731066, 'l1_ratio': 0.19716716448110133}. Best is trial 6 with value: 0.4012\u001b[0m\n",
                        "\u001b[32m[I 2022-08-14 19:30:09]\u001b[0m Trial 20 finished with value: 0.3923 and parameters: {'C': 5.670850621708406, 'l1_ratio': 0.4410014885104672}. Best is trial 6 with value: 0.4012\u001b[0m\n",
                        "\u001b[32m[I 2022-08-14 19:30:10]\u001b[0m Trial 21 finished with value: 0.4001 and parameters: {'C': 5.787195421931775, 'l1_ratio': 0.3919194524711068}. Best is trial 6 with value: 0.4012\u001b[0m\n",
                        "\u001b[32m[I 2022-08-14 19:30:10]\u001b[0m Trial 22 finished with value: 0.3627 and parameters: {'C': 0.4358994054336353, 'l1_ratio': 0.2943240929327408}. Best is trial 6 with value: 0.4012\u001b[0m\n",
                        "\u001b[32m[I 2022-08-14 19:30:10]\u001b[0m Trial 23 finished with value: 0.3869 and parameters: {'C': 3.8011897913818893, 'l1_ratio': 0.6067628428590843}. Best is trial 6 with value: 0.4012\u001b[0m\n",
                        "\u001b[32m[I 2022-08-14 19:30:12]\u001b[0m Trial 24 finished with value: 0.3687 and parameters: {'C': 20.162186031259132, 'l1_ratio': 0.08817561651684652}. Best is trial 6 with value: 0.4012\u001b[0m\n",
                        "\u001b[32m[I 2022-08-14 19:30:12]\u001b[0m Trial 25 finished with value: 0.0000 and parameters: {'C': 0.013719731548992592, 'l1_ratio': 0.7413569283464356}. Best is trial 6 with value: 0.4012\u001b[0m\n",
                        "\u001b[32m[I 2022-08-14 19:30:12]\u001b[0m Trial 26 finished with value: 0.2057 and parameters: {'C': 0.12619411789051488, 'l1_ratio': 0.4203664869031547}. Best is trial 6 with value: 0.4012\u001b[0m\n",
                        "\u001b[32m[I 2022-08-14 19:30:14]\u001b[0m Trial 27 finished with value: 0.3993 and parameters: {'C': 1.62443034145345, 'l1_ratio': 0.5958678796207428}. Best is trial 6 with value: 0.4012\u001b[0m\n",
                        "/home/george/Desktop/pytelligence/.venv/lib/python3.9/site-packages/sklearn/linear_model/_sag.py:350: ConvergenceWarning: The max_iter was reached which means the coef_ did not converge\n",
                        "  warnings.warn(\n",
                        "\u001b[32m[I 2022-08-14 19:30:15]\u001b[0m Trial 28 finished with value: 0.3687 and parameters: {'C': 29.69645177294387, 'l1_ratio': 0.6160637622083311}. Best is trial 6 with value: 0.4012\u001b[0m\n",
                        "\u001b[32m[I 2022-08-14 19:30:17]\u001b[0m Trial 29 finished with value: 0.3980 and parameters: {'C': 4.780696291656558, 'l1_ratio': 0.5662793952903312}. Best is trial 6 with value: 0.4012\u001b[0m\n",
                        "\u001b[32m[I 2022-08-14 19:30:18]\u001b[0m Trial 30 finished with value: 0.3809 and parameters: {'C': 11.407515873679728, 'l1_ratio': 0.9054919452852805}. Best is trial 6 with value: 0.4012\u001b[0m\n",
                        "\u001b[32m[I 2022-08-14 19:30:19]\u001b[0m Trial 31 finished with value: 0.3980 and parameters: {'C': 4.632543707417889, 'l1_ratio': 0.5447032349113722}. Best is trial 6 with value: 0.4012\u001b[0m\n",
                        "\u001b[32m[I 2022-08-14 19:30:20]\u001b[0m Trial 32 finished with value: 0.3447 and parameters: {'C': 0.8067647635138738, 'l1_ratio': 0.4872812240571506}. Best is trial 6 with value: 0.4012\u001b[0m\n",
                        "\u001b[32m[I 2022-08-14 19:30:20]\u001b[0m Trial 33 finished with value: 0.3904 and parameters: {'C': 8.424278594671735, 'l1_ratio': 0.7267124566153297}. Best is trial 6 with value: 0.4012\u001b[0m\n",
                        "\u001b[32m[I 2022-08-14 19:30:21]\u001b[0m Trial 34 finished with value: 0.3423 and parameters: {'C': 0.7458228538951388, 'l1_ratio': 0.6833078759255107}. Best is trial 6 with value: 0.4012\u001b[0m\n",
                        "\u001b[32m[I 2022-08-14 19:30:21]\u001b[0m Trial 35 finished with value: 0.3945 and parameters: {'C': 1.719070910526981, 'l1_ratio': 0.7738970207164875}. Best is trial 6 with value: 0.4012\u001b[0m\n",
                        "\u001b[32m[I 2022-08-14 19:30:21]\u001b[0m Trial 36 finished with value: 0.0000 and parameters: {'C': 6.603439137815447e-06, 'l1_ratio': 0.34961555968834035}. Best is trial 6 with value: 0.4012\u001b[0m\n",
                        "\u001b[32m[I 2022-08-14 19:30:23]\u001b[0m Trial 37 finished with value: 0.3687 and parameters: {'C': 50.83345927169086, 'l1_ratio': 0.6529627143437129}. Best is trial 6 with value: 0.4012\u001b[0m\n",
                        "\u001b[32m[I 2022-08-14 19:30:24]\u001b[0m Trial 38 finished with value: 0.3722 and parameters: {'C': 13.865814176604205, 'l1_ratio': 0.8574946889535133}. Best is trial 6 with value: 0.4012\u001b[0m\n",
                        "\u001b[32m[I 2022-08-14 19:30:24]\u001b[0m Trial 39 finished with value: 0.3919 and parameters: {'C': 2.3803247274119443, 'l1_ratio': 0.5391861450638857}. Best is trial 6 with value: 0.4012\u001b[0m\n",
                        "\u001b[32m[I 2022-08-14 19:30:25]\u001b[0m Trial 40 finished with value: 0.3513 and parameters: {'C': 0.49364731466323974, 'l1_ratio': 0.49277667640361483}. Best is trial 6 with value: 0.4012\u001b[0m\n",
                        "\u001b[32m[I 2022-08-14 19:30:26]\u001b[0m Trial 41 finished with value: 0.3923 and parameters: {'C': 5.157658117780996, 'l1_ratio': 0.5620552939181995}. Best is trial 6 with value: 0.4012\u001b[0m\n",
                        "\u001b[32m[I 2022-08-14 19:30:28]\u001b[0m Trial 42 finished with value: 0.3869 and parameters: {'C': 3.563133840141014, 'l1_ratio': 0.5866687103288251}. Best is trial 6 with value: 0.4012\u001b[0m\n",
                        "\u001b[32m[I 2022-08-14 19:30:28]\u001b[0m Trial 43 finished with value: 0.2143 and parameters: {'C': 0.14987639482641738, 'l1_ratio': 0.65728694811467}. Best is trial 6 with value: 0.4012\u001b[0m\n",
                        "/home/george/Desktop/pytelligence/.venv/lib/python3.9/site-packages/sklearn/linear_model/_sag.py:350: ConvergenceWarning: The max_iter was reached which means the coef_ did not converge\n",
                        "  warnings.warn(\n",
                        "\u001b[32m[I 2022-08-14 19:30:29]\u001b[0m Trial 44 finished with value: 0.3687 and parameters: {'C': 18.114798360757806, 'l1_ratio': 0.3779142311822758}. Best is trial 6 with value: 0.4012\u001b[0m\n",
                        "\u001b[32m[I 2022-08-14 19:30:29]\u001b[0m Trial 45 finished with value: 0.3820 and parameters: {'C': 1.2687621900816488, 'l1_ratio': 0.26152347302607465}. Best is trial 6 with value: 0.4012\u001b[0m\n",
                        "\u001b[32m[I 2022-08-14 19:30:30]\u001b[0m Trial 46 finished with value: 0.3687 and parameters: {'C': 37.18257355630144, 'l1_ratio': 0.4521834653664281}. Best is trial 6 with value: 0.4012\u001b[0m\n",
                        "\u001b[32m[I 2022-08-14 19:30:31]\u001b[0m Trial 47 finished with value: 0.3906 and parameters: {'C': 8.092808582368244, 'l1_ratio': 0.47597742144187827}. Best is trial 6 with value: 0.4012\u001b[0m\n",
                        "\u001b[32m[I 2022-08-14 19:30:31]\u001b[0m Trial 48 finished with value: 0.0000 and parameters: {'C': 0.011176230268531361, 'l1_ratio': 0.5608342960705686}. Best is trial 6 with value: 0.4012\u001b[0m\n",
                        "\u001b[32m[I 2022-08-14 19:30:31]\u001b[0m Trial 49 finished with value: 0.0000 and parameters: {'C': 0.00010453892290817093, 'l1_ratio': 0.3881841151764628}. Best is trial 6 with value: 0.4012\u001b[0m\n",
                        "\u001b[32m[I 2022-08-14 19:30:31]\u001b[0m Trial 50 finished with value: 0.0000 and parameters: {'C': 0.029338022805936975, 'l1_ratio': 0.6927914254909728}. Best is trial 6 with value: 0.4012\u001b[0m\n",
                        "\u001b[32m[I 2022-08-14 19:30:32]\u001b[0m Trial 51 finished with value: 0.3960 and parameters: {'C': 2.4264916530177927, 'l1_ratio': 0.7735215781795337}. Best is trial 6 with value: 0.4012\u001b[0m\n",
                        "\u001b[32m[I 2022-08-14 19:30:32]\u001b[0m Trial 52 finished with value: 0.3698 and parameters: {'C': 1.1443098909996166, 'l1_ratio': 0.6323692353371929}. Best is trial 6 with value: 0.4012\u001b[0m\n",
                        "\u001b[32m[I 2022-08-14 19:30:32]\u001b[0m Trial 53 finished with value: 0.3480 and parameters: {'C': 0.3430448800240701, 'l1_ratio': 0.11484264461809134}. Best is trial 6 with value: 0.4012\u001b[0m\n",
                        "\u001b[32m[I 2022-08-14 19:30:34]\u001b[0m Trial 54 finished with value: 0.3702 and parameters: {'C': 98.89428833706886, 'l1_ratio': 0.2483831069369071}. Best is trial 6 with value: 0.4012\u001b[0m\n",
                        "\u001b[32m[I 2022-08-14 19:30:34]\u001b[0m Trial 55 finished with value: 0.0000 and parameters: {'C': 0.0030352155114707754, 'l1_ratio': 0.5625944414357147}. Best is trial 6 with value: 0.4012\u001b[0m\n",
                        "\u001b[32m[I 2022-08-14 19:30:34]\u001b[0m Trial 56 finished with value: 0.1385 and parameters: {'C': 0.08853824663109297, 'l1_ratio': 0.589060007238204}. Best is trial 6 with value: 0.4012\u001b[0m\n",
                        "\u001b[32m[I 2022-08-14 19:30:35]\u001b[0m Trial 57 finished with value: 0.3980 and parameters: {'C': 3.518614571514687, 'l1_ratio': 0.014002922525982564}. Best is trial 6 with value: 0.4012\u001b[0m\n",
                        "\u001b[32m[I 2022-08-14 19:30:35]\u001b[0m Trial 58 finished with value: 0.3950 and parameters: {'C': 3.6583015632398346, 'l1_ratio': 0.8660592483717253}. Best is trial 6 with value: 0.4012\u001b[0m\n",
                        "\u001b[32m[I 2022-08-14 19:30:36]\u001b[0m Trial 59 finished with value: 0.3887 and parameters: {'C': 8.498707386993967, 'l1_ratio': 0.5260116929191105}. Best is trial 6 with value: 0.4012\u001b[0m\n",
                        "\u001b[32m[I 2022-08-14 19:30:36]\u001b[0m Trial 60 finished with value: 0.3300 and parameters: {'C': 0.6628358816179643, 'l1_ratio': 0.7610140768054059}. Best is trial 6 with value: 0.4012\u001b[0m\n",
                        "\u001b[32m[I 2022-08-14 19:30:37]\u001b[0m Trial 61 finished with value: 0.3980 and parameters: {'C': 2.6525014642925777, 'l1_ratio': 0.03682084699597142}. Best is trial 6 with value: 0.4012\u001b[0m\n",
                        "\u001b[32m[I 2022-08-14 19:30:37]\u001b[0m Trial 62 finished with value: 0.3687 and parameters: {'C': 20.568417421579483, 'l1_ratio': 0.04747370842175235}. Best is trial 6 with value: 0.4012\u001b[0m\n",
                        "\u001b[32m[I 2022-08-14 19:30:38]\u001b[0m Trial 63 finished with value: 0.3980 and parameters: {'C': 2.7024413713393445, 'l1_ratio': 0.13019230524571093}. Best is trial 6 with value: 0.4012\u001b[0m\n",
                        "\u001b[32m[I 2022-08-14 19:30:38]\u001b[0m Trial 64 finished with value: 0.3985 and parameters: {'C': 6.019836776847062, 'l1_ratio': 0.154753423338543}. Best is trial 6 with value: 0.4012\u001b[0m\n",
                        "\u001b[32m[I 2022-08-14 19:30:39]\u001b[0m Trial 65 finished with value: 0.3892 and parameters: {'C': 8.585706108496707, 'l1_ratio': 0.13219010384151333}. Best is trial 6 with value: 0.4012\u001b[0m\n",
                        "\u001b[32m[I 2022-08-14 19:30:39]\u001b[0m Trial 66 finished with value: 0.3961 and parameters: {'C': 2.1148150550531626, 'l1_ratio': 0.16652115898956393}. Best is trial 6 with value: 0.4012\u001b[0m\n",
                        "\u001b[32m[I 2022-08-14 19:30:40]\u001b[0m Trial 67 finished with value: 0.3910 and parameters: {'C': 1.1973021940421282, 'l1_ratio': 7.406790224309158e-05}. Best is trial 6 with value: 0.4012\u001b[0m\n",
                        "\u001b[32m[I 2022-08-14 19:30:41]\u001b[0m Trial 68 finished with value: 0.3687 and parameters: {'C': 42.56172228280346, 'l1_ratio': 0.20980456404682685}. Best is trial 6 with value: 0.4012\u001b[0m\n",
                        "\u001b[32m[I 2022-08-14 19:30:42]\u001b[0m Trial 69 finished with value: 0.3471 and parameters: {'C': 0.2237260348130884, 'l1_ratio': 0.05402150168910591}. Best is trial 6 with value: 0.4012\u001b[0m\n",
                        "\u001b[32m[I 2022-08-14 19:30:44]\u001b[0m Trial 70 finished with value: 0.3802 and parameters: {'C': 13.384349772036003, 'l1_ratio': 0.08074329393652269}. Best is trial 6 with value: 0.4012\u001b[0m\n",
                        "\u001b[32m[I 2022-08-14 19:30:45]\u001b[0m Trial 71 finished with value: 0.3980 and parameters: {'C': 4.1421129062835895, 'l1_ratio': 0.13177792674644567}. Best is trial 6 with value: 0.4012\u001b[0m\n",
                        "\u001b[32m[I 2022-08-14 19:30:46]\u001b[0m Trial 72 finished with value: 0.3980 and parameters: {'C': 2.834926093513965, 'l1_ratio': 0.14493880548866142}. Best is trial 6 with value: 0.4012\u001b[0m\n",
                        "\u001b[32m[I 2022-08-14 19:30:47]\u001b[0m Trial 73 finished with value: 0.3985 and parameters: {'C': 6.152874004401395, 'l1_ratio': 0.22552385901092567}. Best is trial 6 with value: 0.4012\u001b[0m\n",
                        "\u001b[32m[I 2022-08-14 19:30:47]\u001b[0m Trial 74 finished with value: 0.3980 and parameters: {'C': 5.49168228925174, 'l1_ratio': 0.22270501795523776}. Best is trial 6 with value: 0.4012\u001b[0m\n",
                        "\u001b[32m[I 2022-08-14 19:30:48]\u001b[0m Trial 75 finished with value: 0.3985 and parameters: {'C': 6.616477417525346, 'l1_ratio': 0.30480282922556406}. Best is trial 6 with value: 0.4012\u001b[0m\n",
                        "\u001b[32m[I 2022-08-14 19:30:48]\u001b[0m Trial 76 finished with value: 0.3687 and parameters: {'C': 27.039649370144193, 'l1_ratio': 0.29994421632674184}. Best is trial 6 with value: 0.4012\u001b[0m\n",
                        "\u001b[32m[I 2022-08-14 19:30:49]\u001b[0m Trial 77 finished with value: 0.3395 and parameters: {'C': 0.5359756652936514, 'l1_ratio': 0.1845829786928491}. Best is trial 6 with value: 0.4012\u001b[0m\n",
                        "\u001b[32m[I 2022-08-14 19:30:50]\u001b[0m Trial 78 finished with value: 0.3687 and parameters: {'C': 63.958224239103195, 'l1_ratio': 0.32301549724866363}. Best is trial 6 with value: 0.4012\u001b[0m\n",
                        "\u001b[32m[I 2022-08-14 19:30:50]\u001b[0m Trial 79 finished with value: 0.3964 and parameters: {'C': 5.558734847480827, 'l1_ratio': 0.21744499598067324}. Best is trial 6 with value: 0.4012\u001b[0m\n",
                        "\u001b[32m[I 2022-08-14 19:30:51]\u001b[0m Trial 80 finished with value: 0.3872 and parameters: {'C': 11.99153878469863, 'l1_ratio': 0.2705702754978199}. Best is trial 6 with value: 0.4012\u001b[0m\n",
                        "\u001b[32m[I 2022-08-14 19:30:51]\u001b[0m Trial 81 finished with value: 0.3973 and parameters: {'C': 1.5156333078707616, 'l1_ratio': 0.3632989572091847}. Best is trial 6 with value: 0.4012\u001b[0m\n",
                        "\u001b[32m[I 2022-08-14 19:30:52]\u001b[0m Trial 82 finished with value: 0.3557 and parameters: {'C': 0.8743565682401421, 'l1_ratio': 0.10208768555357593}. Best is trial 6 with value: 0.4012\u001b[0m\n",
                        "\u001b[32m[I 2022-08-14 19:30:52]\u001b[0m Trial 83 finished with value: 0.3980 and parameters: {'C': 2.652374404174679, 'l1_ratio': 0.04695016461049176}. Best is trial 6 with value: 0.4012\u001b[0m\n",
                        "\u001b[32m[I 2022-08-14 19:30:53]\u001b[0m Trial 84 finished with value: 0.3923 and parameters: {'C': 6.373560692011863, 'l1_ratio': 0.44585881161237323}. Best is trial 6 with value: 0.4012\u001b[0m\n",
                        "\u001b[32m[I 2022-08-14 19:30:54]\u001b[0m Trial 85 finished with value: 0.3872 and parameters: {'C': 12.915451751936777, 'l1_ratio': 0.2472588260983303}. Best is trial 6 with value: 0.4012\u001b[0m\n",
                        "/home/george/Desktop/pytelligence/.venv/lib/python3.9/site-packages/sklearn/linear_model/_sag.py:350: ConvergenceWarning: The max_iter was reached which means the coef_ did not converge\n",
                        "  warnings.warn(\n",
                        "\u001b[32m[I 2022-08-14 19:30:55]\u001b[0m Trial 86 finished with value: 0.3687 and parameters: {'C': 21.968929780910713, 'l1_ratio': 0.40411019458646763}. Best is trial 6 with value: 0.4012\u001b[0m\n",
                        "\u001b[32m[I 2022-08-14 19:30:55]\u001b[0m Trial 87 finished with value: 0.0000 and parameters: {'C': 0.0006494822435049004, 'l1_ratio': 0.15959805302625032}. Best is trial 6 with value: 0.4012\u001b[0m\n",
                        "\u001b[32m[I 2022-08-14 19:30:56]\u001b[0m Trial 88 finished with value: 0.3980 and parameters: {'C': 4.7931509855067915, 'l1_ratio': 0.22522098243948904}. Best is trial 6 with value: 0.4012\u001b[0m\n",
                        "\u001b[32m[I 2022-08-14 19:30:56]\u001b[0m Trial 89 finished with value: 0.3973 and parameters: {'C': 1.4676371243648085, 'l1_ratio': 0.3336773440244854}. Best is trial 6 with value: 0.4012\u001b[0m\n",
                        "\u001b[32m[I 2022-08-14 19:30:57]\u001b[0m Trial 90 finished with value: 0.3985 and parameters: {'C': 6.448716900249588, 'l1_ratio': 0.28309400035149634}. Best is trial 6 with value: 0.4012\u001b[0m\n",
                        "\u001b[32m[I 2022-08-14 19:30:58]\u001b[0m Trial 91 finished with value: 0.3906 and parameters: {'C': 7.517542040370077, 'l1_ratio': 0.28425618492175925}. Best is trial 6 with value: 0.4012\u001b[0m\n",
                        "/home/george/Desktop/pytelligence/.venv/lib/python3.9/site-packages/sklearn/linear_model/_sag.py:350: ConvergenceWarning: The max_iter was reached which means the coef_ did not converge\n",
                        "  warnings.warn(\n",
                        "\u001b[32m[I 2022-08-14 19:30:58]\u001b[0m Trial 92 finished with value: 0.3722 and parameters: {'C': 16.0064554143581, 'l1_ratio': 0.690954090289027}. Best is trial 6 with value: 0.4012\u001b[0m\n",
                        "\u001b[32m[I 2022-08-14 19:30:59]\u001b[0m Trial 93 finished with value: 0.3892 and parameters: {'C': 9.322318558036589, 'l1_ratio': 0.23939392750327723}. Best is trial 6 with value: 0.4012\u001b[0m\n",
                        "\u001b[32m[I 2022-08-14 19:30:59]\u001b[0m Trial 94 finished with value: 0.0000 and parameters: {'C': 5.151851882060766e-06, 'l1_ratio': 0.07678462119542724}. Best is trial 6 with value: 0.4012\u001b[0m\n",
                        "\u001b[32m[I 2022-08-14 19:31:00]\u001b[0m Trial 95 finished with value: 0.3600 and parameters: {'C': 0.9241817524883065, 'l1_ratio': 0.19234053532582815}. Best is trial 6 with value: 0.4012\u001b[0m\n",
                        "\u001b[32m[I 2022-08-14 19:31:01]\u001b[0m Trial 96 finished with value: 0.3937 and parameters: {'C': 1.9256253291828263, 'l1_ratio': 0.31805483942428975}. Best is trial 6 with value: 0.4012\u001b[0m\n",
                        "\u001b[32m[I 2022-08-14 19:31:02]\u001b[0m Trial 97 finished with value: 0.3687 and parameters: {'C': 31.69961442202573, 'l1_ratio': 0.3531044407082195}. Best is trial 6 with value: 0.4012\u001b[0m\n",
                        "\u001b[32m[I 2022-08-14 19:31:03]\u001b[0m Trial 98 finished with value: 0.3980 and parameters: {'C': 3.895730151125221, 'l1_ratio': 0.27674553618124564}. Best is trial 6 with value: 0.4012\u001b[0m\n",
                        "\u001b[32m[I 2022-08-14 19:31:04]\u001b[0m Trial 99 finished with value: 0.3980 and parameters: {'C': 3.4585712552180854, 'l1_ratio': 0.26540048762641927}. Best is trial 6 with value: 0.4012\u001b[0m\n",
                        "\u001b[32m[I 2022-08-14 19:31:04]\u001b[0m Trial 100 finished with value: 0.4012 and parameters: {'C': 2.5256956845341625, 'l1_ratio': 0.4718417561701565}. Best is trial 6 with value: 0.4012\u001b[0m\n",
                        "\u001b[32m[I 2022-08-14 19:31:05]\u001b[0m Trial 101 finished with value: 0.3985 and parameters: {'C': 6.295039407797951, 'l1_ratio': 0.21987414586886764}. Best is trial 6 with value: 0.4012\u001b[0m\n",
                        "\u001b[32m[I 2022-08-14 19:31:05]\u001b[0m Trial 102 finished with value: 0.3985 and parameters: {'C': 6.531941642147682, 'l1_ratio': 0.15161111000804606}. Best is trial 6 with value: 0.4012\u001b[0m\n",
                        "\u001b[32m[I 2022-08-14 19:31:06]\u001b[0m Trial 103 finished with value: 0.3702 and parameters: {'C': 64.95559311886426, 'l1_ratio': 0.4223653886168482}. Best is trial 6 with value: 0.4012\u001b[0m\n",
                        "\u001b[32m[I 2022-08-14 19:31:07]\u001b[0m Trial 104 finished with value: 0.3687 and parameters: {'C': 18.657165595490795, 'l1_ratio': 0.1992602762826725}. Best is trial 6 with value: 0.4012\u001b[0m\n",
                        "\u001b[32m[I 2022-08-14 19:31:07]\u001b[0m Trial 105 finished with value: 0.3923 and parameters: {'C': 6.896424092287247, 'l1_ratio': 0.5071562811304277}. Best is trial 6 with value: 0.4012\u001b[0m\n",
                        "/home/george/Desktop/pytelligence/.venv/lib/python3.9/site-packages/sklearn/linear_model/_sag.py:350: ConvergenceWarning: The max_iter was reached which means the coef_ did not converge\n",
                        "  warnings.warn(\n",
                        "\u001b[32m[I 2022-08-14 19:31:08]\u001b[0m Trial 106 finished with value: 0.3872 and parameters: {'C': 11.174981370034883, 'l1_ratio': 0.4664246064878923}. Best is trial 6 with value: 0.4012\u001b[0m\n",
                        "\u001b[32m[I 2022-08-14 19:31:08]\u001b[0m Trial 107 finished with value: 0.3530 and parameters: {'C': 0.3363862692235264, 'l1_ratio': 0.1679695546734331}. Best is trial 6 with value: 0.4012\u001b[0m\n",
                        "\u001b[32m[I 2022-08-14 19:31:09]\u001b[0m Trial 108 finished with value: 0.3980 and parameters: {'C': 5.00796141703538, 'l1_ratio': 0.24283059766231999}. Best is trial 6 with value: 0.4012\u001b[0m\n",
                        "\u001b[32m[I 2022-08-14 19:31:09]\u001b[0m Trial 109 finished with value: 0.4030 and parameters: {'C': 1.667848620397094, 'l1_ratio': 0.11647182999815042}. Best is trial 109 with value: 0.4030\u001b[0m\n",
                        "\u001b[32m[I 2022-08-14 19:31:09]\u001b[0m Trial 110 finished with value: 0.3961 and parameters: {'C': 1.7181147396637895, 'l1_ratio': 0.10459278896839591}. Best is trial 109 with value: 0.4030\u001b[0m\n",
                        "\u001b[32m[I 2022-08-14 19:31:10]\u001b[0m Trial 111 finished with value: 0.3818 and parameters: {'C': 2.325734523099806, 'l1_ratio': 0.06521878734026423}. Best is trial 109 with value: 0.4030\u001b[0m\n",
                        "\u001b[32m[I 2022-08-14 19:31:10]\u001b[0m Trial 112 finished with value: 0.3625 and parameters: {'C': 0.6440076434609602, 'l1_ratio': 0.14256243947292305}. Best is trial 109 with value: 0.4030\u001b[0m\n",
                        "\u001b[32m[I 2022-08-14 19:31:10]\u001b[0m Trial 113 finished with value: 0.3698 and parameters: {'C': 1.0071537572062919, 'l1_ratio': 0.3905823404293259}. Best is trial 109 with value: 0.4030\u001b[0m\n",
                        "\u001b[32m[I 2022-08-14 19:31:11]\u001b[0m Trial 114 finished with value: 0.3906 and parameters: {'C': 7.0613434602155785, 'l1_ratio': 0.30155876136261006}. Best is trial 109 with value: 0.4030\u001b[0m\n",
                        "\u001b[32m[I 2022-08-14 19:31:11]\u001b[0m Trial 115 finished with value: 0.3980 and parameters: {'C': 3.2080719845497105, 'l1_ratio': 0.1750744213993845}. Best is trial 109 with value: 0.4030\u001b[0m\n",
                        "\u001b[32m[I 2022-08-14 19:31:12]\u001b[0m Trial 116 finished with value: 0.3872 and parameters: {'C': 9.56439114944233, 'l1_ratio': 0.5508018238586855}. Best is trial 109 with value: 0.4030\u001b[0m\n",
                        "\u001b[32m[I 2022-08-14 19:31:12]\u001b[0m Trial 117 finished with value: 0.3961 and parameters: {'C': 1.9463281530250136, 'l1_ratio': 0.15451211671321144}. Best is trial 109 with value: 0.4030\u001b[0m\n",
                        "\u001b[32m[I 2022-08-14 19:31:13]\u001b[0m Trial 118 finished with value: 0.0000 and parameters: {'C': 0.007017500957225432, 'l1_ratio': 0.3387542180530456}. Best is trial 109 with value: 0.4030\u001b[0m\n",
                        "\u001b[32m[I 2022-08-14 19:31:13]\u001b[0m Trial 119 finished with value: 0.3980 and parameters: {'C': 4.8772351661947715, 'l1_ratio': 0.2244513812594381}. Best is trial 109 with value: 0.4030\u001b[0m\n",
                        "\u001b[32m[I 2022-08-14 19:31:14]\u001b[0m Trial 120 finished with value: 0.3722 and parameters: {'C': 16.29810811952373, 'l1_ratio': 0.20591121950446648}. Best is trial 109 with value: 0.4030\u001b[0m\n",
                        "\u001b[32m[I 2022-08-14 19:31:15]\u001b[0m Trial 121 finished with value: 0.3904 and parameters: {'C': 4.947183888306641, 'l1_ratio': 0.5815026075598426}. Best is trial 109 with value: 0.4030\u001b[0m\n",
                        "/home/george/Desktop/pytelligence/.venv/lib/python3.9/site-packages/sklearn/linear_model/_sag.py:350: ConvergenceWarning: The max_iter was reached which means the coef_ did not converge\n",
                        "  warnings.warn(\n",
                        "\u001b[32m[I 2022-08-14 19:31:15]\u001b[0m Trial 122 finished with value: 0.3872 and parameters: {'C': 10.801055160003267, 'l1_ratio': 0.6099305011237074}. Best is trial 109 with value: 0.4030\u001b[0m\n",
                        "\u001b[32m[I 2022-08-14 19:31:16]\u001b[0m Trial 123 finished with value: 0.3980 and parameters: {'C': 3.309575918314056, 'l1_ratio': 0.10741558979500715}. Best is trial 109 with value: 0.4030\u001b[0m\n",
                        "\u001b[32m[I 2022-08-14 19:31:16]\u001b[0m Trial 124 finished with value: 0.3698 and parameters: {'C': 1.1115214802660887, 'l1_ratio': 0.5089451316188717}. Best is trial 109 with value: 0.4030\u001b[0m\n",
                        "\u001b[32m[I 2022-08-14 19:31:17]\u001b[0m Trial 125 finished with value: 0.3923 and parameters: {'C': 6.4588541570008235, 'l1_ratio': 0.5314351841467835}. Best is trial 109 with value: 0.4030\u001b[0m\n",
                        "\u001b[32m[I 2022-08-14 19:31:17]\u001b[0m Trial 126 finished with value: 0.3980 and parameters: {'C': 3.948502073395969, 'l1_ratio': 0.13120615597444313}. Best is trial 109 with value: 0.4030\u001b[0m\n",
                        "/home/george/Desktop/pytelligence/.venv/lib/python3.9/site-packages/sklearn/linear_model/_sag.py:350: ConvergenceWarning: The max_iter was reached which means the coef_ did not converge\n",
                        "  warnings.warn(\n",
                        "\u001b[32m[I 2022-08-14 19:31:19]\u001b[0m Trial 127 finished with value: 0.3687 and parameters: {'C': 23.379508191678056, 'l1_ratio': 0.4853962372939565}. Best is trial 109 with value: 0.4030\u001b[0m\n",
                        "\u001b[32m[I 2022-08-14 19:31:20]\u001b[0m Trial 128 finished with value: 0.3937 and parameters: {'C': 1.5206911650081696, 'l1_ratio': 0.12721453722368525}. Best is trial 109 with value: 0.4030\u001b[0m\n",
                        "\u001b[32m[I 2022-08-14 19:31:21]\u001b[0m Trial 129 finished with value: 0.4030 and parameters: {'C': 2.4553741643730116, 'l1_ratio': 0.6538589240257705}. Best is trial 109 with value: 0.4030\u001b[0m\n",
                        "\u001b[32m[I 2022-08-14 19:31:23]\u001b[0m Trial 130 finished with value: 0.4081 and parameters: {'C': 2.49431277055194, 'l1_ratio': 0.6483837296376324}. Best is trial 130 with value: 0.4081\u001b[0m\n",
                        "\u001b[32m[I 2022-08-14 19:31:24]\u001b[0m Trial 131 finished with value: 0.4012 and parameters: {'C': 2.842000349446638, 'l1_ratio': 0.6438968615799944}. Best is trial 130 with value: 0.4081\u001b[0m\n",
                        "\u001b[32m[I 2022-08-14 19:31:24]\u001b[0m Trial 132 finished with value: 0.4030 and parameters: {'C': 2.416628307722175, 'l1_ratio': 0.6341516050802798}. Best is trial 130 with value: 0.4081\u001b[0m\n",
                        "\u001b[32m[I 2022-08-14 19:31:25]\u001b[0m Trial 133 finished with value: 0.3919 and parameters: {'C': 2.424857303442285, 'l1_ratio': 0.6323557142252627}. Best is trial 130 with value: 0.4081\u001b[0m\n",
                        "\u001b[32m[I 2022-08-14 19:31:26]\u001b[0m Trial 134 finished with value: 0.3423 and parameters: {'C': 0.7392864571795057, 'l1_ratio': 0.6614077178845854}. Best is trial 130 with value: 0.4081\u001b[0m\n",
                        "\u001b[32m[I 2022-08-14 19:31:27]\u001b[0m Trial 135 finished with value: 0.3078 and parameters: {'C': 0.41884579021014295, 'l1_ratio': 0.6349502910673716}. Best is trial 130 with value: 0.4081\u001b[0m\n",
                        "\u001b[32m[I 2022-08-14 19:31:27]\u001b[0m Trial 136 finished with value: 0.3673 and parameters: {'C': 1.40229817285149, 'l1_ratio': 0.7066648082821834}. Best is trial 130 with value: 0.4081\u001b[0m\n",
                        "\u001b[32m[I 2022-08-14 19:31:28]\u001b[0m Trial 137 finished with value: 0.4012 and parameters: {'C': 2.6428378513924575, 'l1_ratio': 0.6603138759289535}. Best is trial 130 with value: 0.4081\u001b[0m\n",
                        "\u001b[32m[I 2022-08-14 19:31:29]\u001b[0m Trial 138 finished with value: 0.4048 and parameters: {'C': 2.1337082343205767, 'l1_ratio': 0.6773676627720597}. Best is trial 130 with value: 0.4081\u001b[0m\n",
                        "\u001b[32m[I 2022-08-14 19:31:29]\u001b[0m Trial 139 finished with value: 0.4088 and parameters: {'C': 2.005915918230618, 'l1_ratio': 0.7350603516594786}. Best is trial 139 with value: 0.4088\u001b[0m\n",
                        "\u001b[32m[I 2022-08-14 19:31:30]\u001b[0m Trial 140 finished with value: 0.4034 and parameters: {'C': 1.9777704472205586, 'l1_ratio': 0.7470684501762569}. Best is trial 139 with value: 0.4088\u001b[0m\n",
                        "\u001b[32m[I 2022-08-14 19:31:31]\u001b[0m Trial 141 finished with value: 0.3923 and parameters: {'C': 1.826200947737027, 'l1_ratio': 0.7499309788933}. Best is trial 139 with value: 0.4088\u001b[0m\n",
                        "\u001b[32m[I 2022-08-14 19:31:32]\u001b[0m Trial 142 finished with value: 0.3698 and parameters: {'C': 1.1758343065188879, 'l1_ratio': 0.6761534863091527}. Best is trial 139 with value: 0.4088\u001b[0m\n",
                        "\u001b[32m[I 2022-08-14 19:31:34]\u001b[0m Trial 143 finished with value: 0.3945 and parameters: {'C': 2.5376699972131513, 'l1_ratio': 0.7985349740724461}. Best is trial 139 with value: 0.4088\u001b[0m\n",
                        "\u001b[32m[I 2022-08-14 19:31:34]\u001b[0m Trial 144 finished with value: 0.3447 and parameters: {'C': 0.8794572873151847, 'l1_ratio': 0.7221290075538432}. Best is trial 139 with value: 0.4088\u001b[0m\n",
                        "\u001b[32m[I 2022-08-14 19:31:34]\u001b[0m Trial 145 finished with value: 0.2612 and parameters: {'C': 0.21461437648583878, 'l1_ratio': 0.6370732746442651}. Best is trial 139 with value: 0.4088\u001b[0m\n",
                        "\u001b[32m[I 2022-08-14 19:31:35]\u001b[0m Trial 146 finished with value: 0.3322 and parameters: {'C': 0.5522625198450822, 'l1_ratio': 0.705070959779252}. Best is trial 139 with value: 0.4088\u001b[0m\n",
                        "\u001b[32m[I 2022-08-14 19:31:35]\u001b[0m Trial 147 finished with value: 0.4088 and parameters: {'C': 1.999826613269277, 'l1_ratio': 0.7383768715292836}. Best is trial 139 with value: 0.4088\u001b[0m\n",
                        "\u001b[32m[I 2022-08-14 19:31:36]\u001b[0m Trial 148 finished with value: 0.3923 and parameters: {'C': 1.8120892048029211, 'l1_ratio': 0.7393689107870697}. Best is trial 139 with value: 0.4088\u001b[0m\n",
                        "\u001b[32m[I 2022-08-14 19:31:37]\u001b[0m Trial 149 finished with value: 0.4075 and parameters: {'C': 2.9396441439343675, 'l1_ratio': 0.7869760249001411}. Best is trial 139 with value: 0.4088\u001b[0m\n",
                        "\u001b[32m[I 2022-08-14 19:31:37]\u001b[0m Trial 0 finished with value: 0.5600 and parameters: {'var_smoothing': 4.0273608578961444e-07}. Best is trial 0 with value: 0.5600\u001b[0m\n",
                        "\u001b[32m[I 2022-08-14 19:31:37]\u001b[0m Trial 1 finished with value: 0.5600 and parameters: {'var_smoothing': 2.601646457402543e-07}. Best is trial 0 with value: 0.5600\u001b[0m\n",
                        "\u001b[32m[I 2022-08-14 19:31:37]\u001b[0m Trial 2 finished with value: 0.5534 and parameters: {'var_smoothing': 1.783959235381815e-09}. Best is trial 0 with value: 0.5600\u001b[0m\n",
                        "\u001b[32m[I 2022-08-14 19:31:38]\u001b[0m Trial 3 finished with value: 0.4218 and parameters: {'var_smoothing': 0.28815669789323356}. Best is trial 0 with value: 0.5600\u001b[0m\n",
                        "\u001b[32m[I 2022-08-14 19:31:38]\u001b[0m Trial 4 finished with value: 0.4704 and parameters: {'var_smoothing': 0.004467013714832475}. Best is trial 0 with value: 0.5600\u001b[0m\n",
                        "\u001b[32m[I 2022-08-14 19:31:38]\u001b[0m Trial 5 finished with value: 0.5587 and parameters: {'var_smoothing': 3.59322791475856e-11}. Best is trial 0 with value: 0.5600\u001b[0m\n",
                        "\u001b[32m[I 2022-08-14 19:31:38]\u001b[0m Trial 6 finished with value: 0.5553 and parameters: {'var_smoothing': 1.1782110567612017e-12}. Best is trial 0 with value: 0.5600\u001b[0m\n",
                        "\u001b[32m[I 2022-08-14 19:31:38]\u001b[0m Trial 7 finished with value: 0.5587 and parameters: {'var_smoothing': 3.2620910789900036e-11}. Best is trial 0 with value: 0.5600\u001b[0m\n",
                        "\u001b[32m[I 2022-08-14 19:31:38]\u001b[0m Trial 8 finished with value: 0.5553 and parameters: {'var_smoothing': 1.7296276133378663e-05}. Best is trial 0 with value: 0.5600\u001b[0m\n",
                        "\u001b[32m[I 2022-08-14 19:31:39]\u001b[0m Trial 9 finished with value: 0.4707 and parameters: {'var_smoothing': 0.034174479519641233}. Best is trial 0 with value: 0.5600\u001b[0m\n",
                        "\u001b[32m[I 2022-08-14 19:31:39]\u001b[0m Trial 10 finished with value: 0.5779 and parameters: {'var_smoothing': 6.729220687541651e-06}. Best is trial 10 with value: 0.5779\u001b[0m\n",
                        "\u001b[32m[I 2022-08-14 19:31:39]\u001b[0m Trial 11 finished with value: 0.5665 and parameters: {'var_smoothing': 1.2314246770110686e-06}. Best is trial 10 with value: 0.5779\u001b[0m\n",
                        "\u001b[32m[I 2022-08-14 19:31:39]\u001b[0m Trial 12 finished with value: 0.5246 and parameters: {'var_smoothing': 0.0002102957503910188}. Best is trial 10 with value: 0.5779\u001b[0m\n",
                        "\u001b[32m[I 2022-08-14 19:31:40]\u001b[0m Trial 13 finished with value: 0.5590 and parameters: {'var_smoothing': 1.8633061982312422e-08}. Best is trial 10 with value: 0.5779\u001b[0m\n",
                        "\u001b[32m[I 2022-08-14 19:31:40]\u001b[0m Trial 14 finished with value: 0.5504 and parameters: {'var_smoothing': 2.3762902297012033e-05}. Best is trial 10 with value: 0.5779\u001b[0m\n",
                        "\u001b[32m[I 2022-08-14 19:31:40]\u001b[0m Trial 15 finished with value: 0.5454 and parameters: {'var_smoothing': 6.0537762574379605e-05}. Best is trial 10 with value: 0.5779\u001b[0m\n",
                        "\u001b[32m[I 2022-08-14 19:31:40]\u001b[0m Trial 16 finished with value: 0.4851 and parameters: {'var_smoothing': 0.0017640632101914085}. Best is trial 10 with value: 0.5779\u001b[0m\n",
                        "\u001b[32m[I 2022-08-14 19:31:40]\u001b[0m Trial 17 finished with value: 0.5665 and parameters: {'var_smoothing': 2.071418946186916e-06}. Best is trial 10 with value: 0.5779\u001b[0m\n",
                        "\u001b[32m[I 2022-08-14 19:31:40]\u001b[0m Trial 18 finished with value: 0.5633 and parameters: {'var_smoothing': 8.190502141780465e-09}. Best is trial 10 with value: 0.5779\u001b[0m\n",
                        "\u001b[32m[I 2022-08-14 19:31:40]\u001b[0m Trial 19 finished with value: 0.5594 and parameters: {'var_smoothing': 3.03531278651626e-06}. Best is trial 10 with value: 0.5779\u001b[0m\n",
                        "\u001b[32m[I 2022-08-14 19:31:41]\u001b[0m Trial 20 finished with value: 0.4931 and parameters: {'var_smoothing': 0.0006663970174344828}. Best is trial 10 with value: 0.5779\u001b[0m\n",
                        "\u001b[32m[I 2022-08-14 19:31:41]\u001b[0m Trial 21 finished with value: 0.5594 and parameters: {'var_smoothing': 2.445027121278774e-06}. Best is trial 10 with value: 0.5779\u001b[0m\n",
                        "\u001b[32m[I 2022-08-14 19:31:41]\u001b[0m Trial 22 finished with value: 0.5651 and parameters: {'var_smoothing': 1.6557216242344442e-07}. Best is trial 10 with value: 0.5779\u001b[0m\n",
                        "\u001b[32m[I 2022-08-14 19:31:41]\u001b[0m Trial 23 finished with value: 0.5701 and parameters: {'var_smoothing': 8.577477120432216e-06}. Best is trial 10 with value: 0.5779\u001b[0m\n",
                        "\u001b[32m[I 2022-08-14 19:31:41]\u001b[0m Trial 24 finished with value: 0.5553 and parameters: {'var_smoothing': 1.6516096313876e-05}. Best is trial 10 with value: 0.5779\u001b[0m\n",
                        "\u001b[32m[I 2022-08-14 19:31:41]\u001b[0m Trial 25 finished with value: 0.5590 and parameters: {'var_smoothing': 2.941164409686274e-08}. Best is trial 10 with value: 0.5779\u001b[0m\n",
                        "\u001b[32m[I 2022-08-14 19:31:41]\u001b[0m Trial 26 finished with value: 0.5505 and parameters: {'var_smoothing': 4.02201223554373e-10}. Best is trial 10 with value: 0.5779\u001b[0m\n",
                        "\u001b[32m[I 2022-08-14 19:31:42]\u001b[0m Trial 27 finished with value: 0.4507 and parameters: {'var_smoothing': 0.0143818242107169}. Best is trial 10 with value: 0.5779\u001b[0m\n",
                        "\u001b[32m[I 2022-08-14 19:31:42]\u001b[0m Trial 28 finished with value: 0.5264 and parameters: {'var_smoothing': 0.00023872344557753316}. Best is trial 10 with value: 0.5779\u001b[0m\n",
                        "\u001b[32m[I 2022-08-14 19:31:42]\u001b[0m Trial 29 finished with value: 0.5628 and parameters: {'var_smoothing': 1.4685897470535842e-07}. Best is trial 10 with value: 0.5779\u001b[0m\n",
                        "\u001b[32m[I 2022-08-14 19:31:42]\u001b[0m Trial 30 finished with value: 0.5747 and parameters: {'var_smoothing': 5.934998470237712e-06}. Best is trial 10 with value: 0.5779\u001b[0m\n",
                        "\u001b[32m[I 2022-08-14 19:31:42]\u001b[0m Trial 31 finished with value: 0.5668 and parameters: {'var_smoothing': 4.363934828879905e-06}. Best is trial 10 with value: 0.5779\u001b[0m\n",
                        "\u001b[32m[I 2022-08-14 19:31:42]\u001b[0m Trial 32 finished with value: 0.5779 and parameters: {'var_smoothing': 7.442288521800979e-06}. Best is trial 10 with value: 0.5779\u001b[0m\n",
                        "\u001b[32m[I 2022-08-14 19:31:42]\u001b[0m Trial 33 finished with value: 0.5650 and parameters: {'var_smoothing': 4.5295202004717916e-07}. Best is trial 10 with value: 0.5779\u001b[0m\n",
                        "\u001b[32m[I 2022-08-14 19:31:43]\u001b[0m Trial 34 finished with value: 0.5454 and parameters: {'var_smoothing': 5.047820363873858e-05}. Best is trial 10 with value: 0.5779\u001b[0m\n",
                        "\u001b[32m[I 2022-08-14 19:31:43]\u001b[0m Trial 35 finished with value: 0.5606 and parameters: {'var_smoothing': 6.981547549707546e-08}. Best is trial 10 with value: 0.5779\u001b[0m\n",
                        "\u001b[32m[I 2022-08-14 19:31:43]\u001b[0m Trial 36 finished with value: 0.5246 and parameters: {'var_smoothing': 0.00020575967165332204}. Best is trial 10 with value: 0.5779\u001b[0m\n",
                        "\u001b[32m[I 2022-08-14 19:31:43]\u001b[0m Trial 37 finished with value: 0.5676 and parameters: {'var_smoothing': 5.136486504143681e-07}. Best is trial 10 with value: 0.5779\u001b[0m\n",
                        "\u001b[32m[I 2022-08-14 19:31:43]\u001b[0m Trial 38 finished with value: 0.5779 and parameters: {'var_smoothing': 7.293472377685512e-06}. Best is trial 10 with value: 0.5779\u001b[0m\n",
                        "\u001b[32m[I 2022-08-14 19:31:43]\u001b[0m Trial 39 finished with value: 0.4628 and parameters: {'var_smoothing': 0.17865285813543477}. Best is trial 10 with value: 0.5779\u001b[0m\n",
                        "\u001b[32m[I 2022-08-14 19:31:43]\u001b[0m Trial 40 finished with value: 0.5534 and parameters: {'var_smoothing': 1.6985393668373166e-09}. Best is trial 10 with value: 0.5779\u001b[0m\n",
                        "\u001b[32m[I 2022-08-14 19:31:43]\u001b[0m Trial 41 finished with value: 0.5779 and parameters: {'var_smoothing': 7.439532268444488e-06}. Best is trial 10 with value: 0.5779\u001b[0m\n",
                        "\u001b[32m[I 2022-08-14 19:31:44]\u001b[0m Trial 42 finished with value: 0.5413 and parameters: {'var_smoothing': 7.908725423310569e-05}. Best is trial 10 with value: 0.5779\u001b[0m\n",
                        "\u001b[32m[I 2022-08-14 19:31:44]\u001b[0m Trial 43 finished with value: 0.5703 and parameters: {'var_smoothing': 9.708311266771805e-07}. Best is trial 10 with value: 0.5779\u001b[0m\n",
                        "\u001b[32m[I 2022-08-14 19:31:44]\u001b[0m Trial 44 finished with value: 0.5779 and parameters: {'var_smoothing': 7.69363692139739e-06}. Best is trial 10 with value: 0.5779\u001b[0m\n",
                        "\u001b[32m[I 2022-08-14 19:31:44]\u001b[0m Trial 45 finished with value: 0.4931 and parameters: {'var_smoothing': 0.0007042915697456737}. Best is trial 10 with value: 0.5779\u001b[0m\n",
                        "\u001b[32m[I 2022-08-14 19:31:44]\u001b[0m Trial 46 finished with value: 0.5504 and parameters: {'var_smoothing': 2.3887038317320806e-05}. Best is trial 10 with value: 0.5779\u001b[0m\n",
                        "\u001b[32m[I 2022-08-14 19:31:44]\u001b[0m Trial 47 finished with value: 0.5703 and parameters: {'var_smoothing': 7.75872982183502e-07}. Best is trial 10 with value: 0.5779\u001b[0m\n",
                        "\u001b[32m[I 2022-08-14 19:31:44]\u001b[0m Trial 48 finished with value: 0.4470 and parameters: {'var_smoothing': 0.008122128767430441}. Best is trial 10 with value: 0.5779\u001b[0m\n",
                        "\u001b[32m[I 2022-08-14 19:31:45]\u001b[0m Trial 49 finished with value: 0.5273 and parameters: {'var_smoothing': 0.00010914676849103643}. Best is trial 10 with value: 0.5779\u001b[0m\n",
                        "\u001b[32m[I 2022-08-14 19:31:45]\u001b[0m Trial 50 finished with value: 0.5516 and parameters: {'var_smoothing': 1.2107452008081026e-05}. Best is trial 10 with value: 0.5779\u001b[0m\n",
                        "\u001b[32m[I 2022-08-14 19:31:45]\u001b[0m Trial 51 finished with value: 0.5701 and parameters: {'var_smoothing': 8.509303012845509e-06}. Best is trial 10 with value: 0.5779\u001b[0m\n",
                        "\u001b[32m[I 2022-08-14 19:31:45]\u001b[0m Trial 52 finished with value: 0.5594 and parameters: {'var_smoothing': 2.844260000779625e-06}. Best is trial 10 with value: 0.5779\u001b[0m\n",
                        "\u001b[32m[I 2022-08-14 19:31:46]\u001b[0m Trial 53 finished with value: 0.5401 and parameters: {'var_smoothing': 3.437766419961794e-05}. Best is trial 10 with value: 0.5779\u001b[0m\n",
                        "\u001b[32m[I 2022-08-14 19:31:46]\u001b[0m Trial 54 finished with value: 0.5747 and parameters: {'var_smoothing': 5.671870284109266e-06}. Best is trial 10 with value: 0.5779\u001b[0m\n",
                        "\u001b[32m[I 2022-08-14 19:31:46]\u001b[0m Trial 55 finished with value: 0.4864 and parameters: {'var_smoothing': 0.0023217452435059026}. Best is trial 10 with value: 0.5779\u001b[0m\n",
                        "\u001b[32m[I 2022-08-14 19:31:46]\u001b[0m Trial 56 finished with value: 0.5600 and parameters: {'var_smoothing': 2.418107231613784e-07}. Best is trial 10 with value: 0.5779\u001b[0m\n",
                        "\u001b[32m[I 2022-08-14 19:31:47]\u001b[0m Trial 57 finished with value: 0.4931 and parameters: {'var_smoothing': 0.0005285426301172407}. Best is trial 10 with value: 0.5779\u001b[0m\n",
                        "\u001b[32m[I 2022-08-14 19:31:47]\u001b[0m Trial 58 finished with value: 0.5553 and parameters: {'var_smoothing': 1.2674080340555503e-12}. Best is trial 10 with value: 0.5779\u001b[0m\n",
                        "\u001b[32m[I 2022-08-14 19:31:47]\u001b[0m Trial 59 finished with value: 0.5665 and parameters: {'var_smoothing': 1.3550630401397252e-06}. Best is trial 10 with value: 0.5779\u001b[0m\n",
                        "\u001b[32m[I 2022-08-14 19:31:47]\u001b[0m Trial 60 finished with value: 0.5410 and parameters: {'var_smoothing': 2.70561971868716e-05}. Best is trial 10 with value: 0.5779\u001b[0m\n",
                        "\u001b[32m[I 2022-08-14 19:31:48]\u001b[0m Trial 61 finished with value: 0.5668 and parameters: {'var_smoothing': 4.415064750451324e-06}. Best is trial 10 with value: 0.5779\u001b[0m\n",
                        "\u001b[32m[I 2022-08-14 19:31:48]\u001b[0m Trial 62 finished with value: 0.5779 and parameters: {'var_smoothing': 7.892681666904018e-06}. Best is trial 10 with value: 0.5779\u001b[0m\n",
                        "\u001b[32m[I 2022-08-14 19:31:48]\u001b[0m Trial 63 finished with value: 0.5665 and parameters: {'var_smoothing': 1.7816121737767045e-06}. Best is trial 10 with value: 0.5779\u001b[0m\n",
                        "\u001b[32m[I 2022-08-14 19:31:48]\u001b[0m Trial 64 finished with value: 0.5606 and parameters: {'var_smoothing': 9.845259628135465e-08}. Best is trial 10 with value: 0.5779\u001b[0m\n",
                        "\u001b[32m[I 2022-08-14 19:31:48]\u001b[0m Trial 65 finished with value: 0.5598 and parameters: {'var_smoothing': 9.60820194135913e-06}. Best is trial 10 with value: 0.5779\u001b[0m\n",
                        "\u001b[32m[I 2022-08-14 19:31:48]\u001b[0m Trial 66 finished with value: 0.5273 and parameters: {'var_smoothing': 0.00011593119769597126}. Best is trial 10 with value: 0.5779\u001b[0m\n",
                        "\u001b[32m[I 2022-08-14 19:31:48]\u001b[0m Trial 67 finished with value: 0.5650 and parameters: {'var_smoothing': 4.5107800065087736e-07}. Best is trial 10 with value: 0.5779\u001b[0m\n",
                        "\u001b[32m[I 2022-08-14 19:31:48]\u001b[0m Trial 68 finished with value: 0.5454 and parameters: {'var_smoothing': 4.420423903253255e-05}. Best is trial 10 with value: 0.5779\u001b[0m\n",
                        "\u001b[32m[I 2022-08-14 19:31:48]\u001b[0m Trial 69 finished with value: 0.5590 and parameters: {'var_smoothing': 2.5589358723877963e-08}. Best is trial 10 with value: 0.5779\u001b[0m\n",
                        "\u001b[32m[I 2022-08-14 19:31:49]\u001b[0m Trial 70 finished with value: 0.5280 and parameters: {'var_smoothing': 0.00027819605485311557}. Best is trial 10 with value: 0.5779\u001b[0m\n",
                        "\u001b[32m[I 2022-08-14 19:31:49]\u001b[0m Trial 71 finished with value: 0.5779 and parameters: {'var_smoothing': 7.3894984618653496e-06}. Best is trial 10 with value: 0.5779\u001b[0m\n",
                        "\u001b[32m[I 2022-08-14 19:31:49]\u001b[0m Trial 72 finished with value: 0.5490 and parameters: {'var_smoothing': 1.9520548334703126e-05}. Best is trial 10 with value: 0.5779\u001b[0m\n",
                        "\u001b[32m[I 2022-08-14 19:31:49]\u001b[0m Trial 73 finished with value: 0.5731 and parameters: {'var_smoothing': 5.171006241070818e-06}. Best is trial 10 with value: 0.5779\u001b[0m\n",
                        "\u001b[32m[I 2022-08-14 19:31:49]\u001b[0m Trial 74 finished with value: 0.5665 and parameters: {'var_smoothing': 1.41674539037473e-06}. Best is trial 10 with value: 0.5779\u001b[0m\n",
                        "\u001b[32m[I 2022-08-14 19:31:49]\u001b[0m Trial 75 finished with value: 0.5516 and parameters: {'var_smoothing': 1.1991170601761958e-05}. Best is trial 10 with value: 0.5779\u001b[0m\n",
                        "\u001b[32m[I 2022-08-14 19:31:49]\u001b[0m Trial 76 finished with value: 0.5594 and parameters: {'var_smoothing': 2.7181859467571523e-06}. Best is trial 10 with value: 0.5779\u001b[0m\n",
                        "\u001b[32m[I 2022-08-14 19:31:49]\u001b[0m Trial 77 finished with value: 0.5454 and parameters: {'var_smoothing': 6.851618576011345e-05}. Best is trial 10 with value: 0.5779\u001b[0m\n",
                        "\u001b[32m[I 2022-08-14 19:31:50]\u001b[0m Trial 78 finished with value: 0.5703 and parameters: {'var_smoothing': 8.812592103815553e-07}. Best is trial 10 with value: 0.5779\u001b[0m\n",
                        "\u001b[32m[I 2022-08-14 19:31:50]\u001b[0m Trial 79 finished with value: 0.5600 and parameters: {'var_smoothing': 3.479843720857053e-07}. Best is trial 10 with value: 0.5779\u001b[0m\n",
                        "\u001b[32m[I 2022-08-14 19:31:50]\u001b[0m Trial 80 finished with value: 0.5606 and parameters: {'var_smoothing': 5.6557798722336024e-08}. Best is trial 10 with value: 0.5779\u001b[0m\n",
                        "\u001b[32m[I 2022-08-14 19:31:50]\u001b[0m Trial 81 finished with value: 0.5685 and parameters: {'var_smoothing': 4.806896072464176e-06}. Best is trial 10 with value: 0.5779\u001b[0m\n",
                        "\u001b[32m[I 2022-08-14 19:31:50]\u001b[0m Trial 82 finished with value: 0.5701 and parameters: {'var_smoothing': 8.661138745347831e-06}. Best is trial 10 with value: 0.5779\u001b[0m\n",
                        "\u001b[32m[I 2022-08-14 19:31:50]\u001b[0m Trial 83 finished with value: 0.5700 and parameters: {'var_smoothing': 5.048800076335794e-06}. Best is trial 10 with value: 0.5779\u001b[0m\n",
                        "\u001b[32m[I 2022-08-14 19:31:50]\u001b[0m Trial 84 finished with value: 0.5490 and parameters: {'var_smoothing': 2.1222756342481966e-05}. Best is trial 10 with value: 0.5779\u001b[0m\n",
                        "\u001b[32m[I 2022-08-14 19:31:50]\u001b[0m Trial 85 finished with value: 0.5454 and parameters: {'var_smoothing': 4.092084799315055e-05}. Best is trial 10 with value: 0.5779\u001b[0m\n",
                        "\u001b[32m[I 2022-08-14 19:31:50]\u001b[0m Trial 86 finished with value: 0.5594 and parameters: {'var_smoothing': 2.647870444814282e-06}. Best is trial 10 with value: 0.5779\u001b[0m\n",
                        "\u001b[32m[I 2022-08-14 19:31:51]\u001b[0m Trial 87 finished with value: 0.5306 and parameters: {'var_smoothing': 0.00015057241656188673}. Best is trial 10 with value: 0.5779\u001b[0m\n",
                        "\u001b[32m[I 2022-08-14 19:31:51]\u001b[0m Trial 88 finished with value: 0.5565 and parameters: {'var_smoothing': 1.3520309130767897e-05}. Best is trial 10 with value: 0.5779\u001b[0m\n",
                        "\u001b[32m[I 2022-08-14 19:31:51]\u001b[0m Trial 89 finished with value: 0.5676 and parameters: {'var_smoothing': 7.09499671570046e-07}. Best is trial 10 with value: 0.5779\u001b[0m\n",
                        "\u001b[32m[I 2022-08-14 19:31:51]\u001b[0m Trial 90 finished with value: 0.5747 and parameters: {'var_smoothing': 5.715902037532647e-06}. Best is trial 10 with value: 0.5779\u001b[0m\n",
                        "\u001b[32m[I 2022-08-14 19:31:51]\u001b[0m Trial 91 finished with value: 0.5779 and parameters: {'var_smoothing': 7.096699763905942e-06}. Best is trial 10 with value: 0.5779\u001b[0m\n",
                        "\u001b[32m[I 2022-08-14 19:31:51]\u001b[0m Trial 92 finished with value: 0.5665 and parameters: {'var_smoothing': 1.429195155002097e-06}. Best is trial 10 with value: 0.5779\u001b[0m\n",
                        "\u001b[32m[I 2022-08-14 19:31:51]\u001b[0m Trial 93 finished with value: 0.5779 and parameters: {'var_smoothing': 7.467127675890047e-06}. Best is trial 10 with value: 0.5779\u001b[0m\n",
                        "\u001b[32m[I 2022-08-14 19:31:51]\u001b[0m Trial 94 finished with value: 0.5553 and parameters: {'var_smoothing': 1.5983501224408216e-05}. Best is trial 10 with value: 0.5779\u001b[0m\n",
                        "\u001b[32m[I 2022-08-14 19:31:52]\u001b[0m Trial 95 finished with value: 0.5454 and parameters: {'var_smoothing': 4.5213976443203646e-05}. Best is trial 10 with value: 0.5779\u001b[0m\n",
                        "\u001b[32m[I 2022-08-14 19:31:52]\u001b[0m Trial 96 finished with value: 0.5594 and parameters: {'var_smoothing': 2.4845581013017816e-06}. Best is trial 10 with value: 0.5779\u001b[0m\n",
                        "\u001b[32m[I 2022-08-14 19:31:52]\u001b[0m Trial 97 finished with value: 0.5600 and parameters: {'var_smoothing': 2.0381614610282443e-07}. Best is trial 10 with value: 0.5779\u001b[0m\n",
                        "\u001b[32m[I 2022-08-14 19:31:52]\u001b[0m Trial 98 finished with value: 0.5413 and parameters: {'var_smoothing': 7.609570270472296e-05}. Best is trial 10 with value: 0.5779\u001b[0m\n",
                        "\u001b[32m[I 2022-08-14 19:31:52]\u001b[0m Trial 99 finished with value: 0.5410 and parameters: {'var_smoothing': 2.7273574218049474e-05}. Best is trial 10 with value: 0.5779\u001b[0m\n",
                        "\u001b[32m[I 2022-08-14 19:31:52]\u001b[0m Trial 100 finished with value: 0.4913 and parameters: {'var_smoothing': 0.00040986412012825334}. Best is trial 10 with value: 0.5779\u001b[0m\n",
                        "\u001b[32m[I 2022-08-14 19:31:53]\u001b[0m Trial 101 finished with value: 0.5779 and parameters: {'var_smoothing': 7.79663206720867e-06}. Best is trial 10 with value: 0.5779\u001b[0m\n",
                        "\u001b[32m[I 2022-08-14 19:31:53]\u001b[0m Trial 102 finished with value: 0.5779 and parameters: {'var_smoothing': 7.538186890667705e-06}. Best is trial 10 with value: 0.5779\u001b[0m\n",
                        "\u001b[32m[I 2022-08-14 19:31:53]\u001b[0m Trial 103 finished with value: 0.5650 and parameters: {'var_smoothing': 9.343403362763904e-06}. Best is trial 10 with value: 0.5779\u001b[0m\n",
                        "\u001b[32m[I 2022-08-14 19:31:53]\u001b[0m Trial 104 finished with value: 0.5665 and parameters: {'var_smoothing': 1.828703963853301e-06}. Best is trial 10 with value: 0.5779\u001b[0m\n",
                        "\u001b[32m[I 2022-08-14 19:31:53]\u001b[0m Trial 105 finished with value: 0.5594 and parameters: {'var_smoothing': 3.177604219093996e-06}. Best is trial 10 with value: 0.5779\u001b[0m\n",
                        "\u001b[32m[I 2022-08-14 19:31:53]\u001b[0m Trial 106 finished with value: 0.5676 and parameters: {'var_smoothing': 7.230927186887034e-07}. Best is trial 10 with value: 0.5779\u001b[0m\n",
                        "\u001b[32m[I 2022-08-14 19:31:54]\u001b[0m Trial 107 finished with value: 0.5701 and parameters: {'var_smoothing': 8.28820741469852e-06}. Best is trial 10 with value: 0.5779\u001b[0m\n",
                        "\u001b[32m[I 2022-08-14 19:31:54]\u001b[0m Trial 108 finished with value: 0.5338 and parameters: {'var_smoothing': 2.874055284050993e-05}. Best is trial 10 with value: 0.5779\u001b[0m\n",
                        "\u001b[32m[I 2022-08-14 19:31:54]\u001b[0m Trial 109 finished with value: 0.5324 and parameters: {'var_smoothing': 9.73238114153728e-05}. Best is trial 10 with value: 0.5779\u001b[0m\n",
                        "\u001b[32m[I 2022-08-14 19:31:54]\u001b[0m Trial 110 finished with value: 0.5553 and parameters: {'var_smoothing': 1.5977864347293503e-05}. Best is trial 10 with value: 0.5779\u001b[0m\n",
                        "\u001b[32m[I 2022-08-14 19:31:54]\u001b[0m Trial 111 finished with value: 0.5779 and parameters: {'var_smoothing': 7.791512249376696e-06}. Best is trial 10 with value: 0.5779\u001b[0m\n",
                        "\u001b[32m[I 2022-08-14 19:31:54]\u001b[0m Trial 112 finished with value: 0.5594 and parameters: {'var_smoothing': 3.2444980340772463e-06}. Best is trial 10 with value: 0.5779\u001b[0m\n",
                        "\u001b[32m[I 2022-08-14 19:31:54]\u001b[0m Trial 113 finished with value: 0.5779 and parameters: {'var_smoothing': 7.681909302720242e-06}. Best is trial 10 with value: 0.5779\u001b[0m\n",
                        "\u001b[32m[I 2022-08-14 19:31:55]\u001b[0m Trial 114 finished with value: 0.5553 and parameters: {'var_smoothing': 1.6303228352381488e-05}. Best is trial 10 with value: 0.5779\u001b[0m\n",
                        "\u001b[32m[I 2022-08-14 19:31:55]\u001b[0m Trial 115 finished with value: 0.5665 and parameters: {'var_smoothing': 1.2192642586882383e-06}. Best is trial 10 with value: 0.5779\u001b[0m\n",
                        "\u001b[32m[I 2022-08-14 19:31:55]\u001b[0m Trial 116 finished with value: 0.5454 and parameters: {'var_smoothing': 5.677655661824997e-05}. Best is trial 10 with value: 0.5779\u001b[0m\n",
                        "\u001b[32m[I 2022-08-14 19:31:55]\u001b[0m Trial 117 finished with value: 0.5668 and parameters: {'var_smoothing': 3.6903279224745336e-06}. Best is trial 10 with value: 0.5779\u001b[0m\n",
                        "\u001b[32m[I 2022-08-14 19:31:55]\u001b[0m Trial 118 finished with value: 0.5779 and parameters: {'var_smoothing': 7.68558589120555e-06}. Best is trial 10 with value: 0.5779\u001b[0m\n",
                        "\u001b[32m[I 2022-08-14 19:31:55]\u001b[0m Trial 119 finished with value: 0.5352 and parameters: {'var_smoothing': 2.9525092766326755e-05}. Best is trial 10 with value: 0.5779\u001b[0m\n",
                        "\u001b[32m[I 2022-08-14 19:31:55]\u001b[0m Trial 120 finished with value: 0.5665 and parameters: {'var_smoothing': 1.7555030098860862e-06}. Best is trial 10 with value: 0.5779\u001b[0m\n",
                        "\u001b[32m[I 2022-08-14 19:31:56]\u001b[0m Trial 121 finished with value: 0.5574 and parameters: {'var_smoothing': 1.040545851198682e-05}. Best is trial 10 with value: 0.5779\u001b[0m\n",
                        "\u001b[32m[I 2022-08-14 19:31:56]\u001b[0m Trial 122 finished with value: 0.5763 and parameters: {'var_smoothing': 6.396023401027826e-06}. Best is trial 10 with value: 0.5779\u001b[0m\n",
                        "\u001b[32m[I 2022-08-14 19:31:56]\u001b[0m Trial 123 finished with value: 0.5581 and parameters: {'var_smoothing': 1.386096028885526e-05}. Best is trial 10 with value: 0.5779\u001b[0m\n",
                        "\u001b[32m[I 2022-08-14 19:31:56]\u001b[0m Trial 124 finished with value: 0.5779 and parameters: {'var_smoothing': 6.562521187478971e-06}. Best is trial 10 with value: 0.5779\u001b[0m\n",
                        "\u001b[32m[I 2022-08-14 19:31:56]\u001b[0m Trial 125 finished with value: 0.5685 and parameters: {'var_smoothing': 4.590194584325613e-06}. Best is trial 10 with value: 0.5779\u001b[0m\n",
                        "\u001b[32m[I 2022-08-14 19:31:56]\u001b[0m Trial 126 finished with value: 0.5594 and parameters: {'var_smoothing': 2.201489511173455e-06}. Best is trial 10 with value: 0.5779\u001b[0m\n",
                        "\u001b[32m[I 2022-08-14 19:31:56]\u001b[0m Trial 127 finished with value: 0.5676 and parameters: {'var_smoothing': 5.666887440812278e-07}. Best is trial 10 with value: 0.5779\u001b[0m\n",
                        "\u001b[32m[I 2022-08-14 19:31:57]\u001b[0m Trial 128 finished with value: 0.5382 and parameters: {'var_smoothing': 2.504578576843504e-05}. Best is trial 10 with value: 0.5779\u001b[0m\n",
                        "\u001b[32m[I 2022-08-14 19:31:57]\u001b[0m Trial 129 finished with value: 0.5703 and parameters: {'var_smoothing': 9.609470487751958e-07}. Best is trial 10 with value: 0.5779\u001b[0m\n",
                        "\u001b[32m[I 2022-08-14 19:31:57]\u001b[0m Trial 130 finished with value: 0.5600 and parameters: {'var_smoothing': 3.2641452150358836e-07}. Best is trial 10 with value: 0.5779\u001b[0m\n",
                        "\u001b[32m[I 2022-08-14 19:31:58]\u001b[0m Trial 131 finished with value: 0.5779 and parameters: {'var_smoothing': 7.487558792650995e-06}. Best is trial 10 with value: 0.5779\u001b[0m\n",
                        "\u001b[32m[I 2022-08-14 19:31:58]\u001b[0m Trial 132 finished with value: 0.5747 and parameters: {'var_smoothing': 6.099300869388298e-06}. Best is trial 10 with value: 0.5779\u001b[0m\n",
                        "\u001b[32m[I 2022-08-14 19:31:58]\u001b[0m Trial 133 finished with value: 0.5668 and parameters: {'var_smoothing': 3.640338205583241e-06}. Best is trial 10 with value: 0.5779\u001b[0m\n",
                        "\u001b[32m[I 2022-08-14 19:31:59]\u001b[0m Trial 134 finished with value: 0.5614 and parameters: {'var_smoothing': 1.5673146651451525e-05}. Best is trial 10 with value: 0.5779\u001b[0m\n",
                        "\u001b[32m[I 2022-08-14 19:31:59]\u001b[0m Trial 135 finished with value: 0.5454 and parameters: {'var_smoothing': 4.581907684791492e-05}. Best is trial 10 with value: 0.5779\u001b[0m\n",
                        "\u001b[32m[I 2022-08-14 19:31:59]\u001b[0m Trial 136 finished with value: 0.5701 and parameters: {'var_smoothing': 8.674065027286919e-06}. Best is trial 10 with value: 0.5779\u001b[0m\n",
                        "\u001b[32m[I 2022-08-14 19:32:00]\u001b[0m Trial 137 finished with value: 0.5665 and parameters: {'var_smoothing': 1.8089642826127362e-06}. Best is trial 10 with value: 0.5779\u001b[0m\n",
                        "\u001b[32m[I 2022-08-14 19:32:00]\u001b[0m Trial 138 finished with value: 0.5306 and parameters: {'var_smoothing': 0.00015789191895089326}. Best is trial 10 with value: 0.5779\u001b[0m\n",
                        "\u001b[32m[I 2022-08-14 19:32:01]\u001b[0m Trial 139 finished with value: 0.3380 and parameters: {'var_smoothing': 0.5327431769117335}. Best is trial 10 with value: 0.5779\u001b[0m\n",
                        "\u001b[32m[I 2022-08-14 19:32:01]\u001b[0m Trial 140 finished with value: 0.5490 and parameters: {'var_smoothing': 2.293269746780673e-05}. Best is trial 10 with value: 0.5779\u001b[0m\n",
                        "\u001b[32m[I 2022-08-14 19:32:01]\u001b[0m Trial 141 finished with value: 0.5650 and parameters: {'var_smoothing': 8.999181947433228e-06}. Best is trial 10 with value: 0.5779\u001b[0m\n",
                        "\u001b[32m[I 2022-08-14 19:32:01]\u001b[0m Trial 142 finished with value: 0.5747 and parameters: {'var_smoothing': 5.533453090969718e-06}. Best is trial 10 with value: 0.5779\u001b[0m\n",
                        "\u001b[32m[I 2022-08-14 19:32:01]\u001b[0m Trial 143 finished with value: 0.5668 and parameters: {'var_smoothing': 3.6942544187784275e-06}. Best is trial 10 with value: 0.5779\u001b[0m\n",
                        "\u001b[32m[I 2022-08-14 19:32:01]\u001b[0m Trial 144 finished with value: 0.5548 and parameters: {'var_smoothing': 1.2689462110110746e-05}. Best is trial 10 with value: 0.5779\u001b[0m\n",
                        "\u001b[32m[I 2022-08-14 19:32:02]\u001b[0m Trial 145 finished with value: 0.5401 and parameters: {'var_smoothing': 3.3949175987744136e-05}. Best is trial 10 with value: 0.5779\u001b[0m\n",
                        "\u001b[32m[I 2022-08-14 19:32:02]\u001b[0m Trial 146 finished with value: 0.5594 and parameters: {'var_smoothing': 2.824042357907682e-06}. Best is trial 10 with value: 0.5779\u001b[0m\n",
                        "\u001b[32m[I 2022-08-14 19:32:02]\u001b[0m Trial 147 finished with value: 0.5665 and parameters: {'var_smoothing': 1.2787974969345333e-06}. Best is trial 10 with value: 0.5779\u001b[0m\n",
                        "\u001b[32m[I 2022-08-14 19:32:02]\u001b[0m Trial 148 finished with value: 0.5763 and parameters: {'var_smoothing': 6.37429545159355e-06}. Best is trial 10 with value: 0.5779\u001b[0m\n",
                        "\u001b[32m[I 2022-08-14 19:32:03]\u001b[0m Trial 149 finished with value: 0.5614 and parameters: {'var_smoothing': 1.4512620915434426e-05}. Best is trial 10 with value: 0.5779\u001b[0m\n",
                        "\u001b[32m[I 2022-08-14 19:32:03]\u001b[0m \n",
                        "   algorithm    metric\n",
                        "0        nb  0.577910\n",
                        "1        lr  0.408769\u001b[0m\n"
                    ]
                },
                {
                    "data": {
                        "text/html": [
                            "<div>\n",
                            "<style scoped>\n",
                            "    .dataframe tbody tr th:only-of-type {\n",
                            "        vertical-align: middle;\n",
                            "    }\n",
                            "\n",
                            "    .dataframe tbody tr th {\n",
                            "        vertical-align: top;\n",
                            "    }\n",
                            "\n",
                            "    .dataframe thead th {\n",
                            "        text-align: right;\n",
                            "    }\n",
                            "</style>\n",
                            "<table border=\"1\" class=\"dataframe\">\n",
                            "  <thead>\n",
                            "    <tr style=\"text-align: right;\">\n",
                            "      <th></th>\n",
                            "      <th>algorithm</th>\n",
                            "      <th>metric</th>\n",
                            "      <th>hyperparams</th>\n",
                            "    </tr>\n",
                            "  </thead>\n",
                            "  <tbody>\n",
                            "    <tr>\n",
                            "      <th>0</th>\n",
                            "      <td>nb</td>\n",
                            "      <td>0.577910</td>\n",
                            "      <td>{'priors': None, 'var_smoothing': 6.7292206875...</td>\n",
                            "    </tr>\n",
                            "    <tr>\n",
                            "      <th>1</th>\n",
                            "      <td>lr</td>\n",
                            "      <td>0.408769</td>\n",
                            "      <td>{'C': 2.005915918230618, 'class_weight': None,...</td>\n",
                            "    </tr>\n",
                            "  </tbody>\n",
                            "</table>\n",
                            "</div>"
                        ],
                        "text/plain": [
                            "  algorithm    metric                                        hyperparams\n",
                            "0        nb  0.577910  {'priors': None, 'var_smoothing': 6.7292206875...\n",
                            "1        lr  0.408769  {'C': 2.005915918230618, 'class_weight': None,..."
                        ]
                    },
                    "execution_count": 18,
                    "metadata": {},
                    "output_type": "execute_result"
                }
            ],
            "source": [
                "compare_df_tune, model_list, opt_history_dict = (\n",
                "        pt.modelling.tune_hyperparams(\n",
                "               setup=setup,\n",
                "               include=[\"lr\", \"nb\"],\n",
                "               optimize=\"f1\",\n",
                "               n_trials=150,\n",
                "               return_models=True,\n",
                "        )\n",
                ")\n",
                "compare_df_tune"
            ]
        },
        {
            "cell_type": "code",
            "execution_count": 21,
            "metadata": {},
            "outputs": [
                {
                    "data": {
                        "application/vnd.plotly.v1+json": {
                            "config": {
                                "plotlyServerURL": "https://plot.ly"
                            },
                            "data": [
                                {
                                    "mode": "markers",
                                    "name": "Objective Value",
                                    "type": "scatter",
                                    "x": [
                                        0,
                                        1,
                                        2,
                                        3,
                                        4,
                                        5,
                                        6,
                                        7,
                                        8,
                                        9,
                                        10,
                                        11,
                                        12,
                                        13,
                                        14,
                                        15,
                                        16,
                                        17,
                                        18,
                                        19,
                                        20,
                                        21,
                                        22,
                                        23,
                                        24,
                                        25,
                                        26,
                                        27,
                                        28,
                                        29,
                                        30,
                                        31,
                                        32,
                                        33,
                                        34,
                                        35,
                                        36,
                                        37,
                                        38,
                                        39,
                                        40,
                                        41,
                                        42,
                                        43,
                                        44,
                                        45,
                                        46,
                                        47,
                                        48,
                                        49,
                                        50,
                                        51,
                                        52,
                                        53,
                                        54,
                                        55,
                                        56,
                                        57,
                                        58,
                                        59,
                                        60,
                                        61,
                                        62,
                                        63,
                                        64,
                                        65,
                                        66,
                                        67,
                                        68,
                                        69,
                                        70,
                                        71,
                                        72,
                                        73,
                                        74,
                                        75,
                                        76,
                                        77,
                                        78,
                                        79,
                                        80,
                                        81,
                                        82,
                                        83,
                                        84,
                                        85,
                                        86,
                                        87,
                                        88,
                                        89,
                                        90,
                                        91,
                                        92,
                                        93,
                                        94,
                                        95,
                                        96,
                                        97,
                                        98,
                                        99,
                                        100,
                                        101,
                                        102,
                                        103,
                                        104,
                                        105,
                                        106,
                                        107,
                                        108,
                                        109,
                                        110,
                                        111,
                                        112,
                                        113,
                                        114,
                                        115,
                                        116,
                                        117,
                                        118,
                                        119,
                                        120,
                                        121,
                                        122,
                                        123,
                                        124,
                                        125,
                                        126,
                                        127,
                                        128,
                                        129,
                                        130,
                                        131,
                                        132,
                                        133,
                                        134,
                                        135,
                                        136,
                                        137,
                                        138,
                                        139,
                                        140,
                                        141,
                                        142,
                                        143,
                                        144,
                                        145,
                                        146,
                                        147,
                                        148,
                                        149
                                    ],
                                    "y": [
                                        0.3791964772815836,
                                        0.34474168231498864,
                                        0,
                                        0.37783345957683173,
                                        0.3799365079365079,
                                        0,
                                        0.40123395445134574,
                                        0.39612040133779264,
                                        0.36870274652883345,
                                        0,
                                        0,
                                        0.2502711323763955,
                                        0.3555234613771199,
                                        0,
                                        0.3702486402486403,
                                        0,
                                        0.3702486402486403,
                                        0.37632900432900435,
                                        0,
                                        0.3555234613771199,
                                        0.39231087752826876,
                                        0.40011575557704926,
                                        0.36269931553070467,
                                        0.38694824016563145,
                                        0.36870274652883345,
                                        0,
                                        0.20574162679425836,
                                        0.39927272727272733,
                                        0.36870274652883345,
                                        0.39802516324255455,
                                        0.38086160216595,
                                        0.39802516324255455,
                                        0.34474168231498864,
                                        0.39035965801607364,
                                        0.3423053589484327,
                                        0.3945108225108226,
                                        0,
                                        0.36870274652883345,
                                        0.3721659499920369,
                                        0.39188899167437563,
                                        0.3512855260681348,
                                        0.39231087752826876,
                                        0.38694824016563145,
                                        0.21429658685088696,
                                        0.36870274652883345,
                                        0.38195670995670994,
                                        0.36870274652883345,
                                        0.39064575264390244,
                                        0,
                                        0,
                                        0,
                                        0.3959891705652521,
                                        0.3697851605758583,
                                        0.347978687978688,
                                        0.3702486402486403,
                                        0,
                                        0.13853073463268367,
                                        0.39802516324255455,
                                        0.39502277432712213,
                                        0.3886945331317073,
                                        0.3299994950260062,
                                        0.39802516324255455,
                                        0.36870274652883345,
                                        0.39802516324255455,
                                        0.39845063069268294,
                                        0.3891964772815836,
                                        0.39612040133779264,
                                        0.391013431013431,
                                        0.36870274652883345,
                                        0.34711505296871153,
                                        0.3802147304798418,
                                        0.39802516324255455,
                                        0.39802516324255455,
                                        0.39845063069268294,
                                        0.39802516324255455,
                                        0.39845063069268294,
                                        0.36870274652883345,
                                        0.33952330454981566,
                                        0.36870274652883345,
                                        0.39636003835818817,
                                        0.38724525776938845,
                                        0.3972525252525253,
                                        0.3557209302325582,
                                        0.39802516324255455,
                                        0.39231087752826876,
                                        0.38724525776938845,
                                        0.36870274652883345,
                                        0,
                                        0.39802516324255455,
                                        0.3972525252525253,
                                        0.39845063069268294,
                                        0.39064575264390244,
                                        0.3721659499920369,
                                        0.3891964772815836,
                                        0,
                                        0.3600398671096346,
                                        0.3937391304347827,
                                        0.36870274652883345,
                                        0.39802516324255455,
                                        0.39802516324255455,
                                        0.40123395445134574,
                                        0.39845063069268294,
                                        0.39845063069268294,
                                        0.3702486402486403,
                                        0.36870274652883345,
                                        0.39231087752826876,
                                        0.38724525776938845,
                                        0.352968292968293,
                                        0.39802516324255455,
                                        0.4029659147512986,
                                        0.39612040133779264,
                                        0.38183468705207835,
                                        0.3624761904761905,
                                        0.3697851605758583,
                                        0.39064575264390244,
                                        0.39802516324255455,
                                        0.38724525776938845,
                                        0.39612040133779264,
                                        0,
                                        0.39802516324255455,
                                        0.3721659499920369,
                                        0.39035965801607364,
                                        0.38724525776938845,
                                        0.39802516324255455,
                                        0.3697851605758583,
                                        0.39231087752826876,
                                        0.39802516324255455,
                                        0.36870274652883345,
                                        0.3937391304347827,
                                        0.4029659147512986,
                                        0.4080794678648518,
                                        0.40123395445134574,
                                        0.4029659147512986,
                                        0.39188899167437563,
                                        0.3423053589484327,
                                        0.30776942355889725,
                                        0.36734883720930234,
                                        0.40123395445134574,
                                        0.4048160535117057,
                                        0.40876862268166614,
                                        0.4033729061636039,
                                        0.3922959830866808,
                                        0.3697851605758583,
                                        0.39453989520293326,
                                        0.34474168231498864,
                                        0.2611802232854864,
                                        0.3321946169772257,
                                        0.40876862268166614,
                                        0.3922959830866808,
                                        0.40754897276636404
                                    ]
                                },
                                {
                                    "name": "Best Value",
                                    "type": "scatter",
                                    "x": [
                                        0,
                                        1,
                                        2,
                                        3,
                                        4,
                                        5,
                                        6,
                                        7,
                                        8,
                                        9,
                                        10,
                                        11,
                                        12,
                                        13,
                                        14,
                                        15,
                                        16,
                                        17,
                                        18,
                                        19,
                                        20,
                                        21,
                                        22,
                                        23,
                                        24,
                                        25,
                                        26,
                                        27,
                                        28,
                                        29,
                                        30,
                                        31,
                                        32,
                                        33,
                                        34,
                                        35,
                                        36,
                                        37,
                                        38,
                                        39,
                                        40,
                                        41,
                                        42,
                                        43,
                                        44,
                                        45,
                                        46,
                                        47,
                                        48,
                                        49,
                                        50,
                                        51,
                                        52,
                                        53,
                                        54,
                                        55,
                                        56,
                                        57,
                                        58,
                                        59,
                                        60,
                                        61,
                                        62,
                                        63,
                                        64,
                                        65,
                                        66,
                                        67,
                                        68,
                                        69,
                                        70,
                                        71,
                                        72,
                                        73,
                                        74,
                                        75,
                                        76,
                                        77,
                                        78,
                                        79,
                                        80,
                                        81,
                                        82,
                                        83,
                                        84,
                                        85,
                                        86,
                                        87,
                                        88,
                                        89,
                                        90,
                                        91,
                                        92,
                                        93,
                                        94,
                                        95,
                                        96,
                                        97,
                                        98,
                                        99,
                                        100,
                                        101,
                                        102,
                                        103,
                                        104,
                                        105,
                                        106,
                                        107,
                                        108,
                                        109,
                                        110,
                                        111,
                                        112,
                                        113,
                                        114,
                                        115,
                                        116,
                                        117,
                                        118,
                                        119,
                                        120,
                                        121,
                                        122,
                                        123,
                                        124,
                                        125,
                                        126,
                                        127,
                                        128,
                                        129,
                                        130,
                                        131,
                                        132,
                                        133,
                                        134,
                                        135,
                                        136,
                                        137,
                                        138,
                                        139,
                                        140,
                                        141,
                                        142,
                                        143,
                                        144,
                                        145,
                                        146,
                                        147,
                                        148,
                                        149
                                    ],
                                    "y": [
                                        0.3791964772815836,
                                        0.3791964772815836,
                                        0.3791964772815836,
                                        0.3791964772815836,
                                        0.3799365079365079,
                                        0.3799365079365079,
                                        0.40123395445134574,
                                        0.40123395445134574,
                                        0.40123395445134574,
                                        0.40123395445134574,
                                        0.40123395445134574,
                                        0.40123395445134574,
                                        0.40123395445134574,
                                        0.40123395445134574,
                                        0.40123395445134574,
                                        0.40123395445134574,
                                        0.40123395445134574,
                                        0.40123395445134574,
                                        0.40123395445134574,
                                        0.40123395445134574,
                                        0.40123395445134574,
                                        0.40123395445134574,
                                        0.40123395445134574,
                                        0.40123395445134574,
                                        0.40123395445134574,
                                        0.40123395445134574,
                                        0.40123395445134574,
                                        0.40123395445134574,
                                        0.40123395445134574,
                                        0.40123395445134574,
                                        0.40123395445134574,
                                        0.40123395445134574,
                                        0.40123395445134574,
                                        0.40123395445134574,
                                        0.40123395445134574,
                                        0.40123395445134574,
                                        0.40123395445134574,
                                        0.40123395445134574,
                                        0.40123395445134574,
                                        0.40123395445134574,
                                        0.40123395445134574,
                                        0.40123395445134574,
                                        0.40123395445134574,
                                        0.40123395445134574,
                                        0.40123395445134574,
                                        0.40123395445134574,
                                        0.40123395445134574,
                                        0.40123395445134574,
                                        0.40123395445134574,
                                        0.40123395445134574,
                                        0.40123395445134574,
                                        0.40123395445134574,
                                        0.40123395445134574,
                                        0.40123395445134574,
                                        0.40123395445134574,
                                        0.40123395445134574,
                                        0.40123395445134574,
                                        0.40123395445134574,
                                        0.40123395445134574,
                                        0.40123395445134574,
                                        0.40123395445134574,
                                        0.40123395445134574,
                                        0.40123395445134574,
                                        0.40123395445134574,
                                        0.40123395445134574,
                                        0.40123395445134574,
                                        0.40123395445134574,
                                        0.40123395445134574,
                                        0.40123395445134574,
                                        0.40123395445134574,
                                        0.40123395445134574,
                                        0.40123395445134574,
                                        0.40123395445134574,
                                        0.40123395445134574,
                                        0.40123395445134574,
                                        0.40123395445134574,
                                        0.40123395445134574,
                                        0.40123395445134574,
                                        0.40123395445134574,
                                        0.40123395445134574,
                                        0.40123395445134574,
                                        0.40123395445134574,
                                        0.40123395445134574,
                                        0.40123395445134574,
                                        0.40123395445134574,
                                        0.40123395445134574,
                                        0.40123395445134574,
                                        0.40123395445134574,
                                        0.40123395445134574,
                                        0.40123395445134574,
                                        0.40123395445134574,
                                        0.40123395445134574,
                                        0.40123395445134574,
                                        0.40123395445134574,
                                        0.40123395445134574,
                                        0.40123395445134574,
                                        0.40123395445134574,
                                        0.40123395445134574,
                                        0.40123395445134574,
                                        0.40123395445134574,
                                        0.40123395445134574,
                                        0.40123395445134574,
                                        0.40123395445134574,
                                        0.40123395445134574,
                                        0.40123395445134574,
                                        0.40123395445134574,
                                        0.40123395445134574,
                                        0.40123395445134574,
                                        0.40123395445134574,
                                        0.4029659147512986,
                                        0.4029659147512986,
                                        0.4029659147512986,
                                        0.4029659147512986,
                                        0.4029659147512986,
                                        0.4029659147512986,
                                        0.4029659147512986,
                                        0.4029659147512986,
                                        0.4029659147512986,
                                        0.4029659147512986,
                                        0.4029659147512986,
                                        0.4029659147512986,
                                        0.4029659147512986,
                                        0.4029659147512986,
                                        0.4029659147512986,
                                        0.4029659147512986,
                                        0.4029659147512986,
                                        0.4029659147512986,
                                        0.4029659147512986,
                                        0.4029659147512986,
                                        0.4029659147512986,
                                        0.4080794678648518,
                                        0.4080794678648518,
                                        0.4080794678648518,
                                        0.4080794678648518,
                                        0.4080794678648518,
                                        0.4080794678648518,
                                        0.4080794678648518,
                                        0.4080794678648518,
                                        0.4080794678648518,
                                        0.40876862268166614,
                                        0.40876862268166614,
                                        0.40876862268166614,
                                        0.40876862268166614,
                                        0.40876862268166614,
                                        0.40876862268166614,
                                        0.40876862268166614,
                                        0.40876862268166614,
                                        0.40876862268166614,
                                        0.40876862268166614,
                                        0.40876862268166614
                                    ]
                                }
                            ],
                            "layout": {
                                "template": {
                                    "data": {
                                        "bar": [
                                            {
                                                "error_x": {
                                                    "color": "#2a3f5f"
                                                },
                                                "error_y": {
                                                    "color": "#2a3f5f"
                                                },
                                                "marker": {
                                                    "line": {
                                                        "color": "#E5ECF6",
                                                        "width": 0.5
                                                    },
                                                    "pattern": {
                                                        "fillmode": "overlay",
                                                        "size": 10,
                                                        "solidity": 0.2
                                                    }
                                                },
                                                "type": "bar"
                                            }
                                        ],
                                        "barpolar": [
                                            {
                                                "marker": {
                                                    "line": {
                                                        "color": "#E5ECF6",
                                                        "width": 0.5
                                                    },
                                                    "pattern": {
                                                        "fillmode": "overlay",
                                                        "size": 10,
                                                        "solidity": 0.2
                                                    }
                                                },
                                                "type": "barpolar"
                                            }
                                        ],
                                        "carpet": [
                                            {
                                                "aaxis": {
                                                    "endlinecolor": "#2a3f5f",
                                                    "gridcolor": "white",
                                                    "linecolor": "white",
                                                    "minorgridcolor": "white",
                                                    "startlinecolor": "#2a3f5f"
                                                },
                                                "baxis": {
                                                    "endlinecolor": "#2a3f5f",
                                                    "gridcolor": "white",
                                                    "linecolor": "white",
                                                    "minorgridcolor": "white",
                                                    "startlinecolor": "#2a3f5f"
                                                },
                                                "type": "carpet"
                                            }
                                        ],
                                        "choropleth": [
                                            {
                                                "colorbar": {
                                                    "outlinewidth": 0,
                                                    "ticks": ""
                                                },
                                                "type": "choropleth"
                                            }
                                        ],
                                        "contour": [
                                            {
                                                "colorbar": {
                                                    "outlinewidth": 0,
                                                    "ticks": ""
                                                },
                                                "colorscale": [
                                                    [
                                                        0,
                                                        "#0d0887"
                                                    ],
                                                    [
                                                        0.1111111111111111,
                                                        "#46039f"
                                                    ],
                                                    [
                                                        0.2222222222222222,
                                                        "#7201a8"
                                                    ],
                                                    [
                                                        0.3333333333333333,
                                                        "#9c179e"
                                                    ],
                                                    [
                                                        0.4444444444444444,
                                                        "#bd3786"
                                                    ],
                                                    [
                                                        0.5555555555555556,
                                                        "#d8576b"
                                                    ],
                                                    [
                                                        0.6666666666666666,
                                                        "#ed7953"
                                                    ],
                                                    [
                                                        0.7777777777777778,
                                                        "#fb9f3a"
                                                    ],
                                                    [
                                                        0.8888888888888888,
                                                        "#fdca26"
                                                    ],
                                                    [
                                                        1,
                                                        "#f0f921"
                                                    ]
                                                ],
                                                "type": "contour"
                                            }
                                        ],
                                        "contourcarpet": [
                                            {
                                                "colorbar": {
                                                    "outlinewidth": 0,
                                                    "ticks": ""
                                                },
                                                "type": "contourcarpet"
                                            }
                                        ],
                                        "heatmap": [
                                            {
                                                "colorbar": {
                                                    "outlinewidth": 0,
                                                    "ticks": ""
                                                },
                                                "colorscale": [
                                                    [
                                                        0,
                                                        "#0d0887"
                                                    ],
                                                    [
                                                        0.1111111111111111,
                                                        "#46039f"
                                                    ],
                                                    [
                                                        0.2222222222222222,
                                                        "#7201a8"
                                                    ],
                                                    [
                                                        0.3333333333333333,
                                                        "#9c179e"
                                                    ],
                                                    [
                                                        0.4444444444444444,
                                                        "#bd3786"
                                                    ],
                                                    [
                                                        0.5555555555555556,
                                                        "#d8576b"
                                                    ],
                                                    [
                                                        0.6666666666666666,
                                                        "#ed7953"
                                                    ],
                                                    [
                                                        0.7777777777777778,
                                                        "#fb9f3a"
                                                    ],
                                                    [
                                                        0.8888888888888888,
                                                        "#fdca26"
                                                    ],
                                                    [
                                                        1,
                                                        "#f0f921"
                                                    ]
                                                ],
                                                "type": "heatmap"
                                            }
                                        ],
                                        "heatmapgl": [
                                            {
                                                "colorbar": {
                                                    "outlinewidth": 0,
                                                    "ticks": ""
                                                },
                                                "colorscale": [
                                                    [
                                                        0,
                                                        "#0d0887"
                                                    ],
                                                    [
                                                        0.1111111111111111,
                                                        "#46039f"
                                                    ],
                                                    [
                                                        0.2222222222222222,
                                                        "#7201a8"
                                                    ],
                                                    [
                                                        0.3333333333333333,
                                                        "#9c179e"
                                                    ],
                                                    [
                                                        0.4444444444444444,
                                                        "#bd3786"
                                                    ],
                                                    [
                                                        0.5555555555555556,
                                                        "#d8576b"
                                                    ],
                                                    [
                                                        0.6666666666666666,
                                                        "#ed7953"
                                                    ],
                                                    [
                                                        0.7777777777777778,
                                                        "#fb9f3a"
                                                    ],
                                                    [
                                                        0.8888888888888888,
                                                        "#fdca26"
                                                    ],
                                                    [
                                                        1,
                                                        "#f0f921"
                                                    ]
                                                ],
                                                "type": "heatmapgl"
                                            }
                                        ],
                                        "histogram": [
                                            {
                                                "marker": {
                                                    "pattern": {
                                                        "fillmode": "overlay",
                                                        "size": 10,
                                                        "solidity": 0.2
                                                    }
                                                },
                                                "type": "histogram"
                                            }
                                        ],
                                        "histogram2d": [
                                            {
                                                "colorbar": {
                                                    "outlinewidth": 0,
                                                    "ticks": ""
                                                },
                                                "colorscale": [
                                                    [
                                                        0,
                                                        "#0d0887"
                                                    ],
                                                    [
                                                        0.1111111111111111,
                                                        "#46039f"
                                                    ],
                                                    [
                                                        0.2222222222222222,
                                                        "#7201a8"
                                                    ],
                                                    [
                                                        0.3333333333333333,
                                                        "#9c179e"
                                                    ],
                                                    [
                                                        0.4444444444444444,
                                                        "#bd3786"
                                                    ],
                                                    [
                                                        0.5555555555555556,
                                                        "#d8576b"
                                                    ],
                                                    [
                                                        0.6666666666666666,
                                                        "#ed7953"
                                                    ],
                                                    [
                                                        0.7777777777777778,
                                                        "#fb9f3a"
                                                    ],
                                                    [
                                                        0.8888888888888888,
                                                        "#fdca26"
                                                    ],
                                                    [
                                                        1,
                                                        "#f0f921"
                                                    ]
                                                ],
                                                "type": "histogram2d"
                                            }
                                        ],
                                        "histogram2dcontour": [
                                            {
                                                "colorbar": {
                                                    "outlinewidth": 0,
                                                    "ticks": ""
                                                },
                                                "colorscale": [
                                                    [
                                                        0,
                                                        "#0d0887"
                                                    ],
                                                    [
                                                        0.1111111111111111,
                                                        "#46039f"
                                                    ],
                                                    [
                                                        0.2222222222222222,
                                                        "#7201a8"
                                                    ],
                                                    [
                                                        0.3333333333333333,
                                                        "#9c179e"
                                                    ],
                                                    [
                                                        0.4444444444444444,
                                                        "#bd3786"
                                                    ],
                                                    [
                                                        0.5555555555555556,
                                                        "#d8576b"
                                                    ],
                                                    [
                                                        0.6666666666666666,
                                                        "#ed7953"
                                                    ],
                                                    [
                                                        0.7777777777777778,
                                                        "#fb9f3a"
                                                    ],
                                                    [
                                                        0.8888888888888888,
                                                        "#fdca26"
                                                    ],
                                                    [
                                                        1,
                                                        "#f0f921"
                                                    ]
                                                ],
                                                "type": "histogram2dcontour"
                                            }
                                        ],
                                        "mesh3d": [
                                            {
                                                "colorbar": {
                                                    "outlinewidth": 0,
                                                    "ticks": ""
                                                },
                                                "type": "mesh3d"
                                            }
                                        ],
                                        "parcoords": [
                                            {
                                                "line": {
                                                    "colorbar": {
                                                        "outlinewidth": 0,
                                                        "ticks": ""
                                                    }
                                                },
                                                "type": "parcoords"
                                            }
                                        ],
                                        "pie": [
                                            {
                                                "automargin": true,
                                                "type": "pie"
                                            }
                                        ],
                                        "scatter": [
                                            {
                                                "fillpattern": {
                                                    "fillmode": "overlay",
                                                    "size": 10,
                                                    "solidity": 0.2
                                                },
                                                "type": "scatter"
                                            }
                                        ],
                                        "scatter3d": [
                                            {
                                                "line": {
                                                    "colorbar": {
                                                        "outlinewidth": 0,
                                                        "ticks": ""
                                                    }
                                                },
                                                "marker": {
                                                    "colorbar": {
                                                        "outlinewidth": 0,
                                                        "ticks": ""
                                                    }
                                                },
                                                "type": "scatter3d"
                                            }
                                        ],
                                        "scattercarpet": [
                                            {
                                                "marker": {
                                                    "colorbar": {
                                                        "outlinewidth": 0,
                                                        "ticks": ""
                                                    }
                                                },
                                                "type": "scattercarpet"
                                            }
                                        ],
                                        "scattergeo": [
                                            {
                                                "marker": {
                                                    "colorbar": {
                                                        "outlinewidth": 0,
                                                        "ticks": ""
                                                    }
                                                },
                                                "type": "scattergeo"
                                            }
                                        ],
                                        "scattergl": [
                                            {
                                                "marker": {
                                                    "colorbar": {
                                                        "outlinewidth": 0,
                                                        "ticks": ""
                                                    }
                                                },
                                                "type": "scattergl"
                                            }
                                        ],
                                        "scattermapbox": [
                                            {
                                                "marker": {
                                                    "colorbar": {
                                                        "outlinewidth": 0,
                                                        "ticks": ""
                                                    }
                                                },
                                                "type": "scattermapbox"
                                            }
                                        ],
                                        "scatterpolar": [
                                            {
                                                "marker": {
                                                    "colorbar": {
                                                        "outlinewidth": 0,
                                                        "ticks": ""
                                                    }
                                                },
                                                "type": "scatterpolar"
                                            }
                                        ],
                                        "scatterpolargl": [
                                            {
                                                "marker": {
                                                    "colorbar": {
                                                        "outlinewidth": 0,
                                                        "ticks": ""
                                                    }
                                                },
                                                "type": "scatterpolargl"
                                            }
                                        ],
                                        "scatterternary": [
                                            {
                                                "marker": {
                                                    "colorbar": {
                                                        "outlinewidth": 0,
                                                        "ticks": ""
                                                    }
                                                },
                                                "type": "scatterternary"
                                            }
                                        ],
                                        "surface": [
                                            {
                                                "colorbar": {
                                                    "outlinewidth": 0,
                                                    "ticks": ""
                                                },
                                                "colorscale": [
                                                    [
                                                        0,
                                                        "#0d0887"
                                                    ],
                                                    [
                                                        0.1111111111111111,
                                                        "#46039f"
                                                    ],
                                                    [
                                                        0.2222222222222222,
                                                        "#7201a8"
                                                    ],
                                                    [
                                                        0.3333333333333333,
                                                        "#9c179e"
                                                    ],
                                                    [
                                                        0.4444444444444444,
                                                        "#bd3786"
                                                    ],
                                                    [
                                                        0.5555555555555556,
                                                        "#d8576b"
                                                    ],
                                                    [
                                                        0.6666666666666666,
                                                        "#ed7953"
                                                    ],
                                                    [
                                                        0.7777777777777778,
                                                        "#fb9f3a"
                                                    ],
                                                    [
                                                        0.8888888888888888,
                                                        "#fdca26"
                                                    ],
                                                    [
                                                        1,
                                                        "#f0f921"
                                                    ]
                                                ],
                                                "type": "surface"
                                            }
                                        ],
                                        "table": [
                                            {
                                                "cells": {
                                                    "fill": {
                                                        "color": "#EBF0F8"
                                                    },
                                                    "line": {
                                                        "color": "white"
                                                    }
                                                },
                                                "header": {
                                                    "fill": {
                                                        "color": "#C8D4E3"
                                                    },
                                                    "line": {
                                                        "color": "white"
                                                    }
                                                },
                                                "type": "table"
                                            }
                                        ]
                                    },
                                    "layout": {
                                        "annotationdefaults": {
                                            "arrowcolor": "#2a3f5f",
                                            "arrowhead": 0,
                                            "arrowwidth": 1
                                        },
                                        "autotypenumbers": "strict",
                                        "coloraxis": {
                                            "colorbar": {
                                                "outlinewidth": 0,
                                                "ticks": ""
                                            }
                                        },
                                        "colorscale": {
                                            "diverging": [
                                                [
                                                    0,
                                                    "#8e0152"
                                                ],
                                                [
                                                    0.1,
                                                    "#c51b7d"
                                                ],
                                                [
                                                    0.2,
                                                    "#de77ae"
                                                ],
                                                [
                                                    0.3,
                                                    "#f1b6da"
                                                ],
                                                [
                                                    0.4,
                                                    "#fde0ef"
                                                ],
                                                [
                                                    0.5,
                                                    "#f7f7f7"
                                                ],
                                                [
                                                    0.6,
                                                    "#e6f5d0"
                                                ],
                                                [
                                                    0.7,
                                                    "#b8e186"
                                                ],
                                                [
                                                    0.8,
                                                    "#7fbc41"
                                                ],
                                                [
                                                    0.9,
                                                    "#4d9221"
                                                ],
                                                [
                                                    1,
                                                    "#276419"
                                                ]
                                            ],
                                            "sequential": [
                                                [
                                                    0,
                                                    "#0d0887"
                                                ],
                                                [
                                                    0.1111111111111111,
                                                    "#46039f"
                                                ],
                                                [
                                                    0.2222222222222222,
                                                    "#7201a8"
                                                ],
                                                [
                                                    0.3333333333333333,
                                                    "#9c179e"
                                                ],
                                                [
                                                    0.4444444444444444,
                                                    "#bd3786"
                                                ],
                                                [
                                                    0.5555555555555556,
                                                    "#d8576b"
                                                ],
                                                [
                                                    0.6666666666666666,
                                                    "#ed7953"
                                                ],
                                                [
                                                    0.7777777777777778,
                                                    "#fb9f3a"
                                                ],
                                                [
                                                    0.8888888888888888,
                                                    "#fdca26"
                                                ],
                                                [
                                                    1,
                                                    "#f0f921"
                                                ]
                                            ],
                                            "sequentialminus": [
                                                [
                                                    0,
                                                    "#0d0887"
                                                ],
                                                [
                                                    0.1111111111111111,
                                                    "#46039f"
                                                ],
                                                [
                                                    0.2222222222222222,
                                                    "#7201a8"
                                                ],
                                                [
                                                    0.3333333333333333,
                                                    "#9c179e"
                                                ],
                                                [
                                                    0.4444444444444444,
                                                    "#bd3786"
                                                ],
                                                [
                                                    0.5555555555555556,
                                                    "#d8576b"
                                                ],
                                                [
                                                    0.6666666666666666,
                                                    "#ed7953"
                                                ],
                                                [
                                                    0.7777777777777778,
                                                    "#fb9f3a"
                                                ],
                                                [
                                                    0.8888888888888888,
                                                    "#fdca26"
                                                ],
                                                [
                                                    1,
                                                    "#f0f921"
                                                ]
                                            ]
                                        },
                                        "colorway": [
                                            "#636efa",
                                            "#EF553B",
                                            "#00cc96",
                                            "#ab63fa",
                                            "#FFA15A",
                                            "#19d3f3",
                                            "#FF6692",
                                            "#B6E880",
                                            "#FF97FF",
                                            "#FECB52"
                                        ],
                                        "font": {
                                            "color": "#2a3f5f"
                                        },
                                        "geo": {
                                            "bgcolor": "white",
                                            "lakecolor": "white",
                                            "landcolor": "#E5ECF6",
                                            "showlakes": true,
                                            "showland": true,
                                            "subunitcolor": "white"
                                        },
                                        "hoverlabel": {
                                            "align": "left"
                                        },
                                        "hovermode": "closest",
                                        "mapbox": {
                                            "style": "light"
                                        },
                                        "paper_bgcolor": "white",
                                        "plot_bgcolor": "#E5ECF6",
                                        "polar": {
                                            "angularaxis": {
                                                "gridcolor": "white",
                                                "linecolor": "white",
                                                "ticks": ""
                                            },
                                            "bgcolor": "#E5ECF6",
                                            "radialaxis": {
                                                "gridcolor": "white",
                                                "linecolor": "white",
                                                "ticks": ""
                                            }
                                        },
                                        "scene": {
                                            "xaxis": {
                                                "backgroundcolor": "#E5ECF6",
                                                "gridcolor": "white",
                                                "gridwidth": 2,
                                                "linecolor": "white",
                                                "showbackground": true,
                                                "ticks": "",
                                                "zerolinecolor": "white"
                                            },
                                            "yaxis": {
                                                "backgroundcolor": "#E5ECF6",
                                                "gridcolor": "white",
                                                "gridwidth": 2,
                                                "linecolor": "white",
                                                "showbackground": true,
                                                "ticks": "",
                                                "zerolinecolor": "white"
                                            },
                                            "zaxis": {
                                                "backgroundcolor": "#E5ECF6",
                                                "gridcolor": "white",
                                                "gridwidth": 2,
                                                "linecolor": "white",
                                                "showbackground": true,
                                                "ticks": "",
                                                "zerolinecolor": "white"
                                            }
                                        },
                                        "shapedefaults": {
                                            "line": {
                                                "color": "#2a3f5f"
                                            }
                                        },
                                        "ternary": {
                                            "aaxis": {
                                                "gridcolor": "white",
                                                "linecolor": "white",
                                                "ticks": ""
                                            },
                                            "baxis": {
                                                "gridcolor": "white",
                                                "linecolor": "white",
                                                "ticks": ""
                                            },
                                            "bgcolor": "#E5ECF6",
                                            "caxis": {
                                                "gridcolor": "white",
                                                "linecolor": "white",
                                                "ticks": ""
                                            }
                                        },
                                        "title": {
                                            "x": 0.05
                                        },
                                        "xaxis": {
                                            "automargin": true,
                                            "gridcolor": "white",
                                            "linecolor": "white",
                                            "ticks": "",
                                            "title": {
                                                "standoff": 15
                                            },
                                            "zerolinecolor": "white",
                                            "zerolinewidth": 2
                                        },
                                        "yaxis": {
                                            "automargin": true,
                                            "gridcolor": "white",
                                            "linecolor": "white",
                                            "ticks": "",
                                            "title": {
                                                "standoff": 15
                                            },
                                            "zerolinecolor": "white",
                                            "zerolinewidth": 2
                                        }
                                    }
                                },
                                "title": {
                                    "text": "Optimization History Plot"
                                },
                                "xaxis": {
                                    "title": {
                                        "text": "#Trials"
                                    }
                                },
                                "yaxis": {
                                    "title": {
                                        "text": "Objective Value"
                                    }
                                }
                            }
                        }
                    },
                    "metadata": {},
                    "output_type": "display_data"
                }
            ],
            "source": [
                "opt_history_dict[\"lr\"].show()"
            ]
        },
        {
            "cell_type": "code",
            "execution_count": 26,
            "metadata": {},
            "outputs": [
                {
                    "name": "stderr",
                    "output_type": "stream",
                    "text": [
                        "\u001b[32m[I 2022-08-14 14:46:32]\u001b[0m %%% REDUCING FEATURE SPACE\u001b[0m\n",
                        "\u001b[32m[I 2022-08-14 14:46:32]\u001b[0m Algorithm selected for feature space reduction: nb\u001b[0m\n",
                        "\u001b[32m[I 2022-08-14 14:46:32]\u001b[0m Metric to optimize for: f1\u001b[0m\n",
                        "\u001b[32m[I 2022-08-14 14:46:32]\u001b[0m Minimum acceptable metric: 0.546 or 0.95 * reference metric (0.575)\u001b[0m\n",
                        "\u001b[32m[I 2022-08-14 14:46:49]\u001b[0m Current metric: 0.579, removing worst feature: breast-quad_right_up\u001b[0m\n",
                        "\u001b[32m[I 2022-08-14 14:46:49]\u001b[0m Updating reference metric...\u001b[0m\n",
                        "\u001b[32m[I 2022-08-14 14:47:03]\u001b[0m Current metric: 0.59, removing worst feature: breast-quad_left_up\u001b[0m\n",
                        "\u001b[32m[I 2022-08-14 14:47:03]\u001b[0m Updating reference metric...\u001b[0m\n",
                        "\u001b[32m[I 2022-08-14 14:47:18]\u001b[0m Current metric: 0.593, removing worst feature: tumor-size_25-29\u001b[0m\n",
                        "\u001b[32m[I 2022-08-14 14:47:18]\u001b[0m Updating reference metric...\u001b[0m\n",
                        "\u001b[32m[I 2022-08-14 14:47:28]\u001b[0m Current metric: 0.593, removing worst feature: menopause_ge40\u001b[0m\n",
                        "\u001b[32m[I 2022-08-14 14:47:38]\u001b[0m Current metric: 0.595, removing worst feature: breast_left\u001b[0m\n",
                        "\u001b[32m[I 2022-08-14 14:47:38]\u001b[0m Updating reference metric...\u001b[0m\n",
                        "\u001b[32m[I 2022-08-14 14:47:48]\u001b[0m Current metric: 0.602, removing worst feature: menopause_premeno\u001b[0m\n",
                        "\u001b[32m[I 2022-08-14 14:47:48]\u001b[0m Updating reference metric...\u001b[0m\n",
                        "\u001b[32m[I 2022-08-14 14:48:00]\u001b[0m Current metric: 0.604, removing worst feature: breast_right\u001b[0m\n",
                        "\u001b[32m[I 2022-08-14 14:48:00]\u001b[0m Updating reference metric...\u001b[0m\n",
                        "\u001b[32m[I 2022-08-14 14:48:14]\u001b[0m Current metric: 0.608, removing worst feature: breast-quad_central\u001b[0m\n",
                        "\u001b[32m[I 2022-08-14 14:48:14]\u001b[0m Updating reference metric...\u001b[0m\n",
                        "\u001b[32m[I 2022-08-14 14:48:29]\u001b[0m Current metric: 0.613, removing worst feature: breast-quad_left_low\u001b[0m\n",
                        "\u001b[32m[I 2022-08-14 14:48:29]\u001b[0m Updating reference metric...\u001b[0m\n",
                        "\u001b[32m[I 2022-08-14 14:48:43]\u001b[0m Current metric: 0.613, removing worst feature: age_40-49\u001b[0m\n",
                        "\u001b[32m[I 2022-08-14 14:48:57]\u001b[0m Current metric: 0.613, removing worst feature: age_60-69\u001b[0m\n",
                        "\u001b[32m[I 2022-08-14 14:49:09]\u001b[0m Current metric: 0.613, removing worst feature: tumor-size_20-24\u001b[0m\n",
                        "\u001b[32m[I 2022-08-14 14:49:21]\u001b[0m Current metric: 0.613, removing worst feature: tumor-size_40-44\u001b[0m\n",
                        "\u001b[32m[I 2022-08-14 14:49:29]\u001b[0m Current metric: 0.616, removing worst feature: age_50-59\u001b[0m\n",
                        "\u001b[32m[I 2022-08-14 14:49:29]\u001b[0m Updating reference metric...\u001b[0m\n",
                        "\u001b[32m[I 2022-08-14 14:49:37]\u001b[0m Current metric: 0.616, removing worst feature: breast-quad_right_low\u001b[0m\n",
                        "\u001b[32m[I 2022-08-14 14:49:46]\u001b[0m Current metric: 0.614, removing worst feature: tumor-size_50-54\u001b[0m\n",
                        "\u001b[32m[I 2022-08-14 14:49:55]\u001b[0m Current metric: 0.619, removing worst feature: menopause_lt40\u001b[0m\n",
                        "\u001b[32m[I 2022-08-14 14:49:55]\u001b[0m Updating reference metric...\u001b[0m\n",
                        "\u001b[32m[I 2022-08-14 14:50:02]\u001b[0m Current metric: 0.62, removing worst feature: tumor-size_15-19\u001b[0m\n",
                        "\u001b[32m[I 2022-08-14 14:50:02]\u001b[0m Updating reference metric...\u001b[0m\n",
                        "\u001b[32m[I 2022-08-14 14:50:07]\u001b[0m Current metric: 0.621, removing worst feature: tumor-size_30-34\u001b[0m\n",
                        "\u001b[32m[I 2022-08-14 14:50:07]\u001b[0m Updating reference metric...\u001b[0m\n",
                        "\u001b[32m[I 2022-08-14 14:50:12]\u001b[0m Current metric: 0.622, removing worst feature: irradiat_no\u001b[0m\n",
                        "\u001b[32m[I 2022-08-14 14:50:12]\u001b[0m Updating reference metric...\u001b[0m\n",
                        "\u001b[32m[I 2022-08-14 14:50:17]\u001b[0m Current metric: 0.622, removing worst feature: node-caps_?\u001b[0m\n",
                        "\u001b[32m[I 2022-08-14 14:50:22]\u001b[0m Current metric: 0.62, removing worst feature: tumor-size_35-39\u001b[0m\n",
                        "\u001b[32m[I 2022-08-14 14:50:27]\u001b[0m Current metric: 0.587, removing worst feature: node-caps_no\u001b[0m\n",
                        "\u001b[32m[I 2022-08-14 14:50:31]\u001b[0m Current metric: 0.583, removing worst feature: inv-nodes_15-17\u001b[0m\n",
                        "\u001b[32m[I 2022-08-14 14:50:35]\u001b[0m Current metric: 0.6, removing worst feature: tumor-size_10-14\u001b[0m\n",
                        "\u001b[32m[I 2022-08-14 14:50:39]\u001b[0m Current metric: 0.597, removing worst feature: inv-nodes_9-11\u001b[0m\n",
                        "\u001b[32m[I 2022-08-14 14:50:43]\u001b[0m Current metric: 0.567, removing worst feature: inv-nodes_12-14\u001b[0m\n",
                        "\u001b[32m[I 2022-08-14 14:50:46]\u001b[0m Current metric: 0.565, removing worst feature: tumor-size_0-4\u001b[0m\n",
                        "\u001b[32m[I 2022-08-14 14:50:50]\u001b[0m Current metric: 0.565, removing worst feature: irradiat_yes\u001b[0m\n",
                        "\u001b[32m[I 2022-08-14 14:50:53]\u001b[0m Current metric: 0.561, removing worst feature: inv-nodes_3-5\u001b[0m\n",
                        "\u001b[32m[I 2022-08-14 14:50:58]\u001b[0m Current metric: 0.531, removing worst feature: inv-nodes_6-8\u001b[0m\n",
                        "\u001b[32m[I 2022-08-14 14:50:58]\u001b[0m Best f1 score found: 0.622\u001b[0m\n",
                        "\u001b[32m[I 2022-08-14 14:50:58]\u001b[0m Feature list for best score: ['deg-malig', 'age_20-29', 'age_30-39', 'age_70-79', 'tumor-size_0-4', 'tumor-size_10-14', 'tumor-size_35-39', 'tumor-size_45-49', 'tumor-size_5-9', 'inv-nodes_0-2', 'inv-nodes_12-14', 'inv-nodes_15-17', 'inv-nodes_24-26', 'inv-nodes_3-5', 'inv-nodes_6-8', 'inv-nodes_9-11', 'node-caps_no', 'node-caps_yes', 'breast-quad_?', 'irradiat_yes']\u001b[0m\n"
                    ]
                }
            ],
            "source": [
                "best_feature_list = pt.modelling.reduce_feature_space(\n",
                "    setup=setup,\n",
                "    algorithm= \"nb\",\n",
                "    metric=\"f1\",\n",
                "    reference_metric=compare_df_tune.iloc[0][\"metric\"],\n",
                "    acceptable_loss=0.95,\n",
                "    hyperparams=compare_df_tune.iloc[0][\"hyperparams\"]\n",
                ")"
            ]
        },
        {
            "cell_type": "code",
            "execution_count": 28,
            "metadata": {},
            "outputs": [
                {
                    "name": "stderr",
                    "output_type": "stream",
                    "text": [
                        "\u001b[32m[I 2022-08-14 14:51:42]\u001b[0m %%% TUNING HYPERPARAMETERS\u001b[0m\n",
                        "\u001b[32m[I 2022-08-14 14:51:42]\u001b[0m Algorithms selected for tuning: ['nb']\u001b[0m\n",
                        "\u001b[32m[I 2022-08-14 14:51:42]\u001b[0m Metric to optimize for: f1\u001b[0m\n",
                        "\u001b[32m[I 2022-08-14 14:51:42]\u001b[0m Trials per algorithm: 50\u001b[0m\n",
                        "\u001b[32m[I 2022-08-14 14:51:43]\u001b[0m Trial 0 finished with value: 0.5933 and parameters: {'var_smoothing': 3.059370889442078e-05}. Best is trial 0 with value: 0.5933\u001b[0m\n",
                        "\u001b[32m[I 2022-08-14 14:51:43]\u001b[0m Trial 1 finished with value: 0.5120 and parameters: {'var_smoothing': 0.00026776899047403573}. Best is trial 0 with value: 0.5933\u001b[0m\n",
                        "\u001b[32m[I 2022-08-14 14:51:43]\u001b[0m Trial 2 finished with value: 0.4706 and parameters: {'var_smoothing': 0.0012182405692114067}. Best is trial 0 with value: 0.5933\u001b[0m\n",
                        "\u001b[32m[I 2022-08-14 14:51:43]\u001b[0m Trial 3 finished with value: 0.5652 and parameters: {'var_smoothing': 3.91702322838022e-12}. Best is trial 0 with value: 0.5933\u001b[0m\n",
                        "\u001b[32m[I 2022-08-14 14:51:44]\u001b[0m Trial 4 finished with value: 0.4610 and parameters: {'var_smoothing': 0.008599892802544522}. Best is trial 0 with value: 0.5933\u001b[0m\n",
                        "\u001b[32m[I 2022-08-14 14:51:44]\u001b[0m Trial 5 finished with value: 0.5933 and parameters: {'var_smoothing': 2.9991591535847586e-05}. Best is trial 0 with value: 0.5933\u001b[0m\n",
                        "\u001b[32m[I 2022-08-14 14:51:45]\u001b[0m Trial 6 finished with value: 0.5652 and parameters: {'var_smoothing': 1.2495659151775887e-08}. Best is trial 0 with value: 0.5933\u001b[0m\n",
                        "\u001b[32m[I 2022-08-14 14:51:45]\u001b[0m Trial 7 finished with value: 0.5635 and parameters: {'var_smoothing': 0.00011886393077428953}. Best is trial 0 with value: 0.5933\u001b[0m\n",
                        "\u001b[32m[I 2022-08-14 14:51:45]\u001b[0m Trial 8 finished with value: 0.3846 and parameters: {'var_smoothing': 0.5012129091654087}. Best is trial 0 with value: 0.5933\u001b[0m\n",
                        "\u001b[32m[I 2022-08-14 14:51:46]\u001b[0m Trial 9 finished with value: 0.4653 and parameters: {'var_smoothing': 0.025441296798508685}. Best is trial 0 with value: 0.5933\u001b[0m\n",
                        "\u001b[32m[I 2022-08-14 14:51:46]\u001b[0m Trial 10 finished with value: 0.5652 and parameters: {'var_smoothing': 2.3122622446979786e-08}. Best is trial 0 with value: 0.5933\u001b[0m\n",
                        "\u001b[32m[I 2022-08-14 14:51:46]\u001b[0m Trial 11 finished with value: 0.6221 and parameters: {'var_smoothing': 6.409852806522931e-06}. Best is trial 11 with value: 0.6221\u001b[0m\n",
                        "\u001b[32m[I 2022-08-14 14:51:47]\u001b[0m Trial 12 finished with value: 0.5876 and parameters: {'var_smoothing': 7.796553925716543e-07}. Best is trial 11 with value: 0.6221\u001b[0m\n",
                        "\u001b[32m[I 2022-08-14 14:51:47]\u001b[0m Trial 13 finished with value: 0.6221 and parameters: {'var_smoothing': 4.0460104771691335e-06}. Best is trial 11 with value: 0.6221\u001b[0m\n",
                        "\u001b[32m[I 2022-08-14 14:51:48]\u001b[0m Trial 14 finished with value: 0.5652 and parameters: {'var_smoothing': 4.890063451282981e-07}. Best is trial 11 with value: 0.6221\u001b[0m\n",
                        "\u001b[32m[I 2022-08-14 14:51:48]\u001b[0m Trial 15 finished with value: 0.5652 and parameters: {'var_smoothing': 9.647756034117135e-11}. Best is trial 11 with value: 0.6221\u001b[0m\n",
                        "\u001b[32m[I 2022-08-14 14:51:49]\u001b[0m Trial 16 finished with value: 0.5652 and parameters: {'var_smoothing': 3.5190705493649363e-09}. Best is trial 11 with value: 0.6221\u001b[0m\n",
                        "\u001b[32m[I 2022-08-14 14:51:49]\u001b[0m Trial 17 finished with value: 0.5876 and parameters: {'var_smoothing': 2.0446468429097292e-06}. Best is trial 11 with value: 0.6221\u001b[0m\n",
                        "\u001b[32m[I 2022-08-14 14:51:50]\u001b[0m Trial 18 finished with value: 0.6221 and parameters: {'var_smoothing': 3.3573988397670882e-06}. Best is trial 11 with value: 0.6221\u001b[0m\n",
                        "\u001b[32m[I 2022-08-14 14:51:50]\u001b[0m Trial 19 finished with value: 0.5652 and parameters: {'var_smoothing': 3.459294602542864e-10}. Best is trial 11 with value: 0.6221\u001b[0m\n",
                        "\u001b[32m[I 2022-08-14 14:51:51]\u001b[0m Trial 20 finished with value: 0.5652 and parameters: {'var_smoothing': 1.0013952472882243e-07}. Best is trial 11 with value: 0.6221\u001b[0m\n",
                        "\u001b[32m[I 2022-08-14 14:51:51]\u001b[0m Trial 21 finished with value: 0.6221 and parameters: {'var_smoothing': 5.339320311685516e-06}. Best is trial 11 with value: 0.6221\u001b[0m\n",
                        "\u001b[32m[I 2022-08-14 14:51:52]\u001b[0m Trial 22 finished with value: 0.6221 and parameters: {'var_smoothing': 6.401211847283818e-06}. Best is trial 11 with value: 0.6221\u001b[0m\n",
                        "\u001b[32m[I 2022-08-14 14:51:52]\u001b[0m Trial 23 finished with value: 0.5652 and parameters: {'var_smoothing': 1.0674227592964385e-07}. Best is trial 11 with value: 0.6221\u001b[0m\n",
                        "\u001b[32m[I 2022-08-14 14:51:52]\u001b[0m Trial 24 finished with value: 0.4706 and parameters: {'var_smoothing': 0.000591764835061976}. Best is trial 11 with value: 0.6221\u001b[0m\n",
                        "\u001b[32m[I 2022-08-14 14:51:53]\u001b[0m Trial 25 finished with value: 0.5933 and parameters: {'var_smoothing': 1.816140304001683e-05}. Best is trial 11 with value: 0.6221\u001b[0m\n",
                        "\u001b[32m[I 2022-08-14 14:51:53]\u001b[0m Trial 26 finished with value: 0.5652 and parameters: {'var_smoothing': 2.685753453897467e-07}. Best is trial 11 with value: 0.6221\u001b[0m\n",
                        "\u001b[32m[I 2022-08-14 14:51:54]\u001b[0m Trial 27 finished with value: 0.5652 and parameters: {'var_smoothing': 1.9984391997266037e-09}. Best is trial 11 with value: 0.6221\u001b[0m\n",
                        "\u001b[32m[I 2022-08-14 14:51:54]\u001b[0m Trial 28 finished with value: 0.4630 and parameters: {'var_smoothing': 0.002075655220783724}. Best is trial 11 with value: 0.6221\u001b[0m\n",
                        "\u001b[32m[I 2022-08-14 14:51:54]\u001b[0m Trial 29 finished with value: 0.5991 and parameters: {'var_smoothing': 5.2135542612492794e-05}. Best is trial 11 with value: 0.6221\u001b[0m\n",
                        "\u001b[32m[I 2022-08-14 14:51:55]\u001b[0m Trial 30 finished with value: 0.4523 and parameters: {'var_smoothing': 0.093180997729402}. Best is trial 11 with value: 0.6221\u001b[0m\n",
                        "\u001b[32m[I 2022-08-14 14:51:55]\u001b[0m Trial 31 finished with value: 0.6129 and parameters: {'var_smoothing': 1.0139659937252054e-05}. Best is trial 11 with value: 0.6221\u001b[0m\n",
                        "\u001b[32m[I 2022-08-14 14:51:55]\u001b[0m Trial 32 finished with value: 0.6221 and parameters: {'var_smoothing': 3.4237861048166335e-06}. Best is trial 11 with value: 0.6221\u001b[0m\n",
                        "\u001b[32m[I 2022-08-14 14:51:56]\u001b[0m Trial 33 finished with value: 0.5876 and parameters: {'var_smoothing': 1.2407548789986693e-06}. Best is trial 11 with value: 0.6221\u001b[0m\n",
                        "\u001b[32m[I 2022-08-14 14:51:56]\u001b[0m Trial 34 finished with value: 0.5635 and parameters: {'var_smoothing': 0.00010602646232529005}. Best is trial 11 with value: 0.6221\u001b[0m\n",
                        "\u001b[32m[I 2022-08-14 14:51:57]\u001b[0m Trial 35 finished with value: 0.5223 and parameters: {'var_smoothing': 0.0002170112227902117}. Best is trial 11 with value: 0.6221\u001b[0m\n",
                        "\u001b[32m[I 2022-08-14 14:51:57]\u001b[0m Trial 36 finished with value: 0.5652 and parameters: {'var_smoothing': 9.041205672133958e-08}. Best is trial 11 with value: 0.6221\u001b[0m\n",
                        "\u001b[32m[I 2022-08-14 14:51:57]\u001b[0m Trial 37 finished with value: 0.4630 and parameters: {'var_smoothing': 0.0025377233987077864}. Best is trial 11 with value: 0.6221\u001b[0m\n",
                        "\u001b[32m[I 2022-08-14 14:51:58]\u001b[0m Trial 38 finished with value: 0.5933 and parameters: {'var_smoothing': 2.10632722419102e-05}. Best is trial 11 with value: 0.6221\u001b[0m\n",
                        "\u001b[32m[I 2022-08-14 14:51:58]\u001b[0m Trial 39 finished with value: 0.6221 and parameters: {'var_smoothing': 3.0076593203586768e-06}. Best is trial 11 with value: 0.6221\u001b[0m\n",
                        "\u001b[32m[I 2022-08-14 14:51:59]\u001b[0m Trial 40 finished with value: 0.5652 and parameters: {'var_smoothing': 2.080328772019664e-08}. Best is trial 11 with value: 0.6221\u001b[0m\n",
                        "\u001b[32m[I 2022-08-14 14:51:59]\u001b[0m Trial 41 finished with value: 0.6221 and parameters: {'var_smoothing': 3.6318514681545005e-06}. Best is trial 11 with value: 0.6221\u001b[0m\n",
                        "\u001b[32m[I 2022-08-14 14:51:59]\u001b[0m Trial 42 finished with value: 0.5991 and parameters: {'var_smoothing': 4.930825706798375e-05}. Best is trial 11 with value: 0.6221\u001b[0m\n",
                        "\u001b[32m[I 2022-08-14 14:52:00]\u001b[0m Trial 43 finished with value: 0.5652 and parameters: {'var_smoothing': 3.8648316031219224e-07}. Best is trial 11 with value: 0.6221\u001b[0m\n",
                        "\u001b[32m[I 2022-08-14 14:52:00]\u001b[0m Trial 44 finished with value: 0.5120 and parameters: {'var_smoothing': 0.0004865855175774033}. Best is trial 11 with value: 0.6221\u001b[0m\n",
                        "\u001b[32m[I 2022-08-14 14:52:01]\u001b[0m Trial 45 finished with value: 0.6221 and parameters: {'var_smoothing': 6.8824326101562326e-06}. Best is trial 11 with value: 0.6221\u001b[0m\n",
                        "\u001b[32m[I 2022-08-14 14:52:01]\u001b[0m Trial 46 finished with value: 0.5876 and parameters: {'var_smoothing': 1.4317934104848347e-06}. Best is trial 11 with value: 0.6221\u001b[0m\n",
                        "\u001b[32m[I 2022-08-14 14:52:02]\u001b[0m Trial 47 finished with value: 0.5652 and parameters: {'var_smoothing': 2.9005234351078396e-07}. Best is trial 11 with value: 0.6221\u001b[0m\n",
                        "\u001b[32m[I 2022-08-14 14:52:02]\u001b[0m Trial 48 finished with value: 0.6221 and parameters: {'var_smoothing': 7.869741165623072e-06}. Best is trial 11 with value: 0.6221\u001b[0m\n",
                        "\u001b[32m[I 2022-08-14 14:52:02]\u001b[0m Trial 49 finished with value: 0.4610 and parameters: {'var_smoothing': 0.008200106953021822}. Best is trial 11 with value: 0.6221\u001b[0m\n",
                        "\u001b[32m[I 2022-08-14 14:52:03]\u001b[0m \n",
                        "   algorithm    metric\n",
                        "0        nb  0.622082\u001b[0m\n"
                    ]
                },
                {
                    "data": {
                        "text/html": [
                            "<div>\n",
                            "<style scoped>\n",
                            "    .dataframe tbody tr th:only-of-type {\n",
                            "        vertical-align: middle;\n",
                            "    }\n",
                            "\n",
                            "    .dataframe tbody tr th {\n",
                            "        vertical-align: top;\n",
                            "    }\n",
                            "\n",
                            "    .dataframe thead th {\n",
                            "        text-align: right;\n",
                            "    }\n",
                            "</style>\n",
                            "<table border=\"1\" class=\"dataframe\">\n",
                            "  <thead>\n",
                            "    <tr style=\"text-align: right;\">\n",
                            "      <th></th>\n",
                            "      <th>algorithm</th>\n",
                            "      <th>metric</th>\n",
                            "      <th>hyperparams</th>\n",
                            "    </tr>\n",
                            "  </thead>\n",
                            "  <tbody>\n",
                            "    <tr>\n",
                            "      <th>0</th>\n",
                            "      <td>nb</td>\n",
                            "      <td>0.622082</td>\n",
                            "      <td>{'priors': None, 'var_smoothing': 6.4098528065...</td>\n",
                            "    </tr>\n",
                            "  </tbody>\n",
                            "</table>\n",
                            "</div>"
                        ],
                        "text/plain": [
                            "  algorithm    metric                                        hyperparams\n",
                            "0        nb  0.622082  {'priors': None, 'var_smoothing': 6.4098528065..."
                        ]
                    },
                    "execution_count": 28,
                    "metadata": {},
                    "output_type": "execute_result"
                }
            ],
            "source": [
                "compare_df_final, model_list = (\n",
                "        pt.modelling.tune_hyperparams(\n",
                "               setup=setup,\n",
                "               include=[\"nb\"],\n",
                "               optimize=\"f1\",\n",
                "               n_trials=50,\n",
                "               feature_list=best_feature_list,\n",
                "               return_models=True,\n",
                "        )\n",
                ")\n",
                "compare_df_final"
            ]
        },
        {
            "cell_type": "code",
            "execution_count": 37,
            "metadata": {},
            "outputs": [
                {
                    "data": {
                        "text/html": [
                            "<style>#sk-container-id-10 {color: black;background-color: white;}#sk-container-id-10 pre{padding: 0;}#sk-container-id-10 div.sk-toggleable {background-color: white;}#sk-container-id-10 label.sk-toggleable__label {cursor: pointer;display: block;width: 100%;margin-bottom: 0;padding: 0.3em;box-sizing: border-box;text-align: center;}#sk-container-id-10 label.sk-toggleable__label-arrow:before {content: \"▸\";float: left;margin-right: 0.25em;color: #696969;}#sk-container-id-10 label.sk-toggleable__label-arrow:hover:before {color: black;}#sk-container-id-10 div.sk-estimator:hover label.sk-toggleable__label-arrow:before {color: black;}#sk-container-id-10 div.sk-toggleable__content {max-height: 0;max-width: 0;overflow: hidden;text-align: left;background-color: #f0f8ff;}#sk-container-id-10 div.sk-toggleable__content pre {margin: 0.2em;color: black;border-radius: 0.25em;background-color: #f0f8ff;}#sk-container-id-10 input.sk-toggleable__control:checked~div.sk-toggleable__content {max-height: 200px;max-width: 100%;overflow: auto;}#sk-container-id-10 input.sk-toggleable__control:checked~label.sk-toggleable__label-arrow:before {content: \"▾\";}#sk-container-id-10 div.sk-estimator input.sk-toggleable__control:checked~label.sk-toggleable__label {background-color: #d4ebff;}#sk-container-id-10 div.sk-label input.sk-toggleable__control:checked~label.sk-toggleable__label {background-color: #d4ebff;}#sk-container-id-10 input.sk-hidden--visually {border: 0;clip: rect(1px 1px 1px 1px);clip: rect(1px, 1px, 1px, 1px);height: 1px;margin: -1px;overflow: hidden;padding: 0;position: absolute;width: 1px;}#sk-container-id-10 div.sk-estimator {font-family: monospace;background-color: #f0f8ff;border: 1px dotted black;border-radius: 0.25em;box-sizing: border-box;margin-bottom: 0.5em;}#sk-container-id-10 div.sk-estimator:hover {background-color: #d4ebff;}#sk-container-id-10 div.sk-parallel-item::after {content: \"\";width: 100%;border-bottom: 1px solid gray;flex-grow: 1;}#sk-container-id-10 div.sk-label:hover label.sk-toggleable__label {background-color: #d4ebff;}#sk-container-id-10 div.sk-serial::before {content: \"\";position: absolute;border-left: 1px solid gray;box-sizing: border-box;top: 0;bottom: 0;left: 50%;z-index: 0;}#sk-container-id-10 div.sk-serial {display: flex;flex-direction: column;align-items: center;background-color: white;padding-right: 0.2em;padding-left: 0.2em;position: relative;}#sk-container-id-10 div.sk-item {position: relative;z-index: 1;}#sk-container-id-10 div.sk-parallel {display: flex;align-items: stretch;justify-content: center;background-color: white;position: relative;}#sk-container-id-10 div.sk-item::before, #sk-container-id-10 div.sk-parallel-item::before {content: \"\";position: absolute;border-left: 1px solid gray;box-sizing: border-box;top: 0;bottom: 0;left: 50%;z-index: -1;}#sk-container-id-10 div.sk-parallel-item {display: flex;flex-direction: column;z-index: 1;position: relative;background-color: white;}#sk-container-id-10 div.sk-parallel-item:first-child::after {align-self: flex-end;width: 50%;}#sk-container-id-10 div.sk-parallel-item:last-child::after {align-self: flex-start;width: 50%;}#sk-container-id-10 div.sk-parallel-item:only-child::after {width: 0;}#sk-container-id-10 div.sk-dashed-wrapped {border: 1px dashed gray;margin: 0 0.4em 0.5em 0.4em;box-sizing: border-box;padding-bottom: 0.4em;background-color: white;}#sk-container-id-10 div.sk-label label {font-family: monospace;font-weight: bold;display: inline-block;line-height: 1.2em;}#sk-container-id-10 div.sk-label-container {text-align: center;}#sk-container-id-10 div.sk-container {/* jupyter's `normalize.less` sets `[hidden] { display: none; }` but bootstrap.min.css set `[hidden] { display: none !important; }` so we also need the `!important` here to be able to override the default hidden behavior on the sphinx rendered scikit-learn.org. See: https://github.com/scikit-learn/scikit-learn/issues/21755 */display: inline-block !important;position: relative;}#sk-container-id-10 div.sk-text-repr-fallback {display: none;}</style><div id=\"sk-container-id-10\" class=\"sk-top-container\"><div class=\"sk-text-repr-fallback\"><pre>Pipeline(steps=[(&#x27;ohe&#x27;, OHE())])</pre><b>In a Jupyter environment, please rerun this cell to show the HTML representation or trust the notebook. <br />On GitHub, the HTML representation is unable to render, please try loading this page with nbviewer.org.</b></div><div class=\"sk-container\" hidden><div class=\"sk-item sk-dashed-wrapped\"><div class=\"sk-label-container\"><div class=\"sk-label sk-toggleable\"><input class=\"sk-toggleable__control sk-hidden--visually\" id=\"sk-estimator-id-25\" type=\"checkbox\" ><label for=\"sk-estimator-id-25\" class=\"sk-toggleable__label sk-toggleable__label-arrow\">Pipeline</label><div class=\"sk-toggleable__content\"><pre>Pipeline(steps=[(&#x27;ohe&#x27;, OHE())])</pre></div></div></div><div class=\"sk-serial\"><div class=\"sk-item\"><div class=\"sk-estimator sk-toggleable\"><input class=\"sk-toggleable__control sk-hidden--visually\" id=\"sk-estimator-id-26\" type=\"checkbox\" ><label for=\"sk-estimator-id-26\" class=\"sk-toggleable__label sk-toggleable__label-arrow\">OHE</label><div class=\"sk-toggleable__content\"><pre>OHE()</pre></div></div></div></div></div></div></div>"
                        ],
                        "text/plain": [
                            "Pipeline(steps=[('ohe', OHE())])"
                        ]
                    },
                    "execution_count": 37,
                    "metadata": {},
                    "output_type": "execute_result"
                }
            ],
            "source": [
                "setup.prep_pipe"
            ]
        },
        {
            "cell_type": "code",
            "execution_count": 36,
            "metadata": {},
            "outputs": [],
            "source": [
                "pt.modelling.export_model(\n",
                "        setup=setup,\n",
                "        model=model_list[0],\n",
                "        target_dir=\"./\",\n",
                "    )"
            ]
        }
    ],
    "metadata": {
        "kernelspec": {
            "display_name": "Python 3.9.13 ('.venv': poetry)",
            "language": "python",
            "name": "python3"
        },
        "language_info": {
            "codemirror_mode": {
                "name": "ipython",
                "version": 3
            },
            "file_extension": ".py",
            "mimetype": "text/x-python",
            "name": "python",
            "nbconvert_exporter": "python",
            "pygments_lexer": "ipython3",
            "version": "3.9.13"
        },
        "orig_nbformat": 4,
        "vscode": {
            "interpreter": {
                "hash": "b885852e26c7064962dac1b68bb792bbb99a8e2dbec080500e57a38605a5fe7f"
            }
        }
    },
    "nbformat": 4,
    "nbformat_minor": 2
}
